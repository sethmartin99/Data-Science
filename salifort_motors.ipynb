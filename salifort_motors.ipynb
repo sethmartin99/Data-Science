{
 "cells": [
  {
   "cell_type": "markdown",
   "id": "899f55be-d3a2-415b-8c03-8d53c6013916",
   "metadata": {},
   "source": [
    "### **Capstone : Salifort Motors**\n",
    "- The HR department at Salifort Motors wants to take some initiatives to improve employee satisfaction levels at the company. They collected data from employees, but now they don’t know what to do with it. They refer to you as a data analytics professional and ask you to provide data-driven suggestions based on your understanding of the data. They have the following question: what’s likely to make the employee leave the company ?\n",
    "- Our dataset contains 14,999 rows and 10 columns 
  },
  {
   "cell_type": "markdown",
   "id": "25beda66-152e-458b-9ffc-0cde6afb9cdb",
   "metadata": {},
   "source": [
    "### **Step 1 : Import Packages**"
   ]
  },
  {
   "cell_type": "code",
   "execution_count": 1,
   "id": "ab30cf52-c525-4236-8364-7dd260162872",
   "metadata": {},
   "outputs": [],
   "source": [
    "# For data manipulation\n",
    "import numpy as np\n",
    "import pandas as pd\n",
    "\n",
    "# For data visualization\n",
    "import matplotlib.pyplot as plt\n",
    "import seaborn as sns\n",
    "\n",
    "# For displaying all of the columns in dataframes\n",
    "pd.set_option('display.max_columns', None)\n",
    "\n",
    "# For data modeling\n",
    "from xgboost import XGBClassifier\n",
    "from xgboost import XGBRegressor\n",
    "from xgboost import plot_importance\n",
    "from sklearn.linear_model import LogisticRegression\n",
    "from sklearn.tree import DecisionTreeClassifier\n",
    "from sklearn.ensemble import RandomForestClassifier\n",
    "\n",
    "# For metrics and helpful functions\n",
    "from sklearn.model_selection import GridSearchCV, train_test_split\n",
    "from sklearn.metrics import accuracy_score, precision_score, recall_score,\\\n",
    "f1_score, confusion_matrix, ConfusionMatrixDisplay, classification_report\n",
    "from sklearn.metrics import roc_auc_score, roc_curve\n",
    "from sklearn.tree import plot_tree\n",
    "\n",
    "# For saving models\n",
    "import pickle"
   ]
  },
  {
   "cell_type": "markdown",
   "id": "d41adbfa-9fae-4002-ac73-abb13da1e8a9",
   "metadata": {},
   "source": [
    "- Next we will need to load in the data set and get familiar with it"
   ]
  },
  {
   "cell_type": "code",
   "execution_count": 2,
   "id": "71d93762-4064-49b9-ab8b-88cf597cf02c",
   "metadata": {},
   "outputs": [
    {
     "data": {
      "text/html": [
       "<div>\n",
       "<style scoped>\n",
       "    .dataframe tbody tr th:only-of-type {\n",
       "        vertical-align: middle;\n",
       "    }\n",
       "\n",
       "    .dataframe tbody tr th {\n",
       "        vertical-align: top;\n",
       "    }\n",
       "\n",
       "    .dataframe thead th {\n",
       "        text-align: right;\n",
       "    }\n",
       "</style>\n",
       "<table border=\"1\" class=\"dataframe\">\n",
       "  <thead>\n",
       "    <tr style=\"text-align: right;\">\n",
       "      <th></th>\n",
       "      <th>satisfaction_level</th>\n",
       "      <th>last_evaluation</th>\n",
       "      <th>number_project</th>\n",
       "      <th>average_montly_hours</th>\n",
       "      <th>time_spend_company</th>\n",
       "      <th>Work_accident</th>\n",
       "      <th>left</th>\n",
       "      <th>promotion_last_5years</th>\n",
       "      <th>Department</th>\n",
       "      <th>salary</th>\n",
       "    </tr>\n",
       "  </thead>\n",
       "  <tbody>\n",
       "    <tr>\n",
       "      <th>0</th>\n",
       "      <td>0.38</td>\n",
       "      <td>0.53</td>\n",
       "      <td>2</td>\n",
       "      <td>157</td>\n",
       "      <td>3</td>\n",
       "      <td>0</td>\n",
       "      <td>1</td>\n",
       "      <td>0</td>\n",
       "      <td>sales</td>\n",
       "      <td>low</td>\n",
       "    </tr>\n",
       "    <tr>\n",
       "      <th>1</th>\n",
       "      <td>0.80</td>\n",
       "      <td>0.86</td>\n",
       "      <td>5</td>\n",
       "      <td>262</td>\n",
       "      <td>6</td>\n",
       "      <td>0</td>\n",
       "      <td>1</td>\n",
       "      <td>0</td>\n",
       "      <td>sales</td>\n",
       "      <td>medium</td>\n",
       "    </tr>\n",
       "    <tr>\n",
       "      <th>2</th>\n",
       "      <td>0.11</td>\n",
       "      <td>0.88</td>\n",
       "      <td>7</td>\n",
       "      <td>272</td>\n",
       "      <td>4</td>\n",
       "      <td>0</td>\n",
       "      <td>1</td>\n",
       "      <td>0</td>\n",
       "      <td>sales</td>\n",
       "      <td>medium</td>\n",
       "    </tr>\n",
       "    <tr>\n",
       "      <th>3</th>\n",
       "      <td>0.72</td>\n",
       "      <td>0.87</td>\n",
       "      <td>5</td>\n",
       "      <td>223</td>\n",
       "      <td>5</td>\n",
       "      <td>0</td>\n",
       "      <td>1</td>\n",
       "      <td>0</td>\n",
       "      <td>sales</td>\n",
       "      <td>low</td>\n",
       "    </tr>\n",
       "    <tr>\n",
       "      <th>4</th>\n",
       "      <td>0.37</td>\n",
       "      <td>0.52</td>\n",
       "      <td>2</td>\n",
       "      <td>159</td>\n",
       "      <td>3</td>\n",
       "      <td>0</td>\n",
       "      <td>1</td>\n",
       "      <td>0</td>\n",
       "      <td>sales</td>\n",
       "      <td>low</td>\n",
       "    </tr>\n",
       "  </tbody>\n",
       "</table>\n",
       "</div>"
      ],
      "text/plain": [
       "   satisfaction_level  last_evaluation  number_project  average_montly_hours  \\\n",
       "0                0.38             0.53               2                   157   \n",
       "1                0.80             0.86               5                   262   \n",
       "2                0.11             0.88               7                   272   \n",
       "3                0.72             0.87               5                   223   \n",
       "4                0.37             0.52               2                   159   \n",
       "\n",
       "   time_spend_company  Work_accident  left  promotion_last_5years Department  \\\n",
       "0                   3              0     1                      0      sales   \n",
       "1                   6              0     1                      0      sales   \n",
       "2                   4              0     1                      0      sales   \n",
       "3                   5              0     1                      0      sales   \n",
       "4                   3              0     1                      0      sales   \n",
       "\n",
       "   salary  \n",
       "0     low  \n",
       "1  medium  \n",
       "2  medium  \n",
       "3     low  \n",
       "4     low  "
      ]
     },
     "execution_count": 2,
     "metadata": {},
     "output_type": "execute_result"
    }
   ],
   "source": [
    "df0 = pd.read_csv(\"HR_capstone_dataset.csv\")\n",
    "df0.head()"
   ]
  },
  {
   "cell_type": "markdown",
   "id": "1e761d62-0974-463f-b6a6-b2fd4bbf9414",
   "metadata": {},
   "source": [
    "### **Step 2 : Begin EDA and Data Cleaning Process**"
   ]
  },
  {
   "cell_type": "code",
   "execution_count": 3,
   "id": "900aa0aa-ea9d-4f55-a318-6964419ed7f5",
   "metadata": {},
   "outputs": [
    {
     "name": "stdout",
     "output_type": "stream",
     "text": [
      "<class 'pandas.core.frame.DataFrame'>\n",
      "RangeIndex: 14999 entries, 0 to 14998\n",
      "Data columns (total 10 columns):\n",
      " #   Column                 Non-Null Count  Dtype  \n",
      "---  ------                 --------------  -----  \n",
      " 0   satisfaction_level     14999 non-null  float64\n",
      " 1   last_evaluation        14999 non-null  float64\n",
      " 2   number_project         14999 non-null  int64  \n",
      " 3   average_montly_hours   14999 non-null  int64  \n",
      " 4   time_spend_company     14999 non-null  int64  \n",
      " 5   Work_accident          14999 non-null  int64  \n",
      " 6   left                   14999 non-null  int64  \n",
      " 7   promotion_last_5years  14999 non-null  int64  \n",
      " 8   Department             14999 non-null  object \n",
      " 9   salary                 14999 non-null  object \n",
      "dtypes: float64(2), int64(6), object(2)\n",
      "memory usage: 1.1+ MB\n"
     ]
    }
   ],
   "source": [
    "df0.info()"
   ]
  },
  {
   "cell_type": "markdown",
   "id": "93d35bde-64a2-4542-b8aa-eb0a5354b923",
   "metadata": {},
   "source": [
    "- There does not seem to be any missing or null values in the data. The `satisfaction_level` & `last_evaluation` columns are floats. The `department` & `salary` columns are categorical. The rest of the columns are integers. "
   ]
  },
  {
   "cell_type": "code",
   "execution_count": 4,
   "id": "9e8434a9-bee4-407f-b2ea-1bbad70f43ad",
   "metadata": {},
   "outputs": [
    {
     "data": {
      "text/html": [
       "<div>\n",
       "<style scoped>\n",
       "    .dataframe tbody tr th:only-of-type {\n",
       "        vertical-align: middle;\n",
       "    }\n",
       "\n",
       "    .dataframe tbody tr th {\n",
       "        vertical-align: top;\n",
       "    }\n",
       "\n",
       "    .dataframe thead th {\n",
       "        text-align: right;\n",
       "    }\n",
       "</style>\n",
       "<table border=\"1\" class=\"dataframe\">\n",
       "  <thead>\n",
       "    <tr style=\"text-align: right;\">\n",
       "      <th></th>\n",
       "      <th>satisfaction_level</th>\n",
       "      <th>last_evaluation</th>\n",
       "      <th>number_project</th>\n",
       "      <th>average_montly_hours</th>\n",
       "      <th>time_spend_company</th>\n",
       "      <th>Work_accident</th>\n",
       "      <th>left</th>\n",
       "      <th>promotion_last_5years</th>\n",
       "    </tr>\n",
       "  </thead>\n",
       "  <tbody>\n",
       "    <tr>\n",
       "      <th>count</th>\n",
       "      <td>14999.000000</td>\n",
       "      <td>14999.000000</td>\n",
       "      <td>14999.000000</td>\n",
       "      <td>14999.000000</td>\n",
       "      <td>14999.000000</td>\n",
       "      <td>14999.000000</td>\n",
       "      <td>14999.000000</td>\n",
       "      <td>14999.000000</td>\n",
       "    </tr>\n",
       "    <tr>\n",
       "      <th>mean</th>\n",
       "      <td>0.612834</td>\n",
       "      <td>0.716102</td>\n",
       "      <td>3.803054</td>\n",
       "      <td>201.050337</td>\n",
       "      <td>3.498233</td>\n",
       "      <td>0.144610</td>\n",
       "      <td>0.238083</td>\n",
       "      <td>0.021268</td>\n",
       "    </tr>\n",
       "    <tr>\n",
       "      <th>std</th>\n",
       "      <td>0.248631</td>\n",
       "      <td>0.171169</td>\n",
       "      <td>1.232592</td>\n",
       "      <td>49.943099</td>\n",
       "      <td>1.460136</td>\n",
       "      <td>0.351719</td>\n",
       "      <td>0.425924</td>\n",
       "      <td>0.144281</td>\n",
       "    </tr>\n",
       "    <tr>\n",
       "      <th>min</th>\n",
       "      <td>0.090000</td>\n",
       "      <td>0.360000</td>\n",
       "      <td>2.000000</td>\n",
       "      <td>96.000000</td>\n",
       "      <td>2.000000</td>\n",
       "      <td>0.000000</td>\n",
       "      <td>0.000000</td>\n",
       "      <td>0.000000</td>\n",
       "    </tr>\n",
       "    <tr>\n",
       "      <th>25%</th>\n",
       "      <td>0.440000</td>\n",
       "      <td>0.560000</td>\n",
       "      <td>3.000000</td>\n",
       "      <td>156.000000</td>\n",
       "      <td>3.000000</td>\n",
       "      <td>0.000000</td>\n",
       "      <td>0.000000</td>\n",
       "      <td>0.000000</td>\n",
       "    </tr>\n",
       "    <tr>\n",
       "      <th>50%</th>\n",
       "      <td>0.640000</td>\n",
       "      <td>0.720000</td>\n",
       "      <td>4.000000</td>\n",
       "      <td>200.000000</td>\n",
       "      <td>3.000000</td>\n",
       "      <td>0.000000</td>\n",
       "      <td>0.000000</td>\n",
       "      <td>0.000000</td>\n",
       "    </tr>\n",
       "    <tr>\n",
       "      <th>75%</th>\n",
       "      <td>0.820000</td>\n",
       "      <td>0.870000</td>\n",
       "      <td>5.000000</td>\n",
       "      <td>245.000000</td>\n",
       "      <td>4.000000</td>\n",
       "      <td>0.000000</td>\n",
       "      <td>0.000000</td>\n",
       "      <td>0.000000</td>\n",
       "    </tr>\n",
       "    <tr>\n",
       "      <th>max</th>\n",
       "      <td>1.000000</td>\n",
       "      <td>1.000000</td>\n",
       "      <td>7.000000</td>\n",
       "      <td>310.000000</td>\n",
       "      <td>10.000000</td>\n",
       "      <td>1.000000</td>\n",
       "      <td>1.000000</td>\n",
       "      <td>1.000000</td>\n",
       "    </tr>\n",
       "  </tbody>\n",
       "</table>\n",
       "</div>"
      ],
      "text/plain": [
       "       satisfaction_level  last_evaluation  number_project  \\\n",
       "count        14999.000000     14999.000000    14999.000000   \n",
       "mean             0.612834         0.716102        3.803054   \n",
       "std              0.248631         0.171169        1.232592   \n",
       "min              0.090000         0.360000        2.000000   \n",
       "25%              0.440000         0.560000        3.000000   \n",
       "50%              0.640000         0.720000        4.000000   \n",
       "75%              0.820000         0.870000        5.000000   \n",
       "max              1.000000         1.000000        7.000000   \n",
       "\n",
       "       average_montly_hours  time_spend_company  Work_accident          left  \\\n",
       "count          14999.000000        14999.000000   14999.000000  14999.000000   \n",
       "mean             201.050337            3.498233       0.144610      0.238083   \n",
       "std               49.943099            1.460136       0.351719      0.425924   \n",
       "min               96.000000            2.000000       0.000000      0.000000   \n",
       "25%              156.000000            3.000000       0.000000      0.000000   \n",
       "50%              200.000000            3.000000       0.000000      0.000000   \n",
       "75%              245.000000            4.000000       0.000000      0.000000   \n",
       "max              310.000000           10.000000       1.000000      1.000000   \n",
       "\n",
       "       promotion_last_5years  \n",
       "count           14999.000000  \n",
       "mean                0.021268  \n",
       "std                 0.144281  \n",
       "min                 0.000000  \n",
       "25%                 0.000000  \n",
       "50%                 0.000000  \n",
       "75%                 0.000000  \n",
       "max                 1.000000  "
      ]
     },
     "execution_count": 4,
     "metadata": {},
     "output_type": "execute_result"
    }
   ],
   "source": [
    "df0.describe()"
   ]
  },
  {
   "cell_type": "code",
   "execution_count": 5,
   "id": "30fa3172-12f4-45ed-884d-b826f67fa750",
   "metadata": {},
   "outputs": [
    {
     "data": {
      "text/plain": [
       "Index(['satisfaction_level', 'last_evaluation', 'number_project',\n",
       "       'average_montly_hours', 'time_spend_company', 'Work_accident', 'left',\n",
       "       'promotion_last_5years', 'Department', 'salary'],\n",
       "      dtype='object')"
      ]
     },
     "execution_count": 5,
     "metadata": {},
     "output_type": "execute_result"
    }
   ],
   "source": [
    "df0.columns"
   ]
  },
  {
   "cell_type": "markdown",
   "id": "7c6afec3-035f-43d7-9f11-80b8cd002fa0",
   "metadata": {},
   "source": [
    "- We will need to rename some of the columns that are not properly formatted or contain mistake to facilitate our analysis and model building. "
   ]
  },
  {
   "cell_type": "code",
   "execution_count": 6,
   "id": "594ce7ba-b77d-4103-96c2-6a2c0f42efb7",
   "metadata": {},
   "outputs": [
    {
     "data": {
      "text/plain": [
       "Index(['satisfaction_level', 'last_evaluation', 'number_project',\n",
       "       'average_monthly_hours', 'tenure', 'work_accident', 'left',\n",
       "       'promotion_last_5years', 'department', 'salary'],\n",
       "      dtype='object')"
      ]
     },
     "execution_count": 6,
     "metadata": {},
     "output_type": "execute_result"
    }
   ],
   "source": [
    "df0 = df0.rename(columns={'Work_accident': 'work_accident',\n",
    "                          'average_montly_hours': 'average_monthly_hours',\n",
    "                          'time_spend_company': 'tenure',\n",
    "                          'Department': 'department'})\n",
    "df0.columns"
   ]
  },
  {
   "cell_type": "markdown",
   "id": "a80f45b9-ac4c-42a5-b7d3-df6c80ca21f7",
   "metadata": {},
   "source": [
    "- Next, confirm that there are no null values and check for duplicates.\n",
    "- Null values & duplicates can be a result of improper data entry, can show that the data has not been properly cleaned, or can show that the data is not from a reliable source. It is important to have reliable, valid, and clean data before trying to use the data to make informed decisions."
   ]
  },
  {
   "cell_type": "code",
   "execution_count": 7,
   "id": "7729ee72-aff4-4444-b064-14cf14654cd6",
   "metadata": {},
   "outputs": [
    {
     "data": {
      "text/plain": [
       "satisfaction_level       0\n",
       "last_evaluation          0\n",
       "number_project           0\n",
       "average_monthly_hours    0\n",
       "tenure                   0\n",
       "work_accident            0\n",
       "left                     0\n",
       "promotion_last_5years    0\n",
       "department               0\n",
       "salary                   0\n",
       "dtype: int64"
      ]
     },
     "execution_count": 7,
     "metadata": {},
     "output_type": "execute_result"
    }
   ],
   "source": [
    "df0.isna().sum()"
   ]
  },
  {
   "cell_type": "code",
   "execution_count": 8,
   "id": "21f9a036-9a5f-4af4-b8f7-146e8e1f23c1",
   "metadata": {},
   "outputs": [
    {
     "name": "stdout",
     "output_type": "stream",
     "text": [
      "Number of Duplicated Values : 3008\n",
      "\n",
      "Percentage of Values that are Duplicates : 20.05%\n"
     ]
    }
   ],
   "source": [
    "duplicated = df0.duplicated().sum()\n",
    "print(f'Number of Duplicated Values : {duplicated}')\n",
    "col_duplicated = round(3008/14999*100,2)\n",
    "print(f'\\nPercentage of Values that are Duplicates : {col_duplicated}%')"
   ]
  },
  {
   "cell_type": "markdown",
   "id": "d9757e0c-9606-4c92-9d74-5c281b60870d",
   "metadata": {},
   "source": [
    "- Of the 14,999 values in this data set, 3008 of them contains duplicated values (~ 20%). It is important for an analyst to make the decision on whether to drop these values or assume that they are not duplicated and, in fact, are accurate data points. Dropping 20% of the values is a signficant decision. "
   ]
  },
  {
   "cell_type": "code",
   "execution_count": 9,
   "id": "e7e13366-722b-4a89-87d2-7f40e6fdcd8c",
   "metadata": {},
   "outputs": [
    {
     "data": {
      "text/html": [
       "<div>\n",
       "<style scoped>\n",
       "    .dataframe tbody tr th:only-of-type {\n",
       "        vertical-align: middle;\n",
       "    }\n",
       "\n",
       "    .dataframe tbody tr th {\n",
       "        vertical-align: top;\n",
       "    }\n",
       "\n",
       "    .dataframe thead th {\n",
       "        text-align: right;\n",
       "    }\n",
       "</style>\n",
       "<table border=\"1\" class=\"dataframe\">\n",
       "  <thead>\n",
       "    <tr style=\"text-align: right;\">\n",
       "      <th></th>\n",
       "      <th>satisfaction_level</th>\n",
       "      <th>last_evaluation</th>\n",
       "      <th>number_project</th>\n",
       "      <th>average_monthly_hours</th>\n",
       "      <th>tenure</th>\n",
       "      <th>work_accident</th>\n",
       "      <th>left</th>\n",
       "      <th>promotion_last_5years</th>\n",
       "      <th>department</th>\n",
       "      <th>salary</th>\n",
       "    </tr>\n",
       "  </thead>\n",
       "  <tbody>\n",
       "    <tr>\n",
       "      <th>396</th>\n",
       "      <td>0.46</td>\n",
       "      <td>0.57</td>\n",
       "      <td>2</td>\n",
       "      <td>139</td>\n",
       "      <td>3</td>\n",
       "      <td>0</td>\n",
       "      <td>1</td>\n",
       "      <td>0</td>\n",
       "      <td>sales</td>\n",
       "      <td>low</td>\n",
       "    </tr>\n",
       "    <tr>\n",
       "      <th>866</th>\n",
       "      <td>0.41</td>\n",
       "      <td>0.46</td>\n",
       "      <td>2</td>\n",
       "      <td>128</td>\n",
       "      <td>3</td>\n",
       "      <td>0</td>\n",
       "      <td>1</td>\n",
       "      <td>0</td>\n",
       "      <td>accounting</td>\n",
       "      <td>low</td>\n",
       "    </tr>\n",
       "    <tr>\n",
       "      <th>1317</th>\n",
       "      <td>0.37</td>\n",
       "      <td>0.51</td>\n",
       "      <td>2</td>\n",
       "      <td>127</td>\n",
       "      <td>3</td>\n",
       "      <td>0</td>\n",
       "      <td>1</td>\n",
       "      <td>0</td>\n",
       "      <td>sales</td>\n",
       "      <td>medium</td>\n",
       "    </tr>\n",
       "    <tr>\n",
       "      <th>1368</th>\n",
       "      <td>0.41</td>\n",
       "      <td>0.52</td>\n",
       "      <td>2</td>\n",
       "      <td>132</td>\n",
       "      <td>3</td>\n",
       "      <td>0</td>\n",
       "      <td>1</td>\n",
       "      <td>0</td>\n",
       "      <td>RandD</td>\n",
       "      <td>low</td>\n",
       "    </tr>\n",
       "    <tr>\n",
       "      <th>1461</th>\n",
       "      <td>0.42</td>\n",
       "      <td>0.53</td>\n",
       "      <td>2</td>\n",
       "      <td>142</td>\n",
       "      <td>3</td>\n",
       "      <td>0</td>\n",
       "      <td>1</td>\n",
       "      <td>0</td>\n",
       "      <td>sales</td>\n",
       "      <td>low</td>\n",
       "    </tr>\n",
       "  </tbody>\n",
       "</table>\n",
       "</div>"
      ],
      "text/plain": [
       "      satisfaction_level  last_evaluation  number_project  \\\n",
       "396                 0.46             0.57               2   \n",
       "866                 0.41             0.46               2   \n",
       "1317                0.37             0.51               2   \n",
       "1368                0.41             0.52               2   \n",
       "1461                0.42             0.53               2   \n",
       "\n",
       "      average_monthly_hours  tenure  work_accident  left  \\\n",
       "396                     139       3              0     1   \n",
       "866                     128       3              0     1   \n",
       "1317                    127       3              0     1   \n",
       "1368                    132       3              0     1   \n",
       "1461                    142       3              0     1   \n",
       "\n",
       "      promotion_last_5years  department  salary  \n",
       "396                       0       sales     low  \n",
       "866                       0  accounting     low  \n",
       "1317                      0       sales  medium  \n",
       "1368                      0       RandD     low  \n",
       "1461                      0       sales     low  "
      ]
     },
     "execution_count": 9,
     "metadata": {},
     "output_type": "execute_result"
    }
   ],
   "source": [
    "df0[df0.duplicated()].head()"
   ]
  },
  {
   "cell_type": "markdown",
   "id": "63dfe0a6-6ed2-4898-bfc3-d67cb9f43a2d",
   "metadata": {},
   "source": [
    "- Upon further review of this dataframe, we will decide to drop these duplicated values. It is highly unlikley that two data entries would contain the exact same infromation across all 10 columns."
   ]
  },
  {
   "cell_type": "code",
   "execution_count": 10,
   "id": "02810549-38fa-4ca0-a301-ef107fe35ea1",
   "metadata": {},
   "outputs": [
    {
     "data": {
      "text/html": [
       "<div>\n",
       "<style scoped>\n",
       "    .dataframe tbody tr th:only-of-type {\n",
       "        vertical-align: middle;\n",
       "    }\n",
       "\n",
       "    .dataframe tbody tr th {\n",
       "        vertical-align: top;\n",
       "    }\n",
       "\n",
       "    .dataframe thead th {\n",
       "        text-align: right;\n",
       "    }\n",
       "</style>\n",
       "<table border=\"1\" class=\"dataframe\">\n",
       "  <thead>\n",
       "    <tr style=\"text-align: right;\">\n",
       "      <th></th>\n",
       "      <th>satisfaction_level</th>\n",
       "      <th>last_evaluation</th>\n",
       "      <th>number_project</th>\n",
       "      <th>average_monthly_hours</th>\n",
       "      <th>tenure</th>\n",
       "      <th>work_accident</th>\n",
       "      <th>left</th>\n",
       "      <th>promotion_last_5years</th>\n",
       "      <th>department</th>\n",
       "      <th>salary</th>\n",
       "    </tr>\n",
       "  </thead>\n",
       "  <tbody>\n",
       "    <tr>\n",
       "      <th>0</th>\n",
       "      <td>0.38</td>\n",
       "      <td>0.53</td>\n",
       "      <td>2</td>\n",
       "      <td>157</td>\n",
       "      <td>3</td>\n",
       "      <td>0</td>\n",
       "      <td>1</td>\n",
       "      <td>0</td>\n",
       "      <td>sales</td>\n",
       "      <td>low</td>\n",
       "    </tr>\n",
       "    <tr>\n",
       "      <th>1</th>\n",
       "      <td>0.80</td>\n",
       "      <td>0.86</td>\n",
       "      <td>5</td>\n",
       "      <td>262</td>\n",
       "      <td>6</td>\n",
       "      <td>0</td>\n",
       "      <td>1</td>\n",
       "      <td>0</td>\n",
       "      <td>sales</td>\n",
       "      <td>medium</td>\n",
       "    </tr>\n",
       "    <tr>\n",
       "      <th>2</th>\n",
       "      <td>0.11</td>\n",
       "      <td>0.88</td>\n",
       "      <td>7</td>\n",
       "      <td>272</td>\n",
       "      <td>4</td>\n",
       "      <td>0</td>\n",
       "      <td>1</td>\n",
       "      <td>0</td>\n",
       "      <td>sales</td>\n",
       "      <td>medium</td>\n",
       "    </tr>\n",
       "    <tr>\n",
       "      <th>3</th>\n",
       "      <td>0.72</td>\n",
       "      <td>0.87</td>\n",
       "      <td>5</td>\n",
       "      <td>223</td>\n",
       "      <td>5</td>\n",
       "      <td>0</td>\n",
       "      <td>1</td>\n",
       "      <td>0</td>\n",
       "      <td>sales</td>\n",
       "      <td>low</td>\n",
       "    </tr>\n",
       "    <tr>\n",
       "      <th>4</th>\n",
       "      <td>0.37</td>\n",
       "      <td>0.52</td>\n",
       "      <td>2</td>\n",
       "      <td>159</td>\n",
       "      <td>3</td>\n",
       "      <td>0</td>\n",
       "      <td>1</td>\n",
       "      <td>0</td>\n",
       "      <td>sales</td>\n",
       "      <td>low</td>\n",
       "    </tr>\n",
       "  </tbody>\n",
       "</table>\n",
       "</div>"
      ],
      "text/plain": [
       "   satisfaction_level  last_evaluation  number_project  average_monthly_hours  \\\n",
       "0                0.38             0.53               2                    157   \n",
       "1                0.80             0.86               5                    262   \n",
       "2                0.11             0.88               7                    272   \n",
       "3                0.72             0.87               5                    223   \n",
       "4                0.37             0.52               2                    159   \n",
       "\n",
       "   tenure  work_accident  left  promotion_last_5years department  salary  \n",
       "0       3              0     1                      0      sales     low  \n",
       "1       6              0     1                      0      sales  medium  \n",
       "2       4              0     1                      0      sales  medium  \n",
       "3       5              0     1                      0      sales     low  \n",
       "4       3              0     1                      0      sales     low  "
      ]
     },
     "execution_count": 10,
     "metadata": {},
     "output_type": "execute_result"
    }
   ],
   "source": [
    "# Create a new dataframe dropping the duplicate values \n",
    "df1 = df0.drop_duplicates(keep='first')\n",
    "df1.head()"
   ]
  },
  {
   "cell_type": "markdown",
   "id": "c2b09e0b-04ec-4c56-ba39-198846e0fd8c",
   "metadata": {},
   "source": [
    "- The top chart shows the total number of employees that stayed (0) or left (1). The bottom chart is the percentage of the dataset as a whole that both categories represent. "
   ]
  },
  {
   "cell_type": "code",
   "execution_count": 11,
   "id": "f0994862-53b5-4825-8965-3e506de4a147",
   "metadata": {},
   "outputs": [
    {
     "name": "stdout",
     "output_type": "stream",
     "text": [
      "left\n",
      "0    10000\n",
      "1     1991\n",
      "Name: count, dtype: int64\n",
      "\n",
      "left\n",
      "0    0.833959\n",
      "1    0.166041\n",
      "Name: proportion, dtype: float64\n"
     ]
    }
   ],
   "source": [
    "print(df1['left'].value_counts())\n",
    "print()\n",
    "print(df1['left'].value_counts(normalize=True))"
   ]
  },
  {
   "cell_type": "markdown",
   "id": "f3ff5106-8ec7-4b62-9d4e-52bd7715f89f",
   "metadata": {},
   "source": [
    "- The top chart shows the total number of employees that did not leave the company(0) or left the company(1), after the data was cleaned. The bottom chart shows the percentage of the whole that each category represents.\n",
    "- Next, different visualizations of data are used to get an understanding of the relationships between different varaiables. This will give some insights into how we can predict if an employee will leave or stay. "
   ]
  },
  {
   "cell_type": "code",
   "execution_count": 65,
   "id": "6c26de4f-27cd-4464-9255-c8fc33fd502a",
   "metadata": {},
   "outputs": [
    {
     "data": {
      "image/png": "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",
      "text/plain": [
       "<Figure size 2200x800 with 2 Axes>"
      ]
     },
     "metadata": {},
     "output_type": "display_data"
    }
   ],
   "source": [
    "# Set figure and axes of graphs\n",
    "fig, ax = plt.subplots(1, 2, figsize = (22,8))\n",
    "\n",
    "# Create boxplot showing `average_monthly_hours` distributions for `number_project`, comparing employees who stayed versus those who left\n",
    "sns.boxplot(data=df1, x='average_monthly_hours', y='number_project', hue='left', orient=\"h\", ax=ax[0])\n",
    "ax[0].invert_yaxis()\n",
    "ax[0].set_title('Monthly hours by number of projects', fontsize='14')\n",
    "ax[0].set_xlabel('Average Monthly Hours')\n",
    "ax[0].set_ylabel('Number of Projects')\n",
    "\n",
    "# Create histogram showing distribution of `number_project`, comparing employees who stayed versus those who left\n",
    "tenure_stay = df1[df1['left']==0]['number_project']\n",
    "tenure_left = df1[df1['left']==1]['number_project']\n",
    "sns.histplot(data=df1, x='number_project', hue='left', multiple='dodge', shrink=2, ax=ax[1])\n",
    "ax[1].set_title('Number of projects histogram', fontsize='14')\n",
    "ax[1].set_xlabel('Number of Projects')\n",
    "\n",
    "# Display the plots\n",
    "plt.show();"
   ]
  },
  {
   "cell_type": "markdown",
   "id": "9965652d-3615-4e18-afd2-4691e0ef5695",
   "metadata": {},
   "source": [
    "### **What can be learned from these graphs?**\n",
    "1. The employees with 7 projects all left the company. These employees are overworked, with average montlhy hours around 250-300 per week. This is well above the average number of working hours per month of employees working Monday&ndash;Friday `= 50 weeks * 40 hours per week / 12 months = 166.67 hours per month`. Employees with 7 projects are overworked, which may be a major contributing factor to their departute from the firm.\n",
    "2. Another group of employees, who left the company, are those with 1 project. This group had the lowest average monthly hours worked. This is intuitive, yet there appears to be a large number of outliers in this group. In contrast with the previous group, these may have departed do to the lack of opportunity or being underworked.\n",
    "3. When it comes to number of projects, 3 & 4 appear to be the sweet spot where employees are more likely to stay.\n",
    "4. The average monthly hour quartiles that represent the different groups in the first plot contain a few outliers. These outliers represent people who many have left because they were unhappy with their workload. A more efficient way to assign projects may result in a better retention rate.  "
   ]
  },
  {
   "cell_type": "code",
   "execution_count": 13,
   "id": "3c68216e-1cb2-4b6d-a72d-8ed782238f6f",
   "metadata": {},
   "outputs": [
    {
     "data": {
      "text/html": [
       "<div>\n",
       "<style scoped>\n",
       "    .dataframe tbody tr th:only-of-type {\n",
       "        vertical-align: middle;\n",
       "    }\n",
       "\n",
       "    .dataframe tbody tr th {\n",
       "        vertical-align: top;\n",
       "    }\n",
       "\n",
       "    .dataframe thead th {\n",
       "        text-align: right;\n",
       "    }\n",
       "</style>\n",
       "<table border=\"1\" class=\"dataframe\">\n",
       "  <thead>\n",
       "    <tr style=\"text-align: right;\">\n",
       "      <th>number_project</th>\n",
       "      <th>2</th>\n",
       "      <th>3</th>\n",
       "      <th>4</th>\n",
       "      <th>5</th>\n",
       "      <th>6</th>\n",
       "      <th>7</th>\n",
       "    </tr>\n",
       "    <tr>\n",
       "      <th>left</th>\n",
       "      <th></th>\n",
       "      <th></th>\n",
       "      <th></th>\n",
       "      <th></th>\n",
       "      <th></th>\n",
       "      <th></th>\n",
       "    </tr>\n",
       "  </thead>\n",
       "  <tbody>\n",
       "    <tr>\n",
       "      <th>0</th>\n",
       "      <td>725</td>\n",
       "      <td>3482</td>\n",
       "      <td>3448</td>\n",
       "      <td>1890</td>\n",
       "      <td>455</td>\n",
       "      <td>0</td>\n",
       "    </tr>\n",
       "    <tr>\n",
       "      <th>1</th>\n",
       "      <td>857</td>\n",
       "      <td>38</td>\n",
       "      <td>237</td>\n",
       "      <td>343</td>\n",
       "      <td>371</td>\n",
       "      <td>145</td>\n",
       "    </tr>\n",
       "  </tbody>\n",
       "</table>\n",
       "</div>"
      ],
      "text/plain": [
       "number_project    2     3     4     5    6    7\n",
       "left                                           \n",
       "0               725  3482  3448  1890  455    0\n",
       "1               857    38   237   343  371  145"
      ]
     },
     "execution_count": 13,
     "metadata": {},
     "output_type": "execute_result"
    }
   ],
   "source": [
    "df_left = df1.pivot_table(index='left', columns='number_project', aggfunc='size', fill_value=0)\n",
    "df_left"
   ]
  },
  {
   "cell_type": "markdown",
   "id": "71cb209c-4d60-40ca-8a80-3f4250ddc679",
   "metadata": {},
   "source": [
    "- This table gives more insight on the number of employees who left or stayed based on the number of projects. 3 is the optimal number of projects according to the ratio of that cohort. With  7 being the most likely to contribute to employees leaving the company.\n",
    "- Now it is important to consider if any other variables had a signficant effect"
   ]
  },
  {
   "cell_type": "code",
   "execution_count": 67,
   "id": "a394606d-fa0a-4a42-a249-5532f93ceeb1",
   "metadata": {},
   "outputs": [
    {
     "data": {
      "image/png": "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",
      "text/plain": [
       "<Figure size 2200x800 with 2 Axes>"
      ]
     },
     "metadata": {},
     "output_type": "display_data"
    }
   ],
   "source": [
    "# Create a plot as needed \n",
    "### YOUR CODE HERE ###\n",
    "\n",
    "# Set figure and axes\n",
    "fig, ax = plt.subplots(1, 2, figsize = (22,8))\n",
    "\n",
    "# Create boxplot showing distributions of `satisfaction_level` by tenure, comparing employees who stayed versus those who left\n",
    "sns.boxplot(data=df1, x='satisfaction_level', y='tenure', hue='left', orient=\"h\", ax=ax[0])\n",
    "ax[0].invert_yaxis()\n",
    "ax[0].set_title('Satisfaction by tenure', fontsize='14')\n",
    "\n",
    "# Create histogram showing distribution of `tenure`, comparing employees who stayed versus those who left\n",
    "tenure_stay = df1[df1['left']==0]['tenure']\n",
    "tenure_left = df1[df1['left']==1]['tenure']\n",
    "sns.histplot(data=df1, x='tenure', hue='left', multiple='dodge', shrink=5, ax=ax[1])\n",
    "ax[1].set_title('Tenure histogram', fontsize='14')\n",
    "\n",
    "plt.show();"
   ]
  },
  {
   "cell_type": "markdown",
   "id": "fb3ff420-c7d0-4133-bb8a-82ec86c42a6a",
   "metadata": {},
   "source": [
    "Here are some observations that can be made from the plot:\n",
    "\n",
    "1. Employees who left can be categorized into two groups: dissatisfied employees with shorter tenures and highly satisfied employees with medium-length tenures.\n",
    "2. Among the employees who left, those with a tenure of around four years exhibit notably low satisfaction levels. It would be beneficial to investigate any policy changes or factors specific to employees at the four-year mark that may have influenced their decision to leave.\n",
    "3. The plot suggests that employees with longer tenures tend to have higher satisfaction levels and are more likely to stay. Similarly, newer employees who stayed also display similar satisfaction levels.\n",
    "4. The histogram illustrates that there are relatively fewer employees with longer tenures. This could indicate that those individuals may hold higher-ranking positions or receive higher compensation within the company."
   ]
  },
  {
   "cell_type": "code",
   "execution_count": 16,
   "id": "b9b18432-af38-40fe-b446-f7bba931dd4a",
   "metadata": {},
   "outputs": [
    {
     "data": {
      "text/html": [
       "<div>\n",
       "<style scoped>\n",
       "    .dataframe tbody tr th:only-of-type {\n",
       "        vertical-align: middle;\n",
       "    }\n",
       "\n",
       "    .dataframe tbody tr th {\n",
       "        vertical-align: top;\n",
       "    }\n",
       "\n",
       "    .dataframe thead th {\n",
       "        text-align: right;\n",
       "    }\n",
       "</style>\n",
       "<table border=\"1\" class=\"dataframe\">\n",
       "  <thead>\n",
       "    <tr style=\"text-align: right;\">\n",
       "      <th></th>\n",
       "      <th>mean</th>\n",
       "      <th>median</th>\n",
       "    </tr>\n",
       "    <tr>\n",
       "      <th>left</th>\n",
       "      <th></th>\n",
       "      <th></th>\n",
       "    </tr>\n",
       "  </thead>\n",
       "  <tbody>\n",
       "    <tr>\n",
       "      <th>0</th>\n",
       "      <td>0.667365</td>\n",
       "      <td>0.69</td>\n",
       "    </tr>\n",
       "    <tr>\n",
       "      <th>1</th>\n",
       "      <td>0.440271</td>\n",
       "      <td>0.41</td>\n",
       "    </tr>\n",
       "  </tbody>\n",
       "</table>\n",
       "</div>"
      ],
      "text/plain": [
       "          mean  median\n",
       "left                  \n",
       "0     0.667365    0.69\n",
       "1     0.440271    0.41"
      ]
     },
     "execution_count": 16,
     "metadata": {},
     "output_type": "execute_result"
    }
   ],
   "source": [
    "df1.groupby(['left'])['satisfaction_level'].agg([np.mean,np.median])"
   ]
  },
  {
   "cell_type": "markdown",
   "id": "7a5dfef4-5166-45dd-9de3-cde4c59fad7e",
   "metadata": {},
   "source": [
    "- The group of employees who left have lower mean & median satisfaction scores than those who did not leave. This is intuitive but confrims that employees with higher satisfaction scores are more likley to be retained by the company"
   ]
  },
  {
   "cell_type": "code",
   "execution_count": 68,
   "id": "b4b4b298-5791-488a-a4d2-c0de4746ae51",
   "metadata": {},
   "outputs": [
    {
     "data": {
      "text/html": [
       "<div>\n",
       "<style scoped>\n",
       "    .dataframe tbody tr th:only-of-type {\n",
       "        vertical-align: middle;\n",
       "    }\n",
       "\n",
       "    .dataframe tbody tr th {\n",
       "        vertical-align: top;\n",
       "    }\n",
       "\n",
       "    .dataframe thead th {\n",
       "        text-align: right;\n",
       "    }\n",
       "</style>\n",
       "<table border=\"1\" class=\"dataframe\">\n",
       "  <thead>\n",
       "    <tr style=\"text-align: right;\">\n",
       "      <th></th>\n",
       "      <th>mean</th>\n",
       "      <th>median</th>\n",
       "    </tr>\n",
       "    <tr>\n",
       "      <th>tenure</th>\n",
       "      <th></th>\n",
       "      <th></th>\n",
       "    </tr>\n",
       "  </thead>\n",
       "  <tbody>\n",
       "    <tr>\n",
       "      <th>2</th>\n",
       "      <td>0.699165</td>\n",
       "      <td>0.70</td>\n",
       "    </tr>\n",
       "    <tr>\n",
       "      <th>3</th>\n",
       "      <td>0.648988</td>\n",
       "      <td>0.65</td>\n",
       "    </tr>\n",
       "    <tr>\n",
       "      <th>4</th>\n",
       "      <td>0.516090</td>\n",
       "      <td>0.58</td>\n",
       "    </tr>\n",
       "    <tr>\n",
       "      <th>5</th>\n",
       "      <td>0.583183</td>\n",
       "      <td>0.72</td>\n",
       "    </tr>\n",
       "    <tr>\n",
       "      <th>6</th>\n",
       "      <td>0.571107</td>\n",
       "      <td>0.64</td>\n",
       "    </tr>\n",
       "    <tr>\n",
       "      <th>7</th>\n",
       "      <td>0.635957</td>\n",
       "      <td>0.66</td>\n",
       "    </tr>\n",
       "    <tr>\n",
       "      <th>8</th>\n",
       "      <td>0.665062</td>\n",
       "      <td>0.69</td>\n",
       "    </tr>\n",
       "    <tr>\n",
       "      <th>10</th>\n",
       "      <td>0.655327</td>\n",
       "      <td>0.64</td>\n",
       "    </tr>\n",
       "  </tbody>\n",
       "</table>\n",
       "</div>"
      ],
      "text/plain": [
       "            mean  median\n",
       "tenure                  \n",
       "2       0.699165    0.70\n",
       "3       0.648988    0.65\n",
       "4       0.516090    0.58\n",
       "5       0.583183    0.72\n",
       "6       0.571107    0.64\n",
       "7       0.635957    0.66\n",
       "8       0.665062    0.69\n",
       "10      0.655327    0.64"
      ]
     },
     "execution_count": 68,
     "metadata": {},
     "output_type": "execute_result"
    }
   ],
   "source": [
    "df1.groupby(['tenure'])['satisfaction_level'].agg([np.mean,np.median])"
   ]
  },
  {
   "cell_type": "markdown",
   "id": "e0ca1b05-b8f2-41ec-8234-f6b7de41a43c",
   "metadata": {},
   "source": [
    "1. The range of satisfaction levels in the data has the lowest mean (0.516) at the 4th year of tenure, and the highest (0.699) in the 2nd year of tenure.\n",
    "2. There is not an observed increase in satisfaction levels over longer tenures at the company."
   ]
  },
  {
   "cell_type": "code",
   "execution_count": 18,
   "id": "0db00c04-3a8a-4345-ba42-807ebb24c549",
   "metadata": {},
   "outputs": [
    {
     "data": {
      "text/html": [
       "<div>\n",
       "<style scoped>\n",
       "    .dataframe tbody tr th:only-of-type {\n",
       "        vertical-align: middle;\n",
       "    }\n",
       "\n",
       "    .dataframe tbody tr th {\n",
       "        vertical-align: top;\n",
       "    }\n",
       "\n",
       "    .dataframe thead th {\n",
       "        text-align: right;\n",
       "    }\n",
       "</style>\n",
       "<table border=\"1\" class=\"dataframe\">\n",
       "  <thead>\n",
       "    <tr style=\"text-align: right;\">\n",
       "      <th>tenure</th>\n",
       "      <th>2</th>\n",
       "      <th>3</th>\n",
       "      <th>4</th>\n",
       "      <th>5</th>\n",
       "      <th>6</th>\n",
       "      <th>7</th>\n",
       "      <th>8</th>\n",
       "      <th>10</th>\n",
       "    </tr>\n",
       "    <tr>\n",
       "      <th>left</th>\n",
       "      <th></th>\n",
       "      <th></th>\n",
       "      <th></th>\n",
       "      <th></th>\n",
       "      <th></th>\n",
       "      <th></th>\n",
       "      <th></th>\n",
       "      <th></th>\n",
       "    </tr>\n",
       "  </thead>\n",
       "  <tbody>\n",
       "    <tr>\n",
       "      <th>0</th>\n",
       "      <td>2879</td>\n",
       "      <td>4316</td>\n",
       "      <td>1510</td>\n",
       "      <td>580</td>\n",
       "      <td>433</td>\n",
       "      <td>94</td>\n",
       "      <td>81</td>\n",
       "      <td>107</td>\n",
       "    </tr>\n",
       "    <tr>\n",
       "      <th>1</th>\n",
       "      <td>31</td>\n",
       "      <td>874</td>\n",
       "      <td>495</td>\n",
       "      <td>482</td>\n",
       "      <td>109</td>\n",
       "      <td>0</td>\n",
       "      <td>0</td>\n",
       "      <td>0</td>\n",
       "    </tr>\n",
       "  </tbody>\n",
       "</table>\n",
       "</div>"
      ],
      "text/plain": [
       "tenure    2     3     4    5    6   7   8    10\n",
       "left                                           \n",
       "0       2879  4316  1510  580  433  94  81  107\n",
       "1         31   874   495  482  109   0   0    0"
      ]
     },
     "execution_count": 18,
     "metadata": {},
     "output_type": "execute_result"
    }
   ],
   "source": [
    "df1.pivot_table(index='left', columns='tenure', aggfunc='size', fill_value=0)"
   ]
  },
  {
   "cell_type": "markdown",
   "id": "ec495b51-e031-4784-a1f5-a944293fd343",
   "metadata": {},
   "source": [
    "1. Despite there being no observed imporvement in satisfaction as tenure increase, the dataset does not report any employees that left in year 7-10. However, these are the cohorts with the smallest number of employees.\n",
    "2. Year 5 is the year when the highest percentage of employees leave the company. If we consider that in year 4 employees have the lowst satisfaction score overall, these disgruntled employees may make the decision to leave in the next year. \n",
    "- These observations provide insights into the relationship between tenure and satisfaction levels within the dataset. Further analysis and consideration of other factors may be required to understand the complete picture."
   ]
  },
  {
   "cell_type": "code",
   "execution_count": 19,
   "id": "2d09f703-91a6-4790-b93a-5d2af3bc1d21",
   "metadata": {},
   "outputs": [
    {
     "data": {
      "image/png": "iVBORw0KGgoAAAANSUhEUgAABv0AAAK+CAYAAACB09JUAAAAOXRFWHRTb2Z0d2FyZQBNYXRwbG90bGliIHZlcnNpb24zLjcuMSwgaHR0cHM6Ly9tYXRwbG90bGliLm9yZy/bCgiHAAAACXBIWXMAAA9hAAAPYQGoP6dpAACLy0lEQVR4nOzdeZxVdf0/8Newg2ziyJZsboCK4haiiYgKrmmSZuaWW/kFc/umX8vcWizL1AorV7I0t8pSS1MU1ERUCLeA0sAxZXFUQNmR+/vDHzfHGZABhuHC8/l43Afccz73fN7n3nsu8+Y195yyQqFQCAAAAAAAAFCyGtR3AQAAAAAAAMCaEfoBAAAAAABAiRP6AQAAAAAAQIkT+gEAAAAAAECJE/oBAAAAAABAiRP6AQAAAAAAQIkT+gEAAAAAAECJE/oBAAAAAABAiRP6AQAAAAAAQIkT+sEGpnv37unevXt9l7FKBg4cmLKyslUeP3LkyJSVlWXkyJF1VxRV1PY1Yv1XSp8RrLqN7Vj17wEArN9K6WdOfen6b2P7WbeUldKxT+1tbMeiz3tKldAP1rF58+ble9/7XnbZZZe0bNkyTZs2zRZbbJG99947F154YV599dX6LnGD5YfP0nHSSSelrKws06ZNq+9SWMsuvfTSlJWVZfTo0bV+7MbWYAAA1BV9af3Rl5YOfenGSd8JlLpG9V0AbEzee++9fOYzn8kLL7yQrbfeOscdd1w222yzVFZW5plnnsn3v//9bLXVVtlqq63qu9T10uc+97nsscce6dSpU32XAgAAUJL0pWtGXwoArM+EfrAOXXPNNXnhhRdy6qmn5vrrr6/2m0NTp07NokWL6qm69V+bNm3Spk2b+i4DAACgZOlL14y+FABYnzm9J6xDY8eOTZIMGzasxlMF9OjRI7169aqy7LHHHsvJJ5+cnj17pmXLlmnZsmV22223XH/99as875tvvplLLrkke+yxR9q3b5+mTZume/fu+Z//+Z/MmjWr2vjlp7D497//nauuuirbbbddmjZtmpNOOikXXXRRysrKctddd9U4180335yysrJcccUVq1zfkiVLcumll6Z79+5p2rRptt1221x33XXVxq3oXNoTJkzI5z//+XTt2jVNmzbN5ptvnt133z3f/e53kyTTpk1LWVlZXnvttbz22mspKysr3i699NIq27rlllvSr1+/4nPdr1+/FZ67e+nSpbniiiuy1VZbpVmzZtl6661zxRVX5N///nfKyspy0kknVRm//DQus2fPzvDhw9OlS5c0atSouP3x48dn+PDh2WGHHdKmTZs0b948ffr0yfe///0sWbKk2vzLtzdnzpycccYZ6dSpUzbZZJMMGDAgEyZMSPLha3/cccelffv2ad68eQYPHpx//etfn/yifMzChQvzf//3f+natWuaNWuW3r1756c//WkKhUJxzI033piysrJceeWVNW7j0UcfTVlZWb7yla+sdK7u3bvnV7/6VZIPj4nlr9XAgQOrjJs6dWpOPfXU4uveqVOnnHTSSXnttdeqbXP542fOnJkTTzwx5eXlad68efbYY48aTzO5slPu1HSqj4+esnLkyJHZZZdd0qJFiyo1v/fee7nkkkuy/fbbp3nz5mnbtm2GDBmSJ598cqXPx6r6pOPg495///2cddZZ6dy5c5o2bZodd9wx99xzT41jKysrc/bZZ6dHjx5p2rRp2rdvn6OPPjovvfRStbEr+/wYOHBgLrvssiTJvvvuW3xtV+X0RmVlZRkzZkzx78tvHz/OXnjhhRxzzDHp1KlTmjRpkm7duuXMM8/M22+/XWXc8s+Fk046Ka+88ko+97nPZdNNN80mm2yS/fffP88//3yNNXz8fbhcTe+ZlT0Xy82aNSvnnHNOtt566zRt2jTl5eUZOnRojc9tkjz55JPZZ599sskmm2SzzTbLF77whbz++usrf/I+ZvTo0cXPvyeffDIDBw5Mq1at0rZt2wwdOjSvvPJKjY+rba0vvfRSjj766OK/Oz169MjZZ59d7bVIqn4+fuUrX0nHjh3TrFmz7Lzzzvntb39bq/2rzWcDAGyM9KU105d+uH196X/3S1+69sybNy+XXHJJevXqlWbNmqVdu3Y55JBD8re//a3a2I/ux+23356+ffumefPm6dSpU84666wsWLCg2mNqexysiL7zQ/rOT6bvZH3mm36wDm222WZJkn/+85/p27fvKj3mBz/4QV555ZXsscce+dznPpfZs2fnwQcfzFe+8pVMmTIlV1111Sdu4/HHH89VV12V/fbbL/369Uvjxo3z97//PT//+c/z0EMPZcKECTX+puKZZ56Zp59+OoccckgOO+ywtG/fPp///OdzxRVX5MYbb8zRRx9d7TE33HBDGjVqlC9/+curtH9J8sUvfjHPPPNMDjrooDRs2DB33XVXhg0blsaNG+e0005b6WMnTpyYPffcMw0bNszhhx+ebt26Zfbs2fnHP/6R66+/Pt/85jfTtm3bXHLJJbnmmmuSJGeffXbx8R/9QeprX/tafvrTn+ZTn/pUTjnllCTJ7373u3z5y1/O3//+91x77bVV5j755JPz61//OltuuWWGDRuWRYsW5eqrry420TVZtGhRBg0alPfffz+f/exn06hRo3To0KH43N13330ZMGBADj744MyfPz+jR4/OhRdemGeffTa/+93vqm1v8eLFOeCAA7Jw4cJ84QtfyMyZM3PXXXdl//33z1NPPZUhQ4akU6dOOe644/LKK6/kvvvuyyGHHJJJkyalYcOGK31uP+roo4/O3//+9wwdOrT4vHzta1/LtGnTiu/BL37xiznvvPNy00035fzzz6+2jRtuuCFJPvE1PfvsszNy5Mg8//zzOeuss9K2bdskqfKD7bhx4zJkyJDMmzcvhx56aLbZZptMmzYtt912W/7yl79k7Nix2XLLLatsd/bs2fnMZz6TNm3a5Pjjj8+sWbNy5513ZsiQIRk/fnx22GGHVX4+VuSHP/xhHnvssRx++OEZPHhw8Tl+5513MmDAgLz88svZa6+98tWvfjVz587NH//4x+y77765++67c8QRRxS3M3r06Oy7777ZZ599Vunad6tyHHzUkiVLMnjw4Lz77rsZOnRo5s+fnzvuuCNHH310HnzwwQwePLg49q233kr//v3z6quvZuDAgTnmmGMyderU3HPPPXnggQfy0EMP5TOf+Uy1mmr6/Fh+vI0ZMyYnnnhi8TVd/hqvzCWXXJKRI0fmtddeyyWXXFJc/tHP0j/96U85+uij06BBgxx++OHp0qVL/vGPf+RnP/tZHnrooYwbNy6bbrpple1OmzYte+yxR7bffvucfPLJefXVV4uvy6RJk4rH55qo6blIUnxO//Of/2Tw4ME54ogjMmvWrPzud7/LQw89lFGjRqVfv37F7YwaNSoHHXRQGjRokC984Qvp3LlzRo0alb322qvafq2Kp59+OldccUUOPPDAnHnmmXn55Zfzhz/8IU888USefvrpKsdQbWt98sknM2TIkCxevDif//zn071794wdOzbXXntt7r///jz99NMpLy+vUs/ixYuz//775/3338/xxx+fefPm5a677sqxxx6bysrKnHnmmZ+4T6vz2QAAGxt9ac30pfrSj9KX1r4vXZGFCxdm0KBBeeaZZ7LLLrvk7LPPzsyZM3PnnXfmoYceym9/+9scddRR1R73s5/9LA8++GAOP/zwDBo0KA8++GB+8pOfpLKyMrfddluVsatzHNRE36nv1HeyQSgA68wf//jHQpJCq1atCuedd17hoYceKlRWVq70Mf/+97+rLVuyZEnhgAMOKDRs2LDw2muvVVnXrVu3Qrdu3aosmzlzZuG9996rtp1f/epXhSSF73znO1WWn3jiiYUkhS222KLa9guFQuGggw4qlJWVFaZOnVpl+UsvvVRIUjjiiCNWuk/L7bPPPoUkhX79+hXmzJlTXD558uRCo0aNCj179qwy/pZbbikkKdxyyy3FZeeee24hSeHee++ttv2PP7c1PTfLjRkzppCk0Lt378Ls2bOLy995553CtttuW0hSePzxx4vLH3nkkUKSQt++fQvz5s0rLn/zzTcLHTp0KCQpnHjiidXmT1IYMmRIYf78+dVqeO211wpLly6tsmzZsmWFk08+uZCk8OSTT9a4vaOOOqqwZMmS4vIf/OAHhSSFtm3bFs4555zCsmXLiuvOOOOMQpLC7373uxqfh49b/hr17NmzyvMye/bsQs+ePQtlZWWFZ599ttr2R48eXWU7b7/9dqFp06aFvn37rtK8y9+DH3+PFQqFwuLFiwvdu3cvtGrVqjBhwoQq65544olCw4YNC4ceemiV5UkKSQr/8z//U/jggw+Ky2+88cZCksJXvvKVKuNX9l5Z/px81CWXXFJIUthkk00KL7zwQrXHHHvssYUkhRtuuKHK8pkzZxa6dOlS2HzzzQsLFiwoLn/ssccKSQr77LNPjTV8XG2PgySFww8/vLBo0aLi8uXv6SFDhlQZ/+Uvf7mQpHDhhRdWWf7AAw8UkhS23nrrKs/pJ31+LH+uHnvssVXat4+q6blfrrKystC6devCpz71qcK0adOqrPvtb39bSFIYPnx4cdnUqVOL74vvf//7VcZfdNFFhSSFK664osrylb0mNb1nPum52HPPPQsNGzYsPPjgg1WWT5kypdCqVatCnz59iss++OCDwpZbblkoKysrPPHEE8Xly5YtK76/VvXHuuXvrySFX/ziF1XW/eIXvygkqXYM1bbWrbbaqpCk2vivf/3rhSSFk08+ucry5e/LAQMGVHlfvv7664Xy8vJC06ZNC//5z3+Ky2v692B1PhsAYGOkL61KX1qVvvS/9KW160tXVPNll11WSFL40pe+VOV9MGHChEKTJk0Kbdu2LcydO7fafrRp06YwefLk4vL58+cXtt1220KDBg0Kb7zxRnH56hwHK6Pv1Hcup++kVAn9YB276qqrCi1btiz+w5eksNVWWxWGDRtW+Oc//7nK2/nd735XSFIYOXJkleUr+6Hw45YtW1Zo3bp1YeDAgVWWL/+B4dprr63xccubxIsuuqjK8rPPPruQpPDAAw+s0vzLf5B69NFHV7juoz/4ray5euihhz5xvpU9N8sbmDvvvLPauttuu63aDwsnnXRSIUnh97//fbXx3/ve91baXD3//POfWOtHjR8/vpCkcOmll9a4vY//UFdRUVFIUmjZsmWVH3gLhULh8ccfLyQpXHzxxas09/LX4Te/+U21db/+9a+r/UD7/PPPF5IUjjvuuCpjr7nmmkKSwogRI1Zp3pU1V7///e8LSQqXX355jY898sgjCw0aNKjSsC9vfD7+nwxLliwpNGrUqLDLLrtUWb66zdU555xTbfxbb71VaNiwYWHQoEE1bu8nP/lJIUnhvvvuKy6bN29eYdKkSTX+wF6T2h4HSWr8j5tu3boV2rVrV7y/aNGiQrNmzQqbbbZZtfdSoVAoHHDAAdX+4+GTPj/qKvT78Y9/XEhSuPXWW2tcv8suuxTKy8uL95c3Xz169KjScH903ZFHHlll+eo2XzU9FxMmTKixCVlu+Wv64osvFgqF//4H0GGHHVZt7LRp0woNGzasdfO17bbbVtv3Dz74oLDNNtsUysrKCrNmzVqtWpd/zhx00EHVxr733nuFdu3aFZo1a1alyVr+vvz4fyIVCoXCt7/97UKSwo9+9KPispr+PVidzwYA2FjpS/9LX7pq9KVV6UtrVlPNW265ZaFx48aF119/vdr40047rVoft3w/anp/LF/3pz/9qbhsdY6DldF36juX03dSqpzeE9axc889N6eddloefPDBPPXUU3nuuecybty4jBgxIjfddFPuvPPOfPazny2Of++99/KjH/0o9957b1599dXMmzevyvbefPPNVZr397//fX75y19mwoQJeffdd/PBBx984jY+/elP17j8kEMOyac+9anccsstufTSS9OwYcMsXrw4v/71r9OlS5cceOCBq1TTcrvuumu1ZVtssUWSD0990apVqxU+9uijj84111yTz33uc/nCF76QAw44IAMGDMinPvWpWtXw97//PUlqPG/6vvvum+TDU7Yst/y86zWd1nCvvfZa4TzNmjVLnz59aly3ePHi/OxnP8sdd9yRyZMn5/33369ybYKaXqdNN900Xbt2rbKsU6dOSZJtttkmLVq0qHHdqr5vltt7771XuGz5c5ckO+64Y/bYY4/cc889+elPf1o8BcpNN92UFi1a5Etf+lKt5q3J008/nSSZMmVKtWtfJMmMGTOybNmy/POf/8xuu+1WXL7tttumZcuWVcYuP43N7Nmz17iupOZj5tlnn80HH3yQRYsW1Vjv8mtZTJ48OYceemiSpEWLFtWuo7IytT0O2rZtmx49elRbvsUWW1Q5/cnkyZOzcOHC7LvvvtXeS8mHx8bDDz+ciRMnVnuPrOjzY2XuvffeKsdZ8uExuaLrGXzU8vfFuHHj8uqrr1Zbv3DhwlRWVqaysrLK6T369u2bBg2qXuL4o58/a0NNz8XyemfOnFnj+2Ly5MnFP3fYYYfiZ05Nx2K3bt3SpUuXTJs2rVZ17bXXXtX2vUGDBtlrr73yr3/9K88//3z233//Wte6ss/T5df/+etf/5opU6ZU+Txs1KhR+vfvX+0xNX3W1GR1PxsAYGOkL61OX/ohfemq0Zeumrlz5+bf//53evfuXTyePmrffffNDTfckIkTJ+b444+vsu6Tjsnlansc6Dv/S9/5X/pONiRCP6gHrVq1ylFHHVU8Z/mcOXPyjW98I9ddd11OOeWUvPHGG2nSpEkWL16cgQMHZsKECdl5551z/PHHZ7PNNkujRo0ybdq0/OpXv8qiRYs+cb6rrroq//u//5vNN988gwcPzhZbbJHmzZsnSa655poVbmNF5xRv2LBhTj311Fx22WX5y1/+kkMPPTR/+MMf8vbbb2f48OHV/jH/JK1bt662rFGjDz+ePtoE1qRfv34ZPXp0vve97+X222/PLbfckiTZfffd84Mf/KDYGH2SuXPnpkGDBtl8882rrevQoUPKysoyd+7cauM/fm7w5eNXpH379tUutr3c5z//+dx3333Zdttt84UvfCHt27dP48aNM3v27Fx77bU1vk4re+5Wtq6mC7CvTE37tHzZnDlzqiz/yle+ki9/+cv5zW9+k+HDh2fcuHF58cUXc+KJJ9Z4jY7aeuedd5Kk2jn8P+7j/xFR0/ORfPicfNL7bFXV9Dwtr/dvf/tbjRcpX+7j9dZGbY+DFb0OjRo1yrJly4r3l7/nV/SeXt6sf/TYWG51rklw77335le/+lW15avSfC1/nkeMGLHScfPmzaty3K7J58+qWtn74oEHHsgDDzywwscuf18sP86WX5ehpjlq23yt6DX6+LFd21pX931TXl5e478fK/qs+bjV/WwAgI2VvrQqfemH9KWrRl+6atakp1zVY7K2x4G+szp9p76TDYvQD9YDbdq0yc9+9rM88MADee211/Liiy9m1113zR//+MdMmDAhp5xySm688cYqj7njjjtq/CHl45YuXZpvf/vb6dSpUyZOnFjlH+5CoZArr7xyhY9dUROQJKeeemq+853v5IYbbsihhx6aG2+8MQ0aNMjJJ5+8Cnu8du299975y1/+kgULFmTcuHG57777ct111+WQQw7JSy+9tEoXz23dunWWLVuWt956q9oPN7NmzUqhUKjyQ9ry8ZWVldUaspkzZ65wnhU9p88++2zuu+++DBkyJA888ECVi5k//fTT1S7Wvq7NnDmz2m9uLt/PjzdMX/jCF3LOOefkxhtvzPDhw4vv3U+6UPqqWv463HfffcXfQFzbGjRokMWLF9e4bmU/ANb0+i6v97zzzsuPfvSjtVNgDdbGcfBxy2tf0Xt6xowZVcZ91Mo+P1Zk5MiRGTlyZK0f99EaXnzxxeywww6rtY1PUlZWlqVLl9a4bs6cOSv8z4OVvS9++tOfZvjw4Z849/Jtz5o1q8b1K/vcWZEVPebjx3Zta13d901lZWWWLVtWrQFb0WfNiuaty88GANiQ6UvXjL607ulL/2t97UtXNO/q9JS1maM2x4G+c8X0nfpONgy1+7UnoM6UlZVlk002qbJs+akCDj/88Grjn3jiiVXabmVlZebMmZP+/ftXaxqee+65LFiwYLXq3WKLLXLIIYfkz3/+c5566qmMGjUqQ4YMqfYD+LrUvHnzDBw4MFdddVW+8Y1vZMGCBXn44YeL6xs2bLjC36DaeeedkySjR4+utm75sr59+xaX7bTTTklS42/IPfXUU7Wufflrfcghh1RprJJVf63rUk01LF+2/Llbrnnz5jnhhBPy/PPP57HHHsudd96Z3r17r/T0Mh+3/Dmo6fXq169fklQ5DeXatummm2bWrFnVftCeN29e8bQnq2r33XdPWVlZndb7UZ90HNRGr1690qxZszz77LOZP39+tfU1HRufZGWv7Zo8dl29L954441qy6dNm1brU7LUtt7lnzk1HYuvvfZaXn/99VrNn3z4+fXRb3YmybJly/LUU0+lrKysOGdta13Z5+m8efPy3HPPpXnz5unZs2eVdUuXLq1xjhV91nzcungPAMCGTl+65vSldUdf+qFS6EuXa926dbbccsu88sorNfZSq9NTftzaPg7Wh9dd3/nJ9J2wYkI/WId++ctf5tlnn61x3b333ptJkyalbdu2xd8W6tatW5LkySefrDJ2zJgxueGGG1Zpzvbt26d58+aZMGFClf+0f/fdd3PmmWeuzm4UfeUrX8nSpUtz1FFHpVAorLXfmKuNsWPHZuHChdWWL/8NnWbNmhWXtWvXLpWVlTWOP/HEE5Mkl112WZWv/s+ZMyeXXXZZlTFJitcAuPzyy6s0qDNmzFit335c0Wv98ssv54orrqj19ta2b3/721V+k3DOnDn5zne+k7KysirPy3Jf+cpXkiTHHXdc3nvvvVq/N9q1a5ckNf5Aefjhh6dr16758Y9/nMcff7za+iVLllR7Hmtr9913z5IlS6qcrqFQKOTCCy+s9SkaOnbsmKOPPjpPPfVUfvjDH1a5HsZy48aNq3J8zp8/P5MnT05FRcUqzVGb46A2mjRpki9+8YuprKys9j588MEH89BDD2XrrbeuVeO8std2TR775S9/Oa1atco3v/nNvPzyy9XWz58/v3ju/dW1++67Z9q0aRkzZkxx2eLFi3PuuefWeluf/vSn069fv/z2t7/NnXfeWW39smXLqszzmc98Jj169Mj9999f5f1dKBTyjW98Y7VC1H/+85/V/i254YYb8s9//jOHHHJI8bdka1vrXnvtla222ip/+ctf8sgjj1QZ+53vfCdvv/12vvjFL6ZJkybVtvWNb3yjym8z/+c//8m1116bpk2b5phjjlnp/qyLzwYA2BDoS9c+fem6oS9dv/vSFTnxxBOzZMmSXHjhhVXmfeGFFzJy5Mi0adMmRxxxxGpvf20fB/pOfefK6DspBU7vCevQX/7yl3z1q18t/id5586dM2/evPz973/PE088kQYNGuS6665L06ZNkySHHXZYunfvniuvvDIvvfRSdthhh0yZMiX3339/Pve5z+Wee+75xDkbNGiQ//mf/8lVV12VnXbaKYcddljmzp2bv/zlL+nWrVs6d+682vtz4IEHplu3bnnttdfSsWPHHHbYYau9rdX1gx/8II899lgGDBiQHj16pFmzZpkwYUJGjRqVLbfcMp/73OeKYwcNGpTnnnsuBx10UPbee+80adIkAwYMKN7OPPPM/PSnP80OO+yQoUOHplAo5He/+13+85//5Gtf+1oGDBhQ3Nb++++fY489Nrfffnv69OmTI444IosWLcpdd92Vfv365b777qvVNSQ+/elP59Of/nTuuuuuTJ8+PXvssUcqKirypz/9KYcccsgqvdZ1adttty0+L0mKz8u5555b44WJt9tuu+y999554okn0rRp05xwwgm1mm/QoEH50Y9+lNNPPz1Dhw7NJptskm7duuX4449P06ZNc8899+Sggw7KPvvsk0GDBqVPnz4pKyvLa6+9lieeeCKbbbZZ8SLPq2P48OG55ZZbcuqpp+bhhx/O5ptvnieeeCKzZ8/OTjvtVLy49aq67rrrMmXKlJx//vn59a9/nf79+6dt27Z5/fXX89xzz+Vf//pXpk+fXrzA/TPPPJN99903++yzT42/tfZxtTkOausHP/hBxowZk+985zt56qmn0q9fv0ybNi133313WrRokVtuuaVW7/V99903ZWVl+cY3vpGXX345bdq0Sdu2bVfp9B2DBg3KPffck6FDh+aggw5Ks2bNip9rm2++eX7729/mqKOOyk477ZQDDzwwvXr1yqJFi4oN05577pkHH3xwtZ+Lc889N3/9619z8MEH54tf/GJatGiRhx9+OG3bti1eL6A2fvvb32bffffNMccck2uuuSa77LJLmjdvnoqKiowdOzZvvfVW8T+DGjRokOuvvz4HH3xw9t9//3zhC19I586d8+ijj2b69OnZcccd88ILL9Rq/iFDhuRrX/ta/vznP2f77bfPyy+/nPvuuy/l5eXVmuPa1jpy5MgMGTIkBx98cI466qh069YtY8eOzejRo7PVVlvl+9//frV6OnXqlHnz5mXHHXfMYYcdlnnz5uWuu+7K22+/nZ/85Cf51Kc+tdL9WRefDQCwIdCXrn360nVDX7p+96Urcv755+eBBx7Ir3/960yaNCn77bdfZs2alTvvvDNLly7NDTfckFatWq329tf2caDv1HeujL6TklAA1pnJkycXrrzyysIBBxxQ6NGjR6FZs2aFZs2aFbbaaqvCiSeeWHjuueeqPebf//53YejQoYXNN9+80KJFi8Luu+9euOOOOwqPPfZYIUnhkksuqTK+W7duhW7dulVZtnjx4sJ3v/vdwjbbbFNo2rRpoWvXroXzzjuv8N5779U4/sQTTywkKUydOvUT9+miiy4qJCn83//9Xy2fjUJhn332KazoY6imGm655ZZCksItt9xSXPbggw8WTjjhhELPnj0LrVq1KrRs2bKw3XbbFb7xjW8U3nrrrSrbfO+99wqnnXZaoVOnToWGDRvW+PzdfPPNhd13373QokWL4vN9880311jjkiVLCt/+9rcLPXr0KDRp0qSw5ZZbFr73ve8Vxo0bV0hSOOuss6qMr+m5/qhZs2YVTj755ELnzp0LzZo1K/Tp06cwYsSIwr///e9CksKJJ564yttLUthnn32qLZ86dWqN21qR5a/RggULCueff36hS5cuhSZNmhR69uxZ+MlPflJYtmzZCh974403FpIUjjnmmFWa6+OuvPLKwjbbbFNo3Lhxjfvzn//8p3DWWWcV39etW7cu9O7du3DqqacWRo0aVWXsip6PQmHFz+Ojjz5a6NevX6Fp06aFzTbbrHD88ccXZs6cWeP79pJLLikkKTz22GMr3J/58+cXrrzyysKuu+5a2GSTTQrNmzcv9OjRo3DEEUcUbr311sKSJUuKY5cf3yuq+eNqcxys7H2zomPyrbfeKnzta18rdOvWrdC4ceNCeXl54fOf/3zhxRdfrDZ2VT4/Ro4cWejTp0+hadOmhSQrPS4+asmSJYXzzz+/0LVr10KjRo1qfC9Pnjy5cMoppxS6detWaNKkSWHTTTct9OnTp/C1r32t8MwzzxTHfdKxsKLn/+677y706dOn0KRJk0LHjh0LZ5555hp9lr7zzjuFiy66qLDDDjsUmjdvXmjZsmVhm222KRx77LGF3//+99XGP/7444UBAwYUmjdvXmjXrl3hqKOOKrz22msr/Tz9uI/++/HEE08U9tlnn8Imm2xSaN26deFzn/tc4V//+tdaqfWFF14ofP7zny+Ul5cXGjduXOjWrVvhrLPOqvaeLBT++7585513CqeffnqhQ4cOhaZNmxZ22mmnwu23315tfE3/HixXm88GANgY6Uur0pdWpS+tSl+66n3pyvbj/fffL3zrW98qbLvttoUmTZoU2rZtWzjooIMKTzzxRLWxK9uPFfUBtT0OVkbfqe9cTt9JqSorFGr4PjfAKjr00EPz5z//Of/85z+z9dZb13c564Ubb7wxp512Wq677rqcccYZ9V1OvRk+fHhGjBiRUaNGZdCgQfVdDvD/jR49Ovvuu28uueSSXHrppfVdTpKke/fuST68TgUAQG3pS6vTl35IX7pxcxzUH30n1B/X9ANW2z/+8Y/8+c9/zgEHHLBRNlYzZsyodh78N954I9/5znfSsGHDHHroofVUWf1766238qtf/So9e/bMvvvuW9/lAAAAGyh9qb50RfSlGw/HAcB/uaYfUGu33357pkyZkltvvTVJcskll9RzRfXj+9//fh544IHsvffead++fSoqKnL//ffnvffey6WXXpouXbrUd4nr3AMPPJAJEybknnvuyfvvv59LL700ZWVl9V0WAACwgdGXfkhfWp2+dOPjOAD4L6EfUGvXX399nnjiiXTr1i033XRT9txzz/ouqV4ceOCB+cc//pEHHngg7777bpo1a5Ydd9wx//M//5Njjz22vsurF3fffXd+9atfpXPnzvne976XY445pr5LAgAANkD60g/pS6vTl258HAcA/+WafgAAAAAAAFDiXNMPAAAAAAAASpzQDwAAAAAAAEqca/qtgmXLluXNN99Mq1atXPgXAAA2YoVCIe+99146d+6cBg38DiV1Rx8KAAAktetDhX6r4M0330yXLl3quwwAAGA98frrr2eLLbao7zLYgOlDAQCAj1qVPlTotwpatWqV5MMntHXr1vVcDQAAUF/mzp2bLl26FHsEqCv6UAAAIKldHyr0WwXLT6XSunVrzRYAAOB0i9Q5fSgAAPBRq9KHuggFAAAAAAAAlDihHwAAAAAAAJQ4oR8AAAAAAACUONf0AwCAdahQKGTp0qX54IMP6rsUVqBx48Zp2LBhfZcBAACwVuhD139rqw8V+gEAwDqyePHiTJ8+PfPnz6/vUliJsrKybLHFFmnZsmV9lwIAALBG9KGlYW31oUI/AABYB5YtW5apU6emYcOG6dy5c5o0aZKysrL6LouPKRQKeeutt/Kf//wn22yzjW/8AQAAJUsfWhrWZh8q9AMAgHVg8eLFWbZsWbp06ZIWLVrUdzmsxOabb55p06ZlyZIlQj8AAKBk6UNLx9rqQxusxZoAAIBP0KCBH8HXd37zFQAA2JDoQ9d/a6sP9UoDAAAAAABAiRP6AQAAAAAAQIkT+gEAALVSVlaWe++9t77LAAAAYCOhD101Qj8AAAAAAAAocUI/AABgnVq8eHF9lwAAAMBGZGPpQ4V+AACwEbrnnnvSp0+fNG/ePJtttln233//zJs3L88++2wOOOCAlJeXp02bNtlnn30yYcKElW7rggsuyLbbbpsWLVpkyy23zLe+9a0sWbKkuP7SSy9N3759c+ONN6ZHjx5p1qxZbr311my22WZZtGhRlW0dccQROf744+tknwEAAKg/+tC6J/QDAICNzPTp0/PFL34xJ598ciZNmpTRo0fnyCOPTKFQyHvvvZcTTzwxTz75ZJ5++ulss802Ofjgg/Pee++tcHutWrXKyJEj849//CPXXnttbrjhhlx99dVVxrzyyiv53e9+l9///veZOHFijjrqqHzwwQf505/+VBwza9asPPDAAzn55JPrbN8BAABY9/Sh60aj+i4AAABYt6ZPn56lS5fmyCOPTLdu3ZIkffr0SZIMGjSoytjrr78+bdu2zZgxY3LooYfWuL2LLrqo+Pfu3bvnf//3f3PHHXfk/PPPLy5fvHhxbr311my++ebFZccee2xuueWWHHXUUUmS3/zmN+natWsGDhy4VvYTAACA9YM+dN3wTT8AANjI7LTTTtlvv/3Sp0+fHHXUUbnhhhvy7rvvJklmzpyZ0047Ldtss03atGmT1q1b5/33309FRcUKt3fnnXdmr732SseOHdOyZctcdNFF1cZ369atSqOVJKeddlr++te/5o033kiSjBw5MieddFLKysrW8h4DAABQn/Sh64bQDwAANjINGzbMww8/nL/85S/Zbrvt8tOf/jQ9e/bM1KlTc+KJJ2bixIm59tpr89RTT2XixInZbLPNVnjR87Fjx+ZLX/pSDj744Nx///35+9//nm9+85vVxm+yySbVHrvzzjtnp512yq233prx48fn5ZdfzkknnVQXuwwAAEA90oeuG07vCQAAG6GysrLstdde2WuvvXLxxRenW7du+cMf/pC//e1vue6663LwwQcnSV5//fVUVlaucDtPPfVUunXrlm9+85vFZa+99toq13HqqafmmmuuyRtvvJH9998/Xbp0Wf2dAgAAYL2lD617Qj8AANjIjBs3LqNGjcrgwYPTvn37jBs3Lm+99VZ69+6dbbbZJr/+9a+z2267Ze7cufn617+e5s2br3Bb22yzTSoqKnLHHXdk9913zwMPPJA//OEPq1zLsccem//93//NDTfckFtvvXVt7B4AAADrGX3ouuH0ngAAsJFp3bp1Hn/88Rx88MHZdtttc9FFF+Wqq67KQQcdlJtuuinvvvtudtlllxx//PH52te+lvbt269wW5/97GdzzjnnZPjw4enbt2+eeuqpfOtb31rlWtq0aZOhQ4emZcuWOeKII9bC3gEAALC+0YeuG2WFQqFQ30Ws7+bOnZs2bdpkzpw5ad26dX2XAwBACVq4cGGmTp2aHj16pFmzZvVdznplv/32y/bbb5+f/OQn9V1KkpW/VnoD1hXvNQAA1pQ+dMU21D7U6T0BAIB68e6772b06NEZPXp0rrvuuvouBwAAgA3cht6HCv0AAIB6sfPOO+fdd9/ND37wg/Ts2bO+ywEAAGADt6H3oUI/AACgXkybNq2+SwAAAGAjsqH3oUI/4BNVVFSksrKyzucpLy9P165d63weAABg/bauepDl9CIAAGwIhH7ASlVUVKRXr95ZsGB+nc/VvHmLTJ48SbMNAAAbsYqKivTu1TPzFyxcZ3O2aN4skyZP0YsAAFDS6jX0u+KKK/L73/8+kydPTvPmzbPnnntWO4/qwIEDM2bMmCqP+8pXvpJf/OIXxfsVFRU544wz8thjj6Vly5Y58cQTc8UVV6RRo//u3ujRo3Puuefm5ZdfTpcuXXLRRRflpJNOqvN9hFJXWVmZBQvmp9/Jl6R1p+51Ns/c6dMy7ubLUllZqdEGAICNWGVlZeYvWJjfnN43vTu1rPP5Jk1/P8ddP1EvAgBAyavX0G/MmDEZNmxYdt999yxdujTf+MY3Mnjw4PzjH//IJptsUhx32mmn5fLLLy/eb9GiRfHvH3zwQQ455JB07NgxTz31VKZPn54TTjghjRs3zve+970kydSpU3PIIYfkq1/9am677baMGjUqp556ajp16pQhQ4asux2GEta6U/e067rhXdgUAABYP/Xu1DK7dG9T32UAAEDJqNfQ78EHH6xyf+TIkWnfvn3Gjx+fAQMGFJe3aNEiHTt2rHEbf/3rX/OPf/wjjzzySDp06JC+ffvm29/+di644IJceumladKkSX7xi1+kR48eueqqq5IkvXv3zpNPPpmrr766xtBv0aJFWbRoUfH+3Llz18buAgAAAAAAQJ1Yr67pN2fOnCRJu3btqiy/7bbb8pvf/CYdO3bMYYcdlm9961vFb/uNHTs2ffr0SYcOHYrjhwwZkjPOOCMvv/xydt5554wdOzb7779/lW0OGTIkZ599do11XHHFFbnsssvW4p4BAMCKVVRUpLKycp3NV15e7hR2AAAAGzF96IZpvQn9li1blrPPPjt77bVXdthhh+LyY489Nt26dUvnzp3zwgsv5IILLsiUKVPy+9//PkkyY8aMKoFfkuL9GTNmrHTM3Llzs2DBgjRv3rzKugsvvDDnnntu8f7cuXPTpUuXtbezAADw/1VUVKRXr95ZsGD+OpuzefMWmTx50io3XAMHDkzfvn1zzTXX1G1hAAAA1Dl96IZrvQn9hg0blpdeeilPPvlkleWnn3568e99+vRJp06dst9+++XVV1/NVlttVSe1NG3aNE2bNq2TbQMAwEdVVlZmwYL56XfyJWndqXudzzd3+rSMu/myVFZW+i1LAACAjZA+dMO1XoR+w4cPz/3335/HH388W2yxxUrH9uvXL0nyyiuvZKuttkrHjh3zzDPPVBkzc+bMJCleB7Bjx47FZR8d07p162rf8gMAgPrQulP3tOvas77LAAAAYCOhD93wNKjPyQuFQoYPH54//OEPefTRR9OjR49PfMzEiROTJJ06dUqS9O/fPy+++GJmzZpVHPPwww+ndevW2W677YpjRo0aVWU7Dz/8cPr377+W9gQAADYO7777bk444YRsuummadGiRQ466KD861//SvLhz/ebb7557rnnnuL4vn37Fn92T5Inn3wyTZs2zfz56+40MgAAAJQufeiqq9fQb9iwYfnNb36T22+/Pa1atcqMGTMyY8aMLFiwIEny6quv5tvf/nbGjx+fadOm5U9/+lNOOOGEDBgwIDvuuGOSZPDgwdluu+1y/PHH5/nnn89DDz2Uiy66KMOGDSueovOrX/1q/v3vf+f888/P5MmTc9111+Wuu+7KOeecU2/7DgAApeikk07Kc889lz/96U8ZO3ZsCoVCDj744CxZsiRlZWUZMGBARo8eneTDxmzSpElZsGBBJk+enCQZM2ZMdt9997Ro0aIe9wIAAIBSoQ9ddfUa+v385z/PnDlzMnDgwHTq1Kl4u/POO5MkTZo0ySOPPJLBgwenV69eOe+88zJ06NDcd999xW00bNgw999/fxo2bJj+/fvnuOOOywknnJDLL7+8OKZHjx554IEH8vDDD2ennXbKVVddlRtvvDFDhgxZ5/sMAACl6l//+lf+9Kc/5cYbb8zee++dnXbaKbfddlveeOON3HvvvUk+vNj68mbr8ccfz84771xl2ejRo7PPPvvUzw4AAABQUvShtVOv1/QrFAorXd+lS5eMGTPmE7fTrVu3/PnPf17pmIEDB+bvf/97reoDAAD+a9KkSWnUqFHxOttJstlmm6Vnz56ZNGlSkmSfffbJWWedlbfeeitjxozJwIED07Fjx4wePTqnnHJKnnrqqZx//vn1tQsAAACUEH1o7dTrN/0AAIANS58+fdKuXbuMGTOm2GwNHDgwY8aMybPPPpslS5Zkzz33rO8yAQAA2EDoQ/9L6AcAAKyS3r17Z+nSpRk3blxx2dtvv50pU6Zku+22S5KUlZVl7733zh//+Me8/PLL+cxnPpMdd9wxixYtyi9/+cvstttu2WSTTeprFwAAACgh+tDaqdfTewIAAB+aO33aej/PNttsk8MPPzynnXZafvnLX6ZVq1b5v//7v3zqU5/K4YcfXhw3cODAnHfeedltt93SsmXLJMmAAQNy22235etf//qa7gIAAABrgT50wyP0AwCAelReXp7mzVtk3M2XrbM5mzdvkfLy8tV67C233JKzzjorhx56aBYvXpwBAwbkz3/+cxo3blwcs88+++SDDz7IwIEDi8sGDhyYP/7xj1WWAQAAsO7pQzdcQj8AAKhHXbt2zeTJk1JZWbnO5iwvL0/Xrl1Xefzo0aOLf990001z6623rnR83759UygUqiw7++yzc/bZZ9emTAAAAOqAPnTDJfQDAIB61rVr11o1PwAAALAm9KEbpgb1XQAAAAAAAACwZoR+AAAAAAAAUOKEfgAAAAAAAFDihH4AAAAAAABQ4oR+AAAAAAAAUOKEfgAAAAAAAFDihH4AAAAAAABQ4hrVdwEAALCxq6ioSGVl5Tqbr7y8PF27dl1n8wEAALB+0YdumIR+AABQjyoqKtK7V8/MX7Bwnc3ZonmzTJo8Zb1ruAYOHJi+ffvmmmuuSZJ07949Z599ds4+++x6rQsAAGBDog/9rw2tDxX6AQBAPaqsrMz8BQvzm9P7pnenlnU+36Tp7+e46yemsrJyvWu2Pu7ZZ5/NJptsUt9lAAAAbFD0oStW6n2o0A8AANYDvTu1zC7d29R3GeuVzTffvL5LAAAA2GDpQ6sr9T60QX0XAAAArN8GDhyYM888M2effXY23XTTdOjQITfccEPmzZuXL3/5y2nVqlW23nrr/OUvfyk+5qWXXspBBx2Uli1bpkOHDjn++OOrXC9i3rx5OeGEE9KyZct06tQpV111VbV5u3fvXjzFyrRp01JWVpaJEycW18+ePTtlZWUZPXp0kmT06NEpKyvLQw89lJ133jnNmzfPoEGDMmvWrPzlL39J796907p16xx77LGZP39+nTxXAAAArDl96OoR+gEAAJ/oV7/6VcrLy/PMM8/kzDPPzBlnnJGjjjoqe+65ZyZMmJDBgwfn+OOPz/z58zN79uwMGjQoO++8c5577rk8+OCDmTlzZo4++uji9r7+9a9nzJgx+eMf/5i//vWvGT16dCZMmLBWar300kvzs5/9LE899VRef/31HH300bnmmmty++2354EHHshf//rX/PSnP10rcwEAAFA39KG15/SeAADAJ9ppp51y0UUXJUkuvPDCfP/73095eXlOO+20JMnFF1+cn//853nhhRfyyCOPZOedd873vve94uNvvvnmdOnSJf/85z/TuXPn3HTTTfnNb36T/fbbL8mHzdwWW2yxVmr9zne+k7322itJcsopp+TCCy/Mq6++mi233DJJ8vnPfz6PPfZYLrjggrUyHwAAAGufPrT2hH4AAMAn2nHHHYt/b9iwYTbbbLP06dOnuKxDhw5JklmzZuX555/PY489lpYtq18Q/tVXX82CBQuyePHi9OvXr7i8Xbt26dmz51qvtUOHDmnRokWx0Vq+7JlnnlkrcwEAAFA39KG1J/QDAAA+UePGjavcLysrq7KsrKwsSbJs2bK8//77Oeyww/KDH/yg2nY6deqUV155pdbzN2jw4ZUJCoVCcdmSJUs+sdaP17l82bJly2pdAwAAAOuOPrT2XNMPAABYq3bZZZe8/PLL6d69e7beeusqt0022SRbbbVVGjdunHHjxhUf8+677+af//znCre5+eabJ0mmT59eXPbRi6kDAACw8dKHfsg3/QAAYD0wafr7G8w8w4YNyw033JAvfvGLOf/889OuXbu88sorueOOO3LjjTemZcuWOeWUU/L1r389m222Wdq3b59vfvObxd+irEnz5s2zxx575Pvf/3569OiRWbNmFa/tAAAAQO3pQze8PlToBwAA9ai8vDwtmjfLcddPXGdztmjeLOXl5XW2/c6dO+dvf/tbLrjgggwePDiLFi1Kt27dcuCBBxYbqh/+8IfF06+0atUq5513XubMmbPS7d5888055ZRTsuuuu6Znz5658sorM3jw4DrbDwAAgA2RPnTD7UPLCh89GSk1mjt3btq0aZM5c+akdevW9V0OrFMTJkzIrrvumgO+eUvadV07FzWtyTsVU/Lwd7+c8ePHZ5dddqmzeQCgvixcuDBTp05Njx490qxZsyrrKioqUllZuc5qKS8vT9euXdfZfKVmZa+V3oB1ZWN+ry3vQcZf8pns0r1N3c83bU52vexJvQgAsMHRh5aOtdWH+qYfAADUs65du2p+AAAAWGf0oRumFZ+sFAAAAAAAACgJQj8AAAAAAAAocUI/AAAAAAAAKHFCPwAAAAAAAChxQj8AAAAAAAAocUI/AAAAAAAAKHFCPwAAAAAAAChxjeq7AAAA2NhVVFSksrJync1XXl6erl27rrP5AAAAWL/oQzdMQj8AAKhHFRUV6dW7VxbMX7DO5mzeonkmT5q8yg3XwIED07dv31xzzTU1ri8rK8sf/vCHHHHEEau0vdGjR2fffffNu+++m7Zt265a0QAAAKwV+tC2q1Z0CRL6AQBAPaqsrMyC+Qsy4PwBadOlTZ3PN+f1OXn8ysdTWVm51n7Lcvr06dl0003XyrYAAACoW/rQDZfQDwAA1gNturRJ+Tbl9V3GaunYsWN9lwAAAEAt6UM3PA3quwAAAGD9t2zZspx//vlp165dOnbsmEsvvbS4rqysLPfee2/x/lNPPZW+ffumWbNm2W233XLvvfemrKwsEydOrLLN8ePHZ7fddkuLFi2y5557ZsqUKetmZwAAAFjv6UNrT+gHAAB8ol/96lfZZJNNMm7cuFx55ZW5/PLL8/DDD1cbN3fu3Bx22GHp06dPJkyYkG9/+9u54IILatzmN7/5zVx11VV57rnn0qhRo5x88sl1vRsAAACUCH1o7Tm9JwAA8Il23HHHXHLJJUmSbbbZJj/72c8yatSoHHDAAVXG3X777SkrK8sNN9yQZs2aZbvttssbb7yR0047rdo2v/vd72afffZJkvzf//1fDjnkkCxcuDDNmjWr+x0CAABgvaYPrT3f9AMAAD7RjjvuWOV+p06dMmvWrGrjpkyZkh133LFKw/TpT3/6E7fZqVOnJKlxmwAAAGx89KG1J/QDAAA+UePGjavcLysry7Jly9baNsvKypJkjbcJAADAhkEfWntCPwAAYK3p2bNnXnzxxSxatKi47Nlnn63HigAAANiQ6UP/yzX9AABgPTDn9TkbxDzHHntsvvnNb+b000/P//3f/6WioiI/+tGPkvz3tygBAACof/rQDY/QDwAA6lF5eXmat2iex698fJ3N2bxF85SXl9fJtlu3bp377rsvZ5xxRvr27Zs+ffrk4osvzrHHHrvBXBgdAACglOlDN1xCPwAAqEddu3bN5EmTU1lZuc7mLC8vT9euXVd5/OjRo6stu/fee4t/LxQKVdbtueeeef7554v3b7vttjRu3Lg458CBA6s9pm/fvtWWAQAAsPbpQz+0IfahQj8AAKhnXbt2rVXzs7679dZbs+WWW+ZTn/pUnn/++VxwwQU5+uij07x58/ouDQAAgOhDN1RCPwAAYK2aMWNGLr744syYMSOdOnXKUUcdle9+97v1XRYAAAAbKH3oh4R+wHpl0qRJdT5Hbb9KDgDUzvnnn5/zzz+/vssAAABgI6EP/ZDQD1gvLFm0OEly3HHH1flcLZo3y6TJUwR/AAAAAABsMIR+wHph6dKlSZJvH7ltDu7Tvs7mmTT9/Rx3/cRUVlYK/QCoFxvaRcI3RF4jAABgQ6LHWf+trddI6AesV3qUt8gu3dvUdxkAsNY1btw4STJ//vyN7kLipWbx4g/PQNCwYcN6rgQAAGD16UNLx9rqQ4V+AACwDjRs2DBt27bNrFmzkiQtWrRIWVlZPVfFxy1btixvvfVWWrRokUaNtEsAAEDp0oeWhrXZh+piAQBgHenYsWOSFBsu1k8NGjRI165dNcMAAEDJ04eWhrXVhwr9AABgHSkrK0unTp3Svn37LFmypL7LYQWaNGmSBg0a1HcZAAAAa0wfWhrWVh8q9AMAgHWsYcOGrhcHJezSSy/NZZddVmVZz549M3ny5CTJwoULc9555+WOO+7IokWLMmTIkFx33XXp0KFDfZQLAAD60I2EX18FAACAWtp+++0zffr04u3JJ58srjvnnHNy33335e67786YMWPy5ptv5sgjj6zHagEAgI2Bb/oBAABALTVq1Kh4fZSPmjNnTm666abcfvvtGTRoUJLklltuSe/evfP0009njz32WNelAgAAGwnf9AMAAIBa+te//pXOnTtnyy23zJe+9KVUVFQkScaPH58lS5Zk//33L47t1atXunbtmrFjx65we4sWLcrcuXOr3AAAAGpD6AcAAAC10K9fv4wcOTIPPvhgfv7zn2fq1KnZe++9895772XGjBlp0qRJ2rZtW+UxHTp0yIwZM1a4zSuuuCJt2rQp3rp06VLHewEAAGxonN4TAAAAauGggw4q/n3HHXdMv3790q1bt9x1111p3rz5am3zwgsvzLnnnlu8P3fuXMEfAABQK77pBwAAAGugbdu22XbbbfPKK6+kY8eOWbx4cWbPnl1lzMyZM2u8BuByTZs2TevWravcAAAAakPoBwAAAGvg/fffz6uvvppOnTpl1113TePGjTNq1Kji+ilTpqSioiL9+/evxyoBAIANndN7AgAAQC387//+bw477LB069Ytb775Zi655JI0bNgwX/ziF9OmTZuccsopOffcc9OuXbu0bt06Z555Zvr375899tijvksHAAA2YEI/AAAAqIX//Oc/+eIXv5i33347m2++eT7zmc/k6aefzuabb54kufrqq9OgQYMMHTo0ixYtypAhQ3LdddfVc9UAAMCGTugHAAAAtXDHHXesdH2zZs0yYsSIjBgxYh1VBAAA4Jp+AAAAAAAAUPKEfgAAAAAAAFDihH4AAAAAAABQ4oR+AAAAAAAAUOKEfgAAAAAAAFDihH4AAAAAAABQ4oR+AAAAAAAAUOKEfgAAAAAAAFDihH4AAAAAAABQ4oR+AAAAAAAAUOKEfgAAAAAAAFDihH4AAAAAAABQ4oR+AAAAAAAAUOKEfgAAAAAAAFDihH4AAAAAAABQ4oR+AAAAAAAAUOKEfgAAAAAAAFDihH4AAAAAAABQ4oR+AAAAAAAAUOKEfgAAAAAAAFDihH4AAAAAAABQ4oR+AAAAAAAAUOKEfgAAAAAAAFDiGtV3AQAAAAAAAJSeioqKVFZWrrP5ysvL07Vr13U2X6kR+gEAAAAAAFArFRUV6d2rZ+YvWLjO5mzRvFkmTZ4i+FsBoR8AAAAAAAC1UllZmfkLFuY3p/dN704t63y+SdPfz3HXT0xlZaXQbwWEfgAAAAAAAKyW3p1aZpfubeq7DJI0qO8CAAAAAAAAgDUj9AMAAAAAAIASJ/QDAAAAAACAEif0AwAAAAAAgBIn9AMAAAAAAIASJ/QDAAAAAACAEif0AwAAAAAAgBIn9AMAAAAAAIASJ/QDAAAAAACAEif0AwAAAAAAgBIn9AMAAAAAAIASV6+h3xVXXJHdd989rVq1Svv27XPEEUdkypQpVcYsXLgww4YNy2abbZaWLVtm6NChmTlzZpUxFRUVOeSQQ9KiRYu0b98+X//617N06dIqY0aPHp1ddtklTZs2zdZbb52RI0fW9e4BAAAAAADAOlGvod+YMWMybNiwPP3003n44YezZMmSDB48OPPmzSuOOeecc3Lffffl7rvvzpgxY/Lmm2/myCOPLK7/4IMPcsghh2Tx4sV56qmn8qtf/SojR47MxRdfXBwzderUHHLIIdl3330zceLEnH322Tn11FPz0EMPrdP9BQAAAAAAgLrQqD4nf/DBB6vcHzlyZNq3b5/x48dnwIABmTNnTm666abcfvvtGTRoUJLklltuSe/evfP0009njz32yF//+tf84x//yCOPPJIOHTqkb9+++fa3v50LLrggl156aZo0aZJf/OIX6dGjR6666qokSe/evfPkk0/m6quvzpAhQ9b5fgMAAAAAAMDatF5d02/OnDlJknbt2iVJxo8fnyVLlmT//fcvjunVq1e6du2asWPHJknGjh2bPn36pEOHDsUxQ4YMydy5c/Pyyy8Xx3x0G8vHLN/Gxy1atChz586tcgMAAAAAAID11XoT+i1btixnn3129tprr+ywww5JkhkzZqRJkyZp27ZtlbEdOnTIjBkzimM+GvgtX7983crGzJ07NwsWLKhWyxVXXJE2bdoUb126dFkr+wgAAAAAAAB1Yb0J/YYNG5aXXnopd9xxR32XkgsvvDBz5swp3l5//fX6LgkAAAAAAABWqF6v6bfc8OHDc//99+fxxx/PFltsUVzesWPHLF68OLNnz67ybb+ZM2emY8eOxTHPPPNMle3NnDmzuG75n8uXfXRM69at07x582r1NG3aNE2bNl0r+wYAAAAAAAB1rV6/6VcoFDJ8+PD84Q9/yKOPPpoePXpUWb/rrrumcePGGTVqVHHZlClTUlFRkf79+ydJ+vfvnxdffDGzZs0qjnn44YfTunXrbLfddsUxH93G8jHLtwEAAAAAAAClrF6/6Tds2LDcfvvt+eMf/5hWrVoVr8HXpk2bNG/ePG3atMkpp5ySc889N+3atUvr1q1z5plnpn///tljjz2SJIMHD852222X448/PldeeWVmzJiRiy66KMOGDSt+W++rX/1qfvazn+X888/PySefnEcffTR33XVXHnjggXrbdwAAAAAAAFhb6vWbfj//+c8zZ86cDBw4MJ06dSre7rzzzuKYq6++OoceemiGDh2aAQMGpGPHjvn9739fXN+wYcPcf//9adiwYfr375/jjjsuJ5xwQi6//PLimB49euSBBx7Iww8/nJ122ilXXXVVbrzxxgwZMmSd7i8AAAAAAADUhXr9pl+hUPjEMc2aNcuIESMyYsSIFY7p1q1b/vznP690OwMHDszf//73WtcIAAAAAAAA67t6/aYfAAAAAAAAsOaEfgAAAAAAAFDihH4AAAAAAABQ4oR+AAAAAAAAUOKEfgAAAAAAAFDihH4AAAAAAABQ4oR+AAAAAAAAUOKEfgAAAAAAAFDihH4AAAAAAABQ4oR+AAAAAAAAUOKEfgAAAAAAAFDihH4AAAAAAABQ4oR+AAAAAAAAUOKEfgAAAAAAAFDihH4AAAAAAABQ4oR+AAAAAAAAUOKEfgAAAAAAAFDihH4AAAAAAABQ4oR+AAAAAAAAUOKEfgAAAAAAAFDihH4AAAAAAABQ4oR+AAAAAAAAUOKEfgAAAAAAAFDihH4AAAAAAABQ4oR+AAAAAAAAUOIa1XcBAAAAAMCaq6ioSGVl5Tqbr7y8PF27dl1n8wEAKyf0AwAAAIASV1FRkd69emb+goXrbM4WzZtl0uQpgj8AWE8I/QAAAACgxFVWVmb+goX5zel907tTyzqfb9L093Pc9RNTWVkp9AOA9YTQDwAAAAA2EL07tcwu3dvUdxkAQD1oUN8FAAAAAAAAAGtG6AcAAAAAAAAlTugHAAAAAAAAJU7oBwAAAAAAACVO6AcAAAAAAAAlTugHAAAAAAAAJU7oBwAAAAAAACVO6AcAAAAAAAAlTugHAAAAAAAAJU7oBwAAAAAAACVO6AcAAAAAAAAlTugHAAAAAAAAJU7oBwAAAAAAACVO6AcAAAAAAAAlTugHAAAAa+D73/9+ysrKcvbZZxeXLVy4MMOGDctmm22Wli1bZujQoZk5c2b9FQkAAGzwhH4AAACwmp599tn88pe/zI477lhl+TnnnJP77rsvd999d8aMGZM333wzRx55ZD1VCQAAbAyEfgAAALAa3n///XzpS1/KDTfckE033bS4fM6cObnpppvy4x//OIMGDcquu+6aW265JU899VSefvrpeqwYAADYkAn9AAAAYDUMGzYshxxySPbff/8qy8ePH58lS5ZUWd6rV6907do1Y8eOrXFbixYtyty5c6vcAAAAaqNRfRcAAAAApeaOO+7IhAkT8uyzz1ZbN2PGjDRp0iRt27atsrxDhw6ZMWNGjdu74oorctlll9VFqQAAwEbCN/0AAACgFl5//fWcddZZue2229KsWbO1ss0LL7wwc+bMKd5ef/31tbJdAABg4yH0AwAAgFoYP358Zs2alV122SWNGjVKo0aNMmbMmPzkJz9Jo0aN0qFDhyxevDizZ8+u8riZM2emY8eONW6zadOmad26dZUbAABAbTi9JwAAANTCfvvtlxdffLHKsi9/+cvp1atXLrjggnTp0iWNGzfOqFGjMnTo0CTJlClTUlFRkf79+9dHyQAAwEZA6AcAAAC10KpVq+ywww5Vlm2yySbZbLPNistPOeWUnHvuuWnXrl1at26dM888M/37988ee+xRHyUDAAAbAaEfAAAArGVXX311GjRokKFDh2bRokUZMmRIrrvuuvouCwAA2IAJ/QAAAGANjR49usr9Zs2aZcSIERkxYkT9FAQAAGx0GtR3AQAAAAAAAMCaEfoBAAAAAABAiRP6AQAAAAAAQIkT+gEAAAAAAECJE/oBAAAAAABAiRP6AQAAAAAAQIkT+gEAAAAAAECJE/oBAAAAAABAiRP6AQAAAAAAQIkT+gEAAAAAAECJE/oBAAAAAABAiRP6AQAAAAAAQIkT+gEAAAAAAECJE/oBAAAAAABAiRP6AQAAAAAAQIkT+gEAAAAAAECJE/oBAAAAAABAiRP6AQAAAAAAQIkT+gEAAAAAAECJE/oBAAAAAABAiRP6AQAAAAAAQIkT+gEAAAAAAECJE/oBAAAAAABAiRP6AQAAAAAAQIkT+gEAAAAAAECJE/oBAAAAAABAiRP6AQAAAAAAQIkT+gEAAAAAAECJE/oBAAAAAABAiRP6AQAAAAAAQIkT+gEAAAAAAECJE/oBAAAAAABAiRP6AQAAAAAAQIkT+gEAAAAAAECJE/oBAAAAAABAiRP6AQAAAAAAQIkT+gEAAAAAAECJE/oBAAAAAABAiRP6AQAAAAAAQIkT+gEAAAAAAECJE/oBAAAAAABAiRP6AQAAAAAAQIkT+gEAAAAAAECJE/oBAAAAAABAiRP6AQAAAAAAQIkT+gEAAAAAAECJE/oBAAAAAABAiRP6AQAAAAAAQIkT+gEAAAAAAECJE/oBAAAAAABAiRP6AQAAAAAAQImr19Dv8ccfz2GHHZbOnTunrKws9957b5X1J510UsrKyqrcDjzwwCpj3nnnnXzpS19K69at07Zt25xyyil5//33q4x54YUXsvfee6dZs2bp0qVLrrzyyrreNQAAAAAAAFhn6jX0mzdvXnbaaaeMGDFihWMOPPDATJ8+vXj77W9/W2X9l770pbz88st5+OGHc//99+fxxx/P6aefXlw/d+7cDB48ON26dcv48ePzwx/+MJdeemmuv/76OtsvAAAAAAAAWJca1efkBx10UA466KCVjmnatGk6duxY47pJkyblwQcfzLPPPpvddtstSfLTn/40Bx98cH70ox+lc+fOue2227J48eLcfPPNadKkSbbffvtMnDgxP/7xj6uEgwAAAAAAAFCq1vtr+o0ePTrt27dPz549c8YZZ+Ttt98urhs7dmzatm1bDPySZP/990+DBg0ybty44pgBAwakSZMmxTFDhgzJlClT8u6779Y456JFizJ37twqNwAAAAAAAFhfrdeh34EHHphbb701o0aNyg9+8IOMGTMmBx10UD744IMkyYwZM9K+ffsqj2nUqFHatWuXGTNmFMd06NChypjl95eP+bgrrrgibdq0Kd66dOmytncNAAAAAAAA1pp6Pb3nJznmmGOKf+/Tp0923HHHbLXVVhk9enT222+/Opv3wgsvzLnnnlu8P3fuXMEfAAAAAAAA6631+pt+H7flllumvLw8r7zySpKkY8eOmTVrVpUxS5cuzTvvvFO8DmDHjh0zc+bMKmOW31/RtQKbNm2a1q1bV7kBAAAAAADA+qqkQr///Oc/efvtt9OpU6ckSf/+/TN79uyMHz++OObRRx/NsmXL0q9fv+KYxx9/PEuWLCmOefjhh9OzZ89suumm63YHAAAAAAAAoA7Ua+j3/vvvZ+LEiZk4cWKSZOrUqZk4cWIqKiry/vvv5+tf/3qefvrpTJs2LaNGjcrhhx+erbfeOkOGDEmS9O7dOwceeGBOO+20PPPMM/nb3/6W4cOH55hjjknnzp2TJMcee2yaNGmSU045JS+//HLuvPPOXHvttVVO3wkAAAAAAAClrF5Dv+eeey4777xzdt555yTJueeem5133jkXX3xxGjZsmBdeeCGf/exns+222+aUU07JrrvumieeeCJNmzYtbuO2225Lr169st9+++Xggw/OZz7zmVx//fXF9W3atMlf//rXTJ06NbvuumvOO++8XHzxxTn99NPX+f4CAAAAAABAXWhUn5MPHDgwhUJhhesfeuihT9xGu3btcvvtt690zI477pgnnnii1vUBAAAAAABAKSipa/oBAAAAAAAA1Qn9AAAAAAAAoMQJ/QAAAAAAAKDECf0AAAAAAACgxAn9AAAAAAAAoMQJ/QAAAAAAAKDECf0AAAAAAACgxAn9AAAAAAAAoMQJ/QAAAAAAAKDECf0AAAAAAACgxAn9AAAAAAAAoMQJ/QAAAAAAAKDENarvAgAAAAAAAGBVTJo0aZ3MU15enq5du66TudYWoR8AAAAAAADrtUWLFyVJjjvuuHUyX/MWzTN50uSSCv6EfgAAAAAAAKzXli5dmiTZ+YSds8XuW9TpXHNen5PHr3w8lZWVQj8AAAAAAABY21p2bJnybcrru4z1UoP6LgAAAAAAAABYM6sV+m255ZZ5++23qy2fPXt2ttxyyzUuCgAAANY2vSwAALAhW63Qb9q0afnggw+qLV+0aFHeeOONNS4KAAAA1ja9LAAAsCGr1TX9/vSnPxX//tBDD6VNmzbF+x988EFGjRqV7t27r7XiAAAAYE3pZQEAgI1BrUK/I444IklSVlaWE088scq6xo0bp3v37rnqqqvWWnEAAACwpvSyAADAxqBWod+yZcuSJD169Mizzz6b8vLyOikKAAAA1ha9LAAAsDGoVei33NSpU9d2HdRSRUVFKisr63ye8vLydO3atc7nAQAAqGt6WQAAYEO2WqFfkowaNSqjRo3KrFmzir81udzNN9+8xoWxYhUVFenVq3cWLJhf53M1b94ikydPEvwBAAAbBL0sAACwoVqt0O+yyy7L5Zdfnt122y2dOnVKWVnZ2q6LlaisrMyCBfPT7+RL0rpT9zqbZ+70aRl382WprKwU+gEAACVPLwsAAGzIViv0+8UvfpGRI0fm+OOPX9v1UAutO3VPu64967sMAACAkqCXBQAANmQNVudBixcvzp577rm2awEAAIA6o5cFAAA2ZKsV+p166qm5/fbb13YtAAAAUGf0sgAAwIZstU7vuXDhwlx//fV55JFHsuOOO6Zx48ZV1v/4xz9eK8UBAADA2qKXBQAANmSrFfq98MIL6du3b5LkpZdeqrLOhdABAABYH+llAQCADdlqhX6PPfbY2q4DAAAA6tTa6mV//vOf5+c//3mmTZuWJNl+++1z8cUX56CDDkry4TcKzzvvvNxxxx1ZtGhRhgwZkuuuuy4dOnRYK/MDAADUZLWu6QcAAAAbqy222CLf//73M378+Dz33HMZNGhQDj/88Lz88stJknPOOSf33Xdf7r777owZMyZvvvlmjjzyyHquGgAA2NCt1jf99t1335We+uTRRx9d7YIAAACgLqytXvawww6rcv+73/1ufv7zn+fpp5/OFltskZtuuim33357Bg0alCS55ZZb0rt37zz99NPZY489Vn8HAAAAVmK1Qr/l10BYbsmSJZk4cWJeeumlnHjiiWujLgAAAFir6qKX/eCDD3L33Xdn3rx56d+/f8aPH58lS5Zk//33L47p1atXunbtmrFjx64w9Fu0aFEWLVpUvD937tzVqgdY/1RUVKSysrLO55k0aVKdzwEArN9WK/S7+uqra1x+6aWX5v3331+jggAAAKAurM1e9sUXX0z//v2zcOHCtGzZMn/4wx+y3XbbZeLEiWnSpEnatm1bZXyHDh0yY8aMFW7viiuuyGWXXVarGoD1X0VFRXr16p0FC+avoxnLMn3OwiRt1tF8AMD6ZLVCvxU57rjj8ulPfzo/+tGP1uZmAQAAoM6sTi/bs2fPTJw4MXPmzMk999yTE088MWPGjFntGi688MKce+65xftz585Nly5dVnt7wPqhsrIyCxbMT7+TL0nrTt3rdK63pk7OxNt/kNnzl9bpPADA+muthn5jx45Ns2bN1uYmAQAAoE6tTi/bpEmTbL311kmSXXfdNc8++2yuvfbafOELX8jixYsze/bsKt/2mzlzZjp27LjC7TVt2jRNmzZdrfqB9V/rTt3TrmvPOp1jwbx19W1CAGB9tVqh35FHHlnlfqFQyPTp0/Pcc8/lW9/61lopDAAAANamuuxlly1blkWLFmXXXXdN48aNM2rUqAwdOjRJMmXKlFRUVKR///5rNAcAAMDKrFbo16ZN1fOCN2jQID179szll1+ewYMHr5XCAAAAYG1aW73shRdemIMOOihdu3bNe++9l9tvvz2jR4/OQw89lDZt2uSUU07Jueeem3bt2qV169Y588wz079//+yxxx5re5cAAACKViv0u+WWW9Z2HQAAAFCn1lYvO2vWrJxwwgmZPn162rRpkx133DEPPfRQDjjggCTJ1VdfnQYNGmTo0KFZtGhRhgwZkuuuu26tzA0AALAia3RNv/Hjx2fSpElJku233z4777zzWikKAAAA6sqa9rI33XTTStc3a9YsI0aMyIgRI1a7RgAAgNpardBv1qxZOeaYYzJ69Ojihclnz56dfffdN3fccUc233zztVkjAAAArDG9LAAAsCFrsDoPOvPMM/Pee+/l5ZdfzjvvvJN33nknL730UubOnZuvfe1ra7tGAAAAWGN6WQAAYEO2Wt/0e/DBB/PII4+kd+/exWXbbbddRowYUauLnwMAAMC6opcFAAA2ZKsV+i1btiyNGzeutrxx48ZZtmzZGhfF+mX5tS7qUnl5ebp27Vrn8wAAABsvvSwAALAhW63Qb9CgQTnrrLPy29/+Np07d06SvPHGGznnnHOy3377rdUCqT9LFi1Okhx33HF1PleL5s0yafIUwR8AAFBn9LIAAMCGbLVCv5/97Gf57Gc/m+7du6dLly5Jktdffz077LBDfvOb36zVAqk/S5cuTZJ8+8htc3Cf9nU2z6Tp7+e46yemsrJS6AcAANQZvSwAALAhW63Qr0uXLpkwYUIeeeSRTJ48OUnSu3fv7L///mu1ONYPPcpbZJfubeq7DAAAgDWilwUAADZkDWoz+NFHH812222XuXPnpqysLAcccEDOPPPMnHnmmdl9992z/fbb54knnqirWgEAAKDW9LIAAMDGoFah3zXXXJPTTjstrVu3rrauTZs2+cpXvpIf//jHa604AAAAWFN6WQAAYGNQq9Dv+eefz4EHHrjC9YMHD8748ePXuCgAAABYW/SyAADAxqBWod/MmTPTuHHjFa5v1KhR3nrrrTUuCgAAANYWvSwAALAxqFXo96lPfSovvfTSCte/8MIL6dSp0xoXBQAAAGuLXhYAANgY1Cr0O/jgg/Otb30rCxcurLZuwYIFueSSS3LooYeuteIAAABgTellAQCAjUGj2gy+6KKL8vvf/z7bbrtthg8fnp49eyZJJk+enBEjRuSDDz7IN7/5zTopFAAAAFaHXhYAgI1FRUVFKisr18lckyZNWifzsOpqFfp16NAhTz31VM4444xceOGFKRQKSZKysrIMGTIkI0aMSIcOHeqkUAAAAFgdelkAADYGFRUV6dWrdxYsmL8OZy3L9DkLk7RZh3OyIrUK/ZKkW7du+fOf/5x33303r7zySgqFQrbZZptsuummdVEfAAAArDG9LAAAG7rKysosWDA//U6+JK07da/z+d6aOjkTb/9BZs9fWudzsWpqHfott+mmm2b33Xdfm7UAAABAndLLAgCwoWvdqXvade1Z5/MsmLcuv1HIqmhQ3wUAAAAAAAAAa0boBwAAAAAAACVO6AcAAAAAAAAlTugHAAAAAAAAJU7oBwAAAAAAACVO6AcAAAAAAAAlTugHAAAAAAAAJU7oBwAAAAAAACVO6AcAAAAAAAAlTugHAAAAAAAAJU7oBwAAAAAAACVO6AcAAAAAAAAlTugHAAAAAAAAJU7oBwAAAAAAACVO6AcAAAAAAAAlTugHAAAAAAAAJU7oBwAAAAAAACVO6AcAAAAAAAAlTugHAAAAAAAAJU7oBwAAAAAAACVO6AcAAAAAAAAlTugHAAAAAAAAJU7oBwAAAAAAACVO6AcAAAAAAAAlTugHAAAAAAAAJU7oBwAAAAAAACVO6AcAAAAAAAAlTugHAAAAAAAAJU7oBwAAAAAAACVO6AcAAAAAAAAlTugHAAAAAAAAJU7oBwAAAAAAACVO6AcAAAAAAAAlTugHAAAAAAAAJU7oBwAAAAAAACVO6AcAAAAAAAAlTugHAAAAAAAAJU7oBwAAAAAAACVO6AcAAAAAAAAlTugHAAAAAAAAJU7oBwAAAAAAACVO6AcAAAAAAAAlTugHAAAAAAAAJU7oBwAAAAAAACVO6AcAAAAAAAAlTugHAAAAAAAAJU7oBwAAAAAAACVO6AcAAAAAAAAlrl5Dv8cffzyHHXZYOnfunLKystx7771V1hcKhVx88cXp1KlTmjdvnv333z//+te/qox555138qUvfSmtW7dO27Ztc8opp+T999+vMuaFF17I3nvvnWbNmqVLly658sor63rXAAAAAAAAYJ2p19Bv3rx52WmnnTJixIga11955ZX5yU9+kl/84hcZN25cNtlkkwwZMiQLFy4sjvnSl76Ul19+OQ8//HDuv//+PP744zn99NOL6+fOnZvBgwenW7duGT9+fH74wx/m0ksvzfXXX1/n+wcAAAAAAADrQqP6nPyggw7KQQcdVOO6QqGQa665JhdddFEOP/zwJMmtt96aDh065N57780xxxyTSZMm5cEHH8yzzz6b3XbbLUny05/+NAcffHB+9KMfpXPnzrntttuyePHi3HzzzWnSpEm23377TJw4MT/+8Y+rhIMAAAAAAABQqtbba/pNnTo1M2bMyP77719c1qZNm/Tr1y9jx45NkowdOzZt27YtBn5Jsv/++6dBgwYZN25cccyAAQPSpEmT4pghQ4ZkypQpeffdd2uce9GiRZk7d26VGwAAAAAAAKyv1tvQb8aMGUmSDh06VFneoUOH4roZM2akffv2VdY3atQo7dq1qzKmpm18dI6Pu+KKK9KmTZvirUuXLmu+QwAAAAAAAFBH1tvQrz5deOGFmTNnTvH2+uuv13dJAAAAAAAAsEL1ek2/lenYsWOSZObMmenUqVNx+cyZM9O3b9/imFmzZlV53NKlS/POO+8UH9+xY8fMnDmzypjl95eP+bimTZumadOma2U/AKi9ioqKVFZW1vk85eXl6dq1a53PAwAAAABQ19bb0K9Hjx7p2LFjRo0aVQz55s6dm3HjxuWMM85IkvTv3z+zZ8/O+PHjs+uuuyZJHn300Sxbtiz9+vUrjvnmN7+ZJUuWpHHjxkmShx9+OD179symm2667ncMgJWqqKhIr169s2DB/Dqfq3nzFpk8eZLgDwAAAAAoefUa+r3//vt55ZVXivenTp2aiRMnpl27dunatWvOPvvsfOc738k222yTHj165Fvf+lY6d+6cI444IknSu3fvHHjggTnttNPyi1/8IkuWLMnw4cNzzDHHpHPnzkmSY489NpdddllOOeWUXHDBBXnppZdy7bXX5uqrr66PXQbgE1RWVmbBgvnpd/Ilad2pe53NM3f6tIy7+bJUVlYK/QAAAACAklevod9zzz2Xfffdt3j/3HPPTZKceOKJGTlyZM4///zMmzcvp59+embPnp3PfOYzefDBB9OsWbPiY2677bYMHz48++23Xxo0aJChQ4fmJz/5SXF9mzZt8te//jXDhg3LrrvumvLy8lx88cU5/fTT192OAlBrrTt1T7uuPeu7DAAAAACAklCvod/AgQNTKBRWuL6srCyXX355Lr/88hWOadeuXW6//faVzrPjjjvmiSeeWO06AQAAAAAAYH3WoL4LAAAAAAAAANaM0A8AAAAAAABKnNAPAAAAAAAASpzQDwAAAAAAAEqc0A8AAAAAAABKnNAPAAAAAAAASpzQDwAAAAAAAEqc0A8AAAAAAABKnNAPAAAAAAAASpzQDwAAAAAAAEqc0A8AAAAAAABKnNAPAAAAAAAASpzQDwAAAAAAAEqc0A8AAAAAAABKnNAPAAAAAAAASpzQDwAAAAAAAEqc0A8AAABq4Yorrsjuu++eVq1apX379jniiCMyZcqUKmMWLlyYYcOGZbPNNkvLli0zdOjQzJw5s54qBgAANgZCPwAAAKiFMWPGZNiwYXn66afz8MMPZ8mSJRk8eHDmzZtXHHPOOefkvvvuy913350xY8bkzTffzJFHHlmPVQMAABu6RvVdAAAAAJSSBx98sMr9kSNHpn379hk/fnwGDBiQOXPm5Kabbsrtt9+eQYMGJUluueWW9O7dO08//XT22GOP+igbAADYwPmmHwAAAKyBOXPmJEnatWuXJBk/fnyWLFmS/fffvzimV69e6dq1a8aOHVvjNhYtWpS5c+dWuQEAANSG0A8AAABW07Jly3L22Wdnr732yg477JAkmTFjRpo0aZK2bdtWGduhQ4fMmDGjxu1cccUVadOmTfHWpUuXui4dAADYwAj9AAAAYDUNGzYsL730Uu6444412s6FF16YOXPmFG+vv/76WqoQAADYWLimHwAbtUmTJtX5HOXl5enatWudzwMArFvDhw/P/fffn8cffzxbbLFFcXnHjh2zePHizJ49u8q3/WbOnJmOHTvWuK2mTZumadOmdV0yAACwARP6AbBRWrJocZLkuOOOq/O5WjRvlkmTpwj+AGADUSgUcuaZZ+YPf/hDRo8enR49elRZv+uuu6Zx48YZNWpUhg4dmiSZMmVKKioq0r9///ooGQAA2AgI/QDYKC1dujRJ8u0jt83BfdrX2TyTpr+f466fmMrKSqEfAGwghg0blttvvz1//OMf06pVq+J1+tq0aZPmzZunTZs2OeWUU3LuueemXbt2ad26dc4888z0798/e+yxRz1XDwAAbKiEfgBs1HqUt8gu3dvUdxkAQAn5+c9/niQZOHBgleW33HJLTjrppCTJ1VdfnQYNGmTo0KFZtGhRhgwZkuuuu24dVwoAAGxMhH4AAABQC4VC4RPHNGvWLCNGjMiIESPWQUUAAABJg/ouAAAAAAAAAFgzQj8AAAAAAAAocU7vCQAAAGz0Jk2atM7mKi8vT9euXdfZfAAAbByEfgAAAMBGa9HiRUmS4447bp3N2bxF80yeNFnwBwDAWiX0AwAAADZaS5cuTZLsfMLO2WL3Lep8vjmvz8njVz6eyspKoR8AAGuV0A8AAADY6LXs2DLl25TXdxkAALDaGtR3AQAAAAAAAMCaEfoBAAAAAABAiRP6AQAAAAAAQIkT+gEAAAAAAECJE/oBAAAAAABAiRP6AQAAAAAAQIlrVN8FAAAAAOu/ioqKVFZW1vk8kyZNqvM5AABgQyT0AwAAAFaqoqIivXr1zoIF89fRjGWZPmdhkjbraD4AACh9Qj8AAABgpSorK7Ngwfz0O/mStO7UvU7nemvq5Ey8/QeZPX9pnc4DAAAbGqEfAAAAsEpad+qedl171ukcC+atq28TAgDAhqVBfRcAAAAAAAAArBmhHwAAAAAAAJQ4oR8AAAAAAACUOKEfAAAAAAAAlDihHwAAAAAAAJQ4oR8AAAAAAACUOKEfAAAAAAAAlDihHwAAAAAAAJQ4oR8AAAAAAACUOKEfAAAAAAAAlDihHwAAAAAAAJQ4oR8AAAAAAACUOKEfAAAAAAAAlDihHwAAAAAAAJQ4oR8AAAAAAACUOKEfAAAAAAAAlDihHwAAAAAAAJQ4oR8AAAAAAACUOKEfAAAAAAAAlDihHwAAAAAAAJQ4oR8AAAAAAACUOKEfAAAAAAAAlDihHwAAAAAAAJQ4oR8AAAAAAACUOKEfAAAAAAAAlDihHwAAAAAAAJQ4oR8AAAAAAACUOKEfAAAAAAAAlDihHwAAAAAAAJQ4oR8AAAAAAACUOKEfAAAAAAAAlDihHwAAAAAAAJQ4oR8AAAAAAACUOKEfAAAAAAAAlDihHwAAAAAAAJQ4oR8AAAAAAACUOKEfAAAAAAAAlDihHwAAAAAAAJQ4oR8AAAAAAACUOKEfAAAAAAAAlDihHwAAAAAAAJQ4oR8AAAAAAACUOKEfAAAAAAAAlDihHwAAAAAAAJQ4oR8AAAAAAACUOKEfAAAAAAAAlDihHwAAAAAAAJQ4oR8AAAAAAACUOKEfAAAAAAAAlDihHwAAAAAAAJQ4oR8AAAAAAACUOKEfAAAAAAAAlDihHwAAAAAAAJQ4oR8AAAAAAACUuEb1XQAAQH2qqKhIZWVlnc9TXl6erl271vk8AAAAAGychH4AwEaroqIivXr1zoIF8+t8rubNW2Ty5EmCPwAAAADqhNAPANhoVVZWZsGC+el38iVp3al7nc0zd/q0jLv5slRWVgr9AAAAAKgTQj8AYKPXulP3tOvas77LAAAAAIDV1qC+CwAAAAAAAADWjNAPAAAAAAAASpzQDwAAAAAAAEqc0A8AAAAAAABK3Hod+l166aUpKyurcuvVq1dx/cKFCzNs2LBsttlmadmyZYYOHZqZM2dW2UZFRUUOOeSQtGjRIu3bt8/Xv/71LF26dF3vCgAAAAAAANSZRvVdwCfZfvvt88gjjxTvN2r035LPOeecPPDAA7n77rvTpk2bDB8+PEceeWT+9re/JUk++OCDHHLIIenYsWOeeuqpTJ8+PSeccEIaN26c733ve+t8XwAAgP/X3r0HSVXe+eN/DyAwysUgOgMiMEZEdEVuBgfNRg2R5etaskklkRIlmsteyAWJMZJSMXhBySbRRKOJN6JZ17jZ0mxpxCBGXA2iYsjPy2jURUHDgJOVQVAHYeb3R8qpnQBRkO6ennm9qrqKPpd+PofnPN195t3nHAAAAKAQ2n3o161bt1RXV28zvbGxMTfccENuvfXWHH/88UmSm266KSNGjMgjjzySo446Kr/+9a/zzDPP5L777ktVVVVGjRqViy66KN/85jdz4YUXpnv37sXeHAAAAAAAANjt2vXlPZPk+eefz8CBA3PggQfm1FNPzapVq5Iky5cvzzvvvJOJEye2LnvIIYdk8ODBWbp0aZJk6dKlOfzww1NVVdW6zKRJk7Jhw4Y8/fTTO2yzqakpGzZsaPMAAAAAAACA9qpdh37jx4/PggULsnDhwlxzzTVZuXJlPvrRj+aNN95IfX19unfvnr333rvNOlVVVamvr0+S1NfXtwn83p3/7rwdmTdvXvr27dv6OOCAA3bvhgEAAAAAAMBu1K4v7zl58uTWf48cOTLjx4/PkCFDcvvtt6eysrJg7c6ePTuzZs1qfb5hwwbBHwAAAAAAAO1Wuz7T7y/tvffeOfjgg/PCCy+kuro6mzdvzvr169sss3bt2tZ7AFZXV2ft2rXbzH933o706NEjffr0afMAAAAAAACA9qqsQr+NGzfmxRdfzIABAzJ27NjsscceWbx4cev85557LqtWrUptbW2SpLa2Nk8++WTWrVvXusyiRYvSp0+fHHrooUWvHwAAAAAAAAqhXV/e8+yzz85JJ52UIUOG5I9//GPmzJmTrl27ZurUqenbt28+//nPZ9asWenXr1/69OmTr3zlK6mtrc1RRx2VJDnhhBNy6KGH5rTTTsv8+fNTX1+f8847LzNmzEiPHj1KvHUAAAAAAACwe7Tr0O+VV17J1KlT86c//Sn77rtvjjnmmDzyyCPZd999kyTf//7306VLl3zqU59KU1NTJk2alB/96Eet63ft2jV33XVX/vmf/zm1tbXZa6+9Mn369MydO7dUmwQAAAAAAAC7XbsO/W677ba/Or9nz565+uqrc/XVV+9wmSFDhuRXv/rV7i4NAAAAAAAA2o2yuqcfAAAAAAAAsC2hHwAAAAAAAJQ5oR8AAAAAAACUuXZ9Tz8AgI6krq6uKO30798/gwcPLkpbAJ3Vgw8+mO985ztZvnx51qxZkzvuuCNTpkxpnd/S0pI5c+bkuuuuy/r163P00UfnmmuuybBhw0pXNAAA0KEJ/QAACuydps1JkmnTphWlvT0re6bu2ecEfwAFtGnTphxxxBE588wz88lPfnKb+fPnz88PfvCD/PSnP01NTU3OP//8TJo0Kc8880x69uxZgooBAICOTugHAFBgW7ZsSZJc9MmD8/8O36+gbdWt2ZhpP1mRhoYGoR9AAU2ePDmTJ0/e7ryWlpZcccUVOe+883LyyScnSW6++eZUVVXlzjvvzCmnnFLMUgEAgE5C6AcAUCQ1/ffMmKF9S10GAAW2cuXK1NfXZ+LEia3T+vbtm/Hjx2fp0qXbDf2amprS1NTU+nzDhg1FqRUAAOg4upS6AAAAAOhI6uvrkyRVVVVtpldVVbXO+0vz5s1L3759Wx8HHHBAwesEAAA6FqEfAAAAlNjs2bPT2NjY+li9enWpSwIAAMqM0A8AAAB2o+rq6iTJ2rVr20xfu3Zt67y/1KNHj/Tp06fNAwAAYGcI/QAAAGA3qqmpSXV1dRYvXtw6bcOGDVm2bFlqa2tLWBkAANCRdSt1AQClUFdXV/A2+vfvn8GDBxe8HQAAim/jxo154YUXWp+vXLkyK1asSL9+/TJ48ODMnDkzF198cYYNG5aampqcf/75GThwYKZMmVK6ogEAgA5N6Ad0Kk2bm5Ik06ZNK3hblXtW5tm6ZwV/AAAd0OOPP57jjjuu9fmsWbOSJNOnT8+CBQtyzjnnZNOmTfnSl76U9evX55hjjsnChQvTs2fPUpUMAAB0cEI/oFPZsmVLkmT06aMz6MhBBWuncXVjHpz/YBoaGoR+AAAd0LHHHpuWlpYdzq+oqMjcuXMzd+7cIlYFAAB0ZkI/oFPqVd0r/Yf1L3UZAAAAAACwW3QpdQEAAAAAAADAB+NMPwAAAABgl9TV1RWtrf79+7uFBgD8FUI/AAAAAGCnNG1uSpJMmzataG1W7lmZZ+ueFfwBwA4I/QAAAACAnbJly5YkyejTR2fQkYMK3l7j6sY8OP/BNDQ0CP0AYAeEfgAAAADALulV3Sv9h/UvdRkAQJIupS4AAAAAAAAA+GCEfgAAAAAAAFDmhH4AAAAAAABQ5oR+AAAAAAAAUOaEfgAAAAAAAFDmhH4AAAAAAABQ5oR+AAAAAAAAUOaEfgAAAAAAAFDmhH4AAAAAAABQ5oR+AAAAAAAAUOaEfgAAAAAAAFDmhH4AAAAAAABQ5oR+AAAAAAAAUOaEfgAAAAAAAFDmhH4AAAAAAABQ5oR+AAAAAAAAUOaEfgAAAAAAAFDmhH4AAAAAAABQ5oR+AAAAAAAAUOaEfgAAAAAAAFDmhH4AAAAAAABQ5oR+AAAAAAAAUOaEfgAAAAAAAFDmhH4AAAAAAABQ5oR+AAAAAAAAUOaEfgAAAAAAAFDmhH4AAAAAAABQ5oR+AAAAAAAAUOa6lboAAABg91u1alUaGhoK3k7//v0zePDggrcDAAAA/HVCP9qNurq6grfhj1IAQGewatWqjDhkeN586+2Ct7VnZc/UPfuc71gAAABQYkI/Sq5pc1OSZNq0aQVvq3LPyjxb96w/SgEAHVpDQ0PefOvt/OxLozJiQK+CtVO3ZmOm/WRFGhoafL8CAACAEhP6UXJbtmxJkow+fXQGHTmoYO00rm7Mg/Mf9EcpAKDTGDGgV8YM7VvqMgAAAIAiEPrRbvSq7pX+w/qXugwAAAAAAICy06XUBQAAAAAAAAAfjDP9AACgiFatWpWGhoaCtlFXV1fQ1wcAAADaH6EfAAAUyapVq3LIISPy1ltvFqG1iqxpfDuJe/oBAABAZyD0AwCAImloaMhbb72Z8WfOSZ8BQwvWzmsrn82KWy/P+je3FKwNAAAAoH0R+gEAQJH1GTA0/QYPL9jrv7WpGGcSAgAAAO1Jl1IXAAAAAAAAAHwwQj8AAAAAAAAoc0I/AAAAAAAAKHNCPwAAAAAAAChzQj8AAAAAAAAoc0I/AAAAAAAAKHNCPwAAAAAAAChzQj8AAAAAAAAoc0I/AAAAAAAAKHNCPwAAAAAAAChzQj8AAAAAAAAoc0I/AAAAAAAAKHNCPwAAAAAAAChzQj8AAAAAAAAoc0I/AAAAAAAAKHNCPwAAAAAAAChz3UpdAAB0BnV1dQVvo3///hk8eHDB2wEAAAAA2h+hHwAUUNPmpiTJtGnTCt5W5Z6VebbuWcEfAAAAAHRCQj8AKKAtW7YkSUafPjqDjhxUsHYaVzfmwfkPpqGhQegHAAAAAJ2Q0A8AiqBXda/0H9a/1GUAAAAAAB1Ul1IXAAAAAAAAAHwwQj8AAAAAAAAoc0I/AAAAAAAAKHNCPwAAAAAAAChzQj8AAAAAAAAoc0I/AAAAAAAAKHNCPwAAAAAAAChzQj8AAAAAAAAoc0I/AAAAAAAAKHNCPwAAAAAAAChzQj8AAAAAAAAoc0I/AAAAAAAAKHNCPwAAAAAAAChzQj8AAAAAAAAoc0I/AAAAAAAAKHNCPwAAAAAAAChzQj8AAAAAAAAoc91KXQAAALtfXV1dwdvo379/Bg8eXPB2AAAAAHhvQj8AgA6kaXNTkmTatGkFb6tyz8o8W/es4A8AAACgHRD6AQB0IFu2bEmSjD59dAYdOahg7TSubsyD8x9MQ0OD0A8AAACgHRD6AQB0QL2qe6X/sP6lLoNOwuVkAQAAoPSEfgAAwC5xOVkAAABoP4R+AADALnE5WQAAAGg/hH4AAMAH4nKyAAAAUHpdSl0AAAAAAAAA8MEI/QAAAAAAAKDMCf0AAAAAAACgzAn9AAAAAAAAoMx1qtDv6quvztChQ9OzZ8+MHz8+jz76aKlLAgAAoANzHAoAABRLpwn9fv7zn2fWrFmZM2dOnnjiiRxxxBGZNGlS1q1bV+rSAAAA6IAchwIAAMXUaUK/733ve/niF7+YM844I4ceemiuvfba7LnnnrnxxhtLXRoAAAAdkONQAACgmLqVuoBi2Lx5c5YvX57Zs2e3TuvSpUsmTpyYpUuXbrN8U1NTmpqaWp83NjYmSTZs2FD4Yt+HjRs3Jkn+9+XnsqXprYK10/jq80mSujVv5MHn/lSwdn6/6o0/t7eqMWv+vzUFa2fDq3/uv40bN7abviwH9rddY3/bdfa5XWOf2zUdbX9L7HPtXUfb5zrj/vZu+y0tLSWtg/bPceiuK+bnZlK897J3taf3NArP2Nl9jJ3Op76+PvX19UVrr0uXLmlubu5wbSVJdXV1qquri9YepVPMz52kY3/2tKfPnZ05Dq1o6QRHq3/84x+z//7757e//W1qa2tbp59zzjlZsmRJli1b1mb5Cy+8MN/+9reLXSYAAFAmVq9enUGDBpW6DNoxx6EAAMDu9H6OQzvFmX47a/bs2Zk1a1br8+bm5vzv//5v9tlnn1RUVJSwsvZvw4YNOeCAA7J69er06dOn1OXQwdnfKDb7HMVkf6PY7HPvT0tLS954440MHDiw1KXQwTgO/eC8j7Vv+qf90jftm/5p3/RP+6Vv2jf9s3N25ji0U4R+/fv3T9euXbN27do209euXbvd05p79OiRHj16tJm29957F7LEDqdPnz4GK0Vjf6PY7HMUk/2NYrPPvbe+ffuWugTKgOPQ0vE+1r7pn/ZL37Rv+qd90z/tl75p3/TP+/d+j0O7FLiOdqF79+4ZO3ZsFi9e3Dqtubk5ixcvbnOZFQAAANgdHIcCAADF1inO9EuSWbNmZfr06Rk3blw+8pGP5IorrsimTZtyxhlnlLo0AAAAOiDHoQAAQDF1mtDvs5/9bF577bVccMEFqa+vz6hRo7Jw4cJUVVWVurQOpUePHpkzZ842l6WBQrC/UWz2OYrJ/kax2edg93McWlzex9o3/dN+6Zv2Tf+0b/qn/dI37Zv+KZyKlpaWllIXAQAAAAAAAOy6TnFPPwAAAAAAAOjIhH4AAAAAAABQ5oR+AAAAAAAAUOaEfgAAAAAAAFDmhH58YPPmzcuRRx6Z3r17Z7/99suUKVPy3HPPlbosOrBrrrkmI0eOTJ8+fdKnT5/U1tbmnnvuKXVZdBKXXXZZKioqMnPmzFKXQgd14YUXpqKios3jkEMOKXVZdHCvvvpqpk2bln322SeVlZU5/PDD8/jjj5e6LIBWQ4cO3ebzsaKiIjNmzNjhOv/xH/+RQw45JD179szhhx+eX/3qV0WsuHPZ2f5ZsGDBNsv27NmzyFV3Dlu3bs3555+fmpqaVFZW5sMf/nAuuuiitLS0/NX1HnjggYwZMyY9evTIQQcdlAULFhSn4E5mV/rngQce2O54q6+vL2LlncMbb7yRmTNnZsiQIamsrMyECRPy2GOP/dV1jJ3i2dn+MXYK58EHH8xJJ52UgQMHpqKiInfeeWeb+S0tLbngggsyYMCAVFZWZuLEiXn++eff83WvvvrqDB06ND179sz48ePz6KOPFmgLOhahHx/YkiVLMmPGjDzyyCNZtGhR3nnnnZxwwgnZtGlTqUujgxo0aFAuu+yyLF++PI8//niOP/74nHzyyXn66adLXRod3GOPPZYf//jHGTlyZKlLoYM77LDDsmbNmtbHQw89VOqS6MBef/31HH300dljjz1yzz335Jlnnsl3v/vdfOhDHyp1aQCtHnvssTafjYsWLUqSfPrTn97u8r/97W8zderUfP7zn8/vfve7TJkyJVOmTMlTTz1VzLI7jZ3tnyTp06dPm3VefvnlYpXbqVx++eW55pprctVVV6Wuri6XX3555s+fnx/+8Ic7XGflypU58cQTc9xxx2XFihWZOXNmvvCFL+Tee+8tYuWdw670z7uee+65NmNov/32K0LFncsXvvCFLFq0KLfcckuefPLJnHDCCZk4cWJeffXV7S5v7BTXzvbPu4yd3W/Tpk054ogjcvXVV293/vz58/ODH/wg1157bZYtW5a99torkyZNyttvv73D1/z5z3+eWbNmZc6cOXniiSdyxBFHZNKkSVm3bl2hNqPDqGh5r5/2wE567bXXst9++2XJkiX527/921KXQyfRr1+/fOc738nnP//5UpdCB7Vx48aMGTMmP/rRj3LxxRdn1KhRueKKK0pdFh3QhRdemDvvvDMrVqwodSl0Eueee24efvjh/Pd//3epSwF432bOnJm77rorzz//fCoqKraZ/9nPfjabNm3KXXfd1TrtqKOOyqhRo3LttdcWs9RO6b36Z8GCBZk5c2bWr19f/OI6mb//+79PVVVVbrjhhtZpn/rUp1JZWZmf/exn213nm9/8Zu6+++42Ifkpp5yS9evXZ+HChQWvuTPZlf554IEHctxxx+X111/P3nvvXaRKO5+33norvXv3zi9/+cuceOKJrdPHjh2byZMn5+KLL95mHWOneHalf4yd4qioqMgdd9yRKVOmJPnzWX4DBw7M17/+9Zx99tlJksbGxlRVVWXBggU55ZRTtvs648ePz5FHHpmrrroqSdLc3JwDDjggX/nKV3LuuecWZVvKlTP92O0aGxuT/DmEgULbunVrbrvttmzatCm1tbWlLocObMaMGTnxxBMzceLEUpdCJ/D8889n4MCBOfDAA3Pqqadm1apVpS6JDuy//uu/Mm7cuHz605/Ofvvtl9GjR+e6664rdVkAO7R58+b87Gc/y5lnnrndQClJli5dus33tkmTJmXp0qXFKLFTez/9k/z5R3VDhgzJAQcc4MotBTRhwoQsXrw4f/jDH5Ikv//97/PQQw9l8uTJO1zH+CmeXemfd40aNSoDBgzIJz7xiTz88MOFLrXT2bJlS7Zu3brNpYcrKyt3eCUWY6d4dqV/3mXsFNfKlStTX1/fZmz07ds348eP3+HY2Lx5c5YvX95mnS5dumTixInG0/vQrdQF0LE0Nzdn5syZOfroo/M3f/M3pS6HDuzJJ59MbW1t3n777fTq1St33HFHDj300FKXRQd122235YknnnjPa/fD7jB+/PgsWLAgw4cPz5o1a/Ltb387H/3oR/PUU0+ld+/epS6PDuh//ud/cs0112TWrFn51re+lcceeyxf/epX071790yfPr3U5QFs484778z69evzuc99bofL1NfXp6qqqs20qqoq9+0pgvfTP8OHD8+NN96YkSNHprGxMf/6r/+aCRMm5Omnn86gQYOKV2wncO6552bDhg055JBD0rVr12zdujWXXHJJTj311B2us6Pxs2HDhrz11luprKwsdNmdxq70z4ABA3Lttddm3LhxaWpqyvXXX59jjz02y5Yty5gxY4pYfcfWu3fv1NbW5qKLLsqIESNSVVWVf//3f8/SpUtz0EEHbXcdY6d4dqV/jJ3SePe71858L2toaMjWrVu3u86zzz5bmEI7EKEfu9WMGTPy1FNPufcQBTd8+PCsWLEijY2N+cUvfpHp06dnyZIlgj92u9WrV+drX/taFi1atM0vyKAQ/u+vekeOHJnx48dnyJAhuf32213CmIJobm7OuHHjcumllyZJRo8enaeeeirXXnut0A9ol2644YZMnjw5AwcOLHUpbMf76Z/a2to2V2qZMGFCRowYkR//+Me56KKLilFmp3H77bfn3/7t33LrrbfmsMMOa73P2MCBA33OtwO70j/Dhw/P8OHDW59PmDAhL774Yr7//e/nlltuKVbpncItt9ySM888M/vvv3+6du2aMWPGZOrUqVm+fHmpSyM73z/GDp2Fy3uy23z5y1/OXXfdld/85jd+mUfBde/ePQcddFDGjh2befPm5YgjjsiVV15Z6rLogJYvX55169ZlzJgx6datW7p165YlS5bkBz/4Qbp165atW7eWukQ6uL333jsHH3xwXnjhhVKXQgc1YMCAbX40M2LECJeVBdqll19+Offdd1++8IUv/NXlqqurs3bt2jbT1q5dm+rq6kKW1+m93/75S3vssUdGjx7t+04BfOMb38i5556bU045JYcffnhOO+20nHXWWZk3b94O19nR+OnTp48zlXazXemf7fnIRz5i/BTAhz/84SxZsiQbN27M6tWr8+ijj+add97JgQceuN3ljZ3i2tn+2R5jp/De/e61M9/L+vfvn65du/out4uEfnxgLS0t+fKXv5w77rgj999/f2pqakpdEp1Qc3NzmpqaSl0GHdDHP/7xPPnkk1mxYkXrY9y4cTn11FOzYsWKdO3atdQl0sFt3LgxL774YgYMGFDqUuigjj766Dz33HNtpv3hD3/IkCFDSlQRwI7ddNNN2W+//XLiiSf+1eVqa2uzePHiNtMWLVrkPuAF9n775y9t3bo1Tz75pO87BfDmm2+mS5e2f/7r2rVrmpubd7iO8VM8u9I/27NixQrjp4D22muvDBgwIK+//nruvffenHzyydtdztgpjffbP9tj7BReTU1Nqqur24yNDRs2ZNmyZTscG927d8/YsWPbrNPc3JzFixcbT++Dy3vygc2YMSO33nprfvnLX6Z3796t1+Lt27evX7FQELNnz87kyZMzePDgvPHGG7n11lvzwAMP5N577y11aXRAvXv33uYepXvttVf22Wcf9y6lIM4+++ycdNJJGTJkSP74xz9mzpw56dq1a6ZOnVrq0uigzjrrrEyYMCGXXnppPvOZz+TRRx/NT37yk/zkJz8pdWkAbTQ3N+emm27K9OnT061b2z9nnH766dl///1bz4752te+lo997GP57ne/mxNPPDG33XZbHn/8ce9tBbQz/TN37twcddRROeigg7J+/fp85zvfycsvv7zTZwjy3k466aRccsklGTx4cA477LD87ne/y/e+972ceeaZrcvMnj07r776am6++eYkyT/90z/lqquuyjnnnJMzzzwz999/f26//fbcfffdpdqMDmtX+ueKK65ITU1NDjvssLz99tu5/vrrc//99+fXv/51qTajw7r33nvT0tKS4cOH54UXXsg3vvGNHHLIITnjjDOSGDultrP9Y+wUzsaNG9ucMbly5cqsWLEi/fr1y+DBgzNz5sxcfPHFGTZsWGpqanL++edn4MCBmTJlSus6H//4x/MP//AP+fKXv5wkmTVrVqZPn55x48blIx/5SK644ops2rSptX/ZMaEfH9g111yTJDn22GPbTL/pppv+6o27YVetW7cup59+etasWZO+fftm5MiRuffee/OJT3yi1KUBfGCvvPJKpk6dmj/96U/Zd999c8wxx+SRRx7JvvvuW+rS6KCOPPLI3HHHHZk9e3bmzp2bmpqaXHHFFTn11FNLXRpAG/fdd19WrVrV5o/h71q1alWbs2UmTJiQW2+9Needd16+9a1vZdiwYbnzzjv9aKuAdqZ/Xn/99Xzxi19MfX19PvShD2Xs2LH57W9/6x7tBfDDH/4w559/fv7lX/4l69aty8CBA/OP//iPueCCC1qXWbNmTZvLetfU1OTuu+/OWWedlSuvvDKDBg3K9ddfn0mTJpViEzq0XemfzZs35+tf/3peffXV7Lnnnhk5cmTuu+++HHfccaXYhA6tsbExs2fPziuvvJJ+/frlU5/6VC655JLsscceSYydUtvZ/jF2Cufxxx9v8/84a9asJMn06dOzYMGCnHPOOdm0aVO+9KUvZf369TnmmGOycOHC9OzZs3WdF198MQ0NDa3PP/vZz+a1117LBRdckPr6+owaNSoLFy5MVVVV8TasTFW0tLS0lLoIAAAAAAAAYNe5px8AAAAAAACUOaEfAAAAAAAAlDmhHwAAAAAAAJQ5oR8AAAAAAACUOaEfAAAAAAAAlDmhHwAAAAAAAJQ5oR8AAAAAAACUOaEfAAAAAAAAlDmhHwAAAAAAAJQ5oR8AHdaxxx6bmTNnlroMAAAAOgnHoQCUktAPAAqspaUlW7ZsKXUZAAAAdBKOQwE6J6EfAB3S5z73uSxZsiRXXnllKioqUlFRkZdeeilPPfVUJk+enF69eqWqqiqnnXZaGhoaWtc79thj89WvfjXnnHNO+vXrl+rq6lx44YWt81966aVUVFRkxYoVrdPWr1+fioqKPPDAA0mSBx54IBUVFbnnnnsyduzY9OjRIw899FCam5szb9681NTUpLKyMkcccUR+8YtfFOl/BAAAgEJyHApAqQn9AOiQrrzyytTW1uaLX/xi1qxZkzVr1qR37945/vjjM3r06Dz++ONZuHBh1q5dm8985jNt1v3pT3+avfbaK8uWLcv8+fMzd+7cLFq0aKdrOPfcc3PZZZelrq4uI0eOzLx583LzzTfn2muvzdNPP52zzjor06ZNy5IlS3bXZgMAAFAijkMBKLVupS4AAAqhb9++6d69e/bcc89UV1cnSS6++OKMHj06l156aetyN954Yw444ID84Q9/yMEHH5wkGTlyZObMmZMkGTZsWK666qosXrw4n/jEJ3aqhrlz57au09TUlEsvvTT33XdfamtrkyQHHnhgHnroofz4xz/Oxz72sQ+8zQAAAJSO41AASk3oB0Cn8fvf/z6/+c1v0qtXr23mvfjii20Otv6vAQMGZN26dTvd3rhx41r//cILL+TNN9/c5oBt8+bNGT169E6/NgAAAO2f41AAiknoB0CnsXHjxpx00km5/PLLt5k3YMCA1n/vsccebeZVVFSkubk5SdKly5+vjN3S0tI6/5133tlue3vttVebtpPk7rvvzv77799muR49euzMZgAAAFAmHIcCUExCPwA6rO7du2fr1q2tz8eMGZP//M//zNChQ9Ot2659BO67775JkjVr1rT+MvL/3kx9Rw499ND06NEjq1atcgkVAACADspxKAClJPQDoMMaOnRoli1blpdeeim9evXKjBkzct1112Xq1Kk555xz0q9fv7zwwgu57bbbcv3116dr167v+ZqVlZU56qijctlll6Wmpibr1q3Leeed957r9e7dO2effXbOOuusNDc355hjjkljY2Mefvjh9OnTJ9OnT98dmwwAAEAJOQ4FoJS6lLoAACiUs88+O127ds2hhx6afffdN5s3b87DDz+crVu35oQTTsjhhx+emTNnZu+99269XMr7ceONN2bLli0ZO3ZsZs6cmYsvvvh9rXfRRRfl/PPPz7x58zJixIj83d/9Xe6+++7U1NTs6iYCAADQjjgOBaCUKlr+78WgAQAAAAAAgLLjTD8AAAAAAAAoc0I/AAAAAAAAKHNCPwAAAAAAAChzQj8AAAAAAAAoc0I/AAAAAAAAKHNCPwAAAAAAAChzQj8AAAAAAAAoc0I/AAAAAAAAKHNCPwAAAAAAAChzQj8AAAAAAAAoc0I/AAAAAAAAKHP/P3IA8i3xyBXWAAAAAElFTkSuQmCC",
      "text/plain": [
       "<Figure size 2200x800 with 2 Axes>"
      ]
     },
     "metadata": {},
     "output_type": "display_data"
    }
   ],
   "source": [
    "# Set figure and axes\n",
    "fig, ax = plt.subplots(1, 2, figsize = (22,8))\n",
    "\n",
    "# Define short-tenured employees\n",
    "tenure_short = df1[df1['tenure'] < 7]\n",
    "\n",
    "# Define long-tenured employees\n",
    "tenure_long = df1[df1['tenure'] > 6]\n",
    "\n",
    "# Plot short-tenured histogram\n",
    "sns.histplot(data=tenure_short, x='tenure', hue='salary', discrete=1, \n",
    "             hue_order=['low', 'medium', 'high'], multiple='dodge', shrink=.5, ax=ax[0])\n",
    "ax[0].set_title('Salary histogram by tenure: short-tenured people', fontsize='14')\n",
    "\n",
    "# Plot long-tenured histogram\n",
    "sns.histplot(data=tenure_long, x='tenure', hue='salary', discrete=1, \n",
    "             hue_order=['low', 'medium', 'high'], multiple='dodge', shrink=.4, ax=ax[1])\n",
    "ax[1].set_title('Salary histogram by tenure: long-tenured people', fontsize='14');"
   ]
  },
  {
   "cell_type": "markdown",
   "id": "aa7918ed-136c-47de-a3f5-5983b755536c",
   "metadata": {},
   "source": [
    "- By categorizing the salaries, we can observe that longer tenure does not necessarily mean higher pay. Longer tenures do not contain a disproportionate amount of high salaries. "
   ]
  },
  {
   "cell_type": "code",
   "execution_count": 20,
   "id": "dc392969-81dc-4098-8ad7-9313a9d457d1",
   "metadata": {},
   "outputs": [
    {
     "data": {
      "text/html": [
       "<div>\n",
       "<style scoped>\n",
       "    .dataframe tbody tr th:only-of-type {\n",
       "        vertical-align: middle;\n",
       "    }\n",
       "\n",
       "    .dataframe tbody tr th {\n",
       "        vertical-align: top;\n",
       "    }\n",
       "\n",
       "    .dataframe thead th {\n",
       "        text-align: right;\n",
       "    }\n",
       "</style>\n",
       "<table border=\"1\" class=\"dataframe\">\n",
       "  <thead>\n",
       "    <tr style=\"text-align: right;\">\n",
       "      <th>left</th>\n",
       "      <th>0</th>\n",
       "      <th>1</th>\n",
       "    </tr>\n",
       "    <tr>\n",
       "      <th>department</th>\n",
       "      <th></th>\n",
       "      <th></th>\n",
       "    </tr>\n",
       "  </thead>\n",
       "  <tbody>\n",
       "    <tr>\n",
       "      <th>IT</th>\n",
       "      <td>818</td>\n",
       "      <td>158</td>\n",
       "    </tr>\n",
       "    <tr>\n",
       "      <th>RandD</th>\n",
       "      <td>609</td>\n",
       "      <td>85</td>\n",
       "    </tr>\n",
       "    <tr>\n",
       "      <th>accounting</th>\n",
       "      <td>512</td>\n",
       "      <td>109</td>\n",
       "    </tr>\n",
       "    <tr>\n",
       "      <th>hr</th>\n",
       "      <td>488</td>\n",
       "      <td>113</td>\n",
       "    </tr>\n",
       "    <tr>\n",
       "      <th>management</th>\n",
       "      <td>384</td>\n",
       "      <td>52</td>\n",
       "    </tr>\n",
       "    <tr>\n",
       "      <th>marketing</th>\n",
       "      <td>561</td>\n",
       "      <td>112</td>\n",
       "    </tr>\n",
       "    <tr>\n",
       "      <th>product_mng</th>\n",
       "      <td>576</td>\n",
       "      <td>110</td>\n",
       "    </tr>\n",
       "    <tr>\n",
       "      <th>sales</th>\n",
       "      <td>2689</td>\n",
       "      <td>550</td>\n",
       "    </tr>\n",
       "    <tr>\n",
       "      <th>support</th>\n",
       "      <td>1509</td>\n",
       "      <td>312</td>\n",
       "    </tr>\n",
       "    <tr>\n",
       "      <th>technical</th>\n",
       "      <td>1854</td>\n",
       "      <td>390</td>\n",
       "    </tr>\n",
       "  </tbody>\n",
       "</table>\n",
       "</div>"
      ],
      "text/plain": [
       "left            0    1\n",
       "department            \n",
       "IT            818  158\n",
       "RandD         609   85\n",
       "accounting    512  109\n",
       "hr            488  113\n",
       "management    384   52\n",
       "marketing     561  112\n",
       "product_mng   576  110\n",
       "sales        2689  550\n",
       "support      1509  312\n",
       "technical    1854  390"
      ]
     },
     "execution_count": 20,
     "metadata": {},
     "output_type": "execute_result"
    }
   ],
   "source": [
    "# Display counts for each department\n",
    "df1.pivot_table(index='department', columns='left', aggfunc='size', fill_value=0)"
   ]
  },
  {
   "cell_type": "code",
   "execution_count": 21,
   "id": "cd320d70-6da4-4cb8-b0a1-0d2302ca6c4d",
   "metadata": {},
   "outputs": [
    {
     "data": {
      "image/png": "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",
      "text/plain": [
       "<Figure size 1100x800 with 1 Axes>"
      ]
     },
     "metadata": {},
     "output_type": "display_data"
    }
   ],
   "source": [
    "# Create stacked histogram to compare department distribution of employees who left to that of employees who didn't\n",
    "plt.figure(figsize=(11,8))\n",
    "sns.histplot(data=df1, x='department', hue='left', discrete=1, \n",
    "             hue_order=[0, 1], multiple='dodge', shrink=.5)\n",
    "plt.xticks(rotation=45)\n",
    "plt.title('Counts of stayed/left by department', fontsize=14);"
   ]
  },
  {
   "cell_type": "markdown",
   "id": "2dd37c73-5a87-42fd-bd3d-9d1481f4c31d",
   "metadata": {},
   "source": [
    "- From this visualization, we can assume that no department differs signficantly in the ratio of employees who left vs employees retained. Even in a high turnover department such as sales, also the biggest department at the company, we see 2,689 employees retained and only 550 leaving. "
   ]
  },
  {
   "cell_type": "code",
   "execution_count": 22,
   "id": "a5fb1950-633d-4d7b-9fd9-f28ce2b3c430",
   "metadata": {},
   "outputs": [
    {
     "data": {
      "image/png": "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",
      "text/plain": [
       "<Figure size 1000x600 with 2 Axes>"
      ]
     },
     "metadata": {},
     "output_type": "display_data"
    }
   ],
   "source": [
    "# Plot a correlation heatmap\n",
    "numerical_columns = df0.select_dtypes(include=['float64', 'int64'])\n",
    "\n",
    "plt.figure(figsize=(10, 6))\n",
    "heatmap = sns.heatmap(numerical_columns.corr(), vmin=-1, vmax=1, annot=True, cmap=sns.color_palette(\"vlag\", as_cmap=True))\n",
    "heatmap.set_title('Correlation Heatmap', fontdict={'fontsize':14}, pad=12)\n",
    "\n",
    "plt.show()"
   ]
  },
  {
   "cell_type": "markdown",
   "id": "88da20fb-8cf0-4068-92b3-da810d537ce6",
   "metadata": {},
   "source": [
    "From this heat map we can observe the correlation of the variables to confirm our earlier findings and discover other relatonships to explore in predicting why employees leave or stay: \n",
    "1. The variables with the greatest negative correlation are `satisfaction_level` and `left`. This means that people with lower satisfaction levels are more likely to leave.\n",
    "2. The variable `satisfaction_level` has the greatest positive correlation to `last_evaluation`, which is 'Score of employee's last performance review [0–1]'. Employees who were evaluated higher have a higher satisfaction level .\n",
    "3. The variable `last_evaluation` has a very high correlation to both `number_project` and `average_monthly_hours`. This could mean that employees are often evaluated based on the amount of output they produce, which may lead to some of the evidence of overworking we noticed earlier in the analysis.\n",
    "4. It is surprising that `tenure` has a slight negative correaltion with `satisfaction_level` and that `promotion_last_5years` only has a slight positive correlation with `satisfaction_level`."
   ]
  },
  {
   "cell_type": "markdown",
   "id": "155317f1-6f02-4b32-b094-9005f143d605",
   "metadata": {},
   "source": [
    "### **Insights** \n",
    "- Based on analysis so far, it is possible that employees are leaving the firm due to poor management. Employees are valued based on the amount of work they take on, represented in the number of projects or average monthly hours worked. However, this often does not results in a promotion which can be demoralizing to employees. This may be the reason we do not see positive correlation between tenure and satisfaction levels."
   ]
  },
  {
   "cell_type": "markdown",
   "id": "4abddf3f-a023-42a8-82e5-38d49d0f4d43",
   "metadata": {},
   "source": [
    "## **Step 3: Model Building**\n",
    "- Our goal is to predict wether an employee will leave (1) or stay (0). It is important to understand that this is a categorical variable.\n",
    "- With this in mind we will build a logistic regression model and a Tree-based machine learning model to compare which one is more accurate.\n",
    "\n",
    "- **Logistic Regression** is a statistical model used for binary classification tasks. It is a popular algorithm for solving problems where the dependent variable is categorical and has two possible outcomes. Logistic Regression predicts the probability of an event occurring based on the values of independent variables.\n",
    "- **Tree-based machine learning models** are a family of algorithms that make predictions by creating a hierarchical structure of decisions or rules based on the input features. These models are popular for both regression and classification tasks due to their flexibility, interpretability, and ability to capture complex relationships in the data."
   ]
  },
  {
   "cell_type": "markdown",
   "id": "48e3eb43-0d96-4f1d-92d0-923c95cbb1ba",
   "metadata": {},
   "source": [
    "### Logistic Regression\n",
    "- When performing regression analysis it is pivotal to encode the variables that are non-numeric. For this data set, we have 2 columns that are non-numeric (`department` and `salary`). The department variable contains several different categories, for this we will use dummy variables or binary values to create new columns in the data set. The salary variable contians categories, but they are oridnal or fall into a hierarchy. For this we will convert the levels to numbers 0-2. "
   ]
  },
  {
   "cell_type": "code",
   "execution_count": 23,
   "id": "ec8178cd-cba2-4710-8382-1c64065dcb38",
   "metadata": {},
   "outputs": [
    {
     "data": {
      "text/html": [
       "<div>\n",
       "<style scoped>\n",
       "    .dataframe tbody tr th:only-of-type {\n",
       "        vertical-align: middle;\n",
       "    }\n",
       "\n",
       "    .dataframe tbody tr th {\n",
       "        vertical-align: top;\n",
       "    }\n",
       "\n",
       "    .dataframe thead th {\n",
       "        text-align: right;\n",
       "    }\n",
       "</style>\n",
       "<table border=\"1\" class=\"dataframe\">\n",
       "  <thead>\n",
       "    <tr style=\"text-align: right;\">\n",
       "      <th></th>\n",
       "      <th>satisfaction_level</th>\n",
       "      <th>last_evaluation</th>\n",
       "      <th>number_project</th>\n",
       "      <th>average_monthly_hours</th>\n",
       "      <th>tenure</th>\n",
       "      <th>work_accident</th>\n",
       "      <th>left</th>\n",
       "      <th>promotion_last_5years</th>\n",
       "      <th>salary</th>\n",
       "      <th>department_IT</th>\n",
       "      <th>department_RandD</th>\n",
       "      <th>department_accounting</th>\n",
       "      <th>department_hr</th>\n",
       "      <th>department_management</th>\n",
       "      <th>department_marketing</th>\n",
       "      <th>department_product_mng</th>\n",
       "      <th>department_sales</th>\n",
       "      <th>department_support</th>\n",
       "      <th>department_technical</th>\n",
       "    </tr>\n",
       "  </thead>\n",
       "  <tbody>\n",
       "    <tr>\n",
       "      <th>0</th>\n",
       "      <td>0.38</td>\n",
       "      <td>0.53</td>\n",
       "      <td>2</td>\n",
       "      <td>157</td>\n",
       "      <td>3</td>\n",
       "      <td>0</td>\n",
       "      <td>1</td>\n",
       "      <td>0</td>\n",
       "      <td>0</td>\n",
       "      <td>False</td>\n",
       "      <td>False</td>\n",
       "      <td>False</td>\n",
       "      <td>False</td>\n",
       "      <td>False</td>\n",
       "      <td>False</td>\n",
       "      <td>False</td>\n",
       "      <td>True</td>\n",
       "      <td>False</td>\n",
       "      <td>False</td>\n",
       "    </tr>\n",
       "    <tr>\n",
       "      <th>1</th>\n",
       "      <td>0.80</td>\n",
       "      <td>0.86</td>\n",
       "      <td>5</td>\n",
       "      <td>262</td>\n",
       "      <td>6</td>\n",
       "      <td>0</td>\n",
       "      <td>1</td>\n",
       "      <td>0</td>\n",
       "      <td>1</td>\n",
       "      <td>False</td>\n",
       "      <td>False</td>\n",
       "      <td>False</td>\n",
       "      <td>False</td>\n",
       "      <td>False</td>\n",
       "      <td>False</td>\n",
       "      <td>False</td>\n",
       "      <td>True</td>\n",
       "      <td>False</td>\n",
       "      <td>False</td>\n",
       "    </tr>\n",
       "    <tr>\n",
       "      <th>2</th>\n",
       "      <td>0.11</td>\n",
       "      <td>0.88</td>\n",
       "      <td>7</td>\n",
       "      <td>272</td>\n",
       "      <td>4</td>\n",
       "      <td>0</td>\n",
       "      <td>1</td>\n",
       "      <td>0</td>\n",
       "      <td>1</td>\n",
       "      <td>False</td>\n",
       "      <td>False</td>\n",
       "      <td>False</td>\n",
       "      <td>False</td>\n",
       "      <td>False</td>\n",
       "      <td>False</td>\n",
       "      <td>False</td>\n",
       "      <td>True</td>\n",
       "      <td>False</td>\n",
       "      <td>False</td>\n",
       "    </tr>\n",
       "    <tr>\n",
       "      <th>3</th>\n",
       "      <td>0.72</td>\n",
       "      <td>0.87</td>\n",
       "      <td>5</td>\n",
       "      <td>223</td>\n",
       "      <td>5</td>\n",
       "      <td>0</td>\n",
       "      <td>1</td>\n",
       "      <td>0</td>\n",
       "      <td>0</td>\n",
       "      <td>False</td>\n",
       "      <td>False</td>\n",
       "      <td>False</td>\n",
       "      <td>False</td>\n",
       "      <td>False</td>\n",
       "      <td>False</td>\n",
       "      <td>False</td>\n",
       "      <td>True</td>\n",
       "      <td>False</td>\n",
       "      <td>False</td>\n",
       "    </tr>\n",
       "    <tr>\n",
       "      <th>4</th>\n",
       "      <td>0.37</td>\n",
       "      <td>0.52</td>\n",
       "      <td>2</td>\n",
       "      <td>159</td>\n",
       "      <td>3</td>\n",
       "      <td>0</td>\n",
       "      <td>1</td>\n",
       "      <td>0</td>\n",
       "      <td>0</td>\n",
       "      <td>False</td>\n",
       "      <td>False</td>\n",
       "      <td>False</td>\n",
       "      <td>False</td>\n",
       "      <td>False</td>\n",
       "      <td>False</td>\n",
       "      <td>False</td>\n",
       "      <td>True</td>\n",
       "      <td>False</td>\n",
       "      <td>False</td>\n",
       "    </tr>\n",
       "  </tbody>\n",
       "</table>\n",
       "</div>"
      ],
      "text/plain": [
       "   satisfaction_level  last_evaluation  number_project  average_monthly_hours  \\\n",
       "0                0.38             0.53               2                    157   \n",
       "1                0.80             0.86               5                    262   \n",
       "2                0.11             0.88               7                    272   \n",
       "3                0.72             0.87               5                    223   \n",
       "4                0.37             0.52               2                    159   \n",
       "\n",
       "   tenure  work_accident  left  promotion_last_5years  salary  department_IT  \\\n",
       "0       3              0     1                      0       0          False   \n",
       "1       6              0     1                      0       1          False   \n",
       "2       4              0     1                      0       1          False   \n",
       "3       5              0     1                      0       0          False   \n",
       "4       3              0     1                      0       0          False   \n",
       "\n",
       "   department_RandD  department_accounting  department_hr  \\\n",
       "0             False                  False          False   \n",
       "1             False                  False          False   \n",
       "2             False                  False          False   \n",
       "3             False                  False          False   \n",
       "4             False                  False          False   \n",
       "\n",
       "   department_management  department_marketing  department_product_mng  \\\n",
       "0                  False                 False                   False   \n",
       "1                  False                 False                   False   \n",
       "2                  False                 False                   False   \n",
       "3                  False                 False                   False   \n",
       "4                  False                 False                   False   \n",
       "\n",
       "   department_sales  department_support  department_technical  \n",
       "0              True               False                 False  \n",
       "1              True               False                 False  \n",
       "2              True               False                 False  \n",
       "3              True               False                 False  \n",
       "4              True               False                 False  "
      ]
     },
     "execution_count": 23,
     "metadata": {},
     "output_type": "execute_result"
    }
   ],
   "source": [
    "# Create a copy of the data frame\n",
    "df_enc = df1.copy()\n",
    "\n",
    "# Encode the `salary` column as an ordinal numeric category\n",
    "df_enc['salary'] = (\n",
    "    df_enc['salary'].astype('category')\n",
    "    .cat.set_categories(['low', 'medium', 'high'])\n",
    "    .cat.codes\n",
    ")\n",
    "\n",
    "# Dummy encode the `department` column\n",
    "df_enc = pd.get_dummies(df_enc, drop_first=False)\n",
    "\n",
    "# Display the new dataframe\n",
    "df_enc.head()\n"
   ]
  },
  {
   "cell_type": "code",
   "execution_count": 24,
   "id": "7bfc1fa3-c463-4023-b75b-285cdaef453e",
   "metadata": {},
   "outputs": [
    {
     "data": {
      "image/png": "iVBORw0KGgoAAAANSUhEUgAAAlUAAAIWCAYAAAB+ynhwAAAAOXRFWHRTb2Z0d2FyZQBNYXRwbG90bGliIHZlcnNpb24zLjcuMSwgaHR0cHM6Ly9tYXRwbG90bGliLm9yZy/bCgiHAAAACXBIWXMAAA9hAAAPYQGoP6dpAAB/gklEQVR4nO3dd1QU1/8+8GdBll5EqYo0FUWxYeyiYsESe48CYi9gr/lEbIktUWMvsZuYaDTRRGPF3nvviGKUpggIRhG4vz/8MV9XQFlcnF14Xud4jntndveZZXfnvXfu3FEIIQSIiIiI6JPoyR2AiIiIqCBgUUVERESkASyqiIiIiDSARRURERGRBrCoIiIiItIAFlVEREREGsCiioiIiEgDWFQRERERaQCLKiIiIiINYFFFKmJiYtCpUycUK1YMCoUCP/74o9yR1KJQKDB58mS5Y2ittWvXQqFQ4Ny5c5/leR48eJCn++/evRtVqlSBkZERFAoFEhISNJqPtNvkyZOhUCjkjqH1Hjx4AIVCgbVr18odhf6/QldUhYeHY8CAAXBzc4ORkREsLCxQt25dzJ8/H//995/c8QAAS5Yske1DMmLECOzZswcTJkzAhg0b0Lx5c1lyUOH17NkzdOnSBcbGxli8eDE2bNgAU1NTTJ8+Hdu2bZM7ns568uQJJk+ejEuXLskdhQohOfdr6rpx4wYmT56cpx+FRTQfR3vt3LkTnTt3hqGhIQICAlCxYkWkpqbi2LFjGDNmDK5fv44VK1bIHRNLlixB8eLF0atXr8/+3AcOHEDbtm0xevToz/7cRABw9uxZvHjxAtOmTUOTJk2k9unTp6NTp05o166dfOF02JMnTzBlyhS4uLigSpUqcsehQkbO/Zq6bty4gSlTpqBhw4ZwcXFR676FpqiKiIhAt27d4OzsjAMHDsDBwUFaNmTIENy7dw87d+6UMaF2iI2NhZWVldwxqBCLjY0FAK1/H6alpSEjIwNKpVLuKJRPUlJSYGpqKncMnfby5UuYmJjIHePzEYXEwIEDBQBx/PjxXK3/5s0bMXXqVOHm5iaUSqVwdnYWEyZMEK9evVJZD4CYNGlSlvs7OzuLwMBA6faaNWsEAHHs2DExYsQIUbx4cWFiYiLatWsnYmNjVe4HQOVfgwYNhBBCpKamismTJ4vSpUsLQ0NDYW1tLerWrSv27t370e0JDw8XnTp1EkWLFhXGxsaiZs2aYseOHVnyvf/vQ9LT08W8efOEp6enMDQ0FLa2tqJ///4iPj4+y2vRqlUrcfDgQeHt7S2MjIxExYoVxcGDB4UQQmzdulVUrFhRGBoaimrVqokLFy6o3D8wMFCYmpqK8PBw0axZM2FiYiIcHBzElClTREZGhsq62f09Lly4IJo3by7Mzc2Fqamp8PX1FSdPnlR5bQCIuXPnZtnG48ePCwBi48aNUtu///4rgoKChK2trVAqlcLT01OsWrUqy31fvXolQkNDhbu7u1AqlaJkyZJizJgxWd5De/fuFXXr1hWWlpbC1NRUlC1bVkyYMCHnF14I0b59e1G1alWVti+//FIAENu3b5faTp06JQCIf/75RwiR+/dhpsWLFwtPT0+hVCqFg4ODGDx4sHj+/PkHs737PBERESrt//zzj6hXr54wMTERZmZmomXLluLatWvS8gYNGmR5DwYGBmb73nz38/Wu6Ohooa+vLyZPnpxl2a1btwQAsXDhQqnt+fPnYtiwYaJkyZJCqVQKd3d3MXPmTJGeni6tExERIQCI77//XsybN0+4ubkJPT09cfHiRSGEEAsWLBCenp7C2NhYWFlZCW9vb/HLL79I9w8MDBTOzs5Z8kyaNCnL5ywv74eP3e/gwYPZvoZr1qwRQghx5MgR0alTJ+Hk5CS9V4cPHy5evnwpPf7q1asFgCyfTyGE+O6774Senp74999/pbZTp04JPz8/YWFhIYyNjYWPj484duxYlvsePXpUVK9eXRgaGgo3NzexbNmybF+X7OQmd6abN2+Kzp07i+LFiwsjIyNRtmxZ8fXXX0vLM5/z+vXronv37sLKykpUqVJFCJH7/cHZs2dFs2bNRLFixYSRkZFwcXERQUFBKuv8+uuvolq1asLMzEyYm5uLihUrih9//PGj2/r8+XMRGBgoLCwshKWlpQgICBAXL15U+Tu+u60dO3YURYsWFYaGhsLb21vle0GI//uMHj58WPTv319YW1sLc3Nz4e/vn+U7fNu2baJly5bCwcFBKJVK4ebmJqZOnSrS0tJU1mvQoIGoUKGCOHfunKhfv74wNjYWw4YN++B+LTPH0aNHRUhIiChevLiwtLQU/fv3F69fvxbPnz8X/v7+wsrKSlhZWYkxY8Zk+d5Xd1909OhR8cUXXwhDQ0Ph6uoq1q1bl+V1ef9f5v7qYwpNUVWiRAnh5uaW6/Uzv8g7deokFi9eLAICAgQA0a5dO5X11C2qqlatKnx9fcXChQvFqFGjhL6+vujSpYu03p9//ilKliwpypUrJzZs2CA2bNggFU1ff/21UCgUol+/fuKnn34Sc+bMEd27dxczZ8784LZER0cLOzs7YW5uLv73v/+JuXPnisqVKws9PT3xxx9/CCHeFhYbNmwQAETTpk2l5/6Qvn37iiJFioh+/fqJZcuWiXHjxglTU1PxxRdfiNTUVJXXwsPDQzg4OIjJkyeLefPmiRIlSggzMzPx888/i1KlSomZM2eKmTNnCktLS1G6dGmVHVpgYKAwMjISZcqUEf7+/mLRokVSATFx4sQP/j2uXbsmTE1NhYODg5g2bZqYOXOmcHV1FYaGhuLUqVPSenXr1hXe3t5ZtnHw4MHC3NxcpKSkSK9lyZIlhZOTk5g6dapYunSpaNOmjQAg5s2bJ90vPT1dKgCHDx8uli9fLoKDg0WRIkVE27ZtVfIplUpRvXp1MX/+fLFs2TIxevRo4ePj88HXfu7cuUJPT08kJiYKIYTIyMgQRYsWFXp6emL06NHSet9//73Kerl9HwrxfzuZJk2aiIULF4rg4GChr6+f5e+bneyKqvXr1wuFQiGaN28uFi5cKGbNmiVcXFyElZWVtN7evXtF//79BQAxdepUsWHDBnHixAmxYcMGYWhoKOrXry+9N0+cOJHj8/v6+gpPT88s7VOmTBH6+voiOjpaCCFESkqKqFSpkihWrJj4+uuvxbJly0RAQIBQKBRi2LBh0v0yiypPT0/h5uYmZs6cKebNmycePnwoVqxYIX1XLF++XMyfP1/06dNHDB06VLp/bouqvL4fPna/6OhoMXXqVAFA9O/fX3oNw8PDhRBChISEiJYtW4rp06eL5cuXiz59+gh9fX3RqVMn6TmSkpKEsbGxGDVqVJbn9/T0FL6+vtLtsLAwoVQqRe3atcWcOXPEvHnzRKVKlYRSqRSnT5+W1rty5YowNjYWpUqVEjNmzBDTpk0TdnZ2olKlSrkqqnKTWwghLl++LCwsLESxYsXEhAkTxPLly8XYsWOFl5dXlr+Fp6enaNu2rViyZIlYvHixECJ3+4OYmBhRtGhRUbZsWfH999+Ln376Sfzvf/8T5cuXl9bZu3evACAaN24sFi9eLBYvXiyCg4NF586dP7idGRkZwsfHR+jp6YnBgweLhQsXCl9fX+l1ereounbtmrC0tBSenp5i1qxZYtGiRcLHx0coFArp+16I//uMenl5ifr164sFCxaIIUOGCD09PeHj46NSuLRr10506dJFfP/992Lp0qWic+fOAoDKd40Qb4sqe3t7YWNjI0JCQsTy5cvFtm3bPrhfy8xRpUoV0bx5c7F48WLh7+8vAIixY8eKevXqia+++kosWbJE+t5/twgSQv19kZ2dnfj666/FokWLRLVq1YRCoZB+3IWHh4uhQ4cKAOLrr7+W8mZ+Z3xMoSiqEhMTBQCVndmHXLp0SQAQffv2VWkfPXq0ACAOHDggtalbVDVp0kTlzTpixAihr68vEhISpLYKFSpIVfy7KleuLFq1apWrbXjX8OHDpV8CmV68eCFcXV2Fi4uLSgEDQAwZMuSjj3n06FEBQOXXuBBC7N69O0t75q+Ud3eCe/bsEQCEsbGxePjwodS+fPnyLL8KMr/QQkJCpLaMjAzRqlUroVQqRVxcnEr+d/8e7dq1E0qlUtp5CCHEkydPhLm5ucqOKvN5b968KbWlpqaK4sWLq/wd+/TpIxwcHMTTp09Vtrtbt27C0tJS+oW8YcMGoaenp/KaCyHEsmXLVHpM582bJwCobENunD17VqUH6sqVKwKA6Ny5s6hZs6a0Xps2bVR6tHL7PoyNjRVKpVI0a9ZM5f2xaNEiAUCsXr36g/neL6pevHghrKysRL9+/VTWi46OFpaWlirtmfc9e/asyrqmpqY59k69L/PvefXqVZX293f+06ZNE6ampuLOnTsq640fP17o6+uLyMhIIcT/FVUWFhZZevTatm0rKlSo8ME8uS2q8vp+yM39Mt8z7/dqCCGy7dmZMWOGUCgUKp/P7t27C0dHR5X3xIULF1QeNyMjQ5QpU0b4+fmpvMdevnwpXF1dRdOmTaW2du3aCSMjI5XnuHHjhtDX189VUZXb3D4+PsLc3FylLTNrpsy/Rffu3VXWye3+4M8//8z2ffuuYcOGCQsLiyw9PB+zbds2AUDMnj1baktLSxP169fP8jdt3Lix8PLyUulFy8jIEHXq1BFlypSR2jI/Z97e3iqFx+zZs7P0eGf3Og8YMECYmJioPE9mT/OyZcuyrJ/Tfi0zx/vvl9q1awuFQiEGDhyoss0lS5ZUeZy87IuOHDkitcXGxgpDQ0OVHwu///67Wr1T7yoUZ/8lJSUBAMzNzXO1/j///AMAGDlypEr7qFGjAOCTxl71799f5VTh+vXrIz09HQ8fPvzofa2srHD9+nXcvXtXref8559/UKNGDdSrV09qMzMzQ//+/fHgwQPcuHFDrccDgN9//x2WlpZo2rQpnj59Kv3z9vaGmZkZDh48qLK+p6cnateuLd2uWbMmAMDX1xelSpXK0n7//v0szxkcHCz9X6FQIDg4GKmpqdi/f3+2GdPT07F37160a9cObm5uUruDgwO++uorHDt2THpvdOnSBUZGRvjll1+k9fbs2YOnT5+iZ8+eAAAhBLZu3YrWrVtDCKGy3X5+fkhMTMSFCxek16d8+fIoV66cynq+vr4AIL0+meOGtm/fjoyMjBxf7/dVrVoVZmZmOHLkCADg6NGjKFmyJAICAnDhwgW8fPkSQggcO3YM9evXz3L/j70P9+/fj9TUVAwfPhx6ev/3NdGvXz9YWFio/RnYt28fEhIS0L17d5XXQ19fHzVr1szyfvlUHTp0QJEiRbBp0yap7dq1a7hx4wa6du0qtf3++++oX78+ihYtqpKrSZMmSE9Pl17fTB07doSNjY1Km5WVFf7991+cPXv2k3Pn9f2Q1/tlMjY2lv6fkpKCp0+fok6dOhBC4OLFi9KygIAAPHnyROXv9csvv8DY2BgdO3YEAFy6dAl3797FV199hWfPnkmvaUpKCho3bowjR44gIyMD6enp2LNnD9q1a6fyHVC+fHn4+flpLHdcXByOHDmC3r17qzwPgGynbRg4cKDK7dzuDzL/Bjt27MCbN2+yzWtlZYWUlBTs27cvV9v3boYiRYpg0KBBUpu+vj5CQkJU1ouPj8eBAwfQpUsXvHjxQnrtnz17Bj8/P9y9exePHz9WuU///v1hYGAg3R40aBCKFCkibTeg+jpnPm79+vXx8uVL3Lp1S+XxDA0NERQUpNb2AUCfPn1U/h41a9aEEAJ9+vRR2ebq1aur7B/ysi969zvRxsYGHh4e2e5z8qJQFFUWFhYA3r4ZcuPhw4fQ09ND6dKlVdrt7e1hZWWVqwIoJ+9/qIsWLQoAeP78+UfvO3XqVCQkJKBs2bLw8vLCmDFjcOXKlY/e7+HDh/Dw8MjSXr58eWm5uu7evYvExETY2trCxsZG5V9ycrI02DjT+9ttaWkJAHBycsq2/f3XQ09PT6UwAoCyZcsCQI6nvcbFxeHly5c5bntGRgYePXoE4O2XXevWrbFx40ZpnV9++QUlSpSQCqG4uDgkJCRgxYoVWbY580skc7vv3r2L69evZ1kvM3Pmel27dkXdunXRt29f2NnZoVu3bti8efNHd4z6+vqoXbs2jh49CuBtUVW/fn3Uq1cP6enpOHXqFG7cuIH4+Phsi6qPvQ8z3xPvv3ZKpRJubm5qv2cyfwj4+vpmeU327t2b5f3yqYoXL47GjRtj8+bNUtumTZtQpEgRdOjQQSXX7t27s2TKPOvw/Vyurq5ZnmvcuHEwMzNDjRo1UKZMGQwZMgTHjx/PU+68vh/yer9MkZGR6NWrF6ytrWFmZgYbGxs0aNAAAJCYmCit17RpUzg4OEg/PjIyMvDrr7+ibdu20o/WzL91YGBgltd15cqVeP36NRITExEXF4f//vsPZcqUyZInu89sXnNn7iwrVqyYq8d8/2+c2/1BgwYN0LFjR0yZMgXFixdH27ZtsWbNGrx+/Vq6z+DBg1G2bFm0aNECJUuWRO/evbF79+6PZnr48CEcHBxgZmam0v7+63Tv3j0IITBx4sQsr/2kSZMAZH1Pv//6m5mZwcHBQeV79fr162jfvj0sLS1hYWEBGxsb6cfmu+8PAChRokSeTt5QZx/x7v7hU/dFwNvvv9zsg3OjUJz9Z2FhAUdHR1y7dk2t+33K5HPp6enZtuvr62fbLoT46GP6+PggPDwc27dvx969e7Fy5UrMmzcPy5YtQ9++ffOcNS8yMjJga2ur0rPzrvd/zee03Z/yemhaQEAAfv/9d5w4cQJeXl7466+/MHjwYKmnJnMH1bNnTwQGBmb7GJUqVZLW9fLywty5c7NdL/OLwtjYGEeOHMHBgwexc+dO7N69G5s2bYKvry/27t2b4+sDAPXq1cN3332HV69e4ejRo/jf//4HKysrVKxYEUePHoWdnR0AZFtUfe7XPfO127BhA+zt7bMsL1JE819F3bp1Q1BQEC5duoQqVapg8+bNaNy4MYoXL66Sq2nTphg7dmy2j5FZBGd69xd7pvLly+P27dvYsWMHdu/eja1bt2LJkiUIDQ3FlClTAOT8XfL+90Re3w+f8j5KT09H06ZNER8fj3HjxqFcuXIwNTXF48eP0atXL5XCTF9fH1999RV++uknLFmyBMePH8eTJ0+kHSzwf3/r77//PsepG8zMzFSKjbxQJ7c6svsbAx/fHygUCmzZsgWnTp3C33//jT179qB3796YM2cOTp06BTMzM9ja2uLSpUvYs2cPdu3ahV27dmHNmjUICAjAunXr8pT3XZnbPHr06Bx7+94vDj8mISEBDRo0gIWFBaZOnQp3d3cYGRnhwoULGDduXJbXOafX72PU2Ue8+z2lqX2Rpr77CkVRBQBffvklVqxYgZMnT6ochsqOs7MzMjIycPfuXak3B3g723hCQgKcnZ2ltqJFi2aZ7Tk1NRVRUVF5zvqhD6+1tTWCgoIQFBSE5ORk+Pj4YPLkyR8sqpydnXH79u0s7Zndtu9uT265u7tj//79qFu3bp4/ROrIyMjA/fv3VXZyd+7cAYAc5xGxsbGBiYlJjtuup6en8iuoefPmsLGxwS+//IKaNWvi5cuX8Pf3V3k8c3NzpKenq8yflB13d3dcvnwZjRs3/uiXsZ6eHho3bozGjRtj7ty5mD59Ov73v//h4MGDH3ye+vXrIzU1Fb/++iseP34sFU8+Pj5SUVW2bFmpuFJH5nvi9u3bKj2EqampiIiI+Oj2v8/d3R0AYGtrq/Z9M6n7I6ddu3YYMGCAdAjwzp07mDBhQpZcycnJec6UydTUFF27dkXXrl2RmpqKDh064LvvvsOECRNgZGSU7fcEkH0vcV7fDx+7X06v39WrV3Hnzh2sW7cOAQEBUntOh6gCAgIwZ84c/P3339i1axdsbGxUduCZf2sLC4sP5rWxsYGxsXG2wxmy+8zmNXfm+1fdH9WZ1NkfAECtWrVQq1YtfPfdd9i4cSN69OiB3377TfqOViqVaN26NVq3bo2MjAwMHjwYy5cvx8SJE3MseJydnREWFobk5GSV3qr3X6fMbTUwMMj1e/ru3bto1KiRdDs5ORlRUVFo2bIlAODQoUN49uwZ/vjjD/j4+EjrRURE5OrxM+XXDPn5sS/6lKyF4vAfAIwdOxampqbo27cvYmJisiwPDw/H/PnzAUB6M71/iZbMXodWrVpJbe7u7lnGXaxYsSLHnqrcMDU1zfYL+NmzZyq3zczMULp06Y/+4mvZsiXOnDmDkydPSm0pKSlYsWIFXFxc4OnpqXbGLl26ID09HdOmTcuyLC0tLV8uK7Jo0SLp/0IILFq0CAYGBmjcuHG26+vr66NZs2bYvn27Sld2TEwMNm7ciHr16kmHhoG3vSXdu3fH5s2bsXbtWnh5eUk9T5mP17FjR2zdujXbL+i4uDjp/126dMHjx4/x008/ZVnvv//+Q0pKCoC3YyDel/nr/mN/15o1a8LAwACzZs2CtbU1KlSoAOBtsXXq1CkcPnw4216q3GjSpAmUSiUWLFig8gtu1apVSExMVPkM5Iafnx8sLCwwffr0bMebvPva5SSnz0VOrKys4Ofnh82bN+O3336DUqnMMnFoly5dcPLkSezZsyfL/RMSEpCWlvbR53n/c6lUKuHp6QkhhLSt7u7uSExMVDlcHxUVhT///FPlvnl9P+TmfpnzLb3/Gmb+cn/37yyEkL4P31epUiVUqlQJK1euxNatW9GtWzeVnkZvb2+4u7vjhx9+QHJycpb7Z/6t9fX14efnh23btiEyMlJafvPmzWz/Hu/LbW4bGxv4+Phg9erVKs/z/n1zktv9wfPnz7M83vt/g/ffK3p6etJ3zIf+vi1btkRaWhqWLl0qtaWnp2PhwoUq69na2qJhw4ZYvnx5tj/ss/ucrVixQuUzuXTpUqSlpaFFixYAsn+dU1NTsWTJkhzzZkfdz29u5ce+KKfPSm4Ump4qd3d3bNy4EV27dkX58uVVZlQ/ceIEfv/9d2mm18qVKyMwMBArVqyQuj7PnDmDdevWoV27dipVfd++fTFw4EB07NgRTZs2xeXLl7Fnzx6VQwzq8vb2xtKlS/Htt9+idOnSsLW1ha+vLzw9PdGwYUN4e3vD2toa586dw5YtW1QGcGdn/Pjx+PXXX9GiRQsMHToU1tbWWLduHSIiIrB161aVgci51aBBAwwYMAAzZszApUuX0KxZMxgYGODu3bv4/fffMX/+fHTq1CmvL0EWRkZG2L17NwIDA1GzZk3s2rULO3fuxNdff52le/dd3377Lfbt24d69eph8ODBKFKkCJYvX47Xr19j9uzZWdYPCAjAggULcPDgQcyaNSvL8pkzZ+LgwYOoWbMm+vXrB09PT8THx+PChQvYv3+/tHPz9/fH5s2bMXDgQBw8eBB169ZFeno6bt26hc2bN2PPnj2oXr06pk6diiNHjqBVq1ZwdnZGbGwslixZgpIlS6qcWJAdExMTeHt749SpU2jdurX068rHxwcpKSlISUnJc1FlY2ODCRMmYMqUKWjevDnatGmD27dvY8mSJfjiiy9UDvfkhoWFBZYuXQp/f39Uq1YN3bp1g42NDSIjI7Fz507UrVtXpWjOjre3N/bv34+5c+fC0dERrq6u0okNOenatSt69uyJJUuWwM/PL8uEomPGjMFff/2FL7/8Er169YK3tzdSUlJw9epVbNmyBQ8ePPjoZ7lZs2awt7dH3bp1YWdnh5s3b2LRokVo1aqVNM6oW7duGDduHNq3b4+hQ4fi5cuXWLp0KcqWLSud3AAgz++H3NzP3d0dVlZWWLZsGczNzWFqaoqaNWuiXLlycHd3x+jRo/H48WNYWFhg69atHxxjEhAQIF114f33gp6eHlauXIkWLVqgQoUKCAoKQokSJfD48WMcPHgQFhYW+PvvvwEAU6ZMwe7du1G/fn0MHjwYaWlpWLhwISpUqPDR8aLq5F6wYAHq1auHatWqoX///nB1dcWDBw+wc+fOj162J7f7g3Xr1mHJkiVo37493N3d8eLFC/z000+wsLCQCrO+ffsiPj4evr6+KFmyJB4+fIiFCxeiSpUqKr1g72vdujXq1q2L8ePH48GDB/D09MQff/yRZTwTACxevBj16tWDl5cX+vXrBzc3N8TExODkyZP4999/cfnyZZX1U1NT0bhxY3Tp0kX6jNerVw9t2rQBANSpUwdFixZFYGAghg4dCoVCgQ0bNqh9uCyn/dqnyo99UZUqVaCvr49Zs2YhMTERhoaG8PX1ha2t7cfvrPb5gjruzp07ol+/fsLFxUUolUphbm4u6tatKxYuXKhyauibN2/ElClThKurqzAwMBBOTk7ZTvaWnp4uxo0bJ02i6OfnJ+7du5fjlArvn26bOSnfu6duRkdHi1atWglzc3OVSdK+/fZbUaNGDWFlZSWMjY1FuXLlxHfffffROYOE+L/JP62srISRkZGoUaOGyuSfmZDLKRUyrVixQnh7ewtjY2Nhbm4uvLy8xNixY8WTJ0+kdTInXMvNc707yWKm7Cb/tLOzE5MmTVI5tTvzMbOb/NPPz0+YmZkJExMT0ahRow/OcVShQoUsExm+KyYmRgwZMkQ4OTkJAwMDYW9vLxo3bixWrFihsl5qaqqYNWuWqFChgjA0NBRFixYV3t7eYsqUKdK8UWFhYaJt27bC0dFRKJVK4ejoKLp3757lFP+cjBkzRgAQs2bNUmkvXbq0AKAylYQQ6r0PhXg7hUK5cuWEgYGBsLOzE4MGDfqkyT8PHjwo/Pz8hKWlpTAyMhLu7u6iV69e4ty5cx/NeOvWLeHj4yOMjY0FPjD557sy51YCIH7++eds13nx4oWYMGGCKF26tFAqlaJ48eKiTp064ocffpA+W9m9LzMtX75c+Pj4iGLFiglDQ0Ph7u4uxowZI/2NM+3du1dUrFhRKJVK4eHhIX7++ecsUyrk9f2Q2/tt375deHp6iiJFiqicin/jxg3RpEkTYWZmJooXLy769esnLl++nOMUDFFRUUJfX1+ULVs2x0wXL14UHTp0kF4XZ2dn0aVLFxEWFqay3uHDh4W3t7c0qaQ6k3+qk/vatWuiffv20negh4eHyjx3mc+Z3bQUudkfXLhwQXTv3l2UKlVKmoDyyy+/VHlvb9myRTRr1kyaOLhUqVJiwIABIioq6qPb+uzZM+Hv7y9N/unv75/j5J/h4eEiICBA2NvbCwMDA1GiRAnx5Zdfii1btkjrvD/5Z9GiRYWZmZno0aOHePbsmcrjHT9+XNSqVUsYGxsLR0dHMXbsWGlanHe/MzIn/8xOTvu1nD7vOf09MvcH7/uUfVGDBg2yTPfw008/CTc3N2l6j9xOr6AQQoYRwURq6NWrF7Zs2ZLtoYT8ULVqVVhbWyMsLOyzPB+Rrnn69CkcHBwQGhqKiRMnyh2H8mDt2rUICgrC2bNnUb16dbnjFBiFZkwVUW6cO3cOly5dUhn4SkSq1q5di/T0dJUTOYioEI2pIvqQa9eu4fz585gzZw4cHBxUJogkorcOHDiAGzdu4LvvvkO7du1yPPOWqLBiTxURgC1btiAoKAhv3rzBr7/+CiMjI7kjEWmdqVOnYuTIkahSpUqWM8+ICOCYKiIiIiINYE8VERERkQawqCIiIiLSAA5Uz4WMjAw8efIE5ubm+TbVPhEREWmWEAIvXryAo6Njnia6VheLqlx48uRJlitlExERkW549OgRSpYsme/Pw6IqFzIvNfHo0SOVa8URERGR9kpKSoKTk5O0H89vLKpyIfOQn4WFBYsqIiIiHfO5hu5woDoRERGRBrCoIiIiItIAFlVEREREGsAxVURERAVYRkYGUlNT5Y6Rb5RK5WeZLiE3WFQREREVUKmpqYiIiEBGRobcUfKNnp4eXF1doVQq5Y7CooqIiKggEkIgKioK+vr6cHJy0preHE3KnJw7KioKpUqVkn2CbhZVREREBVBaWhpevnwJR0dHmJiYyB0n39jY2ODJkydIS0uDgYGBrFkKXtlKRERESE9PBwCtOCyWnzK3L3N75cSiioiIqACT+5BYftOm7WNRRURERKQBLKqIiIjooxo2bIjhw4fnev1t27ahdOnS0NfXV+t+uowD1YmIiEjjBgwYgKCgIAwdOhTm5ubo1asXEhISsG3bNrmj5RsWVURERKRRycnJiI2NhZ+fHxwdHeWO89nw8B8RERGp5fXr1xg9ejRKlCgBU1NT1KxZE4cOHQIAHDp0CObm5gAAX19fKBQKNGzYEOvWrcP27duhUCigUCik9QsS9lQRERGRWoKDg3Hjxg389ttvcHR0xJ9//onmzZvj6tWrqFOnDm7fvg0PDw9s3boVderUgYmJCfr164ekpCSsWbMGAGBtbS3zVmgeiyoiItJphxSH1Fq/oWiYLzkKi8jISKxZswaRkZHSob3Ro0dj9+7dWLNmDaZPnw5bW1sAbwsne3t7AICxsTFev34t3S6IWFQRERFRrl29ehXp6ekoW7asSvvr169RrFgxmVJpBxZVRERElGvJycnQ19fH+fPnoa+vr7LMzMxMplTagUUVERER5VrVqlWRnp6O2NhY1K9fP9f3UyqVWnEpmfzEs/+IiIgo18qWLYsePXogICAAf/zxByIiInDmzBnMmDEDO3fuzPF+Li4uuHLlCm7fvo2nT5/izZs3nzH158GiioiIiNSyZs0aBAQEYNSoUfDw8EC7du1w9uxZlCpVKsf79OvXDx4eHqhevTpsbGxw/Pjxz5j481AIIYTcIbRdUlISLC0tkZiYCAsLC7njEBHRO3j2X/ZevXqFiIgIuLq6wsjISO44+eZD2/m599/sqSIiIiLSABZVRERERBrAooqIiIhIA1hUEREREWkAiyoiIiIiDWBRRURERKQBLKqIiIiINIBFFREREZEGsKgiIiIi0gAWVUREREQaUETuAERERPT5qHtZn0+V18sCLV68GN9//z2io6NRuXJlLFy4EDVq1NBsOA1jTxURERFplU2bNmHkyJGYNGkSLly4gMqVK8PPzw+xsbFyR/sgFlVERESkVebOnYt+/fohKCgInp6eWLZsGUxMTLB69Wq5o32QrEXVjBkz8MUXX8Dc3By2trZo164dbt++rbJOw4YNoVAoVP4NHDhQZZ3IyEi0atUKJiYmsLW1xZgxY5CWlqayzqFDh1CtWjUYGhqidOnSWLt2bX5vHhEREakpNTUV58+fR5MmTaQ2PT09NGnSBCdPnpQx2cfJWlQdPnwYQ4YMwalTp7Bv3z68efMGzZo1Q0pKisp6/fr1Q1RUlPRv9uzZ0rL09HS0atUKqampOHHiBNatW4e1a9ciNDRUWiciIgKtWrVCo0aNcOnSJQwfPhx9+/bFnj17Ptu2EhER0cc9ffoU6enpsLOzU2m3s7NDdHS0TKlyR9aB6rt371a5vXbtWtja2uL8+fPw8fGR2k1MTGBvb5/tY+zduxc3btzA/v37YWdnhypVqmDatGkYN24cJk+eDKVSiWXLlsHV1RVz5swBAJQvXx7Hjh3DvHnz4Ofnl38bSERERIWGVo2pSkxMBABYW1urtP/yyy8oXrw4KlasiAkTJuDly5fSspMnT8LLy0ulovXz80NSUhKuX78urfNuN2LmOjl1I75+/RpJSUkq/4iIiCj/FS9eHPr6+oiJiVFpj4mJybGDRVtoTVGVkZGB4cOHo27duqhYsaLU/tVXX+Hnn3/GwYMHMWHCBGzYsAE9e/aUlkdHR2fbRZi57EPrJCUl4b///suSZcaMGbC0tJT+OTk5aWw7iYiIKGdKpRLe3t4ICwuT2jIyMhAWFobatWvLmOzjtGaeqiFDhuDatWs4duyYSnv//v2l/3t5ecHBwQGNGzdGeHg43N3d8yXLhAkTMHLkSOl2UlISCysiIqLPZOTIkQgMDET16tVRo0YN/Pjjj0hJSUFQUJDc0T5IK4qq4OBg7NixA0eOHEHJkiU/uG7NmjUBAPfu3YO7uzvs7e1x5swZlXUyuwwzuwnt7e2z7Ua0sLCAsbFxlucwNDSEoaFhnreHiIhIW+V1Ms7PqWvXroiLi0NoaCiio6NRpUoV7N69O8tRJ20j6+E/IQSCg4Px559/4sCBA3B1df3ofS5dugQAcHBwAADUrl0bV69eVZkQbN++fbCwsICnp6e0zrvdiJnraHs3IhERUWEVHByMhw8f4vXr1zh9+rTUqaLNZC2qhgwZgp9//hkbN26Eubk5oqOjER0dLY1zCg8Px7Rp03D+/Hk8ePAAf/31FwICAuDj44NKlSoBAJo1awZPT0/4+/vj8uXL2LNnD7755hsMGTJE6m0aOHAg7t+/j7Fjx+LWrVtYsmQJNm/ejBEjRsi27URERFSwyFpULV26FImJiWjYsCEcHBykf5s2bQLwdrDa/v370axZM5QrVw6jRo1Cx44d8ffff0uPoa+vjx07dkBfXx+1a9dGz549ERAQgKlTp0rruLq6YufOndi3bx8qV66MOXPmYOXKlZxOgYiIiDRG1jFVQogPLndycsLhw4c/+jjOzs74559/PrhOw4YNcfHiRbXyEREREeWW1kypQERERKTLWFQRERERaQCLKiIiIiINYFFFREREpAEsqoiIiIg0gEUVERERkQawqCIiIiLSABZVREREhYlC8Xn/5cGRI0fQunVrODo6QqFQYNu2bZp9DfIJiyoiIiLSKikpKahcuTIWL14sdxS1yDqjOhEREdH7WrRogRYtWsgdQ23sqSIiIiLSABZVRERERBrAooqIiIhIA1hUEREREWkAiyoiIiIiDeDZf0RERKRVkpOTce/ePel2REQELl26BGtra5QqVUrGZB/GooqIiKgwEULuBB917tw5NGrUSLo9cuRIAEBgYCDWrl0rU6qPY1FFREREWqVhw4YQOlD8vY9jqoiIiIg0gEUVERERkQawqCIiIiLSABZVRERERBrAooqIiKgA08UB3+rQpu1jUUVERFQA6evrAwBSU1NlTpK/Mrcvc3vlxCkViIiICqAiRYrAxMQEcXFxMDAwgJ5ewetHycjIQFxcHExMTFCkiPwljfwJiIiISOMUCgUcHBwQERGBhw8fyh0n3+jp6aFUqVJQKBRyR2FRRUREVFAplUqUKVOmQB8CVCqVWtMLx6KKiIioANPT04ORkZHcMQoF7SjtiIiIiHQciyoiIiIiDWBRRURERKQBLKqIiIiINIBFFREREZEGsKgiIiIi0gAWVUREREQawKKKiIiISANYVBERERFpAIsqIiIiIg1gUUVERESkASyqiIiIiDSARRURERGRBrCoIiIiItIAFlVEREREGsCiioiIiEgDWFQRERERaQCLKiIiIiINYFFFREREpAEsqoiIiIg0gEUVERERkQawqCIiIiLSABZVRERERBrAooqIiIhIA1hUEREREWkAiyoiIiIiDWBRRURERKQBshZVM2bMwBdffAFzc3PY2tqiXbt2uH37tso6r169wpAhQ1CsWDGYmZmhY8eOiImJUVknMjISrVq1gomJCWxtbTFmzBikpaWprHPo0CFUq1YNhoaGKF26NNauXZvfm0dERESFiKxF1eHDhzFkyBCcOnUK+/btw5s3b9CsWTOkpKRI64wYMQJ///03fv/9dxw+fBhPnjxBhw4dpOXp6elo1aoVUlNTceLECaxbtw5r165FaGiotE5ERARatWqFRo0a4dKlSxg+fDj69u2LPXv2fNbtJSIiooJLIYQQcofIFBcXB1tbWxw+fBg+Pj5ITEyEjY0NNm7ciE6dOgEAbt26hfLly+PkyZOoVasWdu3ahS+//BJPnjyBnZ0dAGDZsmUYN24c4uLioFQqMW7cOOzcuRPXrl2Tnqtbt25ISEjA7t27P5orKSkJlpaWSExMhIWFRf5sPBER5ckhxSG11m8oGuZLDtI+n3v/rVVjqhITEwEA1tbWAIDz58/jzZs3aNKkibROuXLlUKpUKZw8eRIAcPLkSXh5eUkFFQD4+fkhKSkJ169fl9Z59zEy18l8jPe9fv0aSUlJKv+IiIiIPkRriqqMjAwMHz4cdevWRcWKFQEA0dHRUCqVsLKyUlnXzs4O0dHR0jrvFlSZyzOXfWidpKQk/Pfff1myzJgxA5aWltI/JycnjWwjERERFVxaU1QNGTIE165dw2+//SZ3FEyYMAGJiYnSv0ePHskdiYiIiLRcEbkDAEBwcDB27NiBI0eOoGTJklK7vb09UlNTkZCQoNJbFRMTA3t7e2mdM2fOqDxe5tmB767z/hmDMTExsLCwgLGxcZY8hoaGMDQ01Mi2ERERUeEga0+VEALBwcH4888/ceDAAbi6uqos9/b2hoGBAcLCwqS227dvIzIyErVr1wYA1K5dG1evXkVsbKy0zr59+2BhYQFPT09pnXcfI3OdzMcgIiIi+lSy9lQNGTIEGzduxPbt22Fubi6NgbK0tISxsTEsLS3Rp08fjBw5EtbW1rCwsEBISAhq166NWrVqAQCaNWsGT09P+Pv7Y/bs2YiOjsY333yDIUOGSL1NAwcOxKJFizB27Fj07t0bBw4cwObNm7Fz507Ztp2IiIgKFlmnVFAoFNm2r1mzBr169QLwdvLPUaNG4ddff8Xr16/h5+eHJUuWSIf2AODhw4cYNGgQDh06BFNTUwQGBmLmzJkoUuT/asZDhw5hxIgRuHHjBkqWLImJEydKz/ExnFKBiEh7cUoFysnn3n9r1TxV2opFFRGR9mJRRTkp1PNUEREREekqFlVEREREGsCiioiIiEgDWFQRERERaQCLKiIiIiINYFFFREREpAEsqoiIiIg0gEUVERERkQawqCIiIiLSABZVRERERBrAooqIiIhIA1hUEREREWlAEbkDEBERUcGg7sWtgYJ1gWv2VBERERFpAIsqIiIiIg1Qu6hyc3PDs2fPsrQnJCTAzc1NI6GIiIiIdI3aRdWDBw+Qnp6epf3169d4/PixRkIRERER6ZpcD1T/66+/pP/v2bMHlpaW0u309HSEhYXBxcVFo+GIiIiIdEWui6p27doBABQKBQIDA1WWGRgYwMXFBXPmzNFoOCIiIiJdkeuiKiMjAwDg6uqKs2fPonjx4vkWioiIiEjXqD1PVURERH7kICIiItJpeZr8MywsDGFhYYiNjZV6sDKtXr1aI8GIiIiIdInaRdWUKVMwdepUVK9eHQ4ODlAoFPmRi4iIiEinqF1ULVu2DGvXroW/v39+5CEiIiLSSWrPU5Wamoo6derkRxYiIiIinaV2UdW3b19s3LgxP7IQERER6Sy1D/+9evUKK1aswP79+1GpUiUYGBioLJ87d67GwhERERHpCrWLqitXrqBKlSoAgGvXrqks46B1IiIiKqzULqoOHjyYHzmIiIiIdJraY6qIiIiIKCu1e6oaNWr0wcN8Bw4c+KRARERERLpI7aIqczxVpjdv3uDSpUu4du1algstExERERUWahdV8+bNy7Z98uTJSE5O/uRARERERLpIY2Oqevbsyev+ERERUaGlsaLq5MmTMDIy0tTDEREREekUtQ//dejQQeW2EAJRUVE4d+4cJk6cqLFgRERERLpE7aLK0tJS5baenh48PDwwdepUNGvWTGPBiIiIiHSJ2kXVmjVr8iMHERERkU5Tu6jKdP78edy8eRMAUKFCBVStWlVjoYiIiIh0jdpFVWxsLLp164ZDhw7BysoKAJCQkIBGjRrht99+g42NjaYzEhEREWk9tc/+CwkJwYsXL3D9+nXEx8cjPj4e165dQ1JSEoYOHZofGYmIiIi0nto9Vbt378b+/ftRvnx5qc3T0xOLFy/mQHUiIiIqtNTuqcrIyICBgUGWdgMDA2RkZGgkFBEREZGuUbuo8vX1xbBhw/DkyROp7fHjxxgxYgQaN26s0XBEREREukLtomrRokVISkqCi4sL3N3d4e7uDldXVyQlJWHhwoX5kZGIiIhI66k9psrJyQkXLlzA/v37cevWLQBA+fLl0aRJE42HIyIiItIVeZqnSqFQoGnTpmjatKmm8xARERHpJLUP/w0dOhQLFizI0r5o0SIMHz5cE5mIiIiIdI7aRdXWrVtRt27dLO116tTBli1bNBKKiIiISNeoXVQ9e/Ysy0WVAcDCwgJPnz7VSCgiIiIiXaN2UVW6dGns3r07S/uuXbvg5uamkVBEREREukbtgeojR45EcHAw4uLi4OvrCwAICwvDnDlz8OOPP2o6HxEREZFOULuo6t27N16/fo3vvvsO06ZNAwC4uLhg6dKlCAgI0HhAIiIiIl2QpykVBg0ahEGDBiEuLg7GxsYwMzPTdC4iIiIinaL2mKp32djYfFJBdeTIEbRu3RqOjo5QKBTYtm2byvJevXpBoVCo/GvevLnKOvHx8ejRowcsLCxgZWWFPn36IDk5WWWdK1euoH79+jAyMoKTkxNmz56d58xERERE2fmkoupTpaSkoHLlyli8eHGO6zRv3hxRUVHSv19//VVleY8ePXD9+nXs27cPO3bswJEjR9C/f39peVJSEpo1awZnZ2ecP38e33//PSZPnowVK1bk23YRERFR4ZOnw3+a0qJFC7Ro0eKD6xgaGsLe3j7bZTdv3sTu3btx9uxZVK9eHQCwcOFCtGzZEj/88AMcHR3xyy+/IDU1FatXr4ZSqUSFChVw6dIlzJ07V6X4IiIiIvoUshZVuXHo0CHY2tqiaNGi8PX1xbfffotixYoBAE6ePAkrKyupoAKAJk2aQE9PD6dPn0b79u1x8uRJ+Pj4QKlUSuv4+flh1qxZeP78OYoWLZrlOV+/fo3Xr19Lt5OSkvJxC4mIiIBDikNqrd9QNMyXHJR3n3T479WrV5rKka3mzZtj/fr1CAsLw6xZs3D48GG0aNEC6enpAIDo6GjY2tqq3KdIkSKwtrZGdHS0tI6dnZ3KOpm3M9d534wZM2BpaSn9c3Jy0vSmERERUQGjdlGVkZGBadOmoUSJEjAzM8P9+/cBABMnTsSqVas0Gq5bt25o06YNvLy80K5dO+zYsQNnz57FoUOHNPo875swYQISExOlf48ePcrX5yMiIiLdp3ZR9e2332Lt2rWYPXu2yiG1ihUrYuXKlRoN9z43NzcUL14c9+7dAwDY29sjNjZWZZ20tDTEx8dL47Ds7e0RExOjsk7m7ZzGahkaGsLCwkLlHxEREdGHqF1UrV+/HitWrECPHj2gr68vtVeuXBm3bt3SaLj3/fvvv3j27BkcHBwAALVr10ZCQgLOnz8vrXPgwAFkZGSgZs2a0jpHjhzBmzdvpHX27dsHDw+PbMdTEREREeWF2kXV48ePUbp06SztGRkZKoVLbiQnJ+PSpUu4dOkSACAiIgKXLl1CZGQkkpOTMWbMGJw6dQoPHjxAWFgY2rZti9KlS8PPzw8AUL58eTRv3hz9+vXDmTNncPz4cQQHB6Nbt25wdHQEAHz11VdQKpXo06cPrl+/jk2bNmH+/PkYOXKkuptORERElCO1iypPT08cPXo0S/uWLVtQtWpVtR7r3LlzqFq1qnS/kSNHomrVqggNDYW+vj6uXLmCNm3aoGzZsujTpw+8vb1x9OhRGBoaSo/xyy+/oFy5cmjcuDFatmyJevXqqcxBZWlpib179yIiIgLe3t4YNWoUQkNDOZ0CERERaZTaUyqEhoYiMDAQjx8/RkZGBv744w/cvn0b69evx44dO9R6rIYNG0IIkePyPXv2fPQxrK2tsXHjxg+uU6lSpWwLQSIiIiJNUbunqm3btvj777+xf/9+mJqaIjQ0FDdv3sTff/+Npk2b5kdGIiIiIq2Xp8k/69evj3379mk6CxEREZHOytPknwkJCVi5ciW+/vprxMfHAwAuXLiAx48fazQcERERka5Qu6fqypUraNKkCSwtLfHgwQP07dsX1tbW+OOPPxAZGYn169fnR04iIiIiraZ2T9XIkSPRq1cv3L17F0ZGRlJ7y5YtceTIEY2GIyIiItIVahdVZ8+exYABA7K0lyhRIsdr6REREREVdGoXVYaGhkhKSsrSfufOHdjY2GgkFBEREZGuUbuoatOmDaZOnSrNnq5QKBAZGYlx48ahY8eOGg9IREREpAvULqrmzJmD5ORk2Nra4r///kODBg1QunRpmJub47vvvsuPjERERERaT+2z/ywtLbFv3z4cO3YMV65cQXJyMqpVq4YmTZrkRz4iIiIinaB2UXX//n24ubmhXr16qFevXn5kIiIiItI5ah/+K126NBo1aoSff/4Zr169yo9MRERERDpH7aLqwoULqFSpEkaOHAl7e3sMGDAAp0+fzo9sRERERDpD7aKqSpUqmD9/Pp48eYLVq1cjKioK9evXR8WKFTF37lzExcXlR04iIiIirZana/8BQJEiRdChQwf8/vvvmDVrFu7du4fRo0fDyckJAQEBiIqK0mROIiIiIq2W56Lq3LlzGDx4MBwcHDB37lyMHj0a4eHh2LdvH548eYK2bdtqMicRERGRVlP77L+5c+dizZo1uH37Nlq2bIn169ejZcuW0NN7W5+5urpi7dq1cHFx0XRWIiIiIq2ldlG1dOlS9O7dG7169YKDg0O269ja2mLVqlWfHI6IiIhIV6hdVN29e/ej6yiVSgQGBuYpEBEREZEuUruoAoCEhASsWrUKN2/eBABUqFABvXv3hqWlpUbDEREREekKtQeqnzt3Du7u7pg3bx7i4+MRHx+PuXPnwt3dHRcuXMiPjERERERaT+2eqhEjRqBNmzb46aefUKTI27unpaWhb9++GD58OI4cOaLxkERERETaTu2i6ty5cyoFFfB2zqqxY8eievXqGg1HREREpCvUPvxnYWGByMjILO2PHj2Cubm5RkIRERER6Rq1i6quXbuiT58+2LRpEx49eoRHjx7ht99+Q9++fdG9e/f8yEhERESk9dQ+/PfDDz9AoVAgICAAaWlpAAADAwMMGjQIM2fO1HhAIiIiIl2gdlGlVCoxf/58zJgxA+Hh4QAAd3d3mJiYaDwcERERka7I0zxVAGBiYgIvLy9NZiEiIiLSWbkqqjp06JDrB/zjjz/yHIaIiIhIV+WqqOJM6UREREQflquias2aNfmdg4iIiEin5XlMVWxsLG7fvg0A8PDwgK2trcZCEREREekateepSkpKgr+/P0qUKIEGDRqgQYMGKFGiBHr27InExMT8yEhERESk9dQuqvr164fTp09jx44dSEhIQEJCAnbs2IFz585hwIAB+ZGRiIiISOupffhvx44d2LNnD+rVqye1+fn54aeffkLz5s01Go6IiIhIV6jdU1WsWLFszwa0tLRE0aJFNRKKiIiISNeoXVR98803GDlyJKKjo6W26OhojBkzBhMnTtRoOCIiIiJdofbhv6VLl+LevXsoVaoUSpUqBQCIjIyEoaEh4uLisHz5cmndCxcuaC4pERERkRZTu6hq165dPsQgIiIi0m1qF1WTJk3KjxxEREREOi3Pk38CQHJyMjIyMlTaLCwsPikQERERkS5Se6B6REQEWrVqBVNTU+mMv6JFi8LKyopn/xEREVGhpXZPVc+ePSGEwOrVq2FnZweFQpEfuYiIiIh0itpF1eXLl3H+/Hl4eHjkRx4iIiIinaT24b8vvvgCjx49yo8sRERERDpL7Z6qlStXYuDAgXj8+DEqVqwIAwMDleWVKlXSWDgiIiIiXaF2URUXF4fw8HAEBQVJbQqFAkIIKBQKpKenazQgERERkS5Qu6jq3bs3qlatil9//ZUD1YmIiIj+P7WLqocPH+Kvv/5C6dKl8yMPERERkU5Se6C6r68vLl++nB9ZiIiIiHSW2j1VrVu3xogRI3D16lV4eXllGajepk0bjYUjIiIi0hVqF1UDBw4EAEydOjXLMg5UJyIiosJK7aLq/Wv9EREREVEexlQRERERUVa5LqpatmyJxMRE6fbMmTORkJAg3X727Bk8PT01Go6IiIhIV+S6qNqzZw9ev34t3Z4+fTri4+Ol22lpabh9+7ZaT37kyBG0bt0ajo6OUCgU2LZtm8pyIQRCQ0Ph4OAAY2NjNGnSBHfv3lVZJz4+Hj169ICFhQWsrKzQp08fJCcnq6xz5coV1K9fH0ZGRnBycsLs2bPVyklERET0MbkuqoQQH7ydFykpKahcuTIWL16c7fLZs2djwYIFWLZsGU6fPg1TU1P4+fnh1atX0jo9evTA9evXsW/fPuzYsQNHjhxB//79peVJSUlo1qwZnJ2dcf78eXz//feYPHkyVqxY8cn5iYiIiDKpPVBdk1q0aIEWLVpku0wIgR9//BHffPMN2rZtCwBYv3497OzssG3bNnTr1g03b97E7t27cfbsWVSvXh0AsHDhQrRs2RI//PADHB0d8csvvyA1NRWrV6+GUqlEhQoVcOnSJcydO1el+CIiIiL6FLnuqVIoFFkuSZOfl6iJiIhAdHQ0mjRpIrVZWlqiZs2aOHnyJADg5MmTsLKykgoqAGjSpAn09PRw+vRpaR0fHx8olUppHT8/P9y+fRvPnz/P9rlfv36NpKQklX9EREREH5LrniohBHr16gVDQ0MAwKtXrzBw4ECYmpoCgMp4K02Ijo4GANjZ2am029nZScuio6Nha2ursrxIkSKwtrZWWcfV1TXLY2QuK1q0aJbnnjFjBqZMmaKZDSEiIqJCIddFVWBgoMrtnj17ZlknICDg0xNpgQkTJmDkyJHS7aSkJDg5OcmYiIiIiLRdrouqNWvW5GeOLOzt7QEAMTExcHBwkNpjYmJQpUoVaZ3Y2FiV+6WlpSE+Pl66v729PWJiYlTWybyduc77DA0NpR45IiIiotzQ2sk/XV1dYW9vj7CwMKktKSkJp0+fRu3atQEAtWvXRkJCAs6fPy+tc+DAAWRkZKBmzZrSOkeOHMGbN2+kdfbt2wcPD49sD/0RERER5YWsRVVycjIuXbqES5cuAXg7OP3SpUuIjIyEQqHA8OHD8e233+Kvv/7C1atXERAQAEdHR7Rr1w4AUL58eTRv3hz9+vXDmTNncPz4cQQHB6Nbt25wdHQEAHz11VdQKpXo06cPrl+/jk2bNmH+/Pkqh/eIiIiIPpWsUyqcO3cOjRo1km5nFjqBgYFYu3Ytxo4di5SUFPTv3x8JCQmoV68edu/eDSMjI+k+v/zyC4KDg9G4cWPo6emhY8eOWLBggbTc0tISe/fuxZAhQ+Dt7Y3ixYsjNDSU0ykQERGRRimEJmbxLOCSkpJgaWmJxMREWFhYyB2HiIjecUhxSK31G4qG+ZLjUxWE7VB3G4D83Y7Pvf/W2jFVRERERLqERRURERGRBrCoIiIiItIAFlVEREREGsCiioiIiEgDWFQRERERaQCLKiIiIiINYFFFREREpAEsqoiIiIg0gEUVERERkQawqCIiIiLSABZVRERERBrAooqIiIhIA1hUEREREWkAiyoiIiIiDWBRRURERKQBLKqIiIiINKCI3AEKskOKQ2qt31A0zJccRERElP/YU0VERESkASyqiIiIiDSARRURERGRBrCoIiIiItIAFlVEREREGsCiioiIiEgDWFQRERERaQCLKiIiIiINYFFFREREpAEsqoiIiIg0gEUVERERkQawqCIiIiLSABZVRERERBrAooqIiIhIA1hUEREREWkAiyoiIiIiDWBRRURERKQBLKqIiIiINIBFFREREZEGsKgiIiIi0gAWVUREREQawKKKiIiISANYVBERERFpAIsqIiIiIg1gUUVERESkASyqiIiIiDSgiNwBSLsdUhxS+z4NRUON5yAiItJ27KkiIiIi0gAWVUREREQawKKKiIiISAM4poqIqJDimEkizWJPFREREZEGsKeKiCgP1O3lYQ8PUcHHnioiIiIiDWBPFRERFS4Khfr3EULzOajAYU8VERERkQZodVE1efJkKBQKlX/lypWTlr969QpDhgxBsWLFYGZmho4dOyImJkblMSIjI9GqVSuYmJjA1tYWY8aMQVpa2ufeFCIiIirgtP7wX4UKFbB//37pdpEi/xd5xIgR2LlzJ37//XdYWloiODgYHTp0wPHjxwEA6enpaNWqFezt7XHixAlERUUhICAABgYGmD59+mffFiIiIiq4tL6oKlKkCOzt7bO0JyYmYtWqVdi4cSN8fX0BAGvWrEH58uVx6tQp1KpVC3v37sWNGzewf/9+2NnZoUqVKpg2bRrGjRuHyZMnQ6lUfu7NISIiogJK64uqu3fvwtHREUZGRqhduzZmzJiBUqVK4fz583jz5g2aNGkirVuuXDmUKlUKJ0+eRK1atXDy5El4eXnBzs5OWsfPzw+DBg3C9evXUbVq1Wyf8/Xr13j9+rV0OykpKf82kD4Lnv5ORET5TavHVNWsWRNr167F7t27sXTpUkRERKB+/fp48eIFoqOjoVQqYWVlpXIfOzs7REdHAwCio6NVCqrM5ZnLcjJjxgxYWlpK/5ycnDS7YURERFTgaHVPVYsWLaT/V6pUCTVr1oSzszM2b94MY2PjfHveCRMmYOTIkdLtpKQkFlZERET0QVpdVL3PysoKZcuWxb1799C0aVOkpqYiISFBpbcqJiZGGoNlb2+PM2fOqDxG5tmB2Y3TymRoaAhDQ0PNbwDRJ+JhTCIi7aXVh//el5ycjPDwcDg4OMDb2xsGBgYICwuTlt++fRuRkZGoXbs2AKB27dq4evUqYmNjpXX27dsHCwsLeHp6fvb8REREVHBpdU/V6NGj0bp1azg7O+PJkyeYNGkS9PX10b17d1haWqJPnz4YOXIkrK2tYWFhgZCQENSuXRu1atUCADRr1gyenp7w9/fH7NmzER0djW+++QZDhgxhTxQRERFplFYXVf/++y+6d++OZ8+ewcbGBvXq1cOpU6dgY2MDAJg3bx709PTQsWNHvH79Gn5+fliyZIl0f319fezYsQODBg1C7dq1YWpqisDAQEydOlWuTSIiIqICSquLqt9+++2Dy42MjLB48WIsXrw4x3WcnZ3xzz//aDoaERERkQqdGlNFREREpK1YVBERERFpAIsqIiIiIg1gUUVERESkASyqiIiIiDSARRURERGRBrCoIiIiItIAFlVEREREGqDVk38SUcGj7kWhAV4YmqhAUyjUW1+I/MmhAeypIiIiItIAFlVEREREGsCiioiIiEgDWFQRERERaQCLKiIiIiINYFFFREREpAEsqoiIiIg0gEUVERERkQawqCIiIiLSAM6oTkREpIsK0EzkBQV7qoiIiIg0gEUVERERkQawqCIiIiLSABZVRERERBrAooqIiIhIA1hUEREREWkAiyoiIiIiDWBRRURERKQBLKqIiIiINIBFFREREZEGsKgiIiIi0gAWVUREREQawKKKiIiISANYVBERERFpAIsqIiIiIg1gUUVERESkASyqiIiIiDSARRURERGRBrCoIiIiItKAInIHoHcoFOrfRwjN5yAiIiK1saeKiIiISANYVBERERFpAIsqIiIiIg1gUUVERESkASyqiIiIiDSAZ/8RZaegnImp7nZo4zYUFHxPERV47KkiIiIi0gAWVUREREQawMN/pHk8PEBERIUQe6qIiIiINIBFFREREZEGsKgiIiIi0gAWVUREREQawIHqRKT9ePIDEekA9lQRERERaUChKqoWL14MFxcXGBkZoWbNmjhz5ozckYiIiKiAKDRF1aZNmzBy5EhMmjQJFy5cQOXKleHn54fY2Fi5oxEREVEBUGiKqrlz56Jfv34ICgqCp6cnli1bBhMTE6xevVruaERERFQAFIqiKjU1FefPn0eTJk2kNj09PTRp0gQnT56UMRkREREVFIXi7L+nT58iPT0ddnZ2Ku12dna4detWlvVfv36N169fS7cTExMBAElJSWo9bwpS1FpfvUfPvFOe7pVr6m4DkIftyOdtAArG3wL4DNuhhdsAFIzt0Mb3FP8W6typAGyHFm4DkL/bkbnfFp/pjOBCUVSpa8aMGZgyZUqWdicnJxnSfISlpdwJPl1B2AagYGxHQdgGgNuhTQrCNgAFYzsKwjYAedqOFy9ewPIzbH+hKKqKFy8OfX19xMTEqLTHxMTA3t4+y/oTJkzAyJEjpdsZGRmIj49HsWLFoFB3vpxcSkpKgpOTEx49egQLC4t8eY7PoSBsR0HYBoDboU0KwjYABWM7CsI2ANyO3BJC4MWLF3B0dNT4Y2enUBRVSqUS3t7eCAsLQ7t27QC8LZTCwsIQHBycZX1DQ0MYGhqqtFlZWX2GpICFhYVOf0AyFYTtKAjbAHA7tElB2AagYGxHQdgGgNuRG5+jhypToSiqAGDkyJEIDAxE9erVUaNGDfz4449ISUlBUFCQ3NGIiIioACg0RVXXrl0RFxeH0NBQREdHo0qVKti9e3eWwetEREREeVFoiioACA4OzvZwnzYwNDTEpEmTshx21DUFYTsKwjYA3A5tUhC2ASgY21EQtgHgdmgrhfhc5xkSERERFWCFYvJPIiIiovzGooqIiIhIA1hUEREREWkAiyoiIiIiDWBRRURERKQBLKpkMnXqVLx8+VLuGFSApKWlYerUqfj333/ljkKkVR49eqTyuThz5gyGDx+OFStWyJhKffr6+oiNjc3S/uzZM+jr68uQiN7HKRVkoq+vj6ioKNja2sod5ZMlJiZi3759ePDgARQKBVxdXdGkSROdunTCu9d6fJdCoYCRkRFKly6Ntm3bwtra+jMnU4+5uTmuXr0KFxcXuaN8El9fX/zxxx9ZLg+VlJSEdu3a4cCBA/IEK4QWLFiQbfu7nw0fHx+t3qnXr18f/fv3h7+/P6Kjo+Hh4YEKFSrg7t27CAkJQWhoqNwRc0VPTw/R0dFZ9htPnjyBu7s7/vvvP5mSfVjVqlVzfd3cCxcu5HOa/FWoJv/UJgWllv35558RHByMpKQklXZLS0ssW7YMXbt2lSmZei5evIgLFy4gPT0dHh4eAIA7d+5AX18f5cqVw5IlSzBq1CgcO3YMnp6eMqfNma+vLw4fPqzzRdWhQ4eQmpqapf3Vq1c4evSoDInU1759+2x3JO8WI1999ZX0ftNW8+bNQ1xcHF6+fImiRYsCAJ4/fw4TExOYmZkhNjYWbm5uOHjwIJycnGROm71r166hRo0aAIDNmzejYsWKOH78OPbu3YuBAwdqfVGVWdgqFAqsXLkSZmZm0rL09HQcOXIE5cqVkyveR2Vec7cwYFElo9xW7trqwoULCAoKQo8ePTBixAiUK1cOQgjcuHEDP/74I/z9/VGuXDlUrlxZ7qgfldkLtWbNGqmHLTExEX379kW9evXQr18/fPXVVxgxYgT27Nkjc9qctWjRAuPHj8fVq1fh7e0NU1NTleVt2rSRKVnuXLlyRfr/jRs3EB0dLd1OT0/H7t27UaJECTmiqc3S0hLbtm2DlZUVvL29Abz9zCQkJKBZs2bYtGkTZs2ahbCwMNStW1fmtDmbPn06VqxYgZUrV8Ld3R0AcO/ePQwYMAD9+/dH3bp10a1bN4wYMQJbtmyROW323rx5I83YvX//fulzUK5cOURFRckZLVfmzZsH4O2P8WXLlqn0CiqVSri4uGDZsmVyxfuoSZMmyR3h8xEkC4VCIaysrETRokU/+E+b9erVS3Tq1CnH5R07dhRBQUGfMVHeOTo6iuvXr2dpv3btmnB0dBRCCHH+/HlRrFixzx1NLQqFIsd/enp6csf7qMycenp62W6DiYmJWLVqldwxc2XcuHFi0KBBIj09XWpLT08XwcHBYsKECSIjI0P0799f1K1bV8aUH+fm5iYuXryYpf3ChQvC1dVVCCHE8ePHhb29/WdOlns1atQQ48aNE0eOHBFGRkbi0qVLQgghTp48KUqUKCFzutxr2LCheP78udwx6APYUyWjKVOmwNLSUu4YeXb8+HEsWbIkx+UDBw7E4MGDP2OivEtMTERsbGyWQ3txcXHSoU0rK6tsD0lpk4yMDLkjfJKIiAgIIeDm5oYzZ87AxsZGWqZUKmFra6vVY3fetWrVKhw/fhx6ev93PpCenh5CQkJQp04dTJ8+HcHBwahfv76MKT8uKioKaWlpWdrT0tKknkRHR0e8ePHic0fLtVmzZqF9+/b4/vvvERgYKPWe//XXX9JhQW335s0bREZGIioqKstYQ12Snp6OefPmYfPmzYiMjMzynRofHy9TMs1gUSWjbt266fRA9SdPnqBs2bI5Li9btiweP378GRPlXdu2bdG7d2/MmTMHX3zxBQDg7NmzGD16tDQe4MyZMx/cXm0RFhaGsLAwxMbGqhRZCoUCq1atkjHZxzk7OwPQ/eIQeFt03Lp1K8t75tatW0hPTwcAGBkZaf0wgEaNGmHAgAFYuXIlqlatCuDtGMRBgwbB19cXAHD16lW4urrKGfODGjZsiKdPnyIpKUkaFwYA/fv3h4mJiYzJcs/AwACvXr2SO8YnmzJlClauXIlRo0bhm2++wf/+9z88ePAA27Zt0/qxbbnBoory7OXLlzAyMspxuaGhoc58CSxfvhwjRoxAt27dpF/lRYoUQWBgoDSeoVy5cli5cqWcMT9qypQpmDp1KqpXrw4HBwet32F/yN27d3Hw4MEsxSEAnfjy9ff3R58+ffD111+rFOrTp09HQEAAAODw4cOoUKGCnDE/atWqVfD394e3tzcMDAwAvC0YGzduLBXpZmZmmDNnjpwxP0oIgfPnzyM8PBxfffUVzM3NoVQqdaaoAoAhQ4Zg1qxZWLlyJYoU0c3d9y+//IKffvoJrVq1wuTJk9G9e3e4u7ujUqVKOHXqFIYOHSp3xE/CKRVkoqenh5iYGJXDG7pGT08P69aty/EQZkJCAoKCgqRf5bogOTkZ9+/fBwC4ubmpnGWjCxwcHDB79mz4+/vLHeWT/PTTTxg0aBCKFy8Oe3t7leJQoVDoxGnX6enpmDlzJhYtWoSYmBgAgJ2dHUJCQjBu3Djo6+sjMjISenp6KFmypMxpP+7WrVu4c+cOAMDDw0Prz1p818OHD9G8eXNERkbi9evXuHPnDtzc3DBs2DC8fv1aqwd5v6t9+/YICwuDmZkZvLy8spyI8scff8iULPdMTU1x8+ZNlCpVCg4ODti5cyeqVauG+/fvo2rVqkhMTJQ74idhUSWTnE63fp82f0jeHSuSE4VCoVNFla4rVqwYzpw5I52lpaucnZ0xePBgjBs3Tu4oGpE5Lk+X5m4rSNq1awdzc3OsWrUKxYoVw+XLl+Hm5oZDhw6hX79+uHv3rtwRcyUoKOiDy9esWfOZkuSdh4cH1q9fj5o1a6JevXr48ssvMX78eGzatAkhISHZTm6qS3Sz/7AA0OWBhpkKwriXTCkpKZg5c2a2Y5EASL1X2q5v377YuHEjJk6cKHeUT/L8+XN07txZ7hgao8vFVHp6OtauXZvjZ0MXJmI9evQoTpw4AaVSqdLu4uKiM+M+Ad0omj4ms7etZs2aCAkJQc+ePbFq1SpERkZixIgRcsf7ZCyqZFIQPhwFSd++fXH48GH4+/vr3Fikd2eDz8jIwIoVK7B//35UqlRJGgOTae7cuZ87Xp507txZmphRV8XExGD06NFSMfL+QQFd6cEdNmwY1q5di1atWqFixYo69dnIlJGRke3r/e+//8Lc3FyGRJ8mLi4Ot2/fBvC250eXhpHMnDlT+n/Xrl3h7OyMEydOoEyZMmjdurWMyTSDh/8oT/76669cr6vtE04Cb3sOd+7cqdWTMOakUaNGuVpPoVDoRK8CAMyYMQNz585Fq1at4OXllaU41IXBrC1atEBkZCSCg4OzLdTbtm0rUzL1FC9eHOvXr0fLli3ljpJnXbt2haWlJVasWAFzc3NcuXIFNjY2aNu2LUqVKqUzP3JTUlIQEhKC9evXSz2G+vr6CAgIwMKFC3Vq0H1BxaKK8uT98VQKhULll/i7OxBd+EXu6uqKf/75B+XLl5c7CgEfPD1foVDoxOFYc3NzHD16FFWqVJE7yidxdHTEoUOHdGI6kZz8+++/8PPzgxACd+/eRfXq1XH37l0UL14cR44c0ZmpbQYMGID9+/dj0aJF0g/AY8eOYejQoWjatCmWLl0qc8KPmzFjBuzs7NC7d2+V9tWrVyMuLk7nx1GyqKJPtn//fowbNw7Tp09H7dq1AQAnT57EN998g+nTp6Np06YyJ/y4n3/+Gdu3b8e6dev4a480wtPTE7/88os0t5OumjNnDu7fv49Fixbp5KG/TGlpafjtt99w5coVJCcno1q1aujRoweMjY3ljpZrxYsXx5YtW9CwYUOV9oMHD6JLly6Ii4uTJ5gaXFxcsHHjRtSpU0el/fTp0+jWrRsiIiJkSqYZLKrok1WsWBHLli1DvXr1VNqPHj2K/v374+bNmzIly72qVasiPDwcQgi4uLhkOdykC6fwF0SpqamIiIiAu7u7zs3Ls3fvXsyZMwfLly/X6Qtct2/fHgcPHoS1tTUqVKiQ5bOhzWcoFzQmJiY4f/58lh7169evo0aNGkhJSZEpWe4ZGRnh5s2bWXqj79+/D09PT52Z2zAnuvUtRVopPDw827MZLS0t8eDBg8+eJy8K01XUdcHLly8REhKCdevWAYA0r1BISAhKlCiB8ePHy5zw47p27YqXL1/C3d0dJiYmWYoRXbkch5WVFdq3by93DLUVtHGfAFC7dm1MmjQJ69evlyZe/u+//zBlyhTpKIG2c3JywvHjx7MUVcePH4ejo6NMqTSHPVX0yXx8fGBkZIQNGzbAzs4OwNsznwICAvDq1SscPnxY5oSka4YNG4bjx4/jxx9/RPPmzXHlyhW4ublh+/btmDx5Mi5evCh3xI/KLAhzEhgY+JmSFE65mUcP0K259K5duwY/Pz+8fv1aun7h5cuXYWRkhD179mj97PwAMHv2bMyePRvff/+9dJmjsLAwjB07FqNGjcKECRNkTvhpWFTRJ7t37x7at2+PO3fuwMnJCQDw6NEjlClTBtu2bUPp0qVlTki6xtnZGZs2bUKtWrVgbm4uTdZ47949VKtWTZpMk6iwefnyJX755RfcunULAFC+fHmdGhsmhMD48eOxYMEC6WLKRkZGGDdunE5cfupjWFSRRgghsG/fPpUPepMmTbR6YKu1tTXu3LmD4sWLo2jRoh/MqiuHagoKExMTXLt2DW5ubipF1eXLl+Hj46O1l7JISkqSJvr8WOGnKxOCPnv2DKGhoTleh5GfDcqL5ORk3Lx5E8bGxihTpgwMDQ3ljqQRHFNFGqFQKNCsWTM0a9ZM7ii5Nm/ePGniv3nz5ml1AVjYVK9eHTt37kRISAiA/5uiY+XKlVo9dqRo0aKIioqCra0trKyssn1PCSF06pCTv78/7t27hz59+sDOzk5nPycpKSk4fPgwIiMjpR6STLow71mm27dvY+HChdIJQOXLl0dwcDDKlSsnczL1mJmZSRcaL0jYU0UaERYWluNlLFavXi1TKtJVx44dQ4sWLdCzZ0+sXbsWAwYMwI0bN3DixAkcPnwY3t7eckfM1uHDh1G3bl0UKVLko2MJGzRo8JlSfRpzc3McO3ZMGsOjiy5evIiWLVvi5cuXSElJgbW1NZ4+fQoTExPY2trqxLxnALB161Z069YN1atXl35cnDp1CmfPnsVvv/2Gjh07ypwwex06dMDatWthYWGBDh06fHBdXT+blD1V9MmmTJmCqVOnonr16jp3iZdM+vr6Ug/Du549ewZbW1ud6VUoKOrVq4dLly5h5syZ8PLywt69e1GtWjWcPHkSXl5ecsfL0buFkqurK5ycnLJ8HoQQePTo0eeOlmflypXDf//9J3eMTzJixAi0bt0ay5Ytg6WlJU6dOgUDAwP07NkTw4YNkztero0dOxYTJkzA1KlTVdonTZqEsWPHam1RZWlpKX0OLC0tZU6Tv9hTRZ/MwcEBs2fPhr+/v9xR8kxPTw/R0dFZiqonT57A3d1d53cq9PkVlEL97NmzGD9+PEJDQ1GxYsUsU0PowtgwKysrnD59Gh4eHrCyssLJkydRvnx5nD59GoGBgdJYUG1nYmKCK1euZDn55+7du6hcuTJevnwpUzLKxJ4q+mSpqalZZsfVFQsWLADwdszOypUrYWZmJi1LT0/HkSNHdG6sQkESGxub7SHlSpUqyZQo9zLHTr0vOTlZmmNIF1hZWSEpKUk6/T2TLo0NMzAwkKZYsLW1RWRkJMqXLw9LS0ud6jVs2LAhjh49mqWoOnbsGOrXry9TKnoXiyr6ZH379sXGjRsxceJEuaOobd68eQDe7iCWLVsGfX19aZlSqYSLiwuWLVsmV7xC6/z58wgMDMTNmzfxfme6tu/IR44cCeBtzokTJ6pc9ig9PR2nT5/WqesB9ujRAwYGBti4caPODlSvWrUqzp49izJlyqBBgwYIDQ3F06dPsWHDBlSsWFHueLnWpk0bjBs3DufPn0etWrUAvB1T9fvvv2PKlCkqE55q64SmMTExGD16tDQG9/3PtzZ/tnODh//okw0bNgzr169HpUqVUKlSpSyHB+bOnStTstxr1KgR/vjjDxQtWlTuKASgcuXKcHd3x7hx47LdkTs7O8uU7OMaNWoE4O2g9dq1a0OpVErLMgv10aNHo0yZMnJFVIuJiQkuXrwIDw8PuaPk2blz5/DixQs0atQIsbGxCAgIwIkTJ1C2bFmsXLlSZ4rcgjChaYsWLRAZGYng4OBsx+C2bdtWpmSawaKKPlnmTiQ7CoUCBw4c+IxpqCAwNzfHxYsXdXri2KCgIMyfP18nxhx9iI+PD0JDQ9GkSRO5o+TZf//9ByGE1Gv44MED/Pnnn/D09ISfn5/M6QoXc3NzHD16VGcKWXXx8B99soMHD8od4ZOlp6dj7dq1OU4LwcLw82rcuDEuX76s00XVmjVrALy94kB4eDh8fHxgbGyc41grbRUSEoJhw4ZhzJgx8PLyytITrQvj29q2bYsOHTpg4MCBSEhIQK1atWBgYICnT59i7ty5GDRokNwRCw0nJ6csh/wKEvZUEQEIDg7G2rVr0apVq2y7pDPHXtHn8fTpUwQGBqJGjRrZnnGmreNF3hUfH4/OnTvj4MGDUCgUuHv3Ltzc3NC7d28ULVoUc+bMkTtirmR3yEmhUOjUQPXixYvj8OHDqFChAlauXImFCxfi4sWL2Lp1K0JDQ6WJNHVBWFgY5s2bpzL55/Dhw3WmJ3Hv3r2YM2cOli9fDhcXF7njaBx7qkgjzp07h82bN2c7W7EuTOb222+/YfPmzWjZsqXcUQjAyZMncfz4cezatSvLMl3ZkQ8fPhwGBgbSmWaZunbtipEjR+pMURURESF3hE/28uVL6eoJe/fuRYcOHaCnp4datWrh4cOHMqfLvSVLlmDYsGHo1KmTNL/WqVOn0LJlS8ybNw9DhgyROeHHde3aFS9fvoS7uztMTEyy/GDS9csesaiiT/bbb78hICAAfn5+2Lt3L5o1a4Y7d+4gJiYG7du3lzteriiVSp0+1FTQhISEoGfPnpg4cSLs7OzkjpMne/fuxZ49e1CyZEmV9jJlyujUjjy3JwW0atUKK1euhIODQz4nUl/p0qWxbds2tG/fHnv27MGIESMAvJ2yQ5fGvE2fPh3z5s1DcHCw1DZ06FDUrVsX06dP14mi6scff5Q7Qv4SRJ/Iy8tLLFq0SAghhJmZmQgPDxcZGRmiX79+IjQ0VOZ0ufPDDz+IwYMHi4yMDLmjkHj7Prp3757cMT6JmZmZuHPnjvT/8PBwIYQQZ8+eFdbW1nJGyxfvbqO2+f3334WBgYHQ09MTTZs2ldqnT58umjdvLmMy9Ziamoq7d+9mab9z544wNTWVIRG9jz1V9MnCw8PRqlUrAG97fFJSUqBQKDBixAj4+vpiypQpMif8uGPHjuHgwYPYtWsXKlSokKVLWhcOYRYkHTp0wMGDB+Hu7i53lDyrX78+1q9fj2nTpgF4e9gyIyMDs2fP/uAZs6R5nTp1Qr169RAVFaVyDcPGjRvrTG868HYs4Z9//okxY8aotG/fvh1ffvmlTKnUl5GRgXv37mV7UpCPj49MqTSDRRV9sqJFi+LFixcAgBIlSuDatWvw8vJCQkKCzlw2wcrKSqe+XAu6smXLYsKECTh27Fi2Z5wNHTpUpmS5N3v2bDRu3Bjnzp1Damoqxo4di+vXryM+Ph7Hjx+XO16hY29vD3t7e5W2GjVqyJQmbzw9PfHdd9/h0KFDKhdUPn78OEaNGiVdIQLQ3s/IqVOn8NVXX+Hhw4c6N7FvbvDsP/pkX331FapXr46RI0di2rRpWLhwIdq2bYt9+/ahatWq+PPPP+WOSDrG1dU1x2UKhQL379//jGnyLjExEYsWLcLly5eRnJyMatWqYciQIVo57uhTmZub4/Lly3Bzc5M7SoH1oc/Fu7T5M1KlShWULVsWU6ZMyfZMa12/4DKLKvpk8fHxePXqFRwdHaXDGydOnECZMmUwevToArkDIfqYgwcP5niYb/HixToxqFgdLKooN0xNTXV+DroPyd2c90QfYG1tDUdHRwBv57QZP348Nm/eDEdHR1StWlXmdLnj6uoKNze3HP+RPFJTU3H79m2kpaXJHUVtHTp0wPnz57O0z58/HxMmTJAhEZH8atasiXv37skdI99wTBXl2evXrzF58mTs27cPSqUSY8eORbt27bBmzRp888030NfXl05d1nbDhw9Xuf3mzRtcvHgRu3fvzjIolPLfy5cvERISgnXr1gEA7ty5Azc3N4SEhKBEiRIYP368zAk/7vvvv0eLFi1w5MgRlCtXDgAwZ84cTJ06FTt37pQ5Xe4dOXIEderUQZEiqruLtLQ0nDhxQhpY/PXXX8Pa2lqOiIVG7969P7h89erVnymJeq5cuSL9PyQkBKNGjUJ0dLTOztD/ITz8R3k2btw4LF++HE2aNMGJEycQFxeHoKAgnDp1Cl9//TU6d+4MfX19uWN+ksWLF+PcuXPSJUfo8xg2bBiOHz+OH3/8Ec2bN8eVK1fg5uaG7du3Y/Lkybh48aLcEXNl9uzZWLBgAY4dO4ZNmzZh+vTp+Oeff1C3bl25o+Wavr4+oqKiYGtrq9L+7Nkz2Nra6vzAYl3y/sk0b968wbVr15CQkABfX1+tPUtZT09PmoU/O7o2Q/+HsKeK8uz333/H+vXr0aZNG1y7dg2VKlVCWloaLl++rFPXNvuQFi1aYMKECSyqPrNt27Zh06ZNqFWrlsp7qUKFCggPD5cxmXrGjh2LZ8+eoXr16khPT8eePXtQq1YtuWOpReRwrcJnz57B1NRUhkSFV3Yn/WRkZGDQoEFaPf1IQZiVP7dYVFGe/fvvv/D29gYAVKxYEYaGhhgxYkSBKagAYMuWLTykIYO4uLgsPSMApDnQtNW7p7RnKlGiBExMTODj44MzZ87gzJkzALT3lPdMHTp0APC2F6FXr14wNDSUlqWnp+PKlSuoU6eOXPHo/9PT08PIkSPRsGFDjB07Vu442crtrPwFAYsqyrP09HQolUrpdpEiRWBmZiZjoryrWrWqys5aCIHo6GjExcVhyZIlMiYrnKpXr46dO3ciJCQEAKS/zcqVK6X5ebRRThfe1tfXx/Hjx6X5qRQKhdYXVZmntgshYG5uDmNjY2mZUqlErVq10K9fP7ni0TvCw8N15mSOGTNmwM7OLsv4sNWrVyMuLg7jxo2TKZlmsKiiPBNCqPyCffXqFQYOHJjlkIC2Hud/V7t27VRu6+npwcbGBg0bNpQGGdPnM336dLRo0QI3btxAWloa5s+fjxs3buDEiRM4fPiw3PFyVJAOc2Qe8nZxccGYMWNgYmIicyIaOXKkym0hBKKiorBz504EBgbKlEo9y5cvx8aNG7O0V6hQAd26ddP5oooD1SnPgoKCcrUexyNRXoSHh2PmzJkqE2eOGzcOXl5eckf7qDdv3qBcuXLYsWMHypcvL3ecTxIREYG0tDSUKVNGpf3u3bswMDCAi4uLPMEKoffnPcv88efr64vevXtnOUNTGxkZGeHmzZtZJjK9f/8+PD098erVK5mSaYb2/wVIaxW0Yik9PR3btm3DzZs3Abz95dSmTRudP4NRV7m7u+Onn36SO0aeGBgY6PzOIVOvXr3Qu3fvLEXV6dOnsXLlShw6dEieYIXQzp07IYSQjgY8ePAA27Ztg7Ozs04UVADg5OSE48ePZymqjh8/Ls13qMt0469AlM/u3buHli1b4vHjx/Dw8ADw9ti/k5MTdu7cqdVn1hRESUlJ2bYrFAoYGhqqjOXTVkOGDMGsWbOwcuVKndnhZefixYvZTgFRq1YtBAcHy5Co8GrXrh06dOiAgQMHIiEhAbVq1YKBgQGePn2KuXPnYtCgQXJH/Kh+/fph+PDhePPmDXx9fQEAYWFhGDt2LEaNGiVzuk+nu590Ig0aOnQo3N3dcerUKelsv2fPnqFnz54YOnSoTk3WWBBYWVl98Cy/kiVLolevXpg0aRL09LTzwhBnz55FWFgY9u7dCy8vL50cawi8LWQzL5j+rsTERJ2fU0jXXLhwQToZYsuWLbCzs8PFixexdetWhIaG6kRRNWbMGDx79gyDBw9GamoqgLeHBMeNG1cgrjTAMVVEeHs9qlOnTmUZr3P58mXUrVsXycnJMiUrnNavX4///e9/6NWrF2rUqAEAOHPmDNatW4dvvvkGcXFx+OGHHzBmzBh8/fXXMqfN3sfGHOrK4fPWrVvD2NgYv/76q3QoPD09HV27dkVKSgp27dolc8LCw8TEBLdu3UKpUqXQpUsXVKhQAZMmTcKjR4/g4eGBly9fyh0x15KTk3Hz5k0YGxujTJkyKlN26DL2VBEBMDQ0zPbXeHJysk4caipo1q1bhzlz5qBLly5SW+vWreHl5YXly5cjLCwMpUqVwnfffae1RZWuFE0fM2vWLPj4+MDDwwP169cHABw9ehRJSUk4cOCAzOkKl9KlS2Pbtm1o37499uzZI10GLDY2FhYWFjKnU090dDTi4+Ph4+MDQ0PDHCeZ1TXa2W9O9Jl9+eWX6N+/P06fPg0hBIQQOHXqFAYOHIg2bdrIHa/QOXHiRLYX465atSpOnjwJAKhXrx4iIyM/d7RCx9PTE1euXEGXLl0QGxuLFy9eICAgALdu3ULFihXljleohIaGYvTo0XBxcUHNmjWlOdv27t2rMxevf/bsGRo3boyyZcuiZcuWiIqKAgD06dOnQIyp4uE/IgAJCQkIDAzE33//LV3gMy0tDW3atMHatWuliRDp8yhbtiw6dOiAmTNnqrSPHz8ef/75J27fvo1z586hbdu2ePz4sUwpP27Lli3YvHkzIiMjpfEjmS5cuCBTKtJl0dHRiIqKQuXKlaXxhGfOnIGFhYVOzKkXEBCA2NhYrFy5EuXLl8fly5fh5uaGPXv2YOTIkbh+/brcET8JD/8R4e3A6O3bt+PevXvSlArly5dH6dKlZU5WOP3www/o3Lkzdu3ahS+++AIAcO7cOdy6dQtbtmwB8HYgeNeuXeWM+UELFiyQxoVt374dQUFBCA8Px9mzZzFkyBC54+XakSNHPrjcx8fnMyUhALC3t4e9vb1KW+a4Q12wd+9e7NmzByVLllRpL1OmDB4+fChTKs1hTxURaaUHDx5g+fLluH37NgDAw8MDAwYM0JnJJsuVK4dJkyahe/fuMDc3l36Rh4aGIj4+HosWLZI7Yq5kd3blu2NfeAYgqcPc3BwXLlxAmTJlVD4X586dg5+fH549eyZ3xE/CoooIQMeOHVGjRo0sl0iYPXs2zp49i99//12mZKSrTExMcPPmTTg7O8PW1hb79u1D5cqVcffuXdSqVUtndh6JiYkqt9+8eYOLFy9i4sSJ+O6779C4cWOZkpEuatmyJby9vTFt2jSYm5vjypUrcHZ2Rrdu3ZCRkSH1ROsqHv4jwttDHJMnT87S3qJFC8yZM+fzByIAwMuXL7Mdj1SpUiWZEuWevb094uPj4ezsjFKlSuHUqVOoXLkyIiIioEu/ZbMbT9i0aVMolUqMHDkS58+flyEV6arZs2ejcePGOHfuHFJTUzF27Fhcv34d8fHx0gXHdRmLKiLkPHWCgYFBjrN7U/6Ji4tDUFBQjnMg6cIhJ19fX/z111+oWrUqgoKCMGLECGzZsgXnzp1Dhw4d5I73yezs7KRDs0S5ZWFhgZs3b2Lp0qUwNzdHcnIyOnTogCFDhuDNmzdyx/tkPPxHhLcDPb/88kuEhoaqtE+ePBl///03f41/Zj169MDDhw/x448/omHDhvjzzz8RExODb7/9FnPmzEGrVq3kjvhRGRkZyMjIkC5Rs2nTJhw/fhxlypTBwIEDpbNMtd2VK1dUbgshEBUVhZkzZyItLQ3Hjh2TKRnpIn19fURFRcHW1lal/dmzZ7C1tdWJH0wfwp4qIgATJ05Ehw4dEB4ernI9ql9//ZXjqWRw4MABbN++HdWrV4eenh6cnZ3RtGlTWFhYYMaMGTpRVOnp6SE1NRUXLlxAbGwsjI2N0aRJEwDA7t270bp1a5kT5k6VKlWgUCiyHLKsVasWVq9eLVMq0lU59eMkJyfDyMjoM6fRPBZVRHg7W/e2bdswffp0bNmyBcbGxqhUqRL279+PBg0ayB2v0ElJSZF+yRYtWhRxcXEoW7YsvLy8dGZ+p927d8Pf3z/bAekKhUJnfpFHRESo3NbT04ONjU2B2AHS5zNy5EgAb9/7oaGhMDExkZalp6fj9OnTqFKlikzpNIdFFdH/16pVK53oASkMPDw8cPv2bbi4uKBy5cpYvnw5XFxcsGzZMjg4OMgdL1dCQkLQpUsXhIaGws7OTu44eebs7Cx3BCoALl68COBtT9XVq1dVxrAqlUpUrlwZo0ePliuexnBMFRHeTiSZkZGBmjVrqrSfPn0a+vr6qF69ukzJCqeff/4ZaWlp6NWrF86fP4/mzZsjPj4eSqUSa9eu1epJPzNZWFjg4sWLcHd3lzuK2hYsWJDrdYcOHZqPSaigCQoKwvz583XuWoW5xaKKCG8Hqo8dOxadOnVSaf/jjz8wa9YsnD59WqZkBLydWuHWrVsoVaoUihcvLnecXOnduzfq1q2LPn36yB1Fba6uriq34+Li8PLlS1hZWQF4e1knExMT2Nra4v79+zIkJNJOLKqIAJiZmeHKlStwc3NTaY+IiEClSpXw4sULmZKRrnr58iU6d+4MGxsbeHl5ZTnbT1d6eDZu3IglS5Zg1apV8PDwAADcvn0b/fr1w4ABA9CjRw+ZExJpDxZVRACKFSuGHTt2SFd9z3TixAm0atUKz58/lylZ4ZSeno61a9ciLCwMsbGxyMjIUFl+4MABmZLl3qpVqzBw4EAYGRmhWLFiKpd2USgUOtPD4+7uji1btqBq1aoq7efPn0enTp2yDGQnKsw4UJ0IQLNmzTBhwgRs375dmkE6ISEBX3/9NZo2bSpzusJn2LBhWLt2LVq1aoWKFSuqFCS64n//+x+mTJmC8ePHZ3v9PF0RFRWFtLS0LO3p6emIiYmRIRGR9mJPFRGAx48fw8fHB8+ePZN+kV+6dAl2dnbYt28fnJycZE5YuBQvXhzr169Hy5Yt5Y6SZ9bW1jh79qxODlR/V+vWrfH48WOsXLkS1apVA/C2l6p///4oUaIE/vrrL5kTEmkP3f35RKRBJUqUwJUrVzB79mx4enrC29sb8+fPx9WrV1lQyUCpVKJ06dJyx/gkgYGB2LRpk9wxPtnq1athb2+P6tWrw9DQEIaGhqhRowbs7OywcuVKueMRaRX2VBG948aNG9lewLdNmzYyJSqc5syZg/v372PRokU6eegPeDsQff369ahcuTIqVaqUZaD63LlzZUqWN3fu3MHNmzehUChQrlw5lC1bVu5IRFqHRRURgPv376N9+/a4evWqdEmOd3fmujL7dUHRvn17HDx4ENbW1qhQoUKWguSPP/6QKVnuNWrUKMdlCoVCJwbbvy9zd6GrhS5RfuNAdSK8HRjt6uqKsLAwuLq64vTp04iPj8eoUaPwww8/yB2v0LGyskL79u3ljvFJDh48KHcEjVm/fj2+//573L17FwBQtmxZjBkzBv7+/jInI9Iu7KkiwtuB0QcOHEClSpVgaWmJM2fOwMPDAwcOHMCoUaOkSywQFTZz587FxIkTERwcjLp16wIAjh07hsWLF+Pbb7/FiBEjZE5IpD3YU0WEt4f3zM3NAbwtsJ48eQIPDw84Ozvj9u3bMqcjks/ChQuxdOlSBAQESG1t2rRBhQoVMHnyZBZVRO9gUUUEoGLFirh8+TJcXV1Rs2ZNzJ49G0qlEitWrMgyyzp9Hlu2bMHmzZuzPXHgwoULMqUqfKKiolCnTp0s7XXq1EFUVJQMiYi0F6dUIALwzTffSLN2T506FREREahfvz7++ecftS4uS5qxYMECBAUFwc7ODhcvXkSNGjVQrFgx3L9/Hy1atJA7XqFSunRpbN68OUv7pk2bUKZMGRkSEWkvjqkiykF8fDyKFi3KM51kUK5cOUyaNAndu3eHubk5Ll++DDc3N4SGhiI+Ph6LFi2SO2KhsXXrVnTt2hVNmjSRxlQdP34cYWFh2Lx5s86fUECkSSyqiEjrmJiY4ObNm3B2doatrS327duHypUr4+7du6hVqxaePXsmd8RC5cKFC5g7dy5u3rwJAChfvjxGjRqV5XqARIUdx1QRkdaxt7dHfHw8nJ2dUapUKZw6dQqVK1dGREQE+Dvw83nz5g0GDBiAiRMn4ueff5Y7DpHW45gqItI6vr6+0jXlgoKCMGLECDRt2hRdu3bl4abPyMDAAFu3bpU7BpHO4OE/ItI6GRkZyMjIQJEibzvTN23ahOPHj6NMmTIYOHBglhnWKf8EBgaiSpUqnDqBKBdYVBGRVnr16hWuXLmC2NhY6cxM4O0lUlq3bi1jssLl22+/xZw5c9C4cWN4e3vD1NRUZfnQoUNlSkakfVhUEZHW2b17N/z9/bMdkK5QKHgtxs/I1dU1x2UKhQL379//jGmItBuLKiLSOmXKlEGzZs0QGhoKOzs7uePQ/8cLKhN9GAeqE5HWiYmJwciRI1lQaYlVq1ahYsWKMDIygpGRESpWrIiVK1fKHYtI63BKBSLSOp06dcKhQ4fg7u4ud5RCLzQ0FHPnzkVISAhq164NADh58iRGjBiByMhITJ06VeaERNqDh/+ISOu8fPkSnTt3ho2NDby8vLKc7cfB0Z+PjY0NFixYgO7du6u0//rrrwgJCcHTp09lSkakfdhTRURa59dff8XevXthZGSEQ4cOqYzhUSgULKo+ozdv3qB69epZ2r29vZGWliZDIiLtxZ4qItI69vb2GDp0KMaPHw89PQ79lFNISAgMDAwwd+5clfbRo0fjv//+w+LFi2VKRqR9WFQRkdaxtrbG2bNnOaZKC4SEhGD9+vVwcnJCrVq1AACnT59GZGQkAgICVA7Nvl94ERU2LKqISOuMGDECNjY2+Prrr+WOUug1atQoV+spFAocOHAgn9MQaTcWVUSkdYYOHYr169ejcuXKqFSpUpaB6uwRISJtxKKKiLTOh3pH2CNCRNqKRRURERGRBvC0GiIiIiINYFFFREREpAEsqoiIiIg0gEUVERERkQawqCKifNerVy8oFAooFAoYGBjAzs4OTZs2xerVq5GRkSF3PACQLoeTkJAgdxSJQqHAtm3b5I5BRLnEooqIPovmzZsjKioKDx48wK5du9CoUSMMGzYMX375pezXkHvz5o2sz09EBQOLKiL6LAwNDWFvb48SJUqgWrVq+Prrr7F9+3bs2rULa9euBQAkJCSgb9++sLGxgYWFBXx9fXH58mXpMSZPnowqVapg+fLlcHJygomJCbp06YLExERpnbNnz6Jp06YoXrw4LC0t0aBBA1y4cEEli0KhwNKlS9GmTRuYmpqiX79+0txYRYsWhUKhQK9evQAADRs2REhICIYPH46iRYvCzs4OP/30E1JSUhAUFARzc3OULl0au3btUnmOa9euoUWLFjAzM4OdnR38/f3x9OlTaXnDhg0xdOhQjB07FtbW1rC3t8fkyZOl5S4uLgCA9u3bQ6FQSLeJSHuxqCIi2fj6+qJy5cr4448/AACdO3dGbGwsdu3ahfPnz6NatWpo3Lgx4uPjpfvcu3cPmzdvxt9//43du3fj4sWLGDx4sLT8xYsXCAwMxLFjx3Dq1CmUKVMGLVu2xIsXL1See/LkyWjfvj2uXr2KKVOmYOvWrQCA27dvIyoqCvPnz5fWXbduHYoXL44zZ84gJCQEgwYNQufOnVGnTh1cuHABzZo1g7+/P16+fAngbXHo6+uLqlWr4ty5c9i9ezdiYmLQpUsXlQzr1q2DqakpTp8+jdmzZ2Pq1KnYt28fgLfFIQCsWbMGUVFR0m0i0mKCiCifBQYGirZt22a7rGvXrqJ8+fLi6NGjwsLCQrx69Uplubu7u1i+fLkQQohJkyYJfX198e+//0rLd+3aJfT09ERUVFS2j5+eni7Mzc3F33//LbUBEMOHD1dZ7+DBgwKAeP78uUp7gwYNRL169aTbaWlpwtTUVPj7+0ttUVFRAoA4efKkEEKIadOmiWbNmqk8zqNHjwQAcfv27WwfVwghvvjiCzFu3DiVnH/++We220VE2qeIrBUdERV6QggoFApcvnwZycnJKFasmMry//77D+Hh4dLtUqVKoUSJEtLt2rVrIyMjA7dv34a9vT1iYmLwzTff4NChQ4iNjUV6ejpevnyJyMhIlcetXr16rjNWqlRJ+r++vj6KFSsGLy8vqc3Ozg4AEBsbCwC4fPkyDh48CDMzsyyPFR4ejrJly2Z5XABwcHCQHoOIdA+LKiKS1c2bN+Hq6ork5GQ4ODjg0KFDWdaxsrLK9eMFBgbi2bNnmD9/PpydnWFoaIjatWsjNTVVZT1TU9NcP+b7F3TOPIvx3dsApDMZk5OT0bp1a8yaNSvLYzk4OHzwcbXlbEgiUh+LKiKSzYEDB3D16lWMGDECJUuWRHR0NIoUKfLBQdmRkZF48uQJHB0dAQCnTp2Cnp4ePDw8AADHjx/HkiVL0LJlSwDAo0ePVAaI50SpVAIA0tPTP3GrgGrVqmHr1q1wcXFBkSJ5/5o1MDDQSB4i+jw4UJ2IPovXr18jOjoajx8/xoULFzB9+nS0bdsWX375JQICAtCkSRPUrl0b7dq1w969e/HgwQOcOHEC//vf/3Du3DnpcYyMjBAYGIjLly/j6NGjGDp0KLp06QJ7e3sAQJkyZbBhwwbcvHkTp0+fRo8ePWBsbPzRfM7OzlAoFNixYwfi4uKQnJyc520dMmQI4uPj0b17d5w9exbh4eHYs2cPgoKC1CqSXFxcEBYWhujoaDx//jzPeYjo82BRRUSfxe7du+Hg4AAXFxc0b94cBw8exIIFC7B9+3bo6+tDoVDgn3/+gY+PD4KCglC2bFl069YNDx8+lMYsAUDp0qXRoUMHtGzZEs2aNUOlSpWwZMkSafmqVavw/PlzVKtWDf7+/hg6dChsbW0/mq9EiRKYMmUKxo8fDzs7OwQHB+d5Wx0dHXH8+HGkp6ejWbNm8PLywvDhw2FlZQU9vdx/7c6ZMwf79u2Dk5MTqlatmuc8RPR5KIQQQu4QRES5MXnyZGzbtg2XLl2SOwoRURbsqSIiIiLSABZVRERERBrAw39EREREGsCeKiIiIiINYFFFREREpAEsqoiIiIg0gEUVERERkQawqCIiIiLSABZVRERERBrAooqIiIhIA1hUEREREWkAiyoiIiIiDfh//BCTxdmkao8AAAAASUVORK5CYII=",
      "text/plain": [
       "<Figure size 640x480 with 1 Axes>"
      ]
     },
     "metadata": {},
     "output_type": "display_data"
    }
   ],
   "source": [
    "# Create a stacked bart plot to visualize number of employees across department, comparing those who left with those who didn't\n",
    "pd.crosstab(df1['department'], df1['left']).plot(kind ='bar',color='mr')\n",
    "plt.title('Counts of employees who left versus stayed across department')\n",
    "plt.ylabel('Employee count')\n",
    "plt.xlabel('Department')\n",
    "plt.show()"
   ]
  },
  {
   "cell_type": "markdown",
   "id": "7f55779f-483c-4e5c-a03a-0043d45a227f",
   "metadata": {},
   "source": [
    "**Logistic Regression is sensitive to outliers**\n",
    "- Earlier we created a boxplot outlining 'Satisfaction by Tenure'. From this plot we observed a high degree of outliers, particuarly in the groups who left the company. Since Logistic Regression relies on minimizing the error between the predicted probabilities and the actual outcomes, outliers can have a notable impact on the model's coefficients and predictions."
   ]
  },
  {
   "cell_type": "code",
   "execution_count": 25,
   "id": "365ae3d1-5451-40ad-a89d-77d02135953f",
   "metadata": {},
   "outputs": [
    {
     "data": {
      "image/png": "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",
      "text/plain": [
       "<Figure size 600x600 with 1 Axes>"
      ]
     },
     "metadata": {},
     "output_type": "display_data"
    }
   ],
   "source": [
    "# Create a boxplot to visualize distribution of `tenure` and detect any outliers\n",
    "plt.figure(figsize=(6,6))\n",
    "plt.title('Boxplot to detect outliers for tenure', fontsize=12)\n",
    "plt.xticks(fontsize=12)\n",
    "plt.yticks(fontsize=12)\n",
    "sns.boxplot(x=df1['tenure'])\n",
    "plt.show()"
   ]
  },
  {
   "cell_type": "code",
   "execution_count": 26,
   "id": "4e8af6f2-ec63-4a87-9305-d1e71ca5c164",
   "metadata": {},
   "outputs": [
    {
     "name": "stdout",
     "output_type": "stream",
     "text": [
      "Lower limit: 1.5\n",
      "Upper limit: 5.5\n",
      "Number of rows in the data containing outliers in `tenure`: 824\n"
     ]
    }
   ],
   "source": [
    "# Compute the 25th percentile value in `tenure`\n",
    "percentile25 = df1['tenure'].quantile(0.25)\n",
    "\n",
    "# Compute the 75th percentile value in `tenure`\n",
    "percentile75 = df1['tenure'].quantile(0.75)\n",
    "\n",
    "# Compute the interquartile range in `tenure`\n",
    "iqr = percentile75 - percentile25\n",
    "\n",
    "# Define the upper limit and lower limit for non-outlier values in `tenure`\n",
    "upper_limit = percentile75 + 1.5 * iqr\n",
    "lower_limit = percentile25 - 1.5 * iqr\n",
    "print(\"Lower limit:\", lower_limit)\n",
    "print(\"Upper limit:\", upper_limit)\n",
    "\n",
    "# Identify subset of data containing outliers in `tenure`\n",
    "outliers = df1[(df1['tenure'] > upper_limit) | (df1['tenure'] < lower_limit)]\n",
    "\n",
    "# Count how many rows in the data contain outliers in `tenure`\n",
    "print(\"Number of rows in the data containing outliers in `tenure`:\", len(outliers))"
   ]
  },
  {
   "cell_type": "markdown",
   "id": "3d7a75f2-6c9e-461e-a4b4-59572f24ea6e",
   "metadata": {},
   "source": [
    "**It is important to create a new dataframe for the logistic regression model, so we do not remove these rows from our dataset entirely.**"
   ]
  },
  {
   "cell_type": "code",
   "execution_count": 27,
   "id": "77d13c83-11b7-4814-a54d-27c40f2f33ea",
   "metadata": {},
   "outputs": [
    {
     "data": {
      "text/html": [
       "<div>\n",
       "<style scoped>\n",
       "    .dataframe tbody tr th:only-of-type {\n",
       "        vertical-align: middle;\n",
       "    }\n",
       "\n",
       "    .dataframe tbody tr th {\n",
       "        vertical-align: top;\n",
       "    }\n",
       "\n",
       "    .dataframe thead th {\n",
       "        text-align: right;\n",
       "    }\n",
       "</style>\n",
       "<table border=\"1\" class=\"dataframe\">\n",
       "  <thead>\n",
       "    <tr style=\"text-align: right;\">\n",
       "      <th></th>\n",
       "      <th>satisfaction_level</th>\n",
       "      <th>last_evaluation</th>\n",
       "      <th>number_project</th>\n",
       "      <th>average_monthly_hours</th>\n",
       "      <th>tenure</th>\n",
       "      <th>work_accident</th>\n",
       "      <th>left</th>\n",
       "      <th>promotion_last_5years</th>\n",
       "      <th>salary</th>\n",
       "      <th>department_IT</th>\n",
       "      <th>department_RandD</th>\n",
       "      <th>department_accounting</th>\n",
       "      <th>department_hr</th>\n",
       "      <th>department_management</th>\n",
       "      <th>department_marketing</th>\n",
       "      <th>department_product_mng</th>\n",
       "      <th>department_sales</th>\n",
       "      <th>department_support</th>\n",
       "      <th>department_technical</th>\n",
       "    </tr>\n",
       "  </thead>\n",
       "  <tbody>\n",
       "    <tr>\n",
       "      <th>0</th>\n",
       "      <td>0.38</td>\n",
       "      <td>0.53</td>\n",
       "      <td>2</td>\n",
       "      <td>157</td>\n",
       "      <td>3</td>\n",
       "      <td>0</td>\n",
       "      <td>1</td>\n",
       "      <td>0</td>\n",
       "      <td>0</td>\n",
       "      <td>False</td>\n",
       "      <td>False</td>\n",
       "      <td>False</td>\n",
       "      <td>False</td>\n",
       "      <td>False</td>\n",
       "      <td>False</td>\n",
       "      <td>False</td>\n",
       "      <td>True</td>\n",
       "      <td>False</td>\n",
       "      <td>False</td>\n",
       "    </tr>\n",
       "    <tr>\n",
       "      <th>2</th>\n",
       "      <td>0.11</td>\n",
       "      <td>0.88</td>\n",
       "      <td>7</td>\n",
       "      <td>272</td>\n",
       "      <td>4</td>\n",
       "      <td>0</td>\n",
       "      <td>1</td>\n",
       "      <td>0</td>\n",
       "      <td>1</td>\n",
       "      <td>False</td>\n",
       "      <td>False</td>\n",
       "      <td>False</td>\n",
       "      <td>False</td>\n",
       "      <td>False</td>\n",
       "      <td>False</td>\n",
       "      <td>False</td>\n",
       "      <td>True</td>\n",
       "      <td>False</td>\n",
       "      <td>False</td>\n",
       "    </tr>\n",
       "    <tr>\n",
       "      <th>3</th>\n",
       "      <td>0.72</td>\n",
       "      <td>0.87</td>\n",
       "      <td>5</td>\n",
       "      <td>223</td>\n",
       "      <td>5</td>\n",
       "      <td>0</td>\n",
       "      <td>1</td>\n",
       "      <td>0</td>\n",
       "      <td>0</td>\n",
       "      <td>False</td>\n",
       "      <td>False</td>\n",
       "      <td>False</td>\n",
       "      <td>False</td>\n",
       "      <td>False</td>\n",
       "      <td>False</td>\n",
       "      <td>False</td>\n",
       "      <td>True</td>\n",
       "      <td>False</td>\n",
       "      <td>False</td>\n",
       "    </tr>\n",
       "    <tr>\n",
       "      <th>4</th>\n",
       "      <td>0.37</td>\n",
       "      <td>0.52</td>\n",
       "      <td>2</td>\n",
       "      <td>159</td>\n",
       "      <td>3</td>\n",
       "      <td>0</td>\n",
       "      <td>1</td>\n",
       "      <td>0</td>\n",
       "      <td>0</td>\n",
       "      <td>False</td>\n",
       "      <td>False</td>\n",
       "      <td>False</td>\n",
       "      <td>False</td>\n",
       "      <td>False</td>\n",
       "      <td>False</td>\n",
       "      <td>False</td>\n",
       "      <td>True</td>\n",
       "      <td>False</td>\n",
       "      <td>False</td>\n",
       "    </tr>\n",
       "    <tr>\n",
       "      <th>5</th>\n",
       "      <td>0.41</td>\n",
       "      <td>0.50</td>\n",
       "      <td>2</td>\n",
       "      <td>153</td>\n",
       "      <td>3</td>\n",
       "      <td>0</td>\n",
       "      <td>1</td>\n",
       "      <td>0</td>\n",
       "      <td>0</td>\n",
       "      <td>False</td>\n",
       "      <td>False</td>\n",
       "      <td>False</td>\n",
       "      <td>False</td>\n",
       "      <td>False</td>\n",
       "      <td>False</td>\n",
       "      <td>False</td>\n",
       "      <td>True</td>\n",
       "      <td>False</td>\n",
       "      <td>False</td>\n",
       "    </tr>\n",
       "  </tbody>\n",
       "</table>\n",
       "</div>"
      ],
      "text/plain": [
       "   satisfaction_level  last_evaluation  number_project  average_monthly_hours  \\\n",
       "0                0.38             0.53               2                    157   \n",
       "2                0.11             0.88               7                    272   \n",
       "3                0.72             0.87               5                    223   \n",
       "4                0.37             0.52               2                    159   \n",
       "5                0.41             0.50               2                    153   \n",
       "\n",
       "   tenure  work_accident  left  promotion_last_5years  salary  department_IT  \\\n",
       "0       3              0     1                      0       0          False   \n",
       "2       4              0     1                      0       1          False   \n",
       "3       5              0     1                      0       0          False   \n",
       "4       3              0     1                      0       0          False   \n",
       "5       3              0     1                      0       0          False   \n",
       "\n",
       "   department_RandD  department_accounting  department_hr  \\\n",
       "0             False                  False          False   \n",
       "2             False                  False          False   \n",
       "3             False                  False          False   \n",
       "4             False                  False          False   \n",
       "5             False                  False          False   \n",
       "\n",
       "   department_management  department_marketing  department_product_mng  \\\n",
       "0                  False                 False                   False   \n",
       "2                  False                 False                   False   \n",
       "3                  False                 False                   False   \n",
       "4                  False                 False                   False   \n",
       "5                  False                 False                   False   \n",
       "\n",
       "   department_sales  department_support  department_technical  \n",
       "0              True               False                 False  \n",
       "2              True               False                 False  \n",
       "3              True               False                 False  \n",
       "4              True               False                 False  \n",
       "5              True               False                 False  "
      ]
     },
     "execution_count": 27,
     "metadata": {},
     "output_type": "execute_result"
    }
   ],
   "source": [
    "# Select rows without outliers in `tenure` and save resulting dataframe in a new variable\n",
    "df_logreg = df_enc[(df_enc['tenure'] >= lower_limit) & (df_enc['tenure'] <= upper_limit)]\n",
    "\n",
    "# Display first few rows of new dataframe\n",
    "df_logreg.head()"
   ]
  },
  {
   "cell_type": "markdown",
   "id": "b659a23a-2389-4bb9-8773-886ab218f392",
   "metadata": {},
   "source": [
    "First, we will isolate our outcome variable or the variable we are trying to predict with the logstic regression."
   ]
  },
  {
   "cell_type": "code",
   "execution_count": 28,
   "id": "ee8603a6-7c59-49c8-8a47-cd4ad16a0a92",
   "metadata": {},
   "outputs": [
    {
     "data": {
      "text/plain": [
       "0    1\n",
       "2    1\n",
       "3    1\n",
       "4    1\n",
       "5    1\n",
       "Name: left, dtype: int64"
      ]
     },
     "execution_count": 28,
     "metadata": {},
     "output_type": "execute_result"
    }
   ],
   "source": [
    "# Isolate the outcome variable\n",
    "y = df_logreg['left']\n",
    "\n",
    "# Display first few rows of the outcome variable\n",
    "y.head() "
   ]
  },
  {
   "cell_type": "markdown",
   "id": "15dea581-a60c-4e34-9866-6ae12da1bad5",
   "metadata": {},
   "source": [
    "Next, we will select the features we will use to predict our outcome variable. In this case we will use all the variables including the encoded ones we made earlier."
   ]
  },
  {
   "cell_type": "code",
   "execution_count": 29,
   "id": "750ac81b-ac71-4bde-8a86-e0a87b9c3474",
   "metadata": {},
   "outputs": [
    {
     "data": {
      "text/html": [
       "<div>\n",
       "<style scoped>\n",
       "    .dataframe tbody tr th:only-of-type {\n",
       "        vertical-align: middle;\n",
       "    }\n",
       "\n",
       "    .dataframe tbody tr th {\n",
       "        vertical-align: top;\n",
       "    }\n",
       "\n",
       "    .dataframe thead th {\n",
       "        text-align: right;\n",
       "    }\n",
       "</style>\n",
       "<table border=\"1\" class=\"dataframe\">\n",
       "  <thead>\n",
       "    <tr style=\"text-align: right;\">\n",
       "      <th></th>\n",
       "      <th>satisfaction_level</th>\n",
       "      <th>last_evaluation</th>\n",
       "      <th>number_project</th>\n",
       "      <th>average_monthly_hours</th>\n",
       "      <th>tenure</th>\n",
       "      <th>work_accident</th>\n",
       "      <th>promotion_last_5years</th>\n",
       "      <th>salary</th>\n",
       "      <th>department_IT</th>\n",
       "      <th>department_RandD</th>\n",
       "      <th>department_accounting</th>\n",
       "      <th>department_hr</th>\n",
       "      <th>department_management</th>\n",
       "      <th>department_marketing</th>\n",
       "      <th>department_product_mng</th>\n",
       "      <th>department_sales</th>\n",
       "      <th>department_support</th>\n",
       "      <th>department_technical</th>\n",
       "    </tr>\n",
       "  </thead>\n",
       "  <tbody>\n",
       "    <tr>\n",
       "      <th>0</th>\n",
       "      <td>0.38</td>\n",
       "      <td>0.53</td>\n",
       "      <td>2</td>\n",
       "      <td>157</td>\n",
       "      <td>3</td>\n",
       "      <td>0</td>\n",
       "      <td>0</td>\n",
       "      <td>0</td>\n",
       "      <td>False</td>\n",
       "      <td>False</td>\n",
       "      <td>False</td>\n",
       "      <td>False</td>\n",
       "      <td>False</td>\n",
       "      <td>False</td>\n",
       "      <td>False</td>\n",
       "      <td>True</td>\n",
       "      <td>False</td>\n",
       "      <td>False</td>\n",
       "    </tr>\n",
       "    <tr>\n",
       "      <th>2</th>\n",
       "      <td>0.11</td>\n",
       "      <td>0.88</td>\n",
       "      <td>7</td>\n",
       "      <td>272</td>\n",
       "      <td>4</td>\n",
       "      <td>0</td>\n",
       "      <td>0</td>\n",
       "      <td>1</td>\n",
       "      <td>False</td>\n",
       "      <td>False</td>\n",
       "      <td>False</td>\n",
       "      <td>False</td>\n",
       "      <td>False</td>\n",
       "      <td>False</td>\n",
       "      <td>False</td>\n",
       "      <td>True</td>\n",
       "      <td>False</td>\n",
       "      <td>False</td>\n",
       "    </tr>\n",
       "    <tr>\n",
       "      <th>3</th>\n",
       "      <td>0.72</td>\n",
       "      <td>0.87</td>\n",
       "      <td>5</td>\n",
       "      <td>223</td>\n",
       "      <td>5</td>\n",
       "      <td>0</td>\n",
       "      <td>0</td>\n",
       "      <td>0</td>\n",
       "      <td>False</td>\n",
       "      <td>False</td>\n",
       "      <td>False</td>\n",
       "      <td>False</td>\n",
       "      <td>False</td>\n",
       "      <td>False</td>\n",
       "      <td>False</td>\n",
       "      <td>True</td>\n",
       "      <td>False</td>\n",
       "      <td>False</td>\n",
       "    </tr>\n",
       "    <tr>\n",
       "      <th>4</th>\n",
       "      <td>0.37</td>\n",
       "      <td>0.52</td>\n",
       "      <td>2</td>\n",
       "      <td>159</td>\n",
       "      <td>3</td>\n",
       "      <td>0</td>\n",
       "      <td>0</td>\n",
       "      <td>0</td>\n",
       "      <td>False</td>\n",
       "      <td>False</td>\n",
       "      <td>False</td>\n",
       "      <td>False</td>\n",
       "      <td>False</td>\n",
       "      <td>False</td>\n",
       "      <td>False</td>\n",
       "      <td>True</td>\n",
       "      <td>False</td>\n",
       "      <td>False</td>\n",
       "    </tr>\n",
       "    <tr>\n",
       "      <th>5</th>\n",
       "      <td>0.41</td>\n",
       "      <td>0.50</td>\n",
       "      <td>2</td>\n",
       "      <td>153</td>\n",
       "      <td>3</td>\n",
       "      <td>0</td>\n",
       "      <td>0</td>\n",
       "      <td>0</td>\n",
       "      <td>False</td>\n",
       "      <td>False</td>\n",
       "      <td>False</td>\n",
       "      <td>False</td>\n",
       "      <td>False</td>\n",
       "      <td>False</td>\n",
       "      <td>False</td>\n",
       "      <td>True</td>\n",
       "      <td>False</td>\n",
       "      <td>False</td>\n",
       "    </tr>\n",
       "  </tbody>\n",
       "</table>\n",
       "</div>"
      ],
      "text/plain": [
       "   satisfaction_level  last_evaluation  number_project  average_monthly_hours  \\\n",
       "0                0.38             0.53               2                    157   \n",
       "2                0.11             0.88               7                    272   \n",
       "3                0.72             0.87               5                    223   \n",
       "4                0.37             0.52               2                    159   \n",
       "5                0.41             0.50               2                    153   \n",
       "\n",
       "   tenure  work_accident  promotion_last_5years  salary  department_IT  \\\n",
       "0       3              0                      0       0          False   \n",
       "2       4              0                      0       1          False   \n",
       "3       5              0                      0       0          False   \n",
       "4       3              0                      0       0          False   \n",
       "5       3              0                      0       0          False   \n",
       "\n",
       "   department_RandD  department_accounting  department_hr  \\\n",
       "0             False                  False          False   \n",
       "2             False                  False          False   \n",
       "3             False                  False          False   \n",
       "4             False                  False          False   \n",
       "5             False                  False          False   \n",
       "\n",
       "   department_management  department_marketing  department_product_mng  \\\n",
       "0                  False                 False                   False   \n",
       "2                  False                 False                   False   \n",
       "3                  False                 False                   False   \n",
       "4                  False                 False                   False   \n",
       "5                  False                 False                   False   \n",
       "\n",
       "   department_sales  department_support  department_technical  \n",
       "0              True               False                 False  \n",
       "2              True               False                 False  \n",
       "3              True               False                 False  \n",
       "4              True               False                 False  \n",
       "5              True               False                 False  "
      ]
     },
     "execution_count": 29,
     "metadata": {},
     "output_type": "execute_result"
    }
   ],
   "source": [
    "# Select the features you want to use in your model\n",
    "X = df_logreg.drop('left', axis=1)\n",
    "\n",
    "# Display the first few rows of the selected features \n",
    "X.head()"
   ]
  },
  {
   "cell_type": "code",
   "execution_count": 30,
   "id": "dadaf01e-b5ed-4cb0-8118-7a535526c8d8",
   "metadata": {},
   "outputs": [],
   "source": [
    "# Split the data into training set and testing set\n",
    "X_train, X_test, y_train, y_test = train_test_split(X, y, test_size=0.25, stratify=y, random_state=42)"
   ]
  },
  {
   "cell_type": "code",
   "execution_count": 31,
   "id": "cdfd3522-eef5-41ad-9e11-3d35a012cb41",
   "metadata": {},
   "outputs": [],
   "source": [
    "# Construct a logistic regression model and fit it to the training dataset\n",
    "log_clf = LogisticRegression(random_state=42, max_iter=500).fit(X_train, y_train)"
   ]
  },
  {
   "cell_type": "code",
   "execution_count": 32,
   "id": "2dc1b6c1-ac99-450f-b646-df00c0128a89",
   "metadata": {},
   "outputs": [],
   "source": [
    "# Use the logistic regression model to get predictions on the test set\n",
    "y_pred = log_clf.predict(X_test)"
   ]
  },
  {
   "cell_type": "code",
   "execution_count": 33,
   "id": "d22872fe-d69e-482c-8b65-5acb725b010c",
   "metadata": {},
   "outputs": [
    {
     "data": {
      "image/png": "iVBORw0KGgoAAAANSUhEUgAAAgMAAAGwCAYAAAA0bWYRAAAAOXRFWHRTb2Z0d2FyZQBNYXRwbG90bGliIHZlcnNpb24zLjcuMSwgaHR0cHM6Ly9tYXRwbG90bGliLm9yZy/bCgiHAAAACXBIWXMAAA9hAAAPYQGoP6dpAABCL0lEQVR4nO3de1hUdf4H8PeAznCdQVQYRhFR84IiphbxK01XAtE1XW3bvCSWl9XAEtPI8oJa4mp5zbSLSu5iWltaoWviFU20FSPvrCgKBgOWwggmAzPn9wdxasJJhhkYmPN+Pc95Hs4533PmM8rDfObz+Z5zZIIgCCAiIiLJcrJ3AERERGRfTAaIiIgkjskAERGRxDEZICIikjgmA0RERBLHZICIiEjimAwQERFJXDN7B2ANo9GI/Px8eHp6QiaT2TscIiKykCAIuH37NjQaDZyc6u/76d27d6HX660+j1wuh4uLiw0ialyadDKQn58Pf39/e4dBRERWysvLQ9u2bevl3Hfv3kVggAe0RQarz6VWq5GTk+NwCUGTTgY8PT0BANdOtYfSgx0Pckwjgx60dwhE9aZSqMARw5fi3/P6oNfroS0y4FpGeyg96/5ZobttRECfq9Dr9UwGGpPq1oDSw8mq/2CixqyZrLm9QyCqdw3R6vXwlMHDs+6vY4TjtqObdDJARERUWwbBCIMVT+MxCEbbBdPIMBkgIiJJMEKAEXXPBqw5trFjbZ2IiEjiWBkgIiJJMMIIawr91h3duDEZICIiSTAIAgxC3Uv91hzb2LFNQEREJHGsDBARkSRwAqF5TAaIiEgSjBBgYDJwT2wTEBERSRwrA0REJAlsE5jHZICIiCSBVxOYxzYBERGRxLEyQEREkmD8ZbHmeEfFZICIiCTBYOXVBNYc29gxGSAiIkkwCLDyqYW2i6Wx4ZwBIiIiiWNlgIiIJIFzBsxjMkBERJJghAwGyKw63lGxTUBERCRxrAwQEZEkGIWqxZrjHRWTASIikgSDlW0Ca45t7NgmICIikjhWBoiISBJYGTCPlQEiIpIEoyCzerFEYmIiHnroIXh6esLHxwcjRoxAVlaWyZi7d+8iJiYGLVu2hIeHB0aNGoXCwkKTMbm5uRg6dCjc3Nzg4+OD2bNno7Ky0mTMoUOH0Lt3bygUCnTq1AlJSUkWxcpkgIiIqB4cPnwYMTExOH78OFJTU1FRUYGIiAiUlZWJY+Li4vDVV1/h008/xeHDh5Gfn4+RI0eK+w0GA4YOHQq9Xo9jx47ho48+QlJSEubPny+OycnJwdChQzFw4EBkZmZixowZmDRpEr7++utaxyoThKb7TEadTgeVSoVb/+sApSfzGnJMg9v1tXcIRPWmUqjAwcrPUFJSAqVSWS+vUf1ZcfhsG3hY8VlRetuIx3v8UOdYb9y4AR8fHxw+fBj9+/dHSUkJWrduja1bt+Kpp54CAFy8eBHdunVDeno6HnnkEfznP//Bn//8Z+Tn58PX1xcAsGHDBsTHx+PGjRuQy+WIj4/Hrl27cPbsWfG1nnnmGRQXF2PPnj21io2foEREJAkGOFm9AFXJxW+X8vLyWr1+SUkJAMDb2xsAkJGRgYqKCoSHh4tjunbtinbt2iE9PR0AkJ6ejuDgYDERAIDIyEjodDqcO3dOHPPbc1SPqT5HbTAZICIiSRCsnC8g/DJnwN/fHyqVSlwSExPv+9pGoxEzZszAo48+ih49egAAtFot5HI5vLy8TMb6+vpCq9WKY36bCFTvr973R2N0Oh1+/vnnWv3b8GoCIiIiC+Tl5Zm0CRQKxX2PiYmJwdmzZ3H06NH6DK3OmAwQEZEk2OrSQqVSadGcgdjYWKSkpCAtLQ1t27YVt6vVauj1ehQXF5tUBwoLC6FWq8Ux3377rcn5qq82+O2Y31+BUFhYCKVSCVdX11rFyDYBERFJgkFwsnqxhCAIiI2NxY4dO3DgwAEEBgaa7O/Tpw+aN2+O/fv3i9uysrKQm5uLsLAwAEBYWBjOnDmDoqIicUxqaiqUSiWCgoLEMb89R/WY6nPUBisDRERE9SAmJgZbt27FF198AU9PT7HHr1Kp4OrqCpVKhYkTJ2LmzJnw9vaGUqnE9OnTERYWhkceeQQAEBERgaCgIDz77LNYtmwZtFot5s6di5iYGLE9MXXqVLzzzjt45ZVX8Pzzz+PAgQP45JNPsGvXrlrHymSAiIgkwQgZjFYUxI2w7Er89evXAwAGDBhgsn3z5s2YMGECAGDlypVwcnLCqFGjUF5ejsjISLz77rviWGdnZ6SkpGDatGkICwuDu7s7oqOjsWjRInFMYGAgdu3ahbi4OKxevRpt27bFhx9+iMjIyFrHyvsMEDVyvM8AObKGvM/Al6c7wt3Tuc7nKbttwJM9L9drrPbCT1AiIiKJY5uAiIgkoS6TAE2Pb7KF9PtiMkBERJJQNWeg7pcWWnNsY8c2ARERkcSxMkBERJJg/M3zBep2PNsERERETRrnDJjHZICIiCTBCKcGvc9AU8I5A0RERBLHygAREUmCQZDBIFjxoCIrjm3smAwQEZEkGKycQGhgm4CIiIgcFSsDREQkCUbBCUYrriYw8moCIiKipo1tAvPYJiAiIpI4VgaIiEgSjLDuigCj7UJpdJgMEBGRJFh/0yHHLaY77jsjIiKiWmFlgIiIJMH6ZxM47vdnJgNERCQJRshghDVzBngHQiIioiaNlQHzHPedERERUa2wMkBERJJg/U2HHPf7M5MBIiKSBKMgg9Ga+ww48FMLHTfNISIiolphZYCIiCTBaGWbwJFvOsRkgIiIJMH6pxY6bjLguO+MiIiIaoWVASIikgQDZDBYceMga45t7JgMEBGRJLBNYJ7jvjMiIiKqFVYGiIhIEgywrtRvsF0ojQ6TASIikgS2CcxjMkBERJLABxWZ57jvjIiIiGqFlQEiIpIEATIYrZgzIDjwpYWsDBARkSRUtwmsWSyRlpaGYcOGQaPRQCaTYefOnSb7ZTLZPZfly5eLY9q3b19j/9KlS03Oc/r0afTr1w8uLi7w9/fHsmXLLP63YTJARERUD8rKyhASEoJ169bdc39BQYHJsmnTJshkMowaNcpk3KJFi0zGTZ8+Xdyn0+kQERGBgIAAZGRkYPny5UhISMD7779vUaxsExARkSTY6hHGOp3OZLtCoYBCoagxPioqClFRUWbPp1arTda/+OILDBw4EB06dDDZ7unpWWNsteTkZOj1emzatAlyuRzdu3dHZmYmVqxYgSlTptTqfQGsDBARkUQYfnlqoTULAPj7+0OlUolLYmKi1bEVFhZi165dmDhxYo19S5cuRcuWLfHggw9i+fLlqKysFPelp6ejf//+kMvl4rbIyEhkZWXh1q1btX59VgaIiIgskJeXB6VSKa7fqypgqY8++gienp4YOXKkyfYXX3wRvXv3hre3N44dO4Y5c+agoKAAK1asAABotVoEBgaaHOPr6yvua9GiRa1en8kAERFJgq3aBEql0iQZsIVNmzZh7NixcHFxMdk+c+ZM8eeePXtCLpfj73//OxITE22ShFRjm4CIiCTBCCerl/pw5MgRZGVlYdKkSfcdGxoaisrKSly9ehVA1byDwsJCkzHV6+bmGdwLkwEiIiI72rhxI/r06YOQkJD7js3MzISTkxN8fHwAAGFhYUhLS0NFRYU4JjU1FV26dKl1iwBgMkBERBJhEGRWL5YoLS1FZmYmMjMzAQA5OTnIzMxEbm6uOEan0+HTTz+9Z1UgPT0dq1atwvfff48rV64gOTkZcXFxGDdunPhBP2bMGMjlckycOBHnzp3D9u3bsXr1apP2Qm1wzgAREUmCreYM1NbJkycxcOBAcb36Azo6OhpJSUkAgG3btkEQBIwePbrG8QqFAtu2bUNCQgLKy8sRGBiIuLg4kw96lUqFvXv3IiYmBn369EGrVq0wf/58iy4rBACZIAiCRUc0IjqdDiqVCrf+1wFKTxY5yDENbtfX3iEQ1ZtKoQIHKz9DSUmJzSflVav+rJhy+K+QezSv83n0pRV4//FP6zVWe+EnKBERkcSxTUBERJJggAwGKx42ZM2xjR2TASIikgSjYHnf//fHOyq2CYiIiCSOlQGJ2bbWB9/s9kJetgJyFyOC+t7BxNfz4d+pXByz+18tcXBHC2SfccWdUmd8duEMPFSGGuc6sU+J5JW+yLngCrnCiOBHypCwOUfcH6npVeOYOe9exYARxfXx1ojM6vHwbTw1tRAPBN9BS98KLJzUEel7vcT9L799FU/89SeTY04eUmLu+AdMtj38pxKMeSkfgd1+hr7cCWeOe2DR5E4N8RbIBoyCE4wWPob498c7KiYDEnM63QPDJvyIzr3uwFAJJC31w2ujO+KDwxfh4mYEANz92Ql9B+jQd4AOmxI19zzPkV0qrJrtj+deLUCvR0thMABXL7rWGPfyylz0HfjrE748lDWTCqL65uJmRM55V+zd3hLzP7hyzzH/PajEilntxfUKvWk5+dGoW5jxj2vYvKwNvv/GE87NBAR0+bk+wyYbM0IGoxV9f2uObewaRTKwbt06LF++HFqtFiEhIVi7di0efvhhe4flkJZsNf1D+PKqXPwtOBiXTrsi+JEyAMDIyTcAAN8f87jnOQyVwIb5bTB5bj4Gj7kpbg/oXF5jrIfSAG+fyhrbiRrSyUMqnDyk+sMxFXoZbt2492VnTs4Cpibk4cM32+Lr7a3E7bmXaibARE2R3Wse27dvx8yZM7FgwQKcOnUKISEhiIyMRFFRkb1Dk4QynTMAwNOr9t/YL51xw48FcsicgBee6IzRvbrj9bEdcPWiS42x77zeBn/t3gPThzyArz/2RtO9qwU5up6PlGLbqe/x4cGziH3zGjy9fk1iO/W4g9Z+FTAagXd2n8fWk99j8UeXENCZlYGmpKHvQNiU2D0ZWLFiBSZPnoznnnsOQUFB2LBhA9zc3LBp0yZ7h+bwjEZgw4I26P5QKdp3vVvr47TXqp6b/a+31Rg9oxCLtlyBh8qA2aM6QXfLWRw3fnYBXt9wDYnbLuOxISVY+1pbfLGxlbnTEtnNyUNKvDWzPV4d3RkbE9si+JFSvLHlEpycqrJXv3ZVVa9xcQX4eK0f5j/XCaUlzlj2SRY8VKx8NRXVcwasWRyVXd+ZXq9HRkYGwsPDxW1OTk4IDw9Henp6jfHl5eXQ6XQmC9XdO6+1xbWLrpiz/ppFxxmrphZg9EuF6De0BA/0/Bkvr8yFTAYcSfESx42NK0T3h8vQKfhn/C22CH+dVoRP1/vY8B0Q2cbhr7xxPNULV7Nckb7XCwue64Quve6gZ9htAIDsl7+U295R45v/tED2GXesmNUegiBD/z/fsmPkRLZh12Tgxx9/hMFggK+vr8l2X19faLXaGuMTExOhUqnExd/fv6FCdTjvvNYGJ1KVWPbvbLTWVNz/gN/w9q36JtTugV+rCXKFAHVAOYp+MH+rz6697+DHAjn05Y5baiPHoM1VoPinZtC0r6oI3Cyq+r3+7RyBCr0TtLlytNbo7RIjWc4Imfh8gjotDjyBsEnVPObMmYOSkhJxycvLs3dITY4gVCUCx/aosOzTbKjbWf6H7IGed9BcYcT1ywpxW2UFUJgnh29b84nF5XOu8PCqhFzBiQPUuLVS66FsUSkmAdln3KC/K0PbDr8mwM7NBPi21aPoB7m9wiQLCb9cTVDXRXDgZMCuVxO0atUKzs7OKCwsNNleWFgItVpdY7xCoYBCoaixnWrvndfa4uCOFkjYfAWuHkbcLKr6FXD3NEDhWvUhfbOoGW4VNUd+TtUfuZyLLnBzN6J1Gz2ULQxw9zRi6LM/4Z9vq9FaUwGftnr8+5fyf78/FwMAju9V4taNZujWpypxOJXmiW1rfPDU1BsN/6ZJ8lzcDOK3fABQ+5ejQ9Ad3C5uhtvFzhg3owBH/+OFWzeawy+gHBNf+wH5VxXIOFz1MJo7pc7Yldwa42bm40a+HEU/yPHU36uql0d21f6Z8WRfDf3UwqbErsmAXC5Hnz59sH//fowYMQIAYDQasX//fsTGxtozNIeV8lHVBL7Zo0xvpvLyylxE/K3qMsFdW1rhXyt+TcZm/eWBGmMmz/sBzs4Clr3YDvq7Tujy4B3849PL4lUJzs0FfJXUCu8lKCAIgKa9Hn9PyEfUWNMbuxA1hM4972DZJ/8T1/++4DoAIPXTllj7WjsEdvsZ4U/9BHelATcLmyPjiBJb3tKgQv9r8fTDN9vCUCnD7FU5kLsYkZXpjldHd0ZpSaO4QpvIKnZ/hPH27dsRHR2N9957Dw8//DBWrVqFTz75BBcvXqwxl+D3+AhjkgI+wpgcWUM+wvgvqc+huXvd2zoVZXrseGKzQz7C2O4p7d/+9jfcuHED8+fPh1arRa9evbBnz577JgJERESWYJvAPLsnAwAQGxvLtgAREZGdNIpkgIiIqL7x2QTmMRkgIiJJYJvAPM66IyIikjhWBoiISBJYGTCPyQAREUkCkwHz2CYgIiKSOFYGiIhIElgZMI/JABERSYIA6y4PdORHrDEZICIiSWBlwDzOGSAiIpI4VgaIiEgSWBkwj8kAERFJApMB89gmICIikjhWBoiISBJYGTCPyQAREUmCIMggWPGBbs2xjR3bBERERBLHygAREUmCETKrbjpkzbGNHSsDREQkCdVzBqxZLJGWloZhw4ZBo9FAJpNh586dJvsnTJgAmUxmsgwePNhkzM2bNzF27FgolUp4eXlh4sSJKC0tNRlz+vRp9OvXDy4uLvD398eyZcss/rdhMkBERFQPysrKEBISgnXr1pkdM3jwYBQUFIjLxx9/bLJ/7NixOHfuHFJTU5GSkoK0tDRMmTJF3K/T6RAREYGAgABkZGRg+fLlSEhIwPvvv29RrGwTEBGRJDT0BMKoqChERUX94RiFQgG1Wn3PfRcuXMCePXvw3//+F3379gUArF27FkOGDMFbb70FjUaD5ORk6PV6bNq0CXK5HN27d0dmZiZWrFhhkjTcDysDREQkCbZqE+h0OpOlvLy8zjEdOnQIPj4+6NKlC6ZNm4affvpJ3Jeeng4vLy8xEQCA8PBwODk54cSJE+KY/v37Qy6Xi2MiIyORlZWFW7du1ToOJgNERCQJ1ZUBaxYA8Pf3h0qlEpfExMQ6xTN48GBs2bIF+/fvxz/+8Q8cPnwYUVFRMBgMAACtVgsfHx+TY5o1awZvb29otVpxjK+vr8mY6vXqMbXBNgEREZEF8vLyoFQqxXWFQlGn8zzzzDPiz8HBwejZsyc6duyIQ4cOYdCgQVbHaQlWBoiISBIEK1sE1ZUBpVJpstQ1Gfi9Dh06oFWrVsjOzgYAqNVqFBUVmYyprKzEzZs3xXkGarUahYWFJmOq183NRbgXJgNERCQJAgBBsGKp5/iuX7+On376CX5+fgCAsLAwFBcXIyMjQxxz4MABGI1GhIaGimPS0tJQUVEhjklNTUWXLl3QokWLWr82kwEiIqJ6UFpaiszMTGRmZgIAcnJykJmZidzcXJSWlmL27Nk4fvw4rl69iv3792P48OHo1KkTIiMjAQDdunXD4MGDMXnyZHz77bf45ptvEBsbi2eeeQYajQYAMGbMGMjlckycOBHnzp3D9u3bsXr1asycOdOiWDlngIiIJMEIGWQNeAfCkydPYuDAgeJ69Qd0dHQ01q9fj9OnT+Ojjz5CcXExNBoNIiIisHjxYpO2Q3JyMmJjYzFo0CA4OTlh1KhRWLNmjbhfpVJh7969iImJQZ8+fdCqVSvMnz/fossKASYDREQkEQ19n4EBAwZAEMw3F77++uv7nsPb2xtbt279wzE9e/bEkSNHLIrt99gmICIikjhWBoiISBKMggwyKyoDlj6boClhMkBERJJQfVWANcc7KrYJiIiIJI6VASIikoSGnkDYlDAZICIiSWAyYB6TASIikgROIDSPcwaIiIgkjpUBIiKSBF5NYB6TASIikoSqZMCaOQM2DKaRYZuAiIhI4lgZICIiSeDVBOYxGSAiIkkQflmsOd5RsU1AREQkcawMEBGRJLBNYB6TASIikgb2CcxiMkBERNJgZWUADlwZ4JwBIiIiiWNlgIiIJIF3IDSPyQAREUkCJxCaxzYBERGRxLEyQERE0iDIrJsE6MCVASYDREQkCZwzYB7bBERERBLHygAREUkDbzpkFpMBIiKSBF5NYF6tkoEvv/yy1id88skn6xwMERERNbxaJQMjRoyo1clkMhkMBoM18RAREdUfBy71W6NWyYDRaKzvOIiIiOoV2wTmWXU1wd27d20VBxERUf0SbLA4KIuTAYPBgMWLF6NNmzbw8PDAlStXAADz5s3Dxo0bbR4gERER1S+Lk4E333wTSUlJWLZsGeRyubi9R48e+PDDD20aHBERke3IbLA4JouTgS1btuD999/H2LFj4ezsLG4PCQnBxYsXbRocERGRzbBNYJbFycAPP/yATp061dhuNBpRUVFhk6CIiIio4VicDAQFBeHIkSM1tv/73//Ggw8+aJOgiIiIbK6BKwNpaWkYNmwYNBoNZDIZdu7cKe6rqKhAfHw8goOD4e7uDo1Gg/HjxyM/P9/kHO3bt4dMJjNZli5dajLm9OnT6NevH1xcXODv749ly5ZZFijqcAfC+fPnIzo6Gj/88AOMRiM+//xzZGVlYcuWLUhJSbE4ACIiogbRwE8tLCsrQ0hICJ5//nmMHDnSZN+dO3dw6tQpzJs3DyEhIbh16xZeeuklPPnkkzh58qTJ2EWLFmHy5Mniuqenp/izTqdDREQEwsPDsWHDBpw5cwbPP/88vLy8MGXKlFrHanEyMHz4cHz11VdYtGgR3N3dMX/+fPTu3RtfffUVnnjiCUtPR0RE5JCioqIQFRV1z30qlQqpqakm29555x08/PDDyM3NRbt27cTtnp6eUKvV9zxPcnIy9Ho9Nm3aBLlcju7duyMzMxMrVqywKBmo030G+vXrh9TUVBQVFeHOnTs4evQoIiIi6nIqIiKiBlH9CGNrFqDq2/hvl/LycpvEV1JSAplMBi8vL5PtS5cuRcuWLfHggw9i+fLlqKysFPelp6ejf//+Jlf3RUZGIisrC7du3ar1a9f5QUUnT57EhQsXAFTNI+jTp09dT0VERFT/bPTUQn9/f5PNCxYsQEJCghUnrrqJX3x8PEaPHg2lUiluf/HFF9G7d294e3vj2LFjmDNnDgoKCrBixQoAgFarRWBgoMm5fH19xX0tWrSo1etbnAxcv34do0ePxjfffCNmL8XFxfi///s/bNu2DW3btrX0lERERE1GXl6eyQe2QqGw6nwVFRV4+umnIQgC1q9fb7Jv5syZ4s89e/aEXC7H3//+dyQmJlr9ur9lcZtg0qRJqKiowIULF3Dz5k3cvHkTFy5cgNFoxKRJk2wWGBERkU1VTyC0ZgGgVCpNFms+lKsTgWvXriE1NdUkybiX0NBQVFZW4urVqwAAtVqNwsJCkzHV6+bmGdyLxcnA4cOHsX79enTp0kXc1qVLF6xduxZpaWmWno6IiKhByATrF1uqTgQuXbqEffv2oWXLlvc9JjMzE05OTvDx8QEAhIWFIS0tzeQ+P6mpqejSpUutWwRAHdoE/v7+97y5kMFggEajsfR0REREDcNGcwZqq7S0FNnZ2eJ6Tk4OMjMz4e3tDT8/Pzz11FM4deoUUlJSYDAYoNVqAQDe3t6Qy+VIT0/HiRMnMHDgQHh6eiI9PR1xcXEYN26c+EE/ZswYLFy4EBMnTkR8fDzOnj2L1atXY+XKlRbFanEysHz5ckyfPh3r1q1D3759AVRNJnzppZfw1ltvWXo6IiIih3Ty5EkMHDhQXK/u/0dHRyMhIQFffvklAKBXr14mxx08eBADBgyAQqHAtm3bkJCQgPLycgQGBiIuLs5kHoFKpcLevXsRExODPn36oFWrVpg/f75FlxUCgEwQhPvmOi1atIBM9uvNFsrKylBZWYlmzapyieqf3d3dcfPmTYsCsIZOp4NKpcKt/3WA0tOqpzETNVqD2/W1dwhE9aZSqMDBys9QUlJy3355XVV/VvivXAwnV5c6n8f4813kxc2r11jtpVaVgVWrVtVzGERERPWsgdsETUmtkoHo6Oj6joOIiIjspM43HQKqbpKg1+tNtjla6YSIiBwEKwNmWdxoLysrQ2xsLHx8fODu7o4WLVqYLERERI1SAz+1sCmxOBl45ZVXcODAAaxfvx4KhQIffvghFi5cCI1Ggy1bttRHjERERFSPLG4TfPXVV9iyZQsGDBiA5557Dv369UOnTp0QEBCA5ORkjB07tj7iJCIisk4DP8K4KbG4MnDz5k106NABQNX8gOpLCR977DHegZCIiBqtxnYHwsbE4mSgQ4cOyMnJAQB07doVn3zyCYCqisHvH7tIREREjZ/FycBzzz2H77//HgDw6quvYt26dXBxcUFcXBxmz55t8wCJiIhsghMIzbJ4zkBcXJz4c3h4OC5evIiMjAx06tQJPXv2tGlwREREVP+sus8AAAQEBCAgIMAWsRAREdUbGazr+zvu9MFaJgNr1qyp9QlffPHFOgdDREREDa9WyUBtH4Uok8nskgw8FTUMzZwVDf66RA1BqLxi7xCI6o0gVDbgi/HSQnNqlQxUXz1ARETUZPF2xGbxub9EREQSZ/UEQiIioiaBlQGzmAwQEZEkWHsXQd6BkIiIiBwWKwNERCQNbBOYVafKwJEjRzBu3DiEhYXhhx9+AAD885//xNGjR20aHBERkc3wdsRmWZwMfPbZZ4iMjISrqyu+++47lJeXAwBKSkqwZMkSmwdIRERE9cviZOCNN97Ahg0b8MEHH6B58+bi9kcffRSnTp2yaXBERES2wkcYm2fxnIGsrCz079+/xnaVSoXi4mJbxERERGR7vAOhWRZXBtRqNbKzs2tsP3r0KDp06GCToIiIiGyOcwbMsjgZmDx5Ml566SWcOHECMpkM+fn5SE5OxqxZszBt2rT6iJGIiIjqkcVtgldffRVGoxGDBg3CnTt30L9/fygUCsyaNQvTp0+vjxiJiIisxpsOmWdxMiCTyfD6669j9uzZyM7ORmlpKYKCguDh4VEf8REREdkG7zNgVp1vOiSXyxEUFGTLWIiIiMgOLE4GBg4cCJnM/IzKAwcOWBUQERFRvbD28kBWBn7Vq1cvk/WKigpkZmbi7NmziI6OtlVcREREtsU2gVkWJwMrV6685/aEhASUlpZaHRARERE1LJs9tXDcuHHYtGmTrU5HRERkW7zPgFk2e2pheno6XFxcbHU6IiIim+KlheZZnAyMHDnSZF0QBBQUFODkyZOYN2+ezQIjIiKihmFxMqBSqUzWnZyc0KVLFyxatAgRERE2C4yIiIgahkVzBgwGA5577jmsWLECmzdvxubNm7Fx40YsXbqUiQARETVuDTxnIC0tDcOGDYNGo4FMJsPOnTtNwxEEzJ8/H35+fnB1dUV4eDguXbpkMubmzZsYO3YslEolvLy8MHHixBqT9U+fPo1+/frBxcUF/v7+WLZsmWWBwsJkwNnZGREREXw6IRERNTkN/QjjsrIyhISEYN26dffcv2zZMqxZswYbNmzAiRMn4O7ujsjISNy9e1ccM3bsWJw7dw6pqalISUlBWloapkyZIu7X6XSIiIhAQEAAMjIysHz5ciQkJOD999+3KFaL2wQ9evTAlStXEBgYaOmhRERETZ5OpzNZVygUUCgUNcZFRUUhKirqnucQBAGrVq3C3LlzMXz4cADAli1b4Ovri507d+KZZ57BhQsXsGfPHvz3v/9F3759AQBr167FkCFD8NZbb0Gj0SA5ORl6vR6bNm2CXC5H9+7dkZmZiRUrVpgkDfdj8aWFb7zxBmbNmoWUlBQUFBRAp9OZLERERI2WDVoE/v7+UKlU4pKYmGhxGDk5OdBqtQgPDxe3qVQqhIaGIj09HUDVVXpeXl5iIgAA4eHhcHJywokTJ8Qx/fv3h1wuF8dERkYiKysLt27dqnU8ta4MLFq0CC+//DKGDBkCAHjyySdNbkssCAJkMhkMBkOtX5yIiKjB2OgOhHl5eVAqleLme1UF7ker1QIAfH19Tbb7+vqK+7RaLXx8fEz2N2vWDN7e3iZjfl+prz6nVqtFixYtahVPrZOBhQsXYurUqTh48GBtDyEiInI4SqXSJBlwBLVOBgShKiV6/PHH6y0YIiKi+tKYbjqkVqsBAIWFhfDz8xO3FxYWis8AUqvVKCoqMjmusrISN2/eFI9Xq9UoLCw0GVO9Xj2mNiyaM/BHTyskIiJq1BrR7YgDAwOhVquxf/9+cZtOp8OJEycQFhYGAAgLC0NxcTEyMjLEMQcOHIDRaERoaKg4Ji0tDRUVFeKY1NRUdOnSpdYtAsDCqwk6d+5834Tg5s2blpySiIjIIZWWliI7O1tcz8nJQWZmJry9vdGuXTvMmDEDb7zxBh544AEEBgZi3rx50Gg0GDFiBACgW7duGDx4MCZPnowNGzagoqICsbGxeOaZZ6DRaAAAY8aMwcKFCzFx4kTEx8fj7NmzWL16tdmHCppjUTKwcOHCGncgJCIiagoauk1w8uRJDBw4UFyfOXMmACA6OhpJSUl45ZVXUFZWhilTpqC4uBiPPfYY9uzZY/Kcn+TkZMTGxmLQoEFwcnLCqFGjsGbNGnG/SqXC3r17ERMTgz59+qBVq1aYP3++RZcVVr236skA9+Hk5HTPmY32pNPpoFKpMKjjS2jmbPlsTqKmwHDpir1DIKo3lUIFDuELlJSU1NukvOrPis4vL4Gzou4P1DOU38X/3n6tXmO1l1rPGeB8ASIiIsdk8dUERERETZKN7jPgiGqdDBiNxvqMg4iIqF41pksLGxuLn01ARETUJLEyYJbFzyYgIiIix8LKABERSQMrA2YxGSAiIkngnAHz2CYgIiKSOFYGiIhIGtgmMIvJABERSQLbBOaxTUBERCRxrAwQEZE0sE1gFpMBIiKSBiYDZrFNQEREJHGsDBARkSTIflmsOd5RMRkgIiJpYJvALCYDREQkCby00DzOGSAiIpI4VgaIiEga2CYwi8kAERFJhwN/oFuDbQIiIiKJY2WAiIgkgRMIzWMyQERE0sA5A2axTUBERCRxrAwQEZEksE1gHpMBIiKSBrYJzGKbgIiISOJYGSAiIklgm8A8JgNERCQNbBOYxWSAiIikgcmAWZwzQEREJHGsDBARkSRwzoB5TAaIiEga2CYwi20CIiIiiWMyQEREkiATBKsXS7Rv3x4ymazGEhMTAwAYMGBAjX1Tp041OUdubi6GDh0KNzc3+Pj4YPbs2aisrLTZv0k1tgmIiEgaGrhN8N///hcGg0FcP3v2LJ544gn89a9/FbdNnjwZixYtEtfd3NzEnw0GA4YOHQq1Wo1jx46hoKAA48ePR/PmzbFkyZK6v497YDJARERUD1q3bm2yvnTpUnTs2BGPP/64uM3NzQ1qtfqex+/duxfnz5/Hvn374Ovri169emHx4sWIj49HQkIC5HK5zWJlm4CIiCSh+moCaxYA0Ol0Jkt5efl9X1uv1+Nf//oXnn/+echkMnF7cnIyWrVqhR49emDOnDm4c+eOuC89PR3BwcHw9fUVt0VGRkKn0+HcuXO2+4cBKwNERCQVNmoT+Pv7m2xesGABEhIS/vDQnTt3ori4GBMmTBC3jRkzBgEBAdBoNDh9+jTi4+ORlZWFzz//HACg1WpNEgEA4rpWq7XijdTEZICIiMgCeXl5UCqV4rpCobjvMRs3bkRUVBQ0Go24bcqUKeLPwcHB8PPzw6BBg3D58mV07NjRtkHfB9sEREQkCbZqEyiVSpPlfsnAtWvXsG/fPkyaNOkPx4WGhgIAsrOzAQBqtRqFhYUmY6rXzc0zqCsmA0REJA2CDZY62Lx5M3x8fDB06NA/HJeZmQkA8PPzAwCEhYXhzJkzKCoqEsekpqZCqVQiKCiobsGYwTYBERFJgj1uR2w0GrF582ZER0ejWbNfP3IvX76MrVu3YsiQIWjZsiVOnz6NuLg49O/fHz179gQAREREICgoCM8++yyWLVsGrVaLuXPnIiYmplatCUswGSAiIqon+/btQ25uLp5//nmT7XK5HPv27cOqVatQVlYGf39/jBo1CnPnzhXHODs7IyUlBdOmTUNYWBjc3d0RHR1tcl8CW2EyQERE0mCHZxNERERAuMedC/39/XH48OH7Hh8QEIDdu3db/sIWYjJARESS4chPHrQGJxASERFJHCsDREQkDYJQtVhzvINiMkBERJJgj6sJmgq2CYiIiCSOlQEiIpIGO1xN0FQwGSAiIkmQGasWa453VGwTEBERSRwrAxI3ZPgVDB2eA1911TO0r131xMcfdcXJE79/CIaARcvS0Te0EItfD0X60V+fvLX78I4a51268CGkHWhbn6ET1VqP0FL89YUbeCD4DlqqK5HwfHuk71EBAJybCZgQX4CH/nQbfgF6lOmc8N0RT2xc4oebhc1NzvPwIB3GxhUisNvP0Jc74cxxdyx8PtAeb4nqgm0Cs5gMSNyPN1yx+b3uyL/uAZlMwKDBuZj35nFMn/Qn5F799RGdI/56+Q+vqlmR2BsZ3/763O3S0ubmBxM1MBc3I66cc8HXH3tjwaarJvsUrkZ0Cv4ZW1f54sp5F3ioDJi2KB8Lk3IwPaqzOO6xIcWYsfw6Ni9VI/ObdnB2FtC+690GfidkDV5NYJ5dk4G0tDQsX74cGRkZKCgowI4dOzBixAh7hiQ53x7zM1nf8mF3DB2eg65BN8VkoEOnYox8+hJe+vtAJO/4zz3PU1baHLduutR7vER1cfKgEicPKu+5785tZ8x5xvTZ8eteb4O1/7mE1m30uPGDHE7OAqYuyscHb/jh649biuNyL/F3vknhfQbMsuucgbKyMoSEhGDdunX2DIN+4eQkoP+frsPFxYAL57wBAApFJV6ZdxLvrgr5ww/7aTO+x8df7MLKDYfwxJCrcOh6Gjk8d6UBRiNQVuIMAHgg+Ge01lRAMMqwbm8Wtn53Dm/86woCuvxs50iJbMOulYGoqChERUXVenx5eTnKy8vFdZ1OVx9hSU77DiV4e91hyOVG/PxzMyyeG4q8a1XfoibHnsGFs944/o3G7PH/3NgN359qjbvlzujdtwgxM76Hq6sBX37W0ewxRI1Vc4URE18vwKGdXrhTWpUMqAOq/u6Me1mL9xM00ObJ8dTUG1j+2WVMfKwrbhez49oUsE1gXpP6DU5MTMTChQvtHYbDuZ7ridhJf4K7ewUeezwfL7+WgVde7AdNmzKE9L6B6ZP+9IfHf7ylq/jzlUtecHGtxKhnLjEZoCbHuZmA19+7BsiAta/+OgHW6Zca6serfXF0txcA4O04f/wr4zz6/bkEu//V8h5no0aHEwjNalLJwJw5czBz5kxxXafTwd/f344ROYbKSicU/OABAMj+Xws80PUWhj91GfpyZ/hpyvBpSorJ+NcWncC5063w6ox+9zxf1nlvjInOQrPmBlRWONd7/ES2UJUIXIVvGz1eebqjWBUAIF5VkHtJIW6r0DtBe00Bnzb6Bo+VyNaaVDKgUCigUCjuP5Cs4uQkoHlzI5I3d8PXu9qb7FuftB8frOuJE9/8/tLDX3XoVILbuuZMBKjJqE4E2gTq8cpTHXH7lumfxkunXaG/K0PbjuU4962HeIyvvx6F1+X2CJnqgG0C85pUMkC2N2HyOZw84YuiIle4uVViwKDrCO71I+bNfhS3brrcc9LgjUJXFGrdAQAP/18BWrQox8Xz3tDrnfBg3yL8bVwWPtv+QEO/FSKzXNwM0AT++g1e7a9Hh+4/43axM24WNse8D66iU/DPmD8+EE7OAlq0rgAA3C52RmWFE+6UOmPXP1vi2ZcLcSNfjqLrzfHUtBsAgCMpKru8J6oDXk1gFpMBiVO1KMfLr2XAu+VdlJU1Q85lFebNfhTfnfSp1fGGSif8+S9XMDn2DGQQkP+DBz5YF4w9Ke3rN3AiC3QO+RnLP7ssrk9dmA8A2Lu9Bf71thphkVWTkdfv+5/JcbNHdcTp9KpKwAeLNTAYZHhlTS7kLkZkfeeG+L92RGkJ/4xS02fX3+LS0lJkZ2eL6zk5OcjMzIS3tzfatWtnx8ikY/Wy3haNH/L4X0zWM771NbnZEFFjdDrdA5GaELP7/2hfNUOlDB8s0uCDReavrKHGjW0C8+yaDJw8eRIDBw4U16snB0ZHRyMpKclOURERkUPi1QRm2TUZGDBgAAQH7sEQERE1BWx2ERGRJLBNYB6TASIikgajULVYc7yDYjJARETSwDkDZtn1QUVERERkf6wMEBGRJMhg5ZwBm0XS+DAZICIiaeAdCM1im4CIiEjiWBkgIiJJ4KWF5jEZICIiaeDVBGaxTUBERCRxrAwQEZEkyAQBMismAVpzbGPHZICIiKTB+MtizfEOim0CIiIiiWMyQEREklDdJrBmsURCQgJkMpnJ0rVrV3H/3bt3ERMTg5YtW8LDwwOjRo1CYWGhyTlyc3MxdOhQuLm5wcfHB7Nnz0ZlZaVN/j1+i20CIiKSBjtcTdC9e3fs27dPXG/W7NeP3bi4OOzatQuffvopVCoVYmNjMXLkSHzzzTcAAIPBgKFDh0KtVuPYsWMoKCjA+PHj0bx5cyxZssSKN1ITkwEiIpIGO9yBsFmzZlCr1TW2l5SUYOPGjdi6dSv+9Kc/AQA2b96Mbt264fjx43jkkUewd+9enD9/Hvv27YOvry969eqFxYsXIz4+HgkJCZDL5XV/L7/DNgEREZEFdDqdyVJeXm527KVLl6DRaNChQweMHTsWubm5AICMjAxUVFQgPDxcHNu1a1e0a9cO6enpAID09HQEBwfD19dXHBMZGQmdTodz587Z9D0xGSAiIkmovgOhNQsA+Pv7Q6VSiUtiYuI9Xy80NBRJSUnYs2cP1q9fj5ycHPTr1w+3b9+GVquFXC6Hl5eXyTG+vr7QarUAAK1Wa5IIVO+v3mdLbBMQEZE02KhNkJeXB6VSKW5WKBT3HB4VFSX+3LNnT4SGhiIgIACffPIJXF1d6x5HPWBlgIiIyAJKpdJkMZcM/J6Xlxc6d+6M7OxsqNVq6PV6FBcXm4wpLCwU5xio1eoaVxdUr99rHoI1mAwQEZEkyIzWL9YoLS3F5cuX4efnhz59+qB58+bYv3+/uD8rKwu5ubkICwsDAISFheHMmTMoKioSx6SmpkKpVCIoKMi6YH6HbQIiIpKGBr6aYNasWRg2bBgCAgKQn5+PBQsWwNnZGaNHj4ZKpcLEiRMxc+ZMeHt7Q6lUYvr06QgLC8MjjzwCAIiIiEBQUBCeffZZLFu2DFqtFnPnzkVMTEytqxG1xWSAiIioHly/fh2jR4/GTz/9hNatW+Oxxx7D8ePH0bp1awDAypUr4eTkhFGjRqG8vByRkZF49913xeOdnZ2RkpKCadOmISwsDO7u7oiOjsaiRYtsHiuTASIikoYGvunQtm3b/nC/i4sL1q1bh3Xr1pkdExAQgN27d1v2wnXAZICIiCSBTy00jxMIiYiIJI6VASIikgY73I64qWAyQERE0iAAsObyQMfNBZgMEBGRNHDOgHmcM0BERCRxrAwQEZE0CLByzoDNIml0mAwQEZE0cAKhWWwTEBERSRwrA0REJA1GADIrj3dQTAaIiEgSeDWBeWwTEBERSRwrA0REJA2cQGgWkwEiIpIGJgNmsU1AREQkcawMEBGRNLAyYBaTASIikgZeWmgWkwEiIpIEXlpoHucMEBERSRwrA0REJA2cM2AWkwEiIpIGowDIrPhANzpuMsA2ARERkcSxMkBERNLANoFZTAaIiEgirEwG4LjJANsEREREEsfKABERSQPbBGYxGSAiImkwCrCq1M+rCYiIiMhRsTJARETSIBirFmuOd1BMBoiISBo4Z8AsJgNERCQNnDNgFucMEBERSRwrA0REJA1sE5jFZICIiKRBgJXJgM0iaXTYJiAiIpI4JgNERCQN1W0CaxYLJCYm4qGHHoKnpyd8fHwwYsQIZGVlmYwZMGAAZDKZyTJ16lSTMbm5uRg6dCjc3Nzg4+OD2bNno7Ky0up/jt9im4CIiKTBaARgxb0CjJYde/jwYcTExOChhx5CZWUlXnvtNUREROD8+fNwd3cXx02ePBmLFi0S193c3MSfDQYDhg4dCrVajWPHjqGgoADjx49H8+bNsWTJkrq/l99hMkBERGQBnU5nsq5QKKBQKGqM27Nnj8l6UlISfHx8kJGRgf79+4vb3dzcoFar7/lae/fuxfnz57Fv3z74+vqiV69eWLx4MeLj45GQkAC5XG6Dd8Q2ARERSYWN2gT+/v5QqVTikpiYWKuXLykpAQB4e3ubbE9OTkarVq3Qo0cPzJkzB3fu3BH3paenIzg4GL6+vuK2yMhI6HQ6nDt3ztp/ERErA0REJA02urQwLy8PSqVS3HyvqsDvGY1GzJgxA48++ih69Oghbh8zZgwCAgKg0Whw+vRpxMfHIysrC59//jkAQKvVmiQCAMR1rVZb9/fyO0wGiIiILKBUKk2SgdqIiYnB2bNncfToUZPtU6ZMEX8ODg6Gn58fBg0ahMuXL6Njx442ibc22CYgIiJpMArWL3UQGxuLlJQUHDx4EG3btv3DsaGhoQCA7OxsAIBarUZhYaHJmOp1c/MM6oLJABERSYIgGK1eLHs9AbGxsdixYwcOHDiAwMDA+x6TmZkJAPDz8wMAhIWF4cyZMygqKhLHpKamQqlUIigoyKJ4/gjbBEREJA1C3b/di8dbICYmBlu3bsUXX3wBT09PscevUqng6uqKy5cvY+vWrRgyZAhatmyJ06dPIy4uDv3790fPnj0BABEREQgKCsKzzz6LZcuWQavVYu7cuYiJianVXIXaYmWAiIioHqxfvx4lJSUYMGAA/Pz8xGX79u0AALlcjn379iEiIgJdu3bFyy+/jFGjRuGrr74Sz+Hs7IyUlBQ4OzsjLCwM48aNw/jx403uS2ALrAwQEZE0CFY+wtjCyoBwn/H+/v44fPjwfc8TEBCA3bt3W/TalmIyQERE0mA0AjIr7kBo4ZyBpoRtAiIiIoljZYCIiKShgdsETQmTASIikgTBaIRgRZvA0ksLmxK2CYiIiCSOlQEiIpIGtgnMYjJARETSYBQAGZOBe2GbgIiISOJYGSAiImkQBADW3GfAcSsDTAaIiEgSBKMAwYo2wf3uKNiUMRkgIiJpEIywrjLASwuJiIjIQbEyQEREksA2gXlMBoiISBrYJjCrSScD1VlapbHczpEQ1R+DUGHvEIjqTSWqfr8b4lt3JSqsuudQdayOqEknA7dv3wYAHM7ZYOdIiIjIGrdv34ZKpaqXc8vlcqjVahzV7rb6XGq1GnK53AZRNS4yoQk3QYxGI/Lz8+Hp6QmZTGbvcCRBp9PB398feXl5UCqV9g6HyKb4+93wBEHA7du3odFo4ORUf3Pa7969C71eb/V55HI5XFxcbBBR49KkKwNOTk5o27atvcOQJKVSyT+W5LD4+92w6qsi8FsuLi4O+SFuK7y0kIiISOKYDBAREUkckwGyiEKhwIIFC6BQKOwdCpHN8febpKpJTyAkIiIi67EyQEREJHFMBoiIiCSOyQAREZHEMRkgIiKSOCYDVGvr1q1D+/bt4eLigtDQUHz77bf2DonIJtLS0jBs2DBoNBrIZDLs3LnT3iERNSgmA1Qr27dvx8yZM7FgwQKcOnUKISEhiIyMRFFRkb1DI7JaWVkZQkJCsG7dOnuHQmQXvLSQaiU0NBQPPfQQ3nnnHQBVz4Xw9/fH9OnT8eqrr9o5OiLbkclk2LFjB0aMGGHvUIgaDCsDdF96vR4ZGRkIDw8Xtzk5OSE8PBzp6el2jIyIiGyByQDd148//giDwQBfX1+T7b6+vtBqtXaKioiIbIXJABERkcQxGaD7atWqFZydnVFYWGiyvbCwEGq12k5RERGRrTAZoPuSy+Xo06cP9u/fL24zGo3Yv38/wsLC7BgZERHZQjN7B0BNw8yZMxEdHY2+ffvi4YcfxqpVq1BWVobnnnvO3qERWa20tBTZ2dniek5ODjIzM+Ht7Y127drZMTKihsFLC6nW3nnnHSxfvhxarRa9evXCmjVrEBoaau+wiKx26NAhDBw4sMb26OhoJCUlNXxARA2MyQAREZHEcc4AERGRxDEZICIikjgmA0RERBLHZICIiEjimAwQERFJHJMBIiIiiWMyQEREJHFMBoiIiCSOyQCRlSZMmIARI0aI6wMGDMCMGTMaPI5Dhw5BJpOhuLjY7BiZTIadO3fW+pwJCQno1auXVXFdvXoVMpkMmZmZVp2HiOoPkwFySBMmTIBMJoNMJoNcLkenTp2waNEiVFZW1vtrf/7551i8eHGtxtbmA5yIqL7xQUXksAYPHozNmzejvLwcu3fvRkxMDJo3b445c+bUGKvX6yGXy23yut7e3jY5DxFRQ2FlgByWQqGAWq1GQEAApk2bhvDwcHz55ZcAfi3tv/nmm9BoNOjSpQsAIC8vD08//TS8vLzg7e2N4cOH4+rVq+I5DQYDZs6cCS8vL7Rs2RKvvPIKfv94j9+3CcrLyxEfHw9/f38oFAp06tQJGzduxNWrV8WH47Ro0QIymQwTJkwAUPWI6MTERAQGBsLV1RUhISH497//bfI6u3fvRufOneHq6oqBAweaxFlb8fHx6Ny5M9zc3NChQwfMmzcPFRUVNca999578Pf3h5ubG55++mmUlJSY7P/www/RrVs3uLi4oGvXrnj33XctjoWI7IfJAEmGq6sr9Hq9uL5//35kZWUhNTUVKSkpqKioQGRkJDw9PXHkyBF888038PDwwODBg8Xj3n77bSQlJWHTpk04evQobt68iR07dvzh644fPx4ff/wx1qxZgwsXLuC9996Dh4cH/P398dlnnwEAsrKyUFBQgNWrVwMAEhMTsWXLFmzYsAHnzp1DXFwcxo0bh8OHDwOoSlpGjhyJYcOGITMzE5MmTcKrr75q8b+Jp6cnkpKScP78eaxevRoffPABVq5caTImOzsbn3zyCb766ivs2bMH3333HV544QVxf3JyMubPn48333wTFy5cwJIlSzBv3jx89NFHFsdDRHYiEDmg6OhoYfjw4YIgCILRaBRSU1MFhUIhzJo1S9zv6+srlJeXi8f885//FLp06SIYjUZxW3l5ueDq6ip8/fXXgiAIgp+fn7Bs2TJxf0VFhdC2bVvxtQRBEB5//HHhpZdeEgRBELKysgQAQmpq6j3jPHjwoABAuHXrlrjt7t27gpubm3Ds2DGTsRMnThRGjx4tCIIgzJkzRwgKCjLZHx8fX+NcvwdA2LFjh9n9y5cvF/r06SOuL1iwQHB2dhauX78ubvvPf/4jODk5CQUFBYIgCELHjh2FrVu3mpxn8eLFQlhYmCAIgpCTkyMAEL777juzr0tE9sU5A+SwUlJS4OHhgYqKChiNRowZMwYJCQni/uDgYJN5At9//z2ys7Ph6elpcp67d+/i8uXLKCkpQUFBAUJDQ8V9zZo1Q9++fWu0CqplZmbC2dkZjz/+eK3jzs7Oxp07d/DEE0+YbNfr9XjwwQcBABcuXDCJAwDCwsJq/RrVtm/fjjVr1uDy5csoLS1FZWUllEqlyZh27dqhTZs2Jq9jNBqRlZUFT09PXL58GRMnTsTkyZPFMZWVlVCpVBbHQ0T2wWSAHNbAgQOxfv16yOVyaDQaNGtm+uvu7u5usl5aWoo+ffogOTm5xrlat25dpxhcXV0tPqa0tBQAsGvXLpMPYaBqHoStpKenY+zYsVi4cCEiIyOhUqmwbds2vP322xbH+sEHH9RITpydnW0WKxHVLyYD5LDc3d3RqVOnWo/v3bs3tm/fDh8fnxrfjqv5+fnhxIkT6N+/P4Cqb8AZGRno3bv3PccHBwfDaDTi8OHDCA8Pr7G/ujJhMBjEbUFBQVAoFMjNzTVbUejWrZs4GbLa8ePH7/8mf+PYsWMICAjA66+/Lm67du1ajXG5ubnIz8+HRqMRX8fJyQldunSBr68vNBoNrly5grFjx1r0+kTUeHACIdEvxo4di1atWmH48OE4cuQIcnJycOjQIbz44ou4fv06AOCll17C0qVLsXPnTly8eBEvvPDCH94joH379oiOjsbzzz+PnTt3iuf85JNPAAABAQGQyWRISUnBjRs3UFpaCk9PT8yaNQtxcXH46KOPcPnyZZw6dQpr164VJ+VNnToVly5dwuzZs5GVlYWtW7ciKSnJovf7wAMPIDc3F9u2bcPly5exZs2ae06GdHFxQXR0NL7//nscOXIEL774Ip5++mmo1WoAwMKFC5GYmIg1a9bgf//7H86cOYPNmzdjxYoVFsVDRPbDZIDoF25ubkhLS0O7du0wcuRIdOvWDRMnTsTdu3fFSsHLL7+MZ599FtHR0QgLC4Onpyf+8pe//OF5169fj6eeegovvPACunbtismTJ6OsrAwA0KZNGyxcuBCvvvoqfH19ERsbCwBYvHgx5s2bh8TERHTr1g2DBw/Grl27EBgYCKCqj//ZZ59h586dCAkJwYYNG7BkyRKL3u+TTz6JuLg4xMbGolevXjh27BjmzZtXY1ynTp0wcuRIDBkyBBEREejZs6fJpYOTJk3Chx9+iM2bNyM4OBiPP/44kpKSxFiJqPGTCeZmPhEREZEksDJAREQkcUwGiIiIJI7JABERkcQxGSAiIpI4JgNEREQSx2SAiIhI4pgMEBERSRyTASIiIoljMkBERCRxTAaIiIgkjskAERGRxP0/g1ZtgXKXRlAAAAAASUVORK5CYII=",
      "text/plain": [
       "<Figure size 640x480 with 2 Axes>"
      ]
     },
     "metadata": {},
     "output_type": "display_data"
    }
   ],
   "source": [
    "# Compute values for confusion matrix\n",
    "log_cm = confusion_matrix(y_test, y_pred, labels=log_clf.classes_)\n",
    "\n",
    "# Create display of confusion matrix\n",
    "log_disp = ConfusionMatrixDisplay(confusion_matrix=log_cm, \n",
    "                                  display_labels=log_clf.classes_)\n",
    "\n",
    "# Plot confusion matrix\n",
    "log_disp.plot(values_format='')\n",
    "\n",
    "# Display plot\n",
    "plt.show()"
   ]
  },
  {
   "cell_type": "markdown",
   "id": "909933cd-98f0-45fc-a744-282d32fc5708",
   "metadata": {},
   "source": [
    "**Confusion Matrix**\n",
    "A confusion matrix is a table that summarizes the performance of a classification model by displaying the counts or proportions of true positive (TP), true negative (TN), false positive (FP), and false negative (FN) predictions. It is a useful tool for evaluating the performance of a classification model and understanding the types of errors it makes.\n",
    "- True Negatives (TN) are reported in the upper-left quandrant. These are the employees that did not leave that were accurately predicted by the model.\n",
    "- False Positives (FP) are reported in the upper-right quadrant. These are employees who did not leave that the model predicted would leave.\n",
    "- False Negatives (FN) are reported in the bottom-left quadrant. These are employees that did leave that the model predicted would not leave.\n",
    "- True Positives (TP) are reported in bottom-right quadrant. These are employees that the model accurately predicted would leave. "
   ]
  },
  {
   "cell_type": "code",
   "execution_count": 34,
   "id": "7fe8857e-0391-4c34-bb38-437b88e344e3",
   "metadata": {},
   "outputs": [
    {
     "name": "stdout",
     "output_type": "stream",
     "text": [
      "                           precision    recall  f1-score   support\n",
      "\n",
      "Predicted would not leave       0.86      0.93      0.90      2321\n",
      "    Predicted would leave       0.45      0.27      0.33       471\n",
      "\n",
      "                 accuracy                           0.82      2792\n",
      "                macro avg       0.65      0.60      0.62      2792\n",
      "             weighted avg       0.79      0.82      0.80      2792\n",
      "\n"
     ]
    }
   ],
   "source": [
    "# Create classification report for logistic regression model\n",
    "target_names = ['Predicted would not leave', 'Predicted would leave']\n",
    "print(classification_report(y_test, y_pred, target_names=target_names))"
   ]
  },
  {
   "cell_type": "markdown",
   "id": "b7df8816-733a-4a27-b20f-b9044e59454d",
   "metadata": {},
   "source": [
    "- Precision, recall, F1 score, and support are commonly used metrics in evaluating the performance of a classification model. They provide insights into different aspects of the model's predictive capability\n",
    "- The classification report above shows that the logistic regression model achieved a precision of 79%, recall of 82%, f1-score of 80% (all weighted averages), and accuracy of 82%. However, if it's most important to predict employees who leave, then the scores are significantly lower."
   ]
  },
  {
   "cell_type": "markdown",
   "id": "3336315c-532a-4ec4-97bb-cd73053f2dd6",
   "metadata": {},
   "source": [
    "**Tree-Based Model**\n",
    "- We will implement a Decision Tree and Random Forrest\n",
    "- A *Decision Tree* is a popular machine learning algorithm that can be used for both classification and regression tasks. It is a supervised learning algorithm that creates a flowchart-like structure of decisions or rules based on the input features, which is represented as a tree-like structure.\n",
    "- A *Random Forest* is an ensemble learning method that combines multiple decision trees to improve predictive performance and reduce overfitting. It is a popular and powerful machine learning algorithm that can be used for both classification and regression tasks."
   ]
  },
  {
   "cell_type": "code",
   "execution_count": 35,
   "id": "d854c87d-62d4-4b63-93ad-0e8b308e4474",
   "metadata": {},
   "outputs": [
    {
     "data": {
      "text/plain": [
       "0    1\n",
       "1    1\n",
       "2    1\n",
       "3    1\n",
       "4    1\n",
       "Name: left, dtype: int64"
      ]
     },
     "execution_count": 35,
     "metadata": {},
     "output_type": "execute_result"
    }
   ],
   "source": [
    "# Isolate the outcome variable\n",
    "y = df_enc['left']\n",
    "\n",
    "# Display the first few rows of `y`\n",
    "y.head()"
   ]
  },
  {
   "cell_type": "code",
   "execution_count": 36,
   "id": "97cdfe7b-7474-4e57-b521-d1eb00017b2c",
   "metadata": {},
   "outputs": [
    {
     "data": {
      "text/html": [
       "<div>\n",
       "<style scoped>\n",
       "    .dataframe tbody tr th:only-of-type {\n",
       "        vertical-align: middle;\n",
       "    }\n",
       "\n",
       "    .dataframe tbody tr th {\n",
       "        vertical-align: top;\n",
       "    }\n",
       "\n",
       "    .dataframe thead th {\n",
       "        text-align: right;\n",
       "    }\n",
       "</style>\n",
       "<table border=\"1\" class=\"dataframe\">\n",
       "  <thead>\n",
       "    <tr style=\"text-align: right;\">\n",
       "      <th></th>\n",
       "      <th>satisfaction_level</th>\n",
       "      <th>last_evaluation</th>\n",
       "      <th>number_project</th>\n",
       "      <th>average_monthly_hours</th>\n",
       "      <th>tenure</th>\n",
       "      <th>work_accident</th>\n",
       "      <th>promotion_last_5years</th>\n",
       "      <th>salary</th>\n",
       "      <th>department_IT</th>\n",
       "      <th>department_RandD</th>\n",
       "      <th>department_accounting</th>\n",
       "      <th>department_hr</th>\n",
       "      <th>department_management</th>\n",
       "      <th>department_marketing</th>\n",
       "      <th>department_product_mng</th>\n",
       "      <th>department_sales</th>\n",
       "      <th>department_support</th>\n",
       "      <th>department_technical</th>\n",
       "    </tr>\n",
       "  </thead>\n",
       "  <tbody>\n",
       "    <tr>\n",
       "      <th>0</th>\n",
       "      <td>0.38</td>\n",
       "      <td>0.53</td>\n",
       "      <td>2</td>\n",
       "      <td>157</td>\n",
       "      <td>3</td>\n",
       "      <td>0</td>\n",
       "      <td>0</td>\n",
       "      <td>0</td>\n",
       "      <td>False</td>\n",
       "      <td>False</td>\n",
       "      <td>False</td>\n",
       "      <td>False</td>\n",
       "      <td>False</td>\n",
       "      <td>False</td>\n",
       "      <td>False</td>\n",
       "      <td>True</td>\n",
       "      <td>False</td>\n",
       "      <td>False</td>\n",
       "    </tr>\n",
       "    <tr>\n",
       "      <th>1</th>\n",
       "      <td>0.80</td>\n",
       "      <td>0.86</td>\n",
       "      <td>5</td>\n",
       "      <td>262</td>\n",
       "      <td>6</td>\n",
       "      <td>0</td>\n",
       "      <td>0</td>\n",
       "      <td>1</td>\n",
       "      <td>False</td>\n",
       "      <td>False</td>\n",
       "      <td>False</td>\n",
       "      <td>False</td>\n",
       "      <td>False</td>\n",
       "      <td>False</td>\n",
       "      <td>False</td>\n",
       "      <td>True</td>\n",
       "      <td>False</td>\n",
       "      <td>False</td>\n",
       "    </tr>\n",
       "    <tr>\n",
       "      <th>2</th>\n",
       "      <td>0.11</td>\n",
       "      <td>0.88</td>\n",
       "      <td>7</td>\n",
       "      <td>272</td>\n",
       "      <td>4</td>\n",
       "      <td>0</td>\n",
       "      <td>0</td>\n",
       "      <td>1</td>\n",
       "      <td>False</td>\n",
       "      <td>False</td>\n",
       "      <td>False</td>\n",
       "      <td>False</td>\n",
       "      <td>False</td>\n",
       "      <td>False</td>\n",
       "      <td>False</td>\n",
       "      <td>True</td>\n",
       "      <td>False</td>\n",
       "      <td>False</td>\n",
       "    </tr>\n",
       "    <tr>\n",
       "      <th>3</th>\n",
       "      <td>0.72</td>\n",
       "      <td>0.87</td>\n",
       "      <td>5</td>\n",
       "      <td>223</td>\n",
       "      <td>5</td>\n",
       "      <td>0</td>\n",
       "      <td>0</td>\n",
       "      <td>0</td>\n",
       "      <td>False</td>\n",
       "      <td>False</td>\n",
       "      <td>False</td>\n",
       "      <td>False</td>\n",
       "      <td>False</td>\n",
       "      <td>False</td>\n",
       "      <td>False</td>\n",
       "      <td>True</td>\n",
       "      <td>False</td>\n",
       "      <td>False</td>\n",
       "    </tr>\n",
       "    <tr>\n",
       "      <th>4</th>\n",
       "      <td>0.37</td>\n",
       "      <td>0.52</td>\n",
       "      <td>2</td>\n",
       "      <td>159</td>\n",
       "      <td>3</td>\n",
       "      <td>0</td>\n",
       "      <td>0</td>\n",
       "      <td>0</td>\n",
       "      <td>False</td>\n",
       "      <td>False</td>\n",
       "      <td>False</td>\n",
       "      <td>False</td>\n",
       "      <td>False</td>\n",
       "      <td>False</td>\n",
       "      <td>False</td>\n",
       "      <td>True</td>\n",
       "      <td>False</td>\n",
       "      <td>False</td>\n",
       "    </tr>\n",
       "  </tbody>\n",
       "</table>\n",
       "</div>"
      ],
      "text/plain": [
       "   satisfaction_level  last_evaluation  number_project  average_monthly_hours  \\\n",
       "0                0.38             0.53               2                    157   \n",
       "1                0.80             0.86               5                    262   \n",
       "2                0.11             0.88               7                    272   \n",
       "3                0.72             0.87               5                    223   \n",
       "4                0.37             0.52               2                    159   \n",
       "\n",
       "   tenure  work_accident  promotion_last_5years  salary  department_IT  \\\n",
       "0       3              0                      0       0          False   \n",
       "1       6              0                      0       1          False   \n",
       "2       4              0                      0       1          False   \n",
       "3       5              0                      0       0          False   \n",
       "4       3              0                      0       0          False   \n",
       "\n",
       "   department_RandD  department_accounting  department_hr  \\\n",
       "0             False                  False          False   \n",
       "1             False                  False          False   \n",
       "2             False                  False          False   \n",
       "3             False                  False          False   \n",
       "4             False                  False          False   \n",
       "\n",
       "   department_management  department_marketing  department_product_mng  \\\n",
       "0                  False                 False                   False   \n",
       "1                  False                 False                   False   \n",
       "2                  False                 False                   False   \n",
       "3                  False                 False                   False   \n",
       "4                  False                 False                   False   \n",
       "\n",
       "   department_sales  department_support  department_technical  \n",
       "0              True               False                 False  \n",
       "1              True               False                 False  \n",
       "2              True               False                 False  \n",
       "3              True               False                 False  \n",
       "4              True               False                 False  "
      ]
     },
     "execution_count": 36,
     "metadata": {},
     "output_type": "execute_result"
    }
   ],
   "source": [
    "# Select the features\n",
    "X = df_enc.drop('left', axis=1)\n",
    "\n",
    "# Display the first few rows of `X`\n",
    "X.head()"
   ]
  },
  {
   "cell_type": "code",
   "execution_count": 37,
   "id": "2d75a1f7-6c3e-47a3-9222-e12fa8a44664",
   "metadata": {},
   "outputs": [],
   "source": [
    "# Split the data\n",
    "X_train, X_test, y_train, y_test = train_test_split(X, y, test_size=0.25, stratify=y, random_state=0)"
   ]
  },
  {
   "cell_type": "markdown",
   "id": "13cd1250-91e9-4db7-98c1-2832e0852ad1",
   "metadata": {},
   "source": [
    "#### Decision tree - Round 1\n",
    "Construct a decision tree model and set up cross-validated grid-search to exhuastively search for the best model parameters."
   ]
  },
  {
   "cell_type": "code",
   "execution_count": 38,
   "id": "90390876-8ad7-4b54-981b-670ca31f2733",
   "metadata": {},
   "outputs": [],
   "source": [
    "# Instantiate model\n",
    "tree = DecisionTreeClassifier(random_state=0)\n",
    "\n",
    "# Assign a dictionary of hyperparameters to search over\n",
    "cv_params = {'max_depth':[4, 6, 8, None],\n",
    "             'min_samples_leaf': [2, 5, 1],\n",
    "             'min_samples_split': [2, 4, 6]\n",
    "             }\n",
    "\n",
    "# Assign a dictionary of scoring metrics to capture\n",
    "scoring = {'accuracy': 'accuracy', 'precision': 'precision', 'recall': 'recall', 'f1': 'f1', 'roc_auc': 'roc_auc'}\n",
    "\n",
    "\n",
    "# Instantiate GridSearch\n",
    "tree1 = GridSearchCV(tree, cv_params, scoring=scoring, cv=4, refit='roc_auc')"
   ]
  },
  {
   "cell_type": "markdown",
   "id": "10bef69b-4b8e-4a81-b3a3-6471498a2d4a",
   "metadata": {},
   "source": [
    "The `DecisionTreeClassifier` instantiates our model to set up a `GridSearchCV` object for hyperparameter tuning. \n",
    "- *Grid search* is a hyperparameter tuning technique used to systematically search for the optimal combination of hyperparameter values for a machine learning model.\n",
    "- *Hyperparameters* are parameters that are set before the model is trained and cannot be learned from the data.\n",
    "\n",
    "The dictionary `cv_params` defines the hyperparameters and the corresponding values that will be searched over during the grid search. The `scoring` dictionary specifies the metrics that will be evaluated during the grid search. The provided metrics include accuracy, precision, recall, F1 score, and ROC AUC (receiver operating characteristic area under the curve)."
   ]
  },
  {
   "cell_type": "code",
   "execution_count": 39,
   "id": "c7a162cb-e2ba-445b-b6d2-4bdfbd930f7b",
   "metadata": {},
   "outputs": [
    {
     "name": "stdout",
     "output_type": "stream",
     "text": [
      "CPU times: user 2.64 s, sys: 50.7 ms, total: 2.69 s\n",
      "Wall time: 1.94 s\n"
     ]
    },
    {
     "data": {
      "text/html": [
       "<style>#sk-container-id-1 {color: black;}#sk-container-id-1 pre{padding: 0;}#sk-container-id-1 div.sk-toggleable {background-color: white;}#sk-container-id-1 label.sk-toggleable__label {cursor: pointer;display: block;width: 100%;margin-bottom: 0;padding: 0.3em;box-sizing: border-box;text-align: center;}#sk-container-id-1 label.sk-toggleable__label-arrow:before {content: \"▸\";float: left;margin-right: 0.25em;color: #696969;}#sk-container-id-1 label.sk-toggleable__label-arrow:hover:before {color: black;}#sk-container-id-1 div.sk-estimator:hover label.sk-toggleable__label-arrow:before {color: black;}#sk-container-id-1 div.sk-toggleable__content {max-height: 0;max-width: 0;overflow: hidden;text-align: left;background-color: #f0f8ff;}#sk-container-id-1 div.sk-toggleable__content pre {margin: 0.2em;color: black;border-radius: 0.25em;background-color: #f0f8ff;}#sk-container-id-1 input.sk-toggleable__control:checked~div.sk-toggleable__content {max-height: 200px;max-width: 100%;overflow: auto;}#sk-container-id-1 input.sk-toggleable__control:checked~label.sk-toggleable__label-arrow:before {content: \"▾\";}#sk-container-id-1 div.sk-estimator input.sk-toggleable__control:checked~label.sk-toggleable__label {background-color: #d4ebff;}#sk-container-id-1 div.sk-label input.sk-toggleable__control:checked~label.sk-toggleable__label {background-color: #d4ebff;}#sk-container-id-1 input.sk-hidden--visually {border: 0;clip: rect(1px 1px 1px 1px);clip: rect(1px, 1px, 1px, 1px);height: 1px;margin: -1px;overflow: hidden;padding: 0;position: absolute;width: 1px;}#sk-container-id-1 div.sk-estimator {font-family: monospace;background-color: #f0f8ff;border: 1px dotted black;border-radius: 0.25em;box-sizing: border-box;margin-bottom: 0.5em;}#sk-container-id-1 div.sk-estimator:hover {background-color: #d4ebff;}#sk-container-id-1 div.sk-parallel-item::after {content: \"\";width: 100%;border-bottom: 1px solid gray;flex-grow: 1;}#sk-container-id-1 div.sk-label:hover label.sk-toggleable__label {background-color: #d4ebff;}#sk-container-id-1 div.sk-serial::before {content: \"\";position: absolute;border-left: 1px solid gray;box-sizing: border-box;top: 0;bottom: 0;left: 50%;z-index: 0;}#sk-container-id-1 div.sk-serial {display: flex;flex-direction: column;align-items: center;background-color: white;padding-right: 0.2em;padding-left: 0.2em;position: relative;}#sk-container-id-1 div.sk-item {position: relative;z-index: 1;}#sk-container-id-1 div.sk-parallel {display: flex;align-items: stretch;justify-content: center;background-color: white;position: relative;}#sk-container-id-1 div.sk-item::before, #sk-container-id-1 div.sk-parallel-item::before {content: \"\";position: absolute;border-left: 1px solid gray;box-sizing: border-box;top: 0;bottom: 0;left: 50%;z-index: -1;}#sk-container-id-1 div.sk-parallel-item {display: flex;flex-direction: column;z-index: 1;position: relative;background-color: white;}#sk-container-id-1 div.sk-parallel-item:first-child::after {align-self: flex-end;width: 50%;}#sk-container-id-1 div.sk-parallel-item:last-child::after {align-self: flex-start;width: 50%;}#sk-container-id-1 div.sk-parallel-item:only-child::after {width: 0;}#sk-container-id-1 div.sk-dashed-wrapped {border: 1px dashed gray;margin: 0 0.4em 0.5em 0.4em;box-sizing: border-box;padding-bottom: 0.4em;background-color: white;}#sk-container-id-1 div.sk-label label {font-family: monospace;font-weight: bold;display: inline-block;line-height: 1.2em;}#sk-container-id-1 div.sk-label-container {text-align: center;}#sk-container-id-1 div.sk-container {/* jupyter's `normalize.less` sets `[hidden] { display: none; }` but bootstrap.min.css set `[hidden] { display: none !important; }` so we also need the `!important` here to be able to override the default hidden behavior on the sphinx rendered scikit-learn.org. See: https://github.com/scikit-learn/scikit-learn/issues/21755 */display: inline-block !important;position: relative;}#sk-container-id-1 div.sk-text-repr-fallback {display: none;}</style><div id=\"sk-container-id-1\" class=\"sk-top-container\"><div class=\"sk-text-repr-fallback\"><pre>GridSearchCV(cv=4, estimator=DecisionTreeClassifier(random_state=0),\n",
       "             param_grid={&#x27;max_depth&#x27;: [4, 6, 8, None],\n",
       "                         &#x27;min_samples_leaf&#x27;: [2, 5, 1],\n",
       "                         &#x27;min_samples_split&#x27;: [2, 4, 6]},\n",
       "             refit=&#x27;roc_auc&#x27;,\n",
       "             scoring={&#x27;accuracy&#x27;: &#x27;accuracy&#x27;, &#x27;f1&#x27;: &#x27;f1&#x27;,\n",
       "                      &#x27;precision&#x27;: &#x27;precision&#x27;, &#x27;recall&#x27;: &#x27;recall&#x27;,\n",
       "                      &#x27;roc_auc&#x27;: &#x27;roc_auc&#x27;})</pre><b>In a Jupyter environment, please rerun this cell to show the HTML representation or trust the notebook. <br />On GitHub, the HTML representation is unable to render, please try loading this page with nbviewer.org.</b></div><div class=\"sk-container\" hidden><div class=\"sk-item sk-dashed-wrapped\"><div class=\"sk-label-container\"><div class=\"sk-label sk-toggleable\"><input class=\"sk-toggleable__control sk-hidden--visually\" id=\"sk-estimator-id-1\" type=\"checkbox\" ><label for=\"sk-estimator-id-1\" class=\"sk-toggleable__label sk-toggleable__label-arrow\">GridSearchCV</label><div class=\"sk-toggleable__content\"><pre>GridSearchCV(cv=4, estimator=DecisionTreeClassifier(random_state=0),\n",
       "             param_grid={&#x27;max_depth&#x27;: [4, 6, 8, None],\n",
       "                         &#x27;min_samples_leaf&#x27;: [2, 5, 1],\n",
       "                         &#x27;min_samples_split&#x27;: [2, 4, 6]},\n",
       "             refit=&#x27;roc_auc&#x27;,\n",
       "             scoring={&#x27;accuracy&#x27;: &#x27;accuracy&#x27;, &#x27;f1&#x27;: &#x27;f1&#x27;,\n",
       "                      &#x27;precision&#x27;: &#x27;precision&#x27;, &#x27;recall&#x27;: &#x27;recall&#x27;,\n",
       "                      &#x27;roc_auc&#x27;: &#x27;roc_auc&#x27;})</pre></div></div></div><div class=\"sk-parallel\"><div class=\"sk-parallel-item\"><div class=\"sk-item\"><div class=\"sk-label-container\"><div class=\"sk-label sk-toggleable\"><input class=\"sk-toggleable__control sk-hidden--visually\" id=\"sk-estimator-id-2\" type=\"checkbox\" ><label for=\"sk-estimator-id-2\" class=\"sk-toggleable__label sk-toggleable__label-arrow\">estimator: DecisionTreeClassifier</label><div class=\"sk-toggleable__content\"><pre>DecisionTreeClassifier(random_state=0)</pre></div></div></div><div class=\"sk-serial\"><div class=\"sk-item\"><div class=\"sk-estimator sk-toggleable\"><input class=\"sk-toggleable__control sk-hidden--visually\" id=\"sk-estimator-id-3\" type=\"checkbox\" ><label for=\"sk-estimator-id-3\" class=\"sk-toggleable__label sk-toggleable__label-arrow\">DecisionTreeClassifier</label><div class=\"sk-toggleable__content\"><pre>DecisionTreeClassifier(random_state=0)</pre></div></div></div></div></div></div></div></div></div></div>"
      ],
      "text/plain": [
       "GridSearchCV(cv=4, estimator=DecisionTreeClassifier(random_state=0),\n",
       "             param_grid={'max_depth': [4, 6, 8, None],\n",
       "                         'min_samples_leaf': [2, 5, 1],\n",
       "                         'min_samples_split': [2, 4, 6]},\n",
       "             refit='roc_auc',\n",
       "             scoring={'accuracy': 'accuracy', 'f1': 'f1',\n",
       "                      'precision': 'precision', 'recall': 'recall',\n",
       "                      'roc_auc': 'roc_auc'})"
      ]
     },
     "execution_count": 39,
     "metadata": {},
     "output_type": "execute_result"
    }
   ],
   "source": [
    "%%time\n",
    "tree1.fit(X_train, y_train)"
   ]
  },
  {
   "cell_type": "code",
   "execution_count": 40,
   "id": "d331cb4e-459c-481d-bb05-65fc01c24b31",
   "metadata": {},
   "outputs": [
    {
     "data": {
      "text/plain": [
       "{'max_depth': 4, 'min_samples_leaf': 5, 'min_samples_split': 2}"
      ]
     },
     "execution_count": 40,
     "metadata": {},
     "output_type": "execute_result"
    }
   ],
   "source": [
    "tree1.best_params_"
   ]
  },
  {
   "cell_type": "markdown",
   "id": "da272d04-09a6-4057-ad80-ab843c5d585f",
   "metadata": {},
   "source": [
    "The code `best_params_` gives you the values of the hyperparameters that resulted in the best performance during the grid search. These best hyperparameter values can be used to configure a new instance of the decision tree model with the optimized settings."
   ]
  },
  {
   "cell_type": "code",
   "execution_count": 41,
   "id": "1e8336ee-edb8-454a-af2e-e0186dfda725",
   "metadata": {},
   "outputs": [
    {
     "data": {
      "text/plain": [
       "0.969819392792457"
      ]
     },
     "execution_count": 41,
     "metadata": {},
     "output_type": "execute_result"
    }
   ],
   "source": [
    "tree1.best_score_"
   ]
  },
  {
   "cell_type": "markdown",
   "id": "111eff0d-012f-4695-aa8d-ee7b68f98cbd",
   "metadata": {},
   "source": [
    "The `best_score_` represents the evaluation metric score (such as accuracy, precision, recall, etc.) obtained by the model with the best hyperparameters found during the grid search. It indicates the performance achieved by the model using those optimal hyperparameters.\n",
    "- This is a strong score for AUC meaning this model is a lot better at predicting who will leave in comparison to the logistic regression model above.\n",
    "- Next, we will write a function that allows us to extract all scoring metrics from using the test data, whereas before we tested the model using training data."
   ]
  },
  {
   "cell_type": "code",
   "execution_count": 42,
   "id": "c14bb6e3-fbed-423b-a006-c7aecc95d05e",
   "metadata": {},
   "outputs": [],
   "source": [
    "def make_results(model_name:str, model_object, metric:str):\n",
    "    '''\n",
    "    Arguments:\n",
    "        model_name (string): what you want the model to be called in the output table\n",
    "        model_object: a fit GridSearchCV object\n",
    "        metric (string): precision, recall, f1, accuracy, or auc\n",
    "  \n",
    "    Returns a pandas df with the F1, recall, precision, accuracy, and auc scores\n",
    "    for the model with the best mean 'metric' score across all validation folds.  \n",
    "    '''\n",
    "\n",
    "    # Create dictionary that maps input metric to actual metric name in GridSearchCV\n",
    "    metric_dict = {'auc': 'mean_test_roc_auc',\n",
    "                   'precision': 'mean_test_precision',\n",
    "                   'recall': 'mean_test_recall',\n",
    "                   'f1': 'mean_test_f1',\n",
    "                   'accuracy': 'mean_test_accuracy'\n",
    "                  }\n",
    "\n",
    "    # Get all the results from the CV and put them in a df\n",
    "    cv_results = pd.DataFrame(model_object.cv_results_)\n",
    "\n",
    "    # Isolate the row of the df with the max(metric) score\n",
    "    best_estimator_results = cv_results.iloc[cv_results[metric_dict[metric]].idxmax(), :]\n",
    "\n",
    "    # Extract Accuracy, precision, recall, and f1 score from that row\n",
    "    auc = best_estimator_results.mean_test_roc_auc\n",
    "    f1 = best_estimator_results.mean_test_f1\n",
    "    recall = best_estimator_results.mean_test_recall\n",
    "    precision = best_estimator_results.mean_test_precision\n",
    "    accuracy = best_estimator_results.mean_test_accuracy\n",
    "  \n",
    "    # Create table of results\n",
    "    table = pd.DataFrame()\n",
    "    table = pd.DataFrame({'model': [model_name],\n",
    "                          'precision': [precision],\n",
    "                          'recall': [recall],\n",
    "                          'F1': [f1],\n",
    "                          'accuracy': [accuracy],\n",
    "                          'auc': [auc]\n",
    "                        })\n",
    "  \n",
    "    return table"
   ]
  },
  {
   "cell_type": "code",
   "execution_count": 43,
   "id": "dd9eadb8-bccb-4a52-83cd-86e2ed384571",
   "metadata": {},
   "outputs": [
    {
     "data": {
      "text/html": [
       "<div>\n",
       "<style scoped>\n",
       "    .dataframe tbody tr th:only-of-type {\n",
       "        vertical-align: middle;\n",
       "    }\n",
       "\n",
       "    .dataframe tbody tr th {\n",
       "        vertical-align: top;\n",
       "    }\n",
       "\n",
       "    .dataframe thead th {\n",
       "        text-align: right;\n",
       "    }\n",
       "</style>\n",
       "<table border=\"1\" class=\"dataframe\">\n",
       "  <thead>\n",
       "    <tr style=\"text-align: right;\">\n",
       "      <th></th>\n",
       "      <th>model</th>\n",
       "      <th>precision</th>\n",
       "      <th>recall</th>\n",
       "      <th>F1</th>\n",
       "      <th>accuracy</th>\n",
       "      <th>auc</th>\n",
       "    </tr>\n",
       "  </thead>\n",
       "  <tbody>\n",
       "    <tr>\n",
       "      <th>0</th>\n",
       "      <td>decision tree cv</td>\n",
       "      <td>0.914552</td>\n",
       "      <td>0.916949</td>\n",
       "      <td>0.915707</td>\n",
       "      <td>0.971978</td>\n",
       "      <td>0.969819</td>\n",
       "    </tr>\n",
       "  </tbody>\n",
       "</table>\n",
       "</div>"
      ],
      "text/plain": [
       "              model  precision    recall        F1  accuracy       auc\n",
       "0  decision tree cv   0.914552  0.916949  0.915707  0.971978  0.969819"
      ]
     },
     "execution_count": 43,
     "metadata": {},
     "output_type": "execute_result"
    }
   ],
   "source": [
    "tree1_cv_results = make_results('decision tree cv', tree1, 'auc')\n",
    "tree1_cv_results"
   ]
  },
  {
   "cell_type": "markdown",
   "id": "ddee9753-91f8-41fd-b60f-29b17ba9aac5",
   "metadata": {},
   "source": [
    "- These are strong scores for predicting who will leave the company in comparison to the Logistic Regresson model."
   ]
  },
  {
   "cell_type": "markdown",
   "id": "f11fffe6-b1f9-4505-a33d-46d2a541fdd1",
   "metadata": {},
   "source": [
    "#### Random forest - Round 1\n",
    "Construct a random forest model and set up cross-validated grid-search to exhuastively search for the best model parameters.\n",
    "- Follow much of the same steps as the Decision Tree model except changing the model type."
   ]
  },
  {
   "cell_type": "code",
   "execution_count": 44,
   "id": "64281686-960d-4543-a3cd-f26c52ab1144",
   "metadata": {},
   "outputs": [],
   "source": [
    "# Instantiate model\n",
    "rf = RandomForestClassifier(random_state=0)\n",
    "\n",
    "# Assign a dictionary of hyperparameters to search over\n",
    "cv_params = {'max_depth': [3,5, None], \n",
    "             'max_features': [1.0],\n",
    "             'max_samples': [0.7, 1.0],\n",
    "             'min_samples_leaf': [1,2,3],\n",
    "             'min_samples_split': [2,3,4],\n",
    "             'n_estimators': [300, 500],\n",
    "             }  \n",
    "\n",
    "# Assign a dictionary of scoring metrics to capture\n",
    "scoring = {'accuracy':'accuracy', 'precision': 'precision', 'recall':'recall', 'f1':'f1', 'roc_auc':'roc_auc'}\n",
    "\n",
    "# Instantiate GridSearch\n",
    "rf1 = GridSearchCV(rf, cv_params, scoring=scoring, cv=4, refit='roc_auc')"
   ]
  },
  {
   "cell_type": "markdown",
   "id": "ad706610-1d49-4d49-aeb4-ca5fca7116cc",
   "metadata": {},
   "source": [
    "The code below may take some time to execute as the random forrest model incorporates multiple decision trees to make predictions."
   ]
  },
  {
   "cell_type": "code",
   "execution_count": 45,
   "id": "8e86b74a-a3a6-4f46-bc6e-2c3f22f10ef1",
   "metadata": {},
   "outputs": [
    {
     "name": "stdout",
     "output_type": "stream",
     "text": [
      "CPU times: user 13min 11s, sys: 6.7 s, total: 13min 18s\n",
      "Wall time: 18min 35s\n"
     ]
    },
    {
     "data": {
      "text/html": [
       "<style>#sk-container-id-2 {color: black;}#sk-container-id-2 pre{padding: 0;}#sk-container-id-2 div.sk-toggleable {background-color: white;}#sk-container-id-2 label.sk-toggleable__label {cursor: pointer;display: block;width: 100%;margin-bottom: 0;padding: 0.3em;box-sizing: border-box;text-align: center;}#sk-container-id-2 label.sk-toggleable__label-arrow:before {content: \"▸\";float: left;margin-right: 0.25em;color: #696969;}#sk-container-id-2 label.sk-toggleable__label-arrow:hover:before {color: black;}#sk-container-id-2 div.sk-estimator:hover label.sk-toggleable__label-arrow:before {color: black;}#sk-container-id-2 div.sk-toggleable__content {max-height: 0;max-width: 0;overflow: hidden;text-align: left;background-color: #f0f8ff;}#sk-container-id-2 div.sk-toggleable__content pre {margin: 0.2em;color: black;border-radius: 0.25em;background-color: #f0f8ff;}#sk-container-id-2 input.sk-toggleable__control:checked~div.sk-toggleable__content {max-height: 200px;max-width: 100%;overflow: auto;}#sk-container-id-2 input.sk-toggleable__control:checked~label.sk-toggleable__label-arrow:before {content: \"▾\";}#sk-container-id-2 div.sk-estimator input.sk-toggleable__control:checked~label.sk-toggleable__label {background-color: #d4ebff;}#sk-container-id-2 div.sk-label input.sk-toggleable__control:checked~label.sk-toggleable__label {background-color: #d4ebff;}#sk-container-id-2 input.sk-hidden--visually {border: 0;clip: rect(1px 1px 1px 1px);clip: rect(1px, 1px, 1px, 1px);height: 1px;margin: -1px;overflow: hidden;padding: 0;position: absolute;width: 1px;}#sk-container-id-2 div.sk-estimator {font-family: monospace;background-color: #f0f8ff;border: 1px dotted black;border-radius: 0.25em;box-sizing: border-box;margin-bottom: 0.5em;}#sk-container-id-2 div.sk-estimator:hover {background-color: #d4ebff;}#sk-container-id-2 div.sk-parallel-item::after {content: \"\";width: 100%;border-bottom: 1px solid gray;flex-grow: 1;}#sk-container-id-2 div.sk-label:hover label.sk-toggleable__label {background-color: #d4ebff;}#sk-container-id-2 div.sk-serial::before {content: \"\";position: absolute;border-left: 1px solid gray;box-sizing: border-box;top: 0;bottom: 0;left: 50%;z-index: 0;}#sk-container-id-2 div.sk-serial {display: flex;flex-direction: column;align-items: center;background-color: white;padding-right: 0.2em;padding-left: 0.2em;position: relative;}#sk-container-id-2 div.sk-item {position: relative;z-index: 1;}#sk-container-id-2 div.sk-parallel {display: flex;align-items: stretch;justify-content: center;background-color: white;position: relative;}#sk-container-id-2 div.sk-item::before, #sk-container-id-2 div.sk-parallel-item::before {content: \"\";position: absolute;border-left: 1px solid gray;box-sizing: border-box;top: 0;bottom: 0;left: 50%;z-index: -1;}#sk-container-id-2 div.sk-parallel-item {display: flex;flex-direction: column;z-index: 1;position: relative;background-color: white;}#sk-container-id-2 div.sk-parallel-item:first-child::after {align-self: flex-end;width: 50%;}#sk-container-id-2 div.sk-parallel-item:last-child::after {align-self: flex-start;width: 50%;}#sk-container-id-2 div.sk-parallel-item:only-child::after {width: 0;}#sk-container-id-2 div.sk-dashed-wrapped {border: 1px dashed gray;margin: 0 0.4em 0.5em 0.4em;box-sizing: border-box;padding-bottom: 0.4em;background-color: white;}#sk-container-id-2 div.sk-label label {font-family: monospace;font-weight: bold;display: inline-block;line-height: 1.2em;}#sk-container-id-2 div.sk-label-container {text-align: center;}#sk-container-id-2 div.sk-container {/* jupyter's `normalize.less` sets `[hidden] { display: none; }` but bootstrap.min.css set `[hidden] { display: none !important; }` so we also need the `!important` here to be able to override the default hidden behavior on the sphinx rendered scikit-learn.org. See: https://github.com/scikit-learn/scikit-learn/issues/21755 */display: inline-block !important;position: relative;}#sk-container-id-2 div.sk-text-repr-fallback {display: none;}</style><div id=\"sk-container-id-2\" class=\"sk-top-container\"><div class=\"sk-text-repr-fallback\"><pre>GridSearchCV(cv=4, estimator=RandomForestClassifier(random_state=0),\n",
       "             param_grid={&#x27;max_depth&#x27;: [3, 5, None], &#x27;max_features&#x27;: [1.0],\n",
       "                         &#x27;max_samples&#x27;: [0.7, 1.0],\n",
       "                         &#x27;min_samples_leaf&#x27;: [1, 2, 3],\n",
       "                         &#x27;min_samples_split&#x27;: [2, 3, 4],\n",
       "                         &#x27;n_estimators&#x27;: [300, 500]},\n",
       "             refit=&#x27;roc_auc&#x27;,\n",
       "             scoring={&#x27;accuracy&#x27;: &#x27;accuracy&#x27;, &#x27;f1&#x27;: &#x27;f1&#x27;,\n",
       "                      &#x27;precision&#x27;: &#x27;precision&#x27;, &#x27;recall&#x27;: &#x27;recall&#x27;,\n",
       "                      &#x27;roc_auc&#x27;: &#x27;roc_auc&#x27;})</pre><b>In a Jupyter environment, please rerun this cell to show the HTML representation or trust the notebook. <br />On GitHub, the HTML representation is unable to render, please try loading this page with nbviewer.org.</b></div><div class=\"sk-container\" hidden><div class=\"sk-item sk-dashed-wrapped\"><div class=\"sk-label-container\"><div class=\"sk-label sk-toggleable\"><input class=\"sk-toggleable__control sk-hidden--visually\" id=\"sk-estimator-id-4\" type=\"checkbox\" ><label for=\"sk-estimator-id-4\" class=\"sk-toggleable__label sk-toggleable__label-arrow\">GridSearchCV</label><div class=\"sk-toggleable__content\"><pre>GridSearchCV(cv=4, estimator=RandomForestClassifier(random_state=0),\n",
       "             param_grid={&#x27;max_depth&#x27;: [3, 5, None], &#x27;max_features&#x27;: [1.0],\n",
       "                         &#x27;max_samples&#x27;: [0.7, 1.0],\n",
       "                         &#x27;min_samples_leaf&#x27;: [1, 2, 3],\n",
       "                         &#x27;min_samples_split&#x27;: [2, 3, 4],\n",
       "                         &#x27;n_estimators&#x27;: [300, 500]},\n",
       "             refit=&#x27;roc_auc&#x27;,\n",
       "             scoring={&#x27;accuracy&#x27;: &#x27;accuracy&#x27;, &#x27;f1&#x27;: &#x27;f1&#x27;,\n",
       "                      &#x27;precision&#x27;: &#x27;precision&#x27;, &#x27;recall&#x27;: &#x27;recall&#x27;,\n",
       "                      &#x27;roc_auc&#x27;: &#x27;roc_auc&#x27;})</pre></div></div></div><div class=\"sk-parallel\"><div class=\"sk-parallel-item\"><div class=\"sk-item\"><div class=\"sk-label-container\"><div class=\"sk-label sk-toggleable\"><input class=\"sk-toggleable__control sk-hidden--visually\" id=\"sk-estimator-id-5\" type=\"checkbox\" ><label for=\"sk-estimator-id-5\" class=\"sk-toggleable__label sk-toggleable__label-arrow\">estimator: RandomForestClassifier</label><div class=\"sk-toggleable__content\"><pre>RandomForestClassifier(random_state=0)</pre></div></div></div><div class=\"sk-serial\"><div class=\"sk-item\"><div class=\"sk-estimator sk-toggleable\"><input class=\"sk-toggleable__control sk-hidden--visually\" id=\"sk-estimator-id-6\" type=\"checkbox\" ><label for=\"sk-estimator-id-6\" class=\"sk-toggleable__label sk-toggleable__label-arrow\">RandomForestClassifier</label><div class=\"sk-toggleable__content\"><pre>RandomForestClassifier(random_state=0)</pre></div></div></div></div></div></div></div></div></div></div>"
      ],
      "text/plain": [
       "GridSearchCV(cv=4, estimator=RandomForestClassifier(random_state=0),\n",
       "             param_grid={'max_depth': [3, 5, None], 'max_features': [1.0],\n",
       "                         'max_samples': [0.7, 1.0],\n",
       "                         'min_samples_leaf': [1, 2, 3],\n",
       "                         'min_samples_split': [2, 3, 4],\n",
       "                         'n_estimators': [300, 500]},\n",
       "             refit='roc_auc',\n",
       "             scoring={'accuracy': 'accuracy', 'f1': 'f1',\n",
       "                      'precision': 'precision', 'recall': 'recall',\n",
       "                      'roc_auc': 'roc_auc'})"
      ]
     },
     "execution_count": 45,
     "metadata": {},
     "output_type": "execute_result"
    }
   ],
   "source": [
    "%%time\n",
    "rf1.fit(X_train, y_train) # --> Wall time: ~10min"
   ]
  },
  {
   "cell_type": "markdown",
   "id": "9bc38e2a-5a77-4e71-99ea-9a738cb2a886",
   "metadata": {},
   "source": [
    "The code below construrct a path in which to save model since it may take some time to construct. My model took ~13 mins to complete. "
   ]
  },
  {
   "cell_type": "code",
   "execution_count": 46,
   "id": "0fd7d16d-135e-4e97-a511-cb1347dd048b",
   "metadata": {},
   "outputs": [],
   "source": [
    "path = '/Users/sethradosta/Desktop/Jupyter/'"
   ]
  },
  {
   "cell_type": "markdown",
   "id": "fb083536-4d46-407f-a109-fc8a3fe4c810",
   "metadata": {},
   "source": [
    "The fucntions below write & read a pickle file : \n",
    "- A `pickle` file is a binary file format used in Python to serialize and store Python objects. The pickle module in Python provides functions for pickling (serializing) and unpickling (deserializing) objects.\n",
    "- Pickling allows you to save objects in a compact binary format, which can be later loaded and used within Python or shared across different platforms.\n",
    "- Pickle files are a common way to store machine learning models like the random forrest that was just created.\n"
   ]
  },
  {
   "cell_type": "code",
   "execution_count": 47,
   "id": "4fdd35d9-dd04-40fd-9fad-f25b3451bf4a",
   "metadata": {},
   "outputs": [],
   "source": [
    "def write_pickle(path, model_object, save_as:str):\n",
    "    with open(path + save_as + '.pickle', 'wb') as to_write:\n",
    "        pickle.dump(model_object, to_write)"
   ]
  },
  {
   "cell_type": "code",
   "execution_count": 48,
   "id": "7d55b9d8-2b97-48f1-b676-75adb6cc12c4",
   "metadata": {},
   "outputs": [],
   "source": [
    "def read_pickle(path, saved_model_name:str):\n",
    "    with open(path + saved_model_name + '.pickle', 'rb') as to_read:\n",
    "        model = pickle.load(to_read)\n",
    "\n",
    "    return model"
   ]
  },
  {
   "cell_type": "code",
   "execution_count": 49,
   "id": "f4aeb56b-57de-43e4-aba7-ab840e5f1f42",
   "metadata": {},
   "outputs": [],
   "source": [
    "# Write pickle\n",
    "write_pickle(path, rf1, 'hr_rf1')"
   ]
  },
  {
   "cell_type": "code",
   "execution_count": 50,
   "id": "41078fbc-96f0-40bf-815a-e54662763da4",
   "metadata": {},
   "outputs": [],
   "source": [
    "# Read pickle\n",
    "rf1 = read_pickle(path, 'hr_rf1')"
   ]
  },
  {
   "cell_type": "code",
   "execution_count": 51,
   "id": "99b46c48-e40a-4fd8-a075-6ca01c8be3cb",
   "metadata": {},
   "outputs": [
    {
     "data": {
      "text/plain": [
       "{'max_depth': 5,\n",
       " 'max_features': 1.0,\n",
       " 'max_samples': 0.7,\n",
       " 'min_samples_leaf': 1,\n",
       " 'min_samples_split': 4,\n",
       " 'n_estimators': 500}"
      ]
     },
     "execution_count": 51,
     "metadata": {},
     "output_type": "execute_result"
    }
   ],
   "source": [
    "# Check best params\n",
    "rf1.best_params_"
   ]
  },
  {
   "cell_type": "markdown",
   "id": "b3c8e21e-fbd1-4e58-8c3c-03c1c63ac35a",
   "metadata": {},
   "source": [
    "These are the values of our hyperparameters that resulted in the most accurate model for the Random Forest."
   ]
  },
  {
   "cell_type": "code",
   "execution_count": 52,
   "id": "993a86e7-38b0-4b0d-864b-2238fd9a5967",
   "metadata": {},
   "outputs": [
    {
     "name": "stdout",
     "output_type": "stream",
     "text": [
      "              model  precision    recall        F1  accuracy       auc\n",
      "0  decision tree cv   0.914552  0.916949  0.915707  0.971978  0.969819\n",
      "              model  precision    recall        F1  accuracy       auc\n",
      "0  random forest cv   0.950023  0.915614  0.932467  0.977983  0.980425\n"
     ]
    }
   ],
   "source": [
    "# Get all CV scores\n",
    "rf1_cv_results = make_results('random forest cv', rf1, 'auc')\n",
    "print(tree1_cv_results)\n",
    "print(rf1_cv_results)"
   ]
  },
  {
   "cell_type": "markdown",
   "id": "09dab0dc-ee51-4e52-a2db-0c46d435e6d7",
   "metadata": {},
   "source": [
    "In comparison of the scores from our first 2 models, it can be seen that the random forest model outperforms the decision tree model in general. "
   ]
  },
  {
   "cell_type": "code",
   "execution_count": 53,
   "id": "c7ed45c6-5bc8-4209-8682-d3df4706f368",
   "metadata": {},
   "outputs": [],
   "source": [
    "def get_scores(model_name:str, model, X_test_data, y_test_data):\n",
    "    '''\n",
    "    Generate a table of test scores.\n",
    "\n",
    "    In: \n",
    "        model_name (string):  How you want your model to be named in the output table\n",
    "        model:                A fit GridSearchCV object\n",
    "        X_test_data:          numpy array of X_test data\n",
    "        y_test_data:          numpy array of y_test data\n",
    "\n",
    "    Out: pandas df of precision, recall, f1, accuracy, and AUC scores for your model\n",
    "    '''\n",
    "\n",
    "    preds = model.best_estimator_.predict(X_test_data)\n",
    "\n",
    "    auc = roc_auc_score(y_test_data, preds)\n",
    "    accuracy = accuracy_score(y_test_data, preds)\n",
    "    precision = precision_score(y_test_data, preds)\n",
    "    recall = recall_score(y_test_data, preds)\n",
    "    f1 = f1_score(y_test_data, preds)\n",
    "\n",
    "    table = pd.DataFrame({'model': [model_name],\n",
    "                          'precision': [precision], \n",
    "                          'recall': [recall],\n",
    "                          'f1': [f1],\n",
    "                          'accuracy': [accuracy],\n",
    "                          'AUC': [auc]\n",
    "                         })\n",
    "  \n",
    "    return table"
   ]
  },
  {
   "cell_type": "code",
   "execution_count": 54,
   "id": "aec3dcfa-9d98-45f0-bcf5-8402b60e4819",
   "metadata": {},
   "outputs": [
    {
     "data": {
      "text/html": [
       "<div>\n",
       "<style scoped>\n",
       "    .dataframe tbody tr th:only-of-type {\n",
       "        vertical-align: middle;\n",
       "    }\n",
       "\n",
       "    .dataframe tbody tr th {\n",
       "        vertical-align: top;\n",
       "    }\n",
       "\n",
       "    .dataframe thead th {\n",
       "        text-align: right;\n",
       "    }\n",
       "</style>\n",
       "<table border=\"1\" class=\"dataframe\">\n",
       "  <thead>\n",
       "    <tr style=\"text-align: right;\">\n",
       "      <th></th>\n",
       "      <th>model</th>\n",
       "      <th>precision</th>\n",
       "      <th>recall</th>\n",
       "      <th>f1</th>\n",
       "      <th>accuracy</th>\n",
       "      <th>AUC</th>\n",
       "    </tr>\n",
       "  </thead>\n",
       "  <tbody>\n",
       "    <tr>\n",
       "      <th>0</th>\n",
       "      <td>random forest1 test</td>\n",
       "      <td>0.964211</td>\n",
       "      <td>0.919679</td>\n",
       "      <td>0.941418</td>\n",
       "      <td>0.980987</td>\n",
       "      <td>0.956439</td>\n",
       "    </tr>\n",
       "  </tbody>\n",
       "</table>\n",
       "</div>"
      ],
      "text/plain": [
       "                 model  precision    recall        f1  accuracy       AUC\n",
       "0  random forest1 test   0.964211  0.919679  0.941418  0.980987  0.956439"
      ]
     },
     "execution_count": 54,
     "metadata": {},
     "output_type": "execute_result"
    }
   ],
   "source": [
    "# Get predictions on test data\n",
    "rf1_test_scores = get_scores('random forest1 test', rf1, X_test, y_test)\n",
    "rf1_test_scores"
   ]
  },
  {
   "cell_type": "markdown",
   "id": "4601a26e-ec6f-4538-aea5-0d31fc84603b",
   "metadata": {},
   "source": [
    "Next, create a confusion matrix with the random forest model "
   ]
  },
  {
   "cell_type": "code",
   "execution_count": 56,
   "id": "9f6872cd-4c59-4566-8ffb-d8a309fb81ed",
   "metadata": {},
   "outputs": [
    {
     "data": {
      "image/png": "iVBORw0KGgoAAAANSUhEUgAAAgMAAAGwCAYAAAA0bWYRAAAAOXRFWHRTb2Z0d2FyZQBNYXRwbG90bGliIHZlcnNpb24zLjcuMSwgaHR0cHM6Ly9tYXRwbG90bGliLm9yZy/bCgiHAAAACXBIWXMAAA9hAAAPYQGoP6dpAAA2A0lEQVR4nO3dfVxUdf7//+cAzoDKgKSAJJJmXpUXZWXspmmRaK5puluWFZXZp5IuNE2tvMrS/WmXlmWXmvvVTXdLt7S1TFNTyVaNLkwpFRNT0EJEKK5mzu8Pl6lZnGKcGQbmPO6327ndnHPe58xrihvz4vV6v8+xGIZhCAAAmFZYsAMAAADBRTIAAIDJkQwAAGByJAMAAJgcyQAAACZHMgAAgMmRDAAAYHIRwQ7AF06nU4cOHVJ0dLQsFkuwwwEAeMkwDJ04cUJJSUkKCwvc36dlZWWqqKjw+TpWq1WRkZF+iKh+adDJwKFDh5ScnBzsMAAAPsrLy1OrVq0Ccu2ysjK1SWmq/CMOn6+VmJio3NzckEsIGnQyEB0dLUn6bsdZsjel44HQdE37LsEOAQiYKlVqk95z/T4PhIqKCuUfcei77WfJHn363xXFJ5xK6bFfFRUVJAP1SXVrwN40zKf/wUB9FmFpFOwQgMD57w3x66LV2zTaoqbRp/8+ToVuO7pBJwMAANSWw3DK4cPTeByG03/B1DMkAwAAU3DKkFOnnw34cm59R20dAACTozIAADAFp5zypdDv29n1G8kAAMAUHIYhh3H6pX5fzq3vaBMAAGByVAYAAKbABELPSAYAAKbglCEHycAp0SYAAMDkqAwAAEyBNoFnJAMAAFNgNYFntAkAADA5KgMAAFNw/nfz5fxQRTIAADAFh4+rCXw5t74jGQAAmILDkI9PLfRfLPUNcwYAADA5KgMAAFNgzoBnJAMAAFNwyiKHLD6dH6poEwAAYHJUBgAApuA0Tm6+nB+qSAYAAKbg8LFN4Mu59R1tAgAATI7KAADAFKgMeEYyAAAwBadhkdPwYTWBD+fWd7QJAAAwOSoDAABToE3gGckAAMAUHAqTw4eCuMOPsdQ3JAMAAFMwfJwzYDBnAAAAhCoqAwAAU2DOgGckAwAAU3AYYXIYPswZCOHbEdMmAADA5KgMAABMwSmLnD78DexU6JYGSAYAAKbAnAHPaBMAAGByVAYAAKbg+wRC2gQAADRoJ+cM+PCgItoEAAAgVFEZAACYgtPHZxOwmgAAgAaOOQOekQwAAEzBqTDuM+ABcwYAADA5KgMAAFNwGBY5fHgMsS/n1nckAwAAU3D4OIHQQZsAAACEKioDAABTcBphcvqwmsDJagIAABo22gSe0SYAAMDkqAwAAEzBKd9WBDj9F0q9QzIAADAF3286FLrF9ND9ZAAAoFaoDAAATMH3ZxOE7t/PJAMAAFNwyiKnfJkzwB0IAQBo0KgMeBa6nwwAANQKlQEAgCn4ftOh0P37mWQAAGAKTsMipy/3GQjhpxaGbpoDAABqhcoAAMAUnD62CUL5pkMkAwAAU/D9qYWhmwyE7icDAAC1QmUAAGAKDlnk8OHGQb6cW9+RDAAATIE2gWeh+8kAAECtUBkAAJiCQ76V+h3+C6XeIRkAAJgCbQLPQveTAQDwK9UPKvJl88asWbN00UUXKTo6WvHx8RoyZIhycnLcxpSVlWn06NE644wz1LRpUw0bNkwFBQVuYw4cOKCBAweqcePGio+P1/jx41VVVeU2Zv369brgggtks9nUrl07LVy40KtYSQYAAAiADRs2aPTo0frkk0+0Zs0aVVZWql+/fiotLXWNGTNmjN5991394x//0IYNG3To0CENHTrUddzhcGjgwIGqqKjQli1b9MYbb2jhwoWaMmWKa0xubq4GDhyovn37Kjs7W/fff79uv/12vf/++7WO1WIYhuGfj133iouLFRMTo2PftJU9mrwGoSk9qXuwQwACpsqo1Hr9S8ePH5fdbg/Ie1R/V0zMGiBb00anfZ3ykkr9NfXfpx3r0aNHFR8frw0bNqh37946fvy4WrRooSVLlujPf/6zJGn37t3q1KmTsrKydMkll+jf//63/vSnP+nQoUNKSEiQJM2fP18TJkzQ0aNHZbVaNWHCBK1atUpfffWV672GDx+uoqIirV69ulax8Q0KADAFf7UJiouL3bby8vJavf/x48clSXFxcZKk7du3q7KyUmlpaa4xHTt2VOvWrZWVlSVJysrKUpcuXVyJgCSlp6eruLhYO3fudI359TWqx1RfozZIBgAA8EJycrJiYmJc26xZs373HKfTqfvvv19//OMfdd5550mS8vPzZbVaFRsb6zY2ISFB+fn5rjG/TgSqj1cf+60xxcXF+vnnn2v1mVhNAAAwBX89wjgvL8+tTWCz2X733NGjR+urr77Spk2bTvv9A4lkAABgCg4fn1pYfa7dbvdqzkBmZqZWrlypjRs3qlWrVq79iYmJqqioUFFRkVt1oKCgQImJia4xn376qdv1qlcb/HrM/65AKCgokN1uV1RUVK1ipE0AAEAAGIahzMxMLV++XOvWrVObNm3cjvfo0UONGjXS2rVrXftycnJ04MABpaamSpJSU1P15Zdf6siRI64xa9askd1uV+fOnV1jfn2N6jHV16gNKgMAAFPwV5ugtkaPHq0lS5boX//6l6Kjo109/piYGEVFRSkmJkYjR47U2LFjFRcXJ7vdrnvuuUepqam65JJLJEn9+vVT586dddNNN2n27NnKz8/XI488otGjR7vaE3feeaeef/55Pfjgg7rtttu0bt06LVu2TKtWrap1rCQDAABTcCpMTh8K4t6e++KLL0qS+vTp47Z/wYIFuuWWWyRJTz/9tMLCwjRs2DCVl5crPT1dL7zwgmtseHi4Vq5cqbvuukupqalq0qSJMjIy9Oijj7rGtGnTRqtWrdKYMWP07LPPqlWrVnr11VeVnp5e61i5zwBQz3GfAYSyurzPQOama3y+z8Dzly4PaKzBQmUAAGAKDsMihw9tAl/Ore9IBgAAplDXcwYaEpIBAIApGD4+tdDgqYUAACBUURkAAJiCQxY55MOcAR/Ore9IBgAApuA0fOv7Oxvs2rvfR5sAAACTozJgMm8+F6/N78Uqb49N1kinOl/4k0Y+fEjJ7Wo+gtMwpEdubKttH9k19bVc/WHAcdexnOwovT4zSd9+0VgWi6EO3X/SyEcO6exzyyRJeXtsmjuxlQ58E6nSE+E6I6FSfa85phvH5ivi9Jf5An5xXs8S/eXuozqny086I7FK0247S1mrY1zH3z/0+SnPe2VGS/3zxfi6ChN+5vRxAqEv59Z3JAMm80VWUw265Qe17/6THFXSwr+21EPXn61XNuxWZGOn29jlr7SQ5RQVtZ9Lw/TwiLN1yZXHlTnzoBwOi/72RKIevuFs/b9tOxXRSIpoZCjtz8fUrstPahrj0L6dUXpmfLKcTotum3S4jj4tcGqRjZ3atzNS7/89TlNf31/j+PBund1eX3T5CY15Mk+bVsXUGIuGwymLnD70/X05t76rF2nOvHnzdNZZZykyMlI9e/as8YQm+M/MJfvU77pCndWhTGefW6YHnjmgI99b9e0X7k+22vtVlN56qYXGPnWgxjXy9th04liEbh6fr+R25TqrQ5luHJuvY0cbqeCgVZLUMqVC6cMLdfa5ZUpoVanU9GJdPvSYvtrapE4+J/Bbtn1k1xuzW2rL6lN/uR872shtS00/rs83N1X+gd9/VC3QEAU9GVi6dKnGjh2rqVOnaseOHerWrZvS09PdntCEwCktDpckRcc6XPvKfrLor6NTNPrxg4qLr6pxTquzy2VvVqX3/36GKissKv/ZotV/P0OtzylTYnLFKd/n+1yrtn1kV9fUksB8ECBAYptX6uIrivX+m3HBDgU+qr4DoS9bqAp6MvDUU09p1KhRuvXWW9W5c2fNnz9fjRs31uuvvx7s0EKe0ynNn3qmzr2oRGd1LHPtf2namep8Yan+0L/4lOc1burUnLf2aO3bzXR1264ack5XbfsoWo8t3qvw/2k83T/oHP2pTVfd9sfOOq9niW4enx/IjwT43ZXXHtPPJeHa9B4tgoaues6AL1uoCuonq6io0Pbt25WWlubaFxYWprS0NGVlZdUYX15eruLiYrcNp+/5h1rpu91RmvTid659We/blb05Wnc++r3H88p/tuipB5J17kWlemblN3rqX9/qrI5lmnxTW5X/7J45PzR/v+a9n6OJ8/br07V2Jl+hwUkfXqh1y2NVWR66XwRAUCcQ/vDDD3I4HEpISHDbn5CQoN27d9cYP2vWLE2fPr2uwgtpzz90prausevJ5XvUIqnStT97c7QO77dqaMcubuNnjDpL5/Us1Zy39uij5c1UkGfVM+9+q7D//n6cOO87Det0nrLej1GfIUWu8+LPPHntlPblcjotenZ8sobdeUTh4QH/iIDPzru4RMntyjXzzpRghwI/cMrHZxOE8ATCBrWaYNKkSRo7dqzrdXFxsZKTk4MYUcNjGNK8h8/UltUxmvPPPUps7d7jvy6zQANu+NFt3/9d3lH/N+17XdLvZCWm/OcwhYXJbaVBWJghi+Vk68ETp1OqqrLIcEoiGUADkH59ob75PEr7vo76/cGo9wwfVxMYJAOB0bx5c4WHh6ugoMBtf0FBgRITE2uMt9lsstmYzeuL5x9qpY+WN9O0BfsU1dSpwiMnfwSaRDtkizIUF191ykmD8WdWuhKH83uf0CuPJen5h1pp8G1H5XRatOz5eIVHSN3+eHKC4Lq3myk8wlCbTj+rkdXQN5831oJZLXXZ1ce4zwCCLrKxQ0ltfkmEE5Mr1Pbcn3WiKFxHvz+5IqZxU4d6Dzqul6e3DFaY8DOeWuhZUJMBq9WqHj16aO3atRoyZIgkyel0au3atcrMzAxmaCFr5RvNJUnjh53jtv+Bpw+o33WFtbpG63PKNX3hPi1+KlH3D2ovS5ihduf9rMcX79UZCScTibBwQ8vmxev7fTYZhhTfqkJX3/qDho466t8PBJyG9t1+1py39rpe3zn9kCTpg6XN9OSY1pKkywYXSRZDH61oFowQgTplMQwjqHdbXrp0qTIyMvTSSy/p4osv1jPPPKNly5Zp9+7dNeYS/K/i4mLFxMTo2DdtZY9mcg9CU3pS92CHAARMlVGp9fqXjh8/LrvdHpD3qP6uuGbNrWrUxHra16ksrdDyKxcENNZgCfqcgeuuu05Hjx7VlClTlJ+fr+7du2v16tW/mwgAAOAN2gSeBT0ZkKTMzEzaAgAABEm9SAYAAAg0nk3gGckAAMAUaBN4xqw7AABMjsoAAMAUqAx4RjIAADAFkgHPaBMAAGByVAYAAKZAZcAzkgEAgCkY8m15YFBv1xtgJAMAAFOgMuAZcwYAADA5KgMAAFOgMuAZyQAAwBRIBjyjTQAAgMlRGQAAmAKVAc9IBgAApmAYFhk+fKH7cm59R5sAAACTozIAADAFpyw+3XTIl3PrO5IBAIApMGfAM9oEAACYHJUBAIApMIHQM5IBAIAp0CbwjGQAAGAKVAY8Y84AAAAmR2UAAGAKho9tglCuDJAMAABMwZBkGL6dH6poEwAAYHJUBgAApuCURRbuQHhKJAMAAFNgNYFntAkAADA5KgMAAFNwGhZZuOnQKZEMAABMwTB8XE0QwssJaBMAAGByVAYAAKbABELPSAYAAKZAMuAZyQAAwBSYQOgZcwYAADA5KgMAAFNgNYFnJAMAAFM4mQz4MmfAj8HUM7QJAAAwOSoDAABTYDWBZyQDAABTMP67+XJ+qKJNAACAyVEZAACYAm0Cz0gGAADmQJ/AI9oEAABz+G9l4HQ3eVkZ2LhxowYNGqSkpCRZLBatWLHC7fgtt9wii8XitvXv399tTGFhoUaMGCG73a7Y2FiNHDlSJSUlbmO++OIL9erVS5GRkUpOTtbs2bO9/k9DMgAAQACUlpaqW7dumjdvnscx/fv31+HDh13b3//+d7fjI0aM0M6dO7VmzRqtXLlSGzdu1B133OE6XlxcrH79+iklJUXbt2/XnDlzNG3aNL388stexUqbAABgCv66A2FxcbHbfpvNJpvNVmP8gAEDNGDAgN+8ps1mU2Ji4imP7dq1S6tXr9Z//vMfXXjhhZKk5557TldddZWeeOIJJSUlafHixaqoqNDrr78uq9Wqc889V9nZ2XrqqafckobfQ2UAAGAKvrQIfj35MDk5WTExMa5t1qxZpx3T+vXrFR8frw4dOuiuu+7Sjz/+6DqWlZWl2NhYVyIgSWlpaQoLC9PWrVtdY3r37i2r1eoak56erpycHB07dqzWcVAZAADAC3l5ebLb7a7Xp6oK1Eb//v01dOhQtWnTRnv37tVDDz2kAQMGKCsrS+Hh4crPz1d8fLzbOREREYqLi1N+fr4kKT8/X23atHEbk5CQ4DrWrFmzWsVCMgAAMIfTmARY43xJdrvdLRk4XcOHD3f9u0uXLuratavOPvtsrV+/XldccYXP1/cGbQIAgClUzxnwZQuktm3bqnnz5tqzZ48kKTExUUeOHHEbU1VVpcLCQtc8g8TERBUUFLiNqX7taS7CqZAMAABQDxw8eFA//vijWrZsKUlKTU1VUVGRtm/f7hqzbt06OZ1O9ezZ0zVm48aNqqysdI1Zs2aNOnToUOsWgUQyAAAwC8MPmxdKSkqUnZ2t7OxsSVJubq6ys7N14MABlZSUaPz48frkk0+0f/9+rV27VoMHD1a7du2Unp4uSerUqZP69++vUaNG6dNPP9XmzZuVmZmp4cOHKykpSZJ0ww03yGq1auTIkdq5c6eWLl2qZ599VmPHjvUqVuYMAABMoa5vR7xt2zb17dvX9br6CzojI0MvvviivvjiC73xxhsqKipSUlKS+vXrpxkzZrhNSFy8eLEyMzN1xRVXKCwsTMOGDdPcuXNdx2NiYvTBBx9o9OjR6tGjh5o3b64pU6Z4taxQqmUy8M4779T6gldffbVXAQAAEIr69Okj4zcmGrz//vu/e424uDgtWbLkN8d07dpVH3/8sdfx/VqtkoEhQ4bU6mIWi0UOh8OXeAAACJwQfr6AL2qVDDidzkDHAQBAQPHUQs98mkBYVlbmrzgAAAisOp5A2JB4nQw4HA7NmDFDZ555ppo2bap9+/ZJkiZPnqzXXnvN7wECAIDA8joZePzxx7Vw4ULNnj3b7V7I5513nl599VW/BgcAgP9Y/LCFJq+TgUWLFunll1/WiBEjFB4e7trfrVs37d6926/BAQDgN7QJPPI6Gfj+++/Vrl27GvudTqfbHZAAAEDD4HUy0Llz51OuZ/znP/+p888/3y9BAQDgd1QGPPL6DoRTpkxRRkaGvv/+ezmdTr399tvKycnRokWLtHLlykDECACA7/z01MJQ5HVlYPDgwXr33Xf14YcfqkmTJpoyZYp27dqld999V1deeWUgYgQAAAF0Ws8m6NWrl9asWePvWAAACBhfH0Mc6EcYB9NpP6ho27Zt2rVrl6ST8wh69Ojht6AAAPA7X/v+JAO/OHjwoK6//npt3rxZsbGxkqSioiL94Q9/0JtvvqlWrVr5O0YAABBAXs8ZuP3221VZWaldu3apsLBQhYWF2rVrl5xOp26//fZAxAgAgO+qJxD6soUorysDGzZs0JYtW9ShQwfXvg4dOui5555Tr169/BocAAD+YjFObr6cH6q8TgaSk5NPeXMhh8OhpKQkvwQFAIDfMWfAI6/bBHPmzNE999yjbdu2ufZt27ZN9913n5544gm/BgcAAAKvVpWBZs2ayWL5pVdSWlqqnj17KiLi5OlVVVWKiIjQbbfdpiFDhgQkUAAAfMJNhzyqVTLwzDPPBDgMAAACjDaBR7VKBjIyMgIdBwAACJLTvumQJJWVlamiosJtn91u9ykgAAACgsqAR15PICwtLVVmZqbi4+PVpEkTNWvWzG0DAKBe4qmFHnmdDDz44INat26dXnzxRdlsNr366quaPn26kpKStGjRokDECAAAAsjrNsG7776rRYsWqU+fPrr11lvVq1cvtWvXTikpKVq8eLFGjBgRiDgBAPANqwk88royUFhYqLZt20o6OT+gsLBQknTppZdq48aN/o0OAAA/qb4DoS9bqPI6GWjbtq1yc3MlSR07dtSyZcsknawYVD+4CAAANBxeJwO33nqrPv/8c0nSxIkTNW/ePEVGRmrMmDEaP3683wMEAMAvmEDokddzBsaMGeP6d1pamnbv3q3t27erXbt26tq1q1+DAwAAgefTfQYkKSUlRSkpKf6IBQCAgLHIx6cW+i2S+qdWycDcuXNrfcF77733tIMBAAB1r1bJwNNPP12ri1kslqAkA9d07K4IS6M6f1+gLhh/7BLsEICAMarKpE/+VUdvxtJCT2qVDFSvHgAAoMHidsQeeb2aAAAAhBafJxACANAgUBnwiGQAAGAKvt5FkDsQAgCAkEVlAABgDrQJPDqtysDHH3+sG2+8Uampqfr+++8lSX/729+0adMmvwYHAIDfcDtij7xOBt566y2lp6crKipKn332mcrLyyVJx48f18yZM/0eIAAACCyvk4HHHntM8+fP1yuvvKJGjX650c8f//hH7dixw6/BAQDgLzzC2DOv5wzk5OSod+/eNfbHxMSoqKjIHzEBAOB/3IHQI68rA4mJidqzZ0+N/Zs2bVLbtm39EhQAAH7HnAGPvE4GRo0apfvuu09bt26VxWLRoUOHtHjxYo0bN0533XVXIGIEAAAB5HWbYOLEiXI6nbriiiv0008/qXfv3rLZbBo3bpzuueeeQMQIAIDPuOmQZ14nAxaLRQ8//LDGjx+vPXv2qKSkRJ07d1bTpk0DER8AAP7BfQY8Ou2bDlmtVnXu3NmfsQAAgCDwOhno27evLBbPMyrXrVvnU0AAAASEr8sDqQz8onv37m6vKysrlZ2dra+++koZGRn+igsAAP+iTeCR18nA008/fcr906ZNU0lJic8BAQCAuuW3pxbeeOONev311/11OQAA/Iv7DHjkt6cWZmVlKTIy0l+XAwDAr1ha6JnXycDQoUPdXhuGocOHD2vbtm2aPHmy3wIDAAB1w+tkICYmxu11WFiYOnTooEcffVT9+vXzW2AAAKBueJUMOBwO3XrrrerSpYuaNWsWqJgAAPA/VhN45NUEwvDwcPXr14+nEwIAGhweYeyZ16sJzjvvPO3bty8QsQAAgCDwOhl47LHHNG7cOK1cuVKHDx9WcXGx2wYAQL3FssJTqvWcgUcffVQPPPCArrrqKknS1Vdf7XZbYsMwZLFY5HA4/B8lAAC+Ys6AR7VOBqZPn64777xTH330USDjAQAAdazWyYBhnEyJLrvssoAFAwBAoHDTIc+8Wlr4W08rBACgXqNN4JFXyUD79u1/NyEoLCz0KSAAAFC3vEoGpk+fXuMOhAAANAS0CTzzKhkYPny44uPjAxULAACBQ5vAo1rfZ4D5AgAA1N7GjRs1aNAgJSUlyWKxaMWKFW7HDcPQlClT1LJlS0VFRSktLU3ffvut25jCwkKNGDFCdrtdsbGxGjlypEpKStzGfPHFF+rVq5ciIyOVnJys2bNnex1rrZOB6tUEAAA0SL7ccOg0qgqlpaXq1q2b5s2bd8rjs2fP1ty5czV//nxt3bpVTZo0UXp6usrKylxjRowYoZ07d2rNmjVauXKlNm7cqDvuuMN1vLi4WP369VNKSoq2b9+uOXPmaNq0aXr55Ze9irXWbQKn0+nVhQEAqE/8NWfgf++2a7PZZLPZaowfMGCABgwYcMprGYahZ555Ro888ogGDx4sSVq0aJESEhK0YsUKDR8+XLt27dLq1av1n//8RxdeeKEk6bnnntNVV12lJ554QklJSVq8eLEqKir0+uuvy2q16txzz1V2draeeuopt6Th93h9O2IAABokP1UGkpOTFRMT49pmzZrldSi5ubnKz89XWlqaa19MTIx69uyprKwsSVJWVpZiY2NdiYAkpaWlKSwsTFu3bnWN6d27t6xWq2tMenq6cnJydOzYsVrH49UEQgAAzC4vL092u931+lRVgd+Tn58vSUpISHDbn5CQ4DqWn59fY9J+RESE4uLi3Ma0adOmxjWqjzVr1qxW8ZAMAADMwU+rCex2u1syEApoEwAATKF6zoAvm78kJiZKkgoKCtz2FxQUuI4lJibqyJEjbserqqpUWFjoNuZU1/j1e9QGyQAAAHWsTZs2SkxM1Nq1a137iouLtXXrVqWmpkqSUlNTVVRUpO3bt7vGrFu3Tk6nUz179nSN2bhxoyorK11j1qxZow4dOtS6RSCRDAAAzKKOlxaWlJQoOztb2dnZkk5OGszOztaBAwdksVh0//3367HHHtM777yjL7/8UjfffLOSkpI0ZMgQSVKnTp3Uv39/jRo1Sp9++qk2b96szMxMDR8+XElJSZKkG264QVarVSNHjtTOnTu1dOlSPfvssxo7dqxXsTJnAABgCnV9O+Jt27apb9++rtfVX9AZGRlauHChHnzwQZWWluqOO+5QUVGRLr30Uq1evVqRkZGucxYvXqzMzExdccUVCgsL07BhwzR37lzX8ZiYGH3wwQcaPXq0evTooebNm2vKlCleLSs8+dka8N2EiouLFRMToz5hQxVhaRTscICAMFK7BDsEIGCqqsq04ZPHdPz48YBNyqv+ruiUOVPhtsjfP8EDR3mZdj3/UEBjDRYqAwAAc+DZBB6RDAAAzIFkwCMmEAIAYHJUBgAApmD57+bL+aGKZAAAYA60CTwiGQAAmEJdLy1sSJgzAACAyVEZAACYA20Cj0gGAADmEcJf6L6gTQAAgMlRGQAAmAITCD0jGQAAmANzBjyiTQAAgMlRGQAAmAJtAs9IBgAA5kCbwCPaBAAAmByVAQCAKdAm8IxkAABgDrQJPCIZAACYA8mAR8wZAADA5KgMAABMgTkDnpEMAADMgTaBR7QJAAAwOSoDAABTsBiGLMbp/3nvy7n1HckAAMAcaBN4RJsAAACTozIAADAFVhN4RjIAADAH2gQe0SYAAMDkqAwAAEyBNoFnJAMAAHOgTeARyQAAwBSoDHjGnAEAAEyOygAAwBxoE3hEMgAAMI1QLvX7gjYBAAAmR2UAAGAOhnFy8+X8EEUyAAAwBVYTeEabAAAAk6MyAAAwB1YTeEQyAAAwBYvz5ObL+aGKNgEAACZHZQC/6drR+Ro56ZCWv9pC86clS5Ia2Zy6Y/JB9Rl8TI2shrZvsOu5h5JV9EOjIEcL/L7rhnypkSN26O1VnTR/4cWSpDnTVqvbuQVu41Z+0F5zX0l1vW5/9g8aOWK7zmn7owzDopw9zfXq/+uhfd/F1Wn88AFtAo9IBuBR+26lGjjiB+37Ospt/51TD+riK47rsf9rq9IT4Rr9WJ6mvLJPY6/pEKRIgdppf/YPGnjlN9q7v1mNY+99eI7eWHq+63V5ebjr35GRlZr58IfK2tZKz716icLDnLr5us8185E1GnHnX+RwUGRtCFhN4FlQf4I3btyoQYMGKSkpSRaLRStWrAhmOPiVyMYOTXhuv555sLVOHP/ll2LjaIfSh/+olx5tpc+3RGvPl4311NgUnXtRqTpeUBrEiIHfFhlZqYn3fqyn56eqpNRa43hZeYSOFUW5tp9+/mVMctJx2aPLtWjp+Tp4KEbfHWymv/2jm+Jiy5TQoqQuPwZ8UX2fAV+2EBXUZKC0tFTdunXTvHnzghkGTiHz8Tx9ujZGn22yu+0/p8tPamQ19NnH0a59eXsjVXDQqk4X8EsR9dc9I7fq0x1n6rMvk055/PJe+/SP197Uy0/+S7fdsF02a5Xr2MFDMTpebFP/y79VRIRDVmuV+l/+rb47GKP8I03r6iMAARPUNsGAAQM0YMCAWo8vLy9XeXm563VxcXEgwjK9y64uVLsuP+megR1rHIuLr1RFuUWlxe4/OkU/RCguvqrGeKA+6POHXLVr+6MyJ/7plMc/2tRWBUeb6MdjjdW29TGNvHG7WiUV69En+kqSfi5rpPHT0jX1wY90w5+/kCQdOhytSY9dKaeTFkFDQZvAswY1Z2DWrFmaPn16sMMIaS1aVuiu6Qc16YZ2qiznlxwavhZnlOquWz/VxBlXqrIy/JRj3vuwvevf+w80U2FRlGZP/UAtE4p1uMAuq7VKY+/aoq93x2vWM70VFmboL1fv1GOT1ipz0kBVVDSoX6XmxQRCjxrUT/CkSZM0duxY1+vi4mIlJycHMaLQ067rT2rWokrz/r3btS88QurSs0RX33JUD41oJ6vNUBN7lVt1ILZ5lQqPNKgfJ5jEOW1/VLPYMr0we6VrX3i4oS6dCjS4/24NvOHGGn/d7/62uSQpKfGEDhfYdfmluUpoUaL7Hr5KhmGRJM16tpfeXvCm/nBhntZvaVN3HwgIgAb129tms8lmswU7jJCWvSlad1zRyW3fA09+p7y9kVr2QoKOHrKqssKi8y89oU3vnZyR3aptmRJaVWjXDnqnqH8++7Kl7hh7tdu+B+7erLxDMVq24rxTlvnbnnVMklR47ORKGpu1Sk7D4jZ/zOm0yJBkCQvhPxdDDG0CzxpUMoDA+7k0XN/luC8lLPs5TCeO/bL//TfP0B1TvteJooiTSwtn5OnrbU20e0eTYIQM/Kafyxppf577UsKy8ggVn7Bpf14ztUwo1uWX5urTz1qp+IRNbVIKdWfGf/TF1wnKPXDyHgI7vkjSqJu26Z7bt2rFvzsqzGLoumu+ksNh0edfJQbjY+F08NRCj0gG4LX501vJ6TyoyS/vUyOroW0bovX8Q62DHRZwWqqqwnV+18O6ZuAuRdoqdfTHJtq0NUVL3urqGpN3KEZT/r8rdONfPtezj78np2HR3tw4PfT4lSosahzE6AH/CGoyUFJSoj179rhe5+bmKjs7W3FxcWrdmi+X+uLBv7R3e11ZHqZ5j7TWvEf4f4SGafy0/q5/H/2xicZN7f8bo0/a8UWSdnxx6mWJaBhoE3gW1GRg27Zt6tu3r+t19eTAjIwMLVy4MEhRAQBCEqsJPApqMtCnTx8ZIdyDAQCgIWDOAADAFGgTeEYyAAAwB6dxcvPl/BBFMgAAMAfmDHjE/WYBADA5KgMAAFOwyMc5A36LpP4hGQAAmAN3IPSINgEAACZHZQAAYAosLfSMZAAAYA6sJvCINgEAAAEwbdo0WSwWt61jx46u42VlZRo9erTOOOMMNW3aVMOGDVNBQYHbNQ4cOKCBAweqcePGio+P1/jx41VVVeX3WKkMAABMwWIYsvgwCfB0zj333HP14Ycful5HRPzytTtmzBitWrVK//jHPxQTE6PMzEwNHTpUmzdvliQ5HA4NHDhQiYmJ2rJliw4fPqybb75ZjRo10syZM0/7c5wKyQAAwByc/918OV9ScXGx226bzSabzXbKUyIiIpSYmFhj//Hjx/Xaa69pyZIluvzyyyVJCxYsUKdOnfTJJ5/okksu0QcffKCvv/5aH374oRISEtS9e3fNmDFDEyZM0LRp02S1Wn34MO5oEwAA4IXk5GTFxMS4tlmzZnkc++233yopKUlt27bViBEjdODAAUnS9u3bVVlZqbS0NNfYjh07qnXr1srKypIkZWVlqUuXLkpISHCNSU9PV3FxsXbu3OnXz0RlAABgCv5qE+Tl5clut7v2e6oK9OzZUwsXLlSHDh10+PBhTZ8+Xb169dJXX32l/Px8Wa1WxcbGup2TkJCg/Px8SVJ+fr5bIlB9vPqYP5EMAADMwU+rCex2u1sy4MmAAQNc/+7atat69uyplJQULVu2TFFRUT4E4n+0CQAA5lB9B0JfNh/Exsaqffv22rNnjxITE1VRUaGioiK3MQUFBa45BomJiTVWF1S/PtU8BF+QDAAAUAdKSkq0d+9etWzZUj169FCjRo20du1a1/GcnBwdOHBAqampkqTU1FR9+eWXOnLkiGvMmjVrZLfb1blzZ7/GRpsAAGAKdX0HwnHjxmnQoEFKSUnRoUOHNHXqVIWHh+v6669XTEyMRo4cqbFjxyouLk52u1333HOPUlNTdckll0iS+vXrp86dO+umm27S7NmzlZ+fr0ceeUSjR4/2OE/hdJEMAADMoY4fVHTw4EFdf/31+vHHH9WiRQtdeuml+uSTT9SiRQtJ0tNPP62wsDANGzZM5eXlSk9P1wsvvOA6Pzw8XCtXrtRdd92l1NRUNWnSRBkZGXr00UdP/zN4QDIAAEAAvPnmm795PDIyUvPmzdO8efM8jklJSdF7773n79BqIBkAAJiCxXly8+X8UEUyAAAwhzpuEzQkrCYAAMDkqAwAAMyBRxh7RDIAADCFYDy1sKGgTQAAgMlRGQAAmAMTCD0iGQAAmIMhyZflgaGbC5AMAADMgTkDnjFnAAAAk6MyAAAwB0M+zhnwWyT1DskAAMAcmEDoEW0CAABMjsoAAMAcnJIsPp4fokgGAACmwGoCz2gTAABgclQGAADmwARCj0gGAADmQDLgEW0CAABMjsoAAMAcqAx4RDIAADAHlhZ6RDIAADAFlhZ6xpwBAABMjsoAAMAcmDPgEckAAMAcnIZk8eEL3Rm6yQBtAgAATI7KAADAHGgTeEQyAAAwCR+TAYVuMkCbAAAAk6MyAAAwB9oEHpEMAADMwWnIp1I/qwkAAECoojIAADAHw3ly8+X8EEUyAAAwB+YMeEQyAAAwB+YMeMScAQAATI7KAADAHGgTeEQyAAAwB0M+JgN+i6TeoU0AAIDJURkAAJgDbQKPSAYAAObgdEry4V4BztC9zwBtAgAATI7KAADAHGgTeEQyAAAwB5IBj2gTAABgclQGAADmwO2IPSIZAACYgmE4Zfjw5EFfzq3vSAYAAOZgGL79dc+cAQAAEKqoDAAAzMHwcc5ACFcGSAYAAObgdEoWH/r+ITxngDYBAAAmR2UAAGAOtAk8IhkAAJiC4XTK8KFNEMpLC2kTAABgclQGAADmQJvAI5IBAIA5OA3JQjJwKrQJAAAwOSoDAABzMAxJvtxnIHQrAyQDAABTMJyGDB/aBAbJAAAADZzhlG+VAZYWAgCAEEVlAABgCrQJPCMZAACYA20Cjxp0MlCdpVUZlUGOBAgco6os2CEAAVNVVS6pbv7qrlKlT/ccqlLoftdYjAZc9zh48KCSk5ODHQYAwEd5eXlq1apVQK5dVlamNm3aKD8/3+drJSYmKjc3V5GRkX6IrP5o0MmA0+nUoUOHFB0dLYvFEuxwTKG4uFjJycnKy8uT3W4PdjiAX/HzXfcMw9CJEyeUlJSksLDAzWkvKytTRUWFz9exWq0hlwhIDbxNEBYWFrBMEr/NbrfzyxIhi5/vuhUTExPw94iMjAzJL3F/YWkhAAAmRzIAAIDJkQzAKzabTVOnTpXNZgt2KIDf8fMNs2rQEwgBAIDvqAwAAGByJAMAAJgcyQAAACZHMgAAgMmRDKDW5s2bp7POOkuRkZHq2bOnPv3002CHBPjFxo0bNWjQICUlJclisWjFihXBDgmoUyQDqJWlS5dq7Nixmjp1qnbs2KFu3bopPT1dR44cCXZogM9KS0vVrVs3zZs3L9ihAEHB0kLUSs+ePXXRRRfp+eefl3TyuRDJycm65557NHHixCBHB/iPxWLR8uXLNWTIkGCHAtQZKgP4XRUVFdq+fbvS0tJc+8LCwpSWlqasrKwgRgYA8AeSAfyuH374QQ6HQwkJCW77ExIS/PJIUABAcJEMAABgciQD+F3NmzdXeHi4CgoK3PYXFBQoMTExSFEBAPyFZAC/y2q1qkePHlq7dq1rn9Pp1Nq1a5WamhrEyAAA/hAR7ADQMIwdO1YZGRm68MILdfHFF+uZZ55RaWmpbr311mCHBvispKREe/bscb3Ozc1Vdna24uLi1Lp16yBGBtQNlhai1p5//nnNmTNH+fn56t69u+bOnauePXsGOyzAZ+vXr1ffvn1r7M/IyNDChQvrPiCgjpEMAABgcswZAADA5EgGAAAwOZIBAABMjmQAAACTIxkAAMDkSAYAADA5kgEAAEyOZAAAAJMjGQB8dMstt2jIkCGu13369NH9999f53GsX79eFotFRUVFHsdYLBatWLGi1tecNm2aunfv7lNc+/fvl8ViUXZ2tk/XARA4JAMISbfccossFossFousVqvatWunRx99VFVVVQF/77ffflszZsyo1djafIEDQKDxoCKErP79+2vBggUqLy/Xe++9p9GjR6tRo0aaNGlSjbEVFRWyWq1+ed+4uDi/XAcA6gqVAYQsm82mxMREpaSk6K677lJaWpreeecdSb+U9h9//HElJSWpQ4cOkqS8vDxde+21io2NVVxcnAYPHqz9+/e7rulwODR27FjFxsbqjDPO0IMPPqj/fbzH/7YJysvLNWHCBCUnJ8tms6ldu3Z67bXXtH//ftfDcZo1ayaLxaJbbrlF0slHRM+aNUtt2rRRVFSUunXrpn/+859u7/Pee++pffv2ioqKUt++fd3irK0JEyaoffv2aty4sdq2bavJkyersrKyxriXXnpJycnJaty4sa699lodP37c7firr76qTp06KTIyUh07dtQLL7zgdSwAgodkAKYRFRWliooK1+u1a9cqJydHa9as0cqVK1VZWan09HRFR0fr448/1ubNm9W0aVP179/fdd6TTz6phQsX6vXXX9emTZtUWFio5cuX/+b73nzzzfr73/+uuXPnateuXXrppZfUtGlTJScn66233pIk5eTk6PDhw3r22WclSbNmzdKiRYs0f/587dy5U2PGjNGNN96oDRs2SDqZtAwdOlSDBg1Sdna2br/9dk2cONHr/ybR0dFauHChvv76az377LN65ZVX9PTTT7uN2bNnj5YtW6Z3331Xq1ev1meffaa7777bdXzx4sWaMmWKHn/8ce3atUszZ87U5MmT9cYbb3gdD4AgMYAQlJGRYQwePNgwDMNwOp3GmjVrDJvNZowbN851PCEhwSgvL3ed87e//c3o0KGD4XQ6XfvKy8uNqKgo4/333zcMwzBatmxpzJ4923W8srLSaNWqleu9DMMwLrvsMuO+++4zDMMwcnJyDEnGmjVrThnnRx99ZEgyjh075tpXVlZmNG7c2NiyZYvb2JEjRxrXX3+9YRiGMWnSJKNz585uxydMmFDjWv9LkrF8+XKPx+fMmWP06NHD9Xrq1KlGeHi4cfDgQde+f//730ZYWJhx+PBhwzAM4+yzzzaWLFnidp0ZM2YYqamphmEYRm5uriHJ+Oyzzzy+L4DgYs4AQtbKlSvVtGlTVVZWyul06oYbbtC0adNcx7t06eI2T+Dzzz/Xnj17FB0d7XadsrIy7d27V8ePH9fhw4fVs2dP17GIiAhdeOGFNVoF1bKzsxUeHq7LLrus1nHv2bNHP/30k6688kq3/RUVFTr//PMlSbt27XKLQ5JSU1Nr/R7Vli5dqrlz52rv3r0qKSlRVVWV7Ha725jWrVvrzDPPdHsfp9OpnJwcRUdHa+/evRo5cqRGjRrlGlNVVaWYmBiv4wEQHCQDCFl9+/bViy++KKvVqqSkJEVEuP+4N2nSxO11SUmJevToocWLF9e4VosWLU4rhqioKK/PKSkpkSStWrXK7UtYOjkPwl+ysrI0YsQITZ8+Xenp6YqJidGbb76pJ5980utYX3nllRrJSXh4uN9iBRBYJAMIWU2aNFG7du1qPf6CCy7Q0qVLFR8fX+Ov42otW7bU1q1b1bt3b0kn/wLevn27LrjgglOO79Kli5xOpzZs2KC0tLQax6srEw6Hw7Wvc+fOstlsOnDggMeKQqdOnVyTIat98sknv/8hf2XLli1KSUnRww8/7Nr33Xff1Rh34MABHTp0SElJSa73CQsLU4cOHZSQkKCkpCTt27dPI0aM8Or9AdQfTCAE/mvEiBFq3ry5Bg8erI8//li5ublav3697r33Xh08eFCSdN999+mvf/2rVqxYod27d+vuu+/+zXsEnHXWWcrIyNBtt92mFStWuK65bNkySVJKSoosFotWrlypo0ePqqSkRNHR0Ro3bpzGjBmjN954Q3v37tWOHTv03HPPuSbl3Xnnnfr22281fvx45eTkaMmSJVq4cKFXn/ecc87RgQMH9Oabb2rv3r2aO3fuKSdDRkZGKiMjQ59//rk+/vhj3Xvvvbr22muVmJgoSZo+fbpmzZqluXPn6ptvvtGXX36pBQsW6KmnnvIqHgDBQzIA/Ffjxo21ceNGtW7dWkOHDlWnTp00cuRIlZWVuSoFDzzwgG666SZlZGQoNTVV0dHRuuaaa37zui+++KL+/Oc/6+6771bHjh01atQolZaWSpLOPPNMTZ8+XRMnTlRCQoIyMzMlSTNmzNDkyZM1a9YsderUSf3799eqVavUpk0bSSf7+G+99ZZWrFihbt26af78+Zo5c6ZXn/fqq6/WmDFjlJmZqe7du2vLli2aPHlyjXHt2rXT0KFDddVVV6lfv37q2rWr29LB22+/Xa+++qoWLFigLl266LLLLtPChQtdsQKo/yyGp5lPAADAFKgMAABgciQDAACYHMkAAAAmRzIAAIDJkQwAAGByJAMAAJgcyQAAACZHMgAAgMmRDAAAYHIkAwAAmBzJAAAAJvf/A4ewZlKvSSn3AAAAAElFTkSuQmCC",
      "text/plain": [
       "<Figure size 640x480 with 2 Axes>"
      ]
     },
     "metadata": {},
     "output_type": "display_data"
    }
   ],
   "source": [
    "# Generate array of values for confusion matrix\n",
    "preds = rf1.best_estimator_.predict(X_test)\n",
    "cm = confusion_matrix(y_test, preds, labels=rf1.classes_)\n",
    "\n",
    "# Plot confusion matrix\n",
    "disp = ConfusionMatrixDisplay(confusion_matrix=cm,\n",
    "                             display_labels=rf1.classes_)\n",
    "disp.plot(values_format='');"
   ]
  },
  {
   "cell_type": "markdown",
   "id": "9946df78-7081-4680-bf3d-2fcf8588aa21",
   "metadata": {},
   "source": [
    "This confusion matrix gives some insight into how accurate our random forest model is."
   ]
  },
  {
   "cell_type": "markdown",
   "id": "f2176fc7-ac45-4944-b294-d4a613bdcb90",
   "metadata": {},
   "source": [
    "### Random Forest Feature Importance "
   ]
  },
  {
   "cell_type": "markdown",
   "id": "ca33024c-283a-4398-8923-605630f6b742",
   "metadata": {},
   "source": [
    "Feature Importance indicates the relative importance of each feature in the model's predictive performance and can help in understanding which features have the most significant impact on the model's predictions and can be used for feature selection or gaining insights into the underlying data."
   ]
  },
  {
   "cell_type": "code",
   "execution_count": 64,
   "id": "49dfe12c-c730-4225-a0c0-3f53e06429d6",
   "metadata": {},
   "outputs": [
    {
     "data": {
      "image/png": "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",
      "text/plain": [
       "<Figure size 640x480 with 1 Axes>"
      ]
     },
     "metadata": {},
     "output_type": "display_data"
    }
   ],
   "source": [
    "# Get feature importances\n",
    "feat_impt = rf1.best_estimator_.feature_importances_\n",
    "\n",
    "# Get indices of top 10 features\n",
    "ind = np.argpartition(rf1.best_estimator_.feature_importances_, -10)[-10:]\n",
    "\n",
    "# Get column labels of top 10 features \n",
    "feat = X.columns[ind]\n",
    "\n",
    "# Filter `feat_impt` to consist of top 10 feature importances\n",
    "feat_impt = feat_impt[ind]\n",
    "\n",
    "y_df = pd.DataFrame({\"Feature\":feat,\"Importance\":feat_impt})\n",
    "y_sort_df = y_df.sort_values(\"Importance\")\n",
    "fig = plt.figure()\n",
    "ax1 = fig.add_subplot(111)\n",
    "\n",
    "y_sort_df.plot(kind='barh',ax=ax1,x=\"Feature\",y=\"Importance\")\n",
    "\n",
    "ax1.set_title(\"Random Forest: Feature Importances for Employee Leaving\", fontsize=12)\n",
    "ax1.set_ylabel(\"Feature\")\n",
    "ax1.set_xlabel(\"Importance\")\n",
    "\n",
    "plt.show()"
   ]
  },
  {
   "cell_type": "markdown",
   "id": "f253cfc4-6af7-49b2-b118-9dd53a572e93",
   "metadata": {},
   "source": [
    "## **Step 4: Data Driven Decision Making (Execution)**\n"
   ]
  },
  {
   "cell_type": "markdown",
   "id": "422b2a3f-ba80-44dc-9c2a-bc0ae131bacb",
   "metadata": {},
   "source": [
    "Analysis based on EDA and Feauture Importance:\n",
    "- Satisfaction Level is the biggest decider of whether employees leave or not. Management should find ways to increase employee satisfaction. This could be achieved by means such as capping the number of projects and monthly hours an employee can work or at least find better rewards for those going above and beyond.\n",
    "- The 4 year mark seems to be a time where a large cohort of employees who leave become disgrunted and begin to make their exit. Year 4 is a good time to consider raises or promotions for a larger segment of valuable, hard working employees. There is value in employees who have some tenure as they are familiar with the company, it's culture and processes. Currently, we see no positive correlation in satisfaction levels and tenure.\n",
    "- Management should find a better way to evaluate employees other than those working with the most projects and working the most hours. This is most likley a contributing factor to burnout for employees which causes them to leave.\n",
    "- Management should also get more familiar with their employees and their interests. This can be achieved through company-wide meetings where employees can give reasonable suggests for how to improve their satisfaction levels. It is important that the firm take these suggestions into account and make adjustments to achieve a better retention rate.\n",
    "- Salary did not report signficant importance as a feature. This may indicate that while employees are properly financially compensated for their work, they may fel neglected in other ways. Speaking to the employees and finding out different ways to reward or acknowledge their hard work may result in fewer leaving the company."
   ]
  }
 ],
 "metadata": {
  "kernelspec": {
   "display_name": "Python 3 (ipykernel)",
   "language": "python",
   "name": "python3"
  },
  "language_info": {
   "codemirror_mode": {
    "name": "ipython",
    "version": 3
   },
   "file_extension": ".py",
   "mimetype": "text/x-python",
   "name": "python",
   "nbconvert_exporter": "python",
   "pygments_lexer": "ipython3",
   "version": "3.11.1"
  }
 },
 "nbformat": 4,
 "nbformat_minor": 5
}
